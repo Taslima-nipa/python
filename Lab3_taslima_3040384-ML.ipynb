{
 "cells": [
  {
   "cell_type": "markdown",
   "id": "878efa77",
   "metadata": {},
   "source": [
    "# Taslima Akter, ID-3040384"
   ]
  },
  {
   "cell_type": "code",
   "execution_count": 1,
   "id": "fb7cad7b",
   "metadata": {},
   "outputs": [],
   "source": [
    "#Install packages\n",
    "import math\n",
    "import copy\n",
    "import numpy as np\n",
    "import matplotlib as plt\n",
    "import pandas as pd\n",
    "import seaborn as sns\n",
    "import matplotlib.pyplot as plt\n",
    "from IPython.display import display\n",
    "from sklearn.linear_model import LogisticRegression\n",
    "from sklearn.linear_model import LinearRegression\n",
    "from sklearn.model_selection import train_test_split\n",
    "from sklearn import metrics\n",
    "from sklearn.preprocessing import StandardScaler\n",
    "from sklearn.metrics import log_loss, accuracy_score, mean_squared_error, r2_score\n",
    "from pprint import pprint\n",
    "from sklearn.linear_model import SGDClassifier\n",
    "from sklearn.datasets import load_iris\n",
    "from sklearn.datasets import make_classification\n",
    "from sklearn.metrics import confusion_matrix\n",
    "from sklearn.metrics import classification_report\n",
    "from sklearn.preprocessing import scale"
   ]
  },
  {
   "cell_type": "markdown",
   "id": "feed8325-177a-4917-bd18-ae46f5a08ece",
   "metadata": {},
   "source": [
    "# Loading Regression Data"
   ]
  },
  {
   "cell_type": "code",
   "execution_count": 2,
   "id": "14395455",
   "metadata": {},
   "outputs": [
    {
     "data": {
      "text/html": [
       "<div>\n",
       "<style scoped>\n",
       "    .dataframe tbody tr th:only-of-type {\n",
       "        vertical-align: middle;\n",
       "    }\n",
       "\n",
       "    .dataframe tbody tr th {\n",
       "        vertical-align: top;\n",
       "    }\n",
       "\n",
       "    .dataframe thead th {\n",
       "        text-align: right;\n",
       "    }\n",
       "</style>\n",
       "<table border=\"1\" class=\"dataframe\">\n",
       "  <thead>\n",
       "    <tr style=\"text-align: right;\">\n",
       "      <th></th>\n",
       "      <th>age</th>\n",
       "      <th>sex</th>\n",
       "      <th>bmi</th>\n",
       "      <th>bp</th>\n",
       "      <th>s1</th>\n",
       "      <th>s2</th>\n",
       "      <th>s3</th>\n",
       "      <th>s4</th>\n",
       "      <th>s5</th>\n",
       "      <th>s6</th>\n",
       "      <th>target</th>\n",
       "    </tr>\n",
       "  </thead>\n",
       "  <tbody>\n",
       "    <tr>\n",
       "      <th>0</th>\n",
       "      <td>0.038076</td>\n",
       "      <td>0.050680</td>\n",
       "      <td>0.061696</td>\n",
       "      <td>0.021872</td>\n",
       "      <td>-0.044223</td>\n",
       "      <td>-0.034821</td>\n",
       "      <td>-0.043401</td>\n",
       "      <td>-0.002592</td>\n",
       "      <td>0.019907</td>\n",
       "      <td>-0.017646</td>\n",
       "      <td>151.0</td>\n",
       "    </tr>\n",
       "    <tr>\n",
       "      <th>1</th>\n",
       "      <td>-0.001882</td>\n",
       "      <td>-0.044642</td>\n",
       "      <td>-0.051474</td>\n",
       "      <td>-0.026328</td>\n",
       "      <td>-0.008449</td>\n",
       "      <td>-0.019163</td>\n",
       "      <td>0.074412</td>\n",
       "      <td>-0.039493</td>\n",
       "      <td>-0.068332</td>\n",
       "      <td>-0.092204</td>\n",
       "      <td>75.0</td>\n",
       "    </tr>\n",
       "    <tr>\n",
       "      <th>2</th>\n",
       "      <td>0.085299</td>\n",
       "      <td>0.050680</td>\n",
       "      <td>0.044451</td>\n",
       "      <td>-0.005670</td>\n",
       "      <td>-0.045599</td>\n",
       "      <td>-0.034194</td>\n",
       "      <td>-0.032356</td>\n",
       "      <td>-0.002592</td>\n",
       "      <td>0.002861</td>\n",
       "      <td>-0.025930</td>\n",
       "      <td>141.0</td>\n",
       "    </tr>\n",
       "    <tr>\n",
       "      <th>3</th>\n",
       "      <td>-0.089063</td>\n",
       "      <td>-0.044642</td>\n",
       "      <td>-0.011595</td>\n",
       "      <td>-0.036656</td>\n",
       "      <td>0.012191</td>\n",
       "      <td>0.024991</td>\n",
       "      <td>-0.036038</td>\n",
       "      <td>0.034309</td>\n",
       "      <td>0.022688</td>\n",
       "      <td>-0.009362</td>\n",
       "      <td>206.0</td>\n",
       "    </tr>\n",
       "    <tr>\n",
       "      <th>4</th>\n",
       "      <td>0.005383</td>\n",
       "      <td>-0.044642</td>\n",
       "      <td>-0.036385</td>\n",
       "      <td>0.021872</td>\n",
       "      <td>0.003935</td>\n",
       "      <td>0.015596</td>\n",
       "      <td>0.008142</td>\n",
       "      <td>-0.002592</td>\n",
       "      <td>-0.031988</td>\n",
       "      <td>-0.046641</td>\n",
       "      <td>135.0</td>\n",
       "    </tr>\n",
       "    <tr>\n",
       "      <th>...</th>\n",
       "      <td>...</td>\n",
       "      <td>...</td>\n",
       "      <td>...</td>\n",
       "      <td>...</td>\n",
       "      <td>...</td>\n",
       "      <td>...</td>\n",
       "      <td>...</td>\n",
       "      <td>...</td>\n",
       "      <td>...</td>\n",
       "      <td>...</td>\n",
       "      <td>...</td>\n",
       "    </tr>\n",
       "    <tr>\n",
       "      <th>437</th>\n",
       "      <td>0.041708</td>\n",
       "      <td>0.050680</td>\n",
       "      <td>0.019662</td>\n",
       "      <td>0.059744</td>\n",
       "      <td>-0.005697</td>\n",
       "      <td>-0.002566</td>\n",
       "      <td>-0.028674</td>\n",
       "      <td>-0.002592</td>\n",
       "      <td>0.031193</td>\n",
       "      <td>0.007207</td>\n",
       "      <td>178.0</td>\n",
       "    </tr>\n",
       "    <tr>\n",
       "      <th>438</th>\n",
       "      <td>-0.005515</td>\n",
       "      <td>0.050680</td>\n",
       "      <td>-0.015906</td>\n",
       "      <td>-0.067642</td>\n",
       "      <td>0.049341</td>\n",
       "      <td>0.079165</td>\n",
       "      <td>-0.028674</td>\n",
       "      <td>0.034309</td>\n",
       "      <td>-0.018114</td>\n",
       "      <td>0.044485</td>\n",
       "      <td>104.0</td>\n",
       "    </tr>\n",
       "    <tr>\n",
       "      <th>439</th>\n",
       "      <td>0.041708</td>\n",
       "      <td>0.050680</td>\n",
       "      <td>-0.015906</td>\n",
       "      <td>0.017293</td>\n",
       "      <td>-0.037344</td>\n",
       "      <td>-0.013840</td>\n",
       "      <td>-0.024993</td>\n",
       "      <td>-0.011080</td>\n",
       "      <td>-0.046883</td>\n",
       "      <td>0.015491</td>\n",
       "      <td>132.0</td>\n",
       "    </tr>\n",
       "    <tr>\n",
       "      <th>440</th>\n",
       "      <td>-0.045472</td>\n",
       "      <td>-0.044642</td>\n",
       "      <td>0.039062</td>\n",
       "      <td>0.001215</td>\n",
       "      <td>0.016318</td>\n",
       "      <td>0.015283</td>\n",
       "      <td>-0.028674</td>\n",
       "      <td>0.026560</td>\n",
       "      <td>0.044529</td>\n",
       "      <td>-0.025930</td>\n",
       "      <td>220.0</td>\n",
       "    </tr>\n",
       "    <tr>\n",
       "      <th>441</th>\n",
       "      <td>-0.045472</td>\n",
       "      <td>-0.044642</td>\n",
       "      <td>-0.073030</td>\n",
       "      <td>-0.081413</td>\n",
       "      <td>0.083740</td>\n",
       "      <td>0.027809</td>\n",
       "      <td>0.173816</td>\n",
       "      <td>-0.039493</td>\n",
       "      <td>-0.004222</td>\n",
       "      <td>0.003064</td>\n",
       "      <td>57.0</td>\n",
       "    </tr>\n",
       "  </tbody>\n",
       "</table>\n",
       "<p>442 rows × 11 columns</p>\n",
       "</div>"
      ],
      "text/plain": [
       "          age       sex       bmi        bp        s1        s2        s3  \\\n",
       "0    0.038076  0.050680  0.061696  0.021872 -0.044223 -0.034821 -0.043401   \n",
       "1   -0.001882 -0.044642 -0.051474 -0.026328 -0.008449 -0.019163  0.074412   \n",
       "2    0.085299  0.050680  0.044451 -0.005670 -0.045599 -0.034194 -0.032356   \n",
       "3   -0.089063 -0.044642 -0.011595 -0.036656  0.012191  0.024991 -0.036038   \n",
       "4    0.005383 -0.044642 -0.036385  0.021872  0.003935  0.015596  0.008142   \n",
       "..        ...       ...       ...       ...       ...       ...       ...   \n",
       "437  0.041708  0.050680  0.019662  0.059744 -0.005697 -0.002566 -0.028674   \n",
       "438 -0.005515  0.050680 -0.015906 -0.067642  0.049341  0.079165 -0.028674   \n",
       "439  0.041708  0.050680 -0.015906  0.017293 -0.037344 -0.013840 -0.024993   \n",
       "440 -0.045472 -0.044642  0.039062  0.001215  0.016318  0.015283 -0.028674   \n",
       "441 -0.045472 -0.044642 -0.073030 -0.081413  0.083740  0.027809  0.173816   \n",
       "\n",
       "           s4        s5        s6  target  \n",
       "0   -0.002592  0.019907 -0.017646   151.0  \n",
       "1   -0.039493 -0.068332 -0.092204    75.0  \n",
       "2   -0.002592  0.002861 -0.025930   141.0  \n",
       "3    0.034309  0.022688 -0.009362   206.0  \n",
       "4   -0.002592 -0.031988 -0.046641   135.0  \n",
       "..        ...       ...       ...     ...  \n",
       "437 -0.002592  0.031193  0.007207   178.0  \n",
       "438  0.034309 -0.018114  0.044485   104.0  \n",
       "439 -0.011080 -0.046883  0.015491   132.0  \n",
       "440  0.026560  0.044529 -0.025930   220.0  \n",
       "441 -0.039493 -0.004222  0.003064    57.0  \n",
       "\n",
       "[442 rows x 11 columns]"
      ]
     },
     "execution_count": 2,
     "metadata": {},
     "output_type": "execute_result"
    }
   ],
   "source": [
    "from sklearn.datasets import load_diabetes\n",
    "diabetes_df = load_diabetes(as_frame=True).frame\n",
    "diabetes_df"
   ]
  },
  {
   "cell_type": "code",
   "execution_count": 3,
   "id": "08f6a07f",
   "metadata": {},
   "outputs": [
    {
     "data": {
      "text/plain": [
       "Index(['age', 'sex', 'bmi', 'bp', 's1', 's2', 's3', 's4', 's5', 's6',\n",
       "       'target'],\n",
       "      dtype='object')"
      ]
     },
     "execution_count": 3,
     "metadata": {},
     "output_type": "execute_result"
    }
   ],
   "source": [
    "diabetes_df.columns"
   ]
  },
  {
   "cell_type": "code",
   "execution_count": 4,
   "id": "3547ef55",
   "metadata": {},
   "outputs": [],
   "source": [
    "feature_columns = ['age', 'sex', 'bmi', 'bp', 's1', 's2', 's3', 's4', 's5', 's6']\n",
    "target_column = ['target']\n",
    "\n",
    "X = diabetes_df[feature_columns]\n",
    "y = diabetes_df[target_column]"
   ]
  },
  {
   "cell_type": "markdown",
   "id": "3e427b33-568e-43d2-9bbc-00280f33678a",
   "metadata": {},
   "source": [
    "# Split training and testing data here"
   ]
  },
  {
   "cell_type": "code",
   "execution_count": 5,
   "id": "8b703380",
   "metadata": {},
   "outputs": [],
   "source": [
    "#Spliting the dataset\n",
    "x_train, x_test, y_train, y_test = train_test_split(X,y, test_size=.2, random_state=0,shuffle=False)"
   ]
  },
  {
   "cell_type": "markdown",
   "id": "e28dda30-2c1b-4d0d-8550-e0642f48adc2",
   "metadata": {},
   "source": [
    "# KNeighborsRegressor\n",
    "## No feature scaling\n",
    "\n",
    "fit knn regressor here without feature scaling"
   ]
  },
  {
   "cell_type": "code",
   "execution_count": 6,
   "id": "ce98a799",
   "metadata": {},
   "outputs": [
    {
     "data": {
      "text/html": [
       "<style>#sk-container-id-1 {color: black;background-color: white;}#sk-container-id-1 pre{padding: 0;}#sk-container-id-1 div.sk-toggleable {background-color: white;}#sk-container-id-1 label.sk-toggleable__label {cursor: pointer;display: block;width: 100%;margin-bottom: 0;padding: 0.3em;box-sizing: border-box;text-align: center;}#sk-container-id-1 label.sk-toggleable__label-arrow:before {content: \"▸\";float: left;margin-right: 0.25em;color: #696969;}#sk-container-id-1 label.sk-toggleable__label-arrow:hover:before {color: black;}#sk-container-id-1 div.sk-estimator:hover label.sk-toggleable__label-arrow:before {color: black;}#sk-container-id-1 div.sk-toggleable__content {max-height: 0;max-width: 0;overflow: hidden;text-align: left;background-color: #f0f8ff;}#sk-container-id-1 div.sk-toggleable__content pre {margin: 0.2em;color: black;border-radius: 0.25em;background-color: #f0f8ff;}#sk-container-id-1 input.sk-toggleable__control:checked~div.sk-toggleable__content {max-height: 200px;max-width: 100%;overflow: auto;}#sk-container-id-1 input.sk-toggleable__control:checked~label.sk-toggleable__label-arrow:before {content: \"▾\";}#sk-container-id-1 div.sk-estimator input.sk-toggleable__control:checked~label.sk-toggleable__label {background-color: #d4ebff;}#sk-container-id-1 div.sk-label input.sk-toggleable__control:checked~label.sk-toggleable__label {background-color: #d4ebff;}#sk-container-id-1 input.sk-hidden--visually {border: 0;clip: rect(1px 1px 1px 1px);clip: rect(1px, 1px, 1px, 1px);height: 1px;margin: -1px;overflow: hidden;padding: 0;position: absolute;width: 1px;}#sk-container-id-1 div.sk-estimator {font-family: monospace;background-color: #f0f8ff;border: 1px dotted black;border-radius: 0.25em;box-sizing: border-box;margin-bottom: 0.5em;}#sk-container-id-1 div.sk-estimator:hover {background-color: #d4ebff;}#sk-container-id-1 div.sk-parallel-item::after {content: \"\";width: 100%;border-bottom: 1px solid gray;flex-grow: 1;}#sk-container-id-1 div.sk-label:hover label.sk-toggleable__label {background-color: #d4ebff;}#sk-container-id-1 div.sk-serial::before {content: \"\";position: absolute;border-left: 1px solid gray;box-sizing: border-box;top: 0;bottom: 0;left: 50%;z-index: 0;}#sk-container-id-1 div.sk-serial {display: flex;flex-direction: column;align-items: center;background-color: white;padding-right: 0.2em;padding-left: 0.2em;position: relative;}#sk-container-id-1 div.sk-item {position: relative;z-index: 1;}#sk-container-id-1 div.sk-parallel {display: flex;align-items: stretch;justify-content: center;background-color: white;position: relative;}#sk-container-id-1 div.sk-item::before, #sk-container-id-1 div.sk-parallel-item::before {content: \"\";position: absolute;border-left: 1px solid gray;box-sizing: border-box;top: 0;bottom: 0;left: 50%;z-index: -1;}#sk-container-id-1 div.sk-parallel-item {display: flex;flex-direction: column;z-index: 1;position: relative;background-color: white;}#sk-container-id-1 div.sk-parallel-item:first-child::after {align-self: flex-end;width: 50%;}#sk-container-id-1 div.sk-parallel-item:last-child::after {align-self: flex-start;width: 50%;}#sk-container-id-1 div.sk-parallel-item:only-child::after {width: 0;}#sk-container-id-1 div.sk-dashed-wrapped {border: 1px dashed gray;margin: 0 0.4em 0.5em 0.4em;box-sizing: border-box;padding-bottom: 0.4em;background-color: white;}#sk-container-id-1 div.sk-label label {font-family: monospace;font-weight: bold;display: inline-block;line-height: 1.2em;}#sk-container-id-1 div.sk-label-container {text-align: center;}#sk-container-id-1 div.sk-container {/* jupyter's `normalize.less` sets `[hidden] { display: none; }` but bootstrap.min.css set `[hidden] { display: none !important; }` so we also need the `!important` here to be able to override the default hidden behavior on the sphinx rendered scikit-learn.org. See: https://github.com/scikit-learn/scikit-learn/issues/21755 */display: inline-block !important;position: relative;}#sk-container-id-1 div.sk-text-repr-fallback {display: none;}</style><div id=\"sk-container-id-1\" class=\"sk-top-container\"><div class=\"sk-text-repr-fallback\"><pre>KNeighborsRegressor(n_neighbors=10)</pre><b>In a Jupyter environment, please rerun this cell to show the HTML representation or trust the notebook. <br />On GitHub, the HTML representation is unable to render, please try loading this page with nbviewer.org.</b></div><div class=\"sk-container\" hidden><div class=\"sk-item\"><div class=\"sk-estimator sk-toggleable\"><input class=\"sk-toggleable__control sk-hidden--visually\" id=\"sk-estimator-id-1\" type=\"checkbox\" checked><label for=\"sk-estimator-id-1\" class=\"sk-toggleable__label sk-toggleable__label-arrow\">KNeighborsRegressor</label><div class=\"sk-toggleable__content\"><pre>KNeighborsRegressor(n_neighbors=10)</pre></div></div></div></div></div>"
      ],
      "text/plain": [
       "KNeighborsRegressor(n_neighbors=10)"
      ]
     },
     "execution_count": 6,
     "metadata": {},
     "output_type": "execute_result"
    }
   ],
   "source": [
    "from sklearn.neighbors import KNeighborsRegressor\n",
    "regressor = KNeighborsRegressor(n_neighbors=10)\n",
    "regressor.fit(x_train, y_train)"
   ]
  },
  {
   "cell_type": "markdown",
   "id": "1fa23c89-78c5-438e-87dc-7e82ec4c12ec",
   "metadata": {},
   "source": [
    "### Get the mse and rsquared on the testing set with k=10"
   ]
  },
  {
   "cell_type": "code",
   "execution_count": 7,
   "id": "40fab2bc",
   "metadata": {},
   "outputs": [
    {
     "name": "stdout",
     "output_type": "stream",
     "text": [
      "mse: 3308, r2: 0.4848124304556761\n"
     ]
    }
   ],
   "source": [
    "y_pred = regressor.predict(x_test)\n",
    "mse = mean_squared_error(y_test, y_pred)\n",
    "r2 = r2_score(y_test, y_pred)\n",
    "print(f\"mse: {math.floor(mse)}, r2: {r2}\")"
   ]
  },
  {
   "cell_type": "markdown",
   "id": "a5d24cc5-d6ad-4053-84ee-e01430bfde58",
   "metadata": {},
   "source": [
    "### Find the k that gives the lowset mse for the problem. (Try k's from 1-40). Print best k found"
   ]
  },
  {
   "cell_type": "code",
   "execution_count": 8,
   "id": "77fe9e3a",
   "metadata": {},
   "outputs": [
    {
     "data": {
      "text/html": [
       "<div>\n",
       "<style scoped>\n",
       "    .dataframe tbody tr th:only-of-type {\n",
       "        vertical-align: middle;\n",
       "    }\n",
       "\n",
       "    .dataframe tbody tr th {\n",
       "        vertical-align: top;\n",
       "    }\n",
       "\n",
       "    .dataframe thead th {\n",
       "        text-align: right;\n",
       "    }\n",
       "</style>\n",
       "<table border=\"1\" class=\"dataframe\">\n",
       "  <thead>\n",
       "    <tr style=\"text-align: right;\">\n",
       "      <th></th>\n",
       "      <th>Best_K</th>\n",
       "      <th>Lowest_mse_test</th>\n",
       "    </tr>\n",
       "  </thead>\n",
       "  <tbody>\n",
       "    <tr>\n",
       "      <th>19</th>\n",
       "      <td>20</td>\n",
       "      <td>3066.832107</td>\n",
       "    </tr>\n",
       "    <tr>\n",
       "      <th>18</th>\n",
       "      <td>19</td>\n",
       "      <td>3088.127548</td>\n",
       "    </tr>\n",
       "    <tr>\n",
       "      <th>11</th>\n",
       "      <td>12</td>\n",
       "      <td>3121.879135</td>\n",
       "    </tr>\n",
       "    <tr>\n",
       "      <th>17</th>\n",
       "      <td>18</td>\n",
       "      <td>3134.424261</td>\n",
       "    </tr>\n",
       "    <tr>\n",
       "      <th>20</th>\n",
       "      <td>21</td>\n",
       "      <td>3143.163444</td>\n",
       "    </tr>\n",
       "    <tr>\n",
       "      <th>21</th>\n",
       "      <td>22</td>\n",
       "      <td>3161.892562</td>\n",
       "    </tr>\n",
       "    <tr>\n",
       "      <th>15</th>\n",
       "      <td>16</td>\n",
       "      <td>3167.539501</td>\n",
       "    </tr>\n",
       "    <tr>\n",
       "      <th>16</th>\n",
       "      <td>17</td>\n",
       "      <td>3169.094514</td>\n",
       "    </tr>\n",
       "    <tr>\n",
       "      <th>13</th>\n",
       "      <td>14</td>\n",
       "      <td>3187.481828</td>\n",
       "    </tr>\n",
       "    <tr>\n",
       "      <th>22</th>\n",
       "      <td>23</td>\n",
       "      <td>3188.786814</td>\n",
       "    </tr>\n",
       "    <tr>\n",
       "      <th>10</th>\n",
       "      <td>11</td>\n",
       "      <td>3208.067416</td>\n",
       "    </tr>\n",
       "    <tr>\n",
       "      <th>12</th>\n",
       "      <td>13</td>\n",
       "      <td>3211.137757</td>\n",
       "    </tr>\n",
       "    <tr>\n",
       "      <th>14</th>\n",
       "      <td>15</td>\n",
       "      <td>3224.396954</td>\n",
       "    </tr>\n",
       "    <tr>\n",
       "      <th>23</th>\n",
       "      <td>24</td>\n",
       "      <td>3224.891971</td>\n",
       "    </tr>\n",
       "    <tr>\n",
       "      <th>24</th>\n",
       "      <td>25</td>\n",
       "      <td>3253.070778</td>\n",
       "    </tr>\n",
       "    <tr>\n",
       "      <th>25</th>\n",
       "      <td>26</td>\n",
       "      <td>3299.731318</td>\n",
       "    </tr>\n",
       "    <tr>\n",
       "      <th>26</th>\n",
       "      <td>27</td>\n",
       "      <td>3302.077480</td>\n",
       "    </tr>\n",
       "    <tr>\n",
       "      <th>9</th>\n",
       "      <td>10</td>\n",
       "      <td>3308.416067</td>\n",
       "    </tr>\n",
       "    <tr>\n",
       "      <th>8</th>\n",
       "      <td>9</td>\n",
       "      <td>3313.025524</td>\n",
       "    </tr>\n",
       "    <tr>\n",
       "      <th>28</th>\n",
       "      <td>29</td>\n",
       "      <td>3353.843124</td>\n",
       "    </tr>\n",
       "    <tr>\n",
       "      <th>27</th>\n",
       "      <td>28</td>\n",
       "      <td>3354.303113</td>\n",
       "    </tr>\n",
       "    <tr>\n",
       "      <th>29</th>\n",
       "      <td>30</td>\n",
       "      <td>3386.625531</td>\n",
       "    </tr>\n",
       "    <tr>\n",
       "      <th>30</th>\n",
       "      <td>31</td>\n",
       "      <td>3389.921442</td>\n",
       "    </tr>\n",
       "    <tr>\n",
       "      <th>31</th>\n",
       "      <td>32</td>\n",
       "      <td>3408.603011</td>\n",
       "    </tr>\n",
       "    <tr>\n",
       "      <th>32</th>\n",
       "      <td>33</td>\n",
       "      <td>3448.923432</td>\n",
       "    </tr>\n",
       "    <tr>\n",
       "      <th>33</th>\n",
       "      <td>34</td>\n",
       "      <td>3477.061156</td>\n",
       "    </tr>\n",
       "    <tr>\n",
       "      <th>36</th>\n",
       "      <td>37</td>\n",
       "      <td>3521.217661</td>\n",
       "    </tr>\n",
       "    <tr>\n",
       "      <th>35</th>\n",
       "      <td>36</td>\n",
       "      <td>3526.194115</td>\n",
       "    </tr>\n",
       "    <tr>\n",
       "      <th>34</th>\n",
       "      <td>35</td>\n",
       "      <td>3532.985352</td>\n",
       "    </tr>\n",
       "    <tr>\n",
       "      <th>7</th>\n",
       "      <td>8</td>\n",
       "      <td>3555.960323</td>\n",
       "    </tr>\n",
       "    <tr>\n",
       "      <th>37</th>\n",
       "      <td>38</td>\n",
       "      <td>3566.132964</td>\n",
       "    </tr>\n",
       "    <tr>\n",
       "      <th>38</th>\n",
       "      <td>39</td>\n",
       "      <td>3591.535839</td>\n",
       "    </tr>\n",
       "    <tr>\n",
       "      <th>6</th>\n",
       "      <td>7</td>\n",
       "      <td>3634.556524</td>\n",
       "    </tr>\n",
       "    <tr>\n",
       "      <th>5</th>\n",
       "      <td>6</td>\n",
       "      <td>3699.121723</td>\n",
       "    </tr>\n",
       "    <tr>\n",
       "      <th>3</th>\n",
       "      <td>4</td>\n",
       "      <td>3722.304073</td>\n",
       "    </tr>\n",
       "    <tr>\n",
       "      <th>4</th>\n",
       "      <td>5</td>\n",
       "      <td>3771.923596</td>\n",
       "    </tr>\n",
       "    <tr>\n",
       "      <th>2</th>\n",
       "      <td>3</td>\n",
       "      <td>4471.892634</td>\n",
       "    </tr>\n",
       "    <tr>\n",
       "      <th>1</th>\n",
       "      <td>2</td>\n",
       "      <td>4714.283708</td>\n",
       "    </tr>\n",
       "    <tr>\n",
       "      <th>0</th>\n",
       "      <td>1</td>\n",
       "      <td>6659.584270</td>\n",
       "    </tr>\n",
       "  </tbody>\n",
       "</table>\n",
       "</div>"
      ],
      "text/plain": [
       "    Best_K  Lowest_mse_test\n",
       "19      20      3066.832107\n",
       "18      19      3088.127548\n",
       "11      12      3121.879135\n",
       "17      18      3134.424261\n",
       "20      21      3143.163444\n",
       "21      22      3161.892562\n",
       "15      16      3167.539501\n",
       "16      17      3169.094514\n",
       "13      14      3187.481828\n",
       "22      23      3188.786814\n",
       "10      11      3208.067416\n",
       "12      13      3211.137757\n",
       "14      15      3224.396954\n",
       "23      24      3224.891971\n",
       "24      25      3253.070778\n",
       "25      26      3299.731318\n",
       "26      27      3302.077480\n",
       "9       10      3308.416067\n",
       "8        9      3313.025524\n",
       "28      29      3353.843124\n",
       "27      28      3354.303113\n",
       "29      30      3386.625531\n",
       "30      31      3389.921442\n",
       "31      32      3408.603011\n",
       "32      33      3448.923432\n",
       "33      34      3477.061156\n",
       "36      37      3521.217661\n",
       "35      36      3526.194115\n",
       "34      35      3532.985352\n",
       "7        8      3555.960323\n",
       "37      38      3566.132964\n",
       "38      39      3591.535839\n",
       "6        7      3634.556524\n",
       "5        6      3699.121723\n",
       "3        4      3722.304073\n",
       "4        5      3771.923596\n",
       "2        3      4471.892634\n",
       "1        2      4714.283708\n",
       "0        1      6659.584270"
      ]
     },
     "execution_count": 8,
     "metadata": {},
     "output_type": "execute_result"
    }
   ],
   "source": [
    "mse_store = []\n",
    "best_k =[]\n",
    "# Calculating MSE error for K values between 1 and 39\n",
    "for i in range(1, 40):\n",
    "    knn = KNeighborsRegressor(n_neighbors=i)\n",
    "    knn.fit(x_train, y_train)\n",
    "    y_pred = knn.predict(x_test)\n",
    "    mse = mean_squared_error(y_test, y_pred)\n",
    "    best_k.append(i)\n",
    "    mse_store.append(mse)\n",
    "\n",
    "Best_K = best_k\n",
    "Lowest_mse_test = mse_store\n",
    "dataset_knn = pd.DataFrame({'Best_K': Best_K, 'Lowest_mse_test': Lowest_mse_test}, columns=['Best_K', 'Lowest_mse_test'])\n",
    "dataset_knn.sort_values(ascending=True,by='Lowest_mse_test')"
   ]
  },
  {
   "cell_type": "markdown",
   "id": "b880873f-148b-41c2-a1be-13b8a0ae2ccf",
   "metadata": {},
   "source": [
    "### Plot testing set mse as k increases. Plot from k=1 to k=40 (y-axis: testing set mse, x-axis: k)"
   ]
  },
  {
   "cell_type": "code",
   "execution_count": 9,
   "id": "9aaf4627",
   "metadata": {},
   "outputs": [
    {
     "data": {
      "text/plain": [
       "Text(0, 0.5, 'Mean squared error')"
      ]
     },
     "execution_count": 9,
     "metadata": {},
     "output_type": "execute_result"
    },
    {
     "data": {
      "image/png": "[encoded data removed]",
      "text/plain": [
       "<Figure size 864x432 with 1 Axes>"
      ]
     },
     "metadata": {
      "needs_background": "light"
     },
     "output_type": "display_data"
    }
   ],
   "source": [
    "import matplotlib.pyplot as plt \n",
    "\n",
    "plt.figure(figsize=(12, 6))\n",
    "plt.plot(range(1, 40), mse_store, color='red', \n",
    "         linestyle='dashed', marker='o',\n",
    "         markerfacecolor='blue', markersize=10)\n",
    "         \n",
    "plt.title('K Value MSE')\n",
    "plt.xlabel('K Value')\n",
    "plt.ylabel('Mean squared error')"
   ]
  },
  {
   "cell_type": "markdown",
   "id": "bf7b9d62-a1d8-42d0-a256-9c16e1c6ae98",
   "metadata": {},
   "source": [
    "### Fit KnnRegressor with best k and get the mse and rsquared on testing set"
   ]
  },
  {
   "cell_type": "code",
   "execution_count": 10,
   "id": "ca02f8da",
   "metadata": {},
   "outputs": [
    {
     "name": "stdout",
     "output_type": "stream",
     "text": [
      "mse: 3066, r2: 0.5224319592587234\n"
     ]
    }
   ],
   "source": [
    "knn_reg20 = KNeighborsRegressor(n_neighbors=20)\n",
    "knn_reg20.fit(x_train, y_train)\n",
    "y_pred = knn_reg20.predict(x_test)\n",
    "mse = mean_squared_error(y_test, y_pred)\n",
    "r2 = r2_score(y_test, y_pred)\n",
    "print(f\"mse: {math.floor(mse)}, r2: {r2}\")"
   ]
  },
  {
   "cell_type": "markdown",
   "id": "d7b7576a-2684-4114-a290-4f4549b0a92a",
   "metadata": {},
   "source": [
    "## Feature scaling\n",
    "\n",
    "fit knn regressor here with feature scaling"
   ]
  },
  {
   "cell_type": "code",
   "execution_count": 11,
   "id": "34d168db",
   "metadata": {},
   "outputs": [],
   "source": [
    "from sklearn.preprocessing import StandardScaler\n",
    "scaler = StandardScaler()\n",
    "scaler.fit(x_train, y_train)\n",
    "training_set_x_new = scaler.transform(x_train)\n",
    "testing_set_x_new = scaler.transform(x_test)"
   ]
  },
  {
   "cell_type": "markdown",
   "id": "bf2d1ddc-e52c-4a75-976a-e88789c25753",
   "metadata": {},
   "source": [
    "### Get the mse and rsquared on the testing set with k=10"
   ]
  },
  {
   "cell_type": "code",
   "execution_count": 12,
   "id": "40aec72e",
   "metadata": {},
   "outputs": [
    {
     "data": {
      "text/html": [
       "<style>#sk-container-id-2 {color: black;background-color: white;}#sk-container-id-2 pre{padding: 0;}#sk-container-id-2 div.sk-toggleable {background-color: white;}#sk-container-id-2 label.sk-toggleable__label {cursor: pointer;display: block;width: 100%;margin-bottom: 0;padding: 0.3em;box-sizing: border-box;text-align: center;}#sk-container-id-2 label.sk-toggleable__label-arrow:before {content: \"▸\";float: left;margin-right: 0.25em;color: #696969;}#sk-container-id-2 label.sk-toggleable__label-arrow:hover:before {color: black;}#sk-container-id-2 div.sk-estimator:hover label.sk-toggleable__label-arrow:before {color: black;}#sk-container-id-2 div.sk-toggleable__content {max-height: 0;max-width: 0;overflow: hidden;text-align: left;background-color: #f0f8ff;}#sk-container-id-2 div.sk-toggleable__content pre {margin: 0.2em;color: black;border-radius: 0.25em;background-color: #f0f8ff;}#sk-container-id-2 input.sk-toggleable__control:checked~div.sk-toggleable__content {max-height: 200px;max-width: 100%;overflow: auto;}#sk-container-id-2 input.sk-toggleable__control:checked~label.sk-toggleable__label-arrow:before {content: \"▾\";}#sk-container-id-2 div.sk-estimator input.sk-toggleable__control:checked~label.sk-toggleable__label {background-color: #d4ebff;}#sk-container-id-2 div.sk-label input.sk-toggleable__control:checked~label.sk-toggleable__label {background-color: #d4ebff;}#sk-container-id-2 input.sk-hidden--visually {border: 0;clip: rect(1px 1px 1px 1px);clip: rect(1px, 1px, 1px, 1px);height: 1px;margin: -1px;overflow: hidden;padding: 0;position: absolute;width: 1px;}#sk-container-id-2 div.sk-estimator {font-family: monospace;background-color: #f0f8ff;border: 1px dotted black;border-radius: 0.25em;box-sizing: border-box;margin-bottom: 0.5em;}#sk-container-id-2 div.sk-estimator:hover {background-color: #d4ebff;}#sk-container-id-2 div.sk-parallel-item::after {content: \"\";width: 100%;border-bottom: 1px solid gray;flex-grow: 1;}#sk-container-id-2 div.sk-label:hover label.sk-toggleable__label {background-color: #d4ebff;}#sk-container-id-2 div.sk-serial::before {content: \"\";position: absolute;border-left: 1px solid gray;box-sizing: border-box;top: 0;bottom: 0;left: 50%;z-index: 0;}#sk-container-id-2 div.sk-serial {display: flex;flex-direction: column;align-items: center;background-color: white;padding-right: 0.2em;padding-left: 0.2em;position: relative;}#sk-container-id-2 div.sk-item {position: relative;z-index: 1;}#sk-container-id-2 div.sk-parallel {display: flex;align-items: stretch;justify-content: center;background-color: white;position: relative;}#sk-container-id-2 div.sk-item::before, #sk-container-id-2 div.sk-parallel-item::before {content: \"\";position: absolute;border-left: 1px solid gray;box-sizing: border-box;top: 0;bottom: 0;left: 50%;z-index: -1;}#sk-container-id-2 div.sk-parallel-item {display: flex;flex-direction: column;z-index: 1;position: relative;background-color: white;}#sk-container-id-2 div.sk-parallel-item:first-child::after {align-self: flex-end;width: 50%;}#sk-container-id-2 div.sk-parallel-item:last-child::after {align-self: flex-start;width: 50%;}#sk-container-id-2 div.sk-parallel-item:only-child::after {width: 0;}#sk-container-id-2 div.sk-dashed-wrapped {border: 1px dashed gray;margin: 0 0.4em 0.5em 0.4em;box-sizing: border-box;padding-bottom: 0.4em;background-color: white;}#sk-container-id-2 div.sk-label label {font-family: monospace;font-weight: bold;display: inline-block;line-height: 1.2em;}#sk-container-id-2 div.sk-label-container {text-align: center;}#sk-container-id-2 div.sk-container {/* jupyter's `normalize.less` sets `[hidden] { display: none; }` but bootstrap.min.css set `[hidden] { display: none !important; }` so we also need the `!important` here to be able to override the default hidden behavior on the sphinx rendered scikit-learn.org. See: https://github.com/scikit-learn/scikit-learn/issues/21755 */display: inline-block !important;position: relative;}#sk-container-id-2 div.sk-text-repr-fallback {display: none;}</style><div id=\"sk-container-id-2\" class=\"sk-top-container\"><div class=\"sk-text-repr-fallback\"><pre>KNeighborsRegressor(n_neighbors=10)</pre><b>In a Jupyter environment, please rerun this cell to show the HTML representation or trust the notebook. <br />On GitHub, the HTML representation is unable to render, please try loading this page with nbviewer.org.</b></div><div class=\"sk-container\" hidden><div class=\"sk-item\"><div class=\"sk-estimator sk-toggleable\"><input class=\"sk-toggleable__control sk-hidden--visually\" id=\"sk-estimator-id-2\" type=\"checkbox\" checked><label for=\"sk-estimator-id-2\" class=\"sk-toggleable__label sk-toggleable__label-arrow\">KNeighborsRegressor</label><div class=\"sk-toggleable__content\"><pre>KNeighborsRegressor(n_neighbors=10)</pre></div></div></div></div></div>"
      ],
      "text/plain": [
       "KNeighborsRegressor(n_neighbors=10)"
      ]
     },
     "execution_count": 12,
     "metadata": {},
     "output_type": "execute_result"
    }
   ],
   "source": [
    "from sklearn.neighbors import KNeighborsRegressor\n",
    "regressor = KNeighborsRegressor(n_neighbors=10)\n",
    "regressor.fit(training_set_x_new, y_train)"
   ]
  },
  {
   "cell_type": "code",
   "execution_count": 13,
   "id": "8285a30e",
   "metadata": {},
   "outputs": [
    {
     "name": "stdout",
     "output_type": "stream",
     "text": [
      "mse: 3262, r2: 0.4919466776391064\n"
     ]
    }
   ],
   "source": [
    "y_pred = regressor.predict(testing_set_x_new)\n",
    "mse = mean_squared_error(y_test, y_pred)\n",
    "r2 = r2_score(y_test, y_pred)\n",
    "print(f\"mse: {math.floor(mse)}, r2: {r2}\")"
   ]
  },
  {
   "cell_type": "markdown",
   "id": "343fc69f-82b0-433b-9cde-c629cd9c7e98",
   "metadata": {},
   "source": [
    "### Find the k that gives the lowset mse for the problem. (Try k's from 1-40). Print best k found"
   ]
  },
  {
   "cell_type": "code",
   "execution_count": 14,
   "id": "73b14a92",
   "metadata": {},
   "outputs": [
    {
     "data": {
      "text/html": [
       "<div>\n",
       "<style scoped>\n",
       "    .dataframe tbody tr th:only-of-type {\n",
       "        vertical-align: middle;\n",
       "    }\n",
       "\n",
       "    .dataframe tbody tr th {\n",
       "        vertical-align: top;\n",
       "    }\n",
       "\n",
       "    .dataframe thead th {\n",
       "        text-align: right;\n",
       "    }\n",
       "</style>\n",
       "<table border=\"1\" class=\"dataframe\">\n",
       "  <thead>\n",
       "    <tr style=\"text-align: right;\">\n",
       "      <th></th>\n",
       "      <th>Best_K</th>\n",
       "      <th>Lowest_mse_test</th>\n",
       "    </tr>\n",
       "  </thead>\n",
       "  <tbody>\n",
       "    <tr>\n",
       "      <th>18</th>\n",
       "      <td>19</td>\n",
       "      <td>3037.189019</td>\n",
       "    </tr>\n",
       "    <tr>\n",
       "      <th>19</th>\n",
       "      <td>20</td>\n",
       "      <td>3042.905337</td>\n",
       "    </tr>\n",
       "    <tr>\n",
       "      <th>17</th>\n",
       "      <td>18</td>\n",
       "      <td>3071.876058</td>\n",
       "    </tr>\n",
       "    <tr>\n",
       "      <th>11</th>\n",
       "      <td>12</td>\n",
       "      <td>3081.759207</td>\n",
       "    </tr>\n",
       "    <tr>\n",
       "      <th>20</th>\n",
       "      <td>21</td>\n",
       "      <td>3101.641214</td>\n",
       "    </tr>\n",
       "    <tr>\n",
       "      <th>16</th>\n",
       "      <td>17</td>\n",
       "      <td>3136.073403</td>\n",
       "    </tr>\n",
       "    <tr>\n",
       "      <th>13</th>\n",
       "      <td>14</td>\n",
       "      <td>3149.607487</td>\n",
       "    </tr>\n",
       "    <tr>\n",
       "      <th>21</th>\n",
       "      <td>22</td>\n",
       "      <td>3157.188017</td>\n",
       "    </tr>\n",
       "    <tr>\n",
       "      <th>22</th>\n",
       "      <td>23</td>\n",
       "      <td>3161.786496</td>\n",
       "    </tr>\n",
       "    <tr>\n",
       "      <th>23</th>\n",
       "      <td>24</td>\n",
       "      <td>3167.796153</td>\n",
       "    </tr>\n",
       "    <tr>\n",
       "      <th>14</th>\n",
       "      <td>15</td>\n",
       "      <td>3168.468664</td>\n",
       "    </tr>\n",
       "    <tr>\n",
       "      <th>10</th>\n",
       "      <td>11</td>\n",
       "      <td>3171.221933</td>\n",
       "    </tr>\n",
       "    <tr>\n",
       "      <th>12</th>\n",
       "      <td>13</td>\n",
       "      <td>3179.125324</td>\n",
       "    </tr>\n",
       "    <tr>\n",
       "      <th>15</th>\n",
       "      <td>16</td>\n",
       "      <td>3195.277607</td>\n",
       "    </tr>\n",
       "    <tr>\n",
       "      <th>24</th>\n",
       "      <td>25</td>\n",
       "      <td>3200.432324</td>\n",
       "    </tr>\n",
       "    <tr>\n",
       "      <th>25</th>\n",
       "      <td>26</td>\n",
       "      <td>3252.427016</td>\n",
       "    </tr>\n",
       "    <tr>\n",
       "      <th>9</th>\n",
       "      <td>10</td>\n",
       "      <td>3262.601573</td>\n",
       "    </tr>\n",
       "    <tr>\n",
       "      <th>26</th>\n",
       "      <td>27</td>\n",
       "      <td>3289.816233</td>\n",
       "    </tr>\n",
       "    <tr>\n",
       "      <th>27</th>\n",
       "      <td>28</td>\n",
       "      <td>3311.588569</td>\n",
       "    </tr>\n",
       "    <tr>\n",
       "      <th>28</th>\n",
       "      <td>29</td>\n",
       "      <td>3323.138131</td>\n",
       "    </tr>\n",
       "    <tr>\n",
       "      <th>30</th>\n",
       "      <td>31</td>\n",
       "      <td>3369.914415</td>\n",
       "    </tr>\n",
       "    <tr>\n",
       "      <th>29</th>\n",
       "      <td>30</td>\n",
       "      <td>3370.571910</td>\n",
       "    </tr>\n",
       "    <tr>\n",
       "      <th>8</th>\n",
       "      <td>9</td>\n",
       "      <td>3387.236510</td>\n",
       "    </tr>\n",
       "    <tr>\n",
       "      <th>31</th>\n",
       "      <td>32</td>\n",
       "      <td>3401.545097</td>\n",
       "    </tr>\n",
       "    <tr>\n",
       "      <th>32</th>\n",
       "      <td>33</td>\n",
       "      <td>3424.053889</td>\n",
       "    </tr>\n",
       "    <tr>\n",
       "      <th>33</th>\n",
       "      <td>34</td>\n",
       "      <td>3457.516232</td>\n",
       "    </tr>\n",
       "    <tr>\n",
       "      <th>34</th>\n",
       "      <td>35</td>\n",
       "      <td>3476.938693</td>\n",
       "    </tr>\n",
       "    <tr>\n",
       "      <th>6</th>\n",
       "      <td>7</td>\n",
       "      <td>3508.178858</td>\n",
       "    </tr>\n",
       "    <tr>\n",
       "      <th>35</th>\n",
       "      <td>36</td>\n",
       "      <td>3514.569609</td>\n",
       "    </tr>\n",
       "    <tr>\n",
       "      <th>36</th>\n",
       "      <td>37</td>\n",
       "      <td>3539.341658</td>\n",
       "    </tr>\n",
       "    <tr>\n",
       "      <th>37</th>\n",
       "      <td>38</td>\n",
       "      <td>3554.232609</td>\n",
       "    </tr>\n",
       "    <tr>\n",
       "      <th>38</th>\n",
       "      <td>39</td>\n",
       "      <td>3557.837031</td>\n",
       "    </tr>\n",
       "    <tr>\n",
       "      <th>7</th>\n",
       "      <td>8</td>\n",
       "      <td>3566.455056</td>\n",
       "    </tr>\n",
       "    <tr>\n",
       "      <th>5</th>\n",
       "      <td>6</td>\n",
       "      <td>3709.566792</td>\n",
       "    </tr>\n",
       "    <tr>\n",
       "      <th>4</th>\n",
       "      <td>5</td>\n",
       "      <td>3795.852584</td>\n",
       "    </tr>\n",
       "    <tr>\n",
       "      <th>3</th>\n",
       "      <td>4</td>\n",
       "      <td>3858.941713</td>\n",
       "    </tr>\n",
       "    <tr>\n",
       "      <th>2</th>\n",
       "      <td>3</td>\n",
       "      <td>4193.666667</td>\n",
       "    </tr>\n",
       "    <tr>\n",
       "      <th>1</th>\n",
       "      <td>2</td>\n",
       "      <td>4854.441011</td>\n",
       "    </tr>\n",
       "    <tr>\n",
       "      <th>0</th>\n",
       "      <td>1</td>\n",
       "      <td>6923.213483</td>\n",
       "    </tr>\n",
       "  </tbody>\n",
       "</table>\n",
       "</div>"
      ],
      "text/plain": [
       "    Best_K  Lowest_mse_test\n",
       "18      19      3037.189019\n",
       "19      20      3042.905337\n",
       "17      18      3071.876058\n",
       "11      12      3081.759207\n",
       "20      21      3101.641214\n",
       "16      17      3136.073403\n",
       "13      14      3149.607487\n",
       "21      22      3157.188017\n",
       "22      23      3161.786496\n",
       "23      24      3167.796153\n",
       "14      15      3168.468664\n",
       "10      11      3171.221933\n",
       "12      13      3179.125324\n",
       "15      16      3195.277607\n",
       "24      25      3200.432324\n",
       "25      26      3252.427016\n",
       "9       10      3262.601573\n",
       "26      27      3289.816233\n",
       "27      28      3311.588569\n",
       "28      29      3323.138131\n",
       "30      31      3369.914415\n",
       "29      30      3370.571910\n",
       "8        9      3387.236510\n",
       "31      32      3401.545097\n",
       "32      33      3424.053889\n",
       "33      34      3457.516232\n",
       "34      35      3476.938693\n",
       "6        7      3508.178858\n",
       "35      36      3514.569609\n",
       "36      37      3539.341658\n",
       "37      38      3554.232609\n",
       "38      39      3557.837031\n",
       "7        8      3566.455056\n",
       "5        6      3709.566792\n",
       "4        5      3795.852584\n",
       "3        4      3858.941713\n",
       "2        3      4193.666667\n",
       "1        2      4854.441011\n",
       "0        1      6923.213483"
      ]
     },
     "execution_count": 14,
     "metadata": {},
     "output_type": "execute_result"
    }
   ],
   "source": [
    "mse_store = []\n",
    "best_k =[]\n",
    "# Calculating MSE error for K values between 1 and 39\n",
    "for i in range(1, 40):\n",
    "    knn = KNeighborsRegressor(n_neighbors=i)\n",
    "    knn.fit(training_set_x_new, y_train)\n",
    "    y_pred = knn.predict(testing_set_x_new)\n",
    "    mse = mean_squared_error(y_test, y_pred)\n",
    "    best_k.append(i)\n",
    "    mse_store.append(mse)\n",
    "    #print(f'K-value: {i}, mse: {mse}') \n",
    "Best_K = best_k\n",
    "Lowest_mse_test = mse_store\n",
    "dataset_knn = pd.DataFrame({'Best_K': Best_K, 'Lowest_mse_test': Lowest_mse_test}, columns=['Best_K', 'Lowest_mse_test'])\n",
    "dataset_knn.sort_values(ascending=True,by='Lowest_mse_test')"
   ]
  },
  {
   "cell_type": "markdown",
   "id": "2254de69-2436-4ef6-ae4c-2c55ec4ac845",
   "metadata": {},
   "source": [
    "### Plot testing set mse as k increases. Plot from k=1 to k=40 (y-axis: testing set mse, x-axis: k)"
   ]
  },
  {
   "cell_type": "code",
   "execution_count": 15,
   "id": "afdeac20",
   "metadata": {},
   "outputs": [
    {
     "data": {
      "text/plain": [
       "Text(0, 0.5, 'Testing set mse')"
      ]
     },
     "execution_count": 15,
     "metadata": {},
     "output_type": "execute_result"
    },
    {
     "data": {
      "image/png": "[encoded data removed]",
      "text/plain": [
       "<Figure size 864x432 with 1 Axes>"
      ]
     },
     "metadata": {
      "needs_background": "light"
     },
     "output_type": "display_data"
    }
   ],
   "source": [
    "import matplotlib.pyplot as plt \n",
    "\n",
    "plt.figure(figsize=(12, 6))\n",
    "plt.plot(range(1, 40), mse_store, color='red', \n",
    "         linestyle='dashed', marker='o',\n",
    "         markerfacecolor='blue', markersize=10)\n",
    "         \n",
    "plt.title('K-Value MSE')\n",
    "plt.xlabel('K-Value')\n",
    "plt.ylabel('Testing set mse')"
   ]
  },
  {
   "cell_type": "markdown",
   "id": "013ff3a4-6028-479d-b26e-ede590d7fdac",
   "metadata": {},
   "source": [
    "### Fit KnnRegressor with best k and get the mse and rsquared on testing set"
   ]
  },
  {
   "cell_type": "code",
   "execution_count": 16,
   "id": "7c9eb2a6",
   "metadata": {},
   "outputs": [
    {
     "name": "stdout",
     "output_type": "stream",
     "text": [
      "mse: 3037, r2: 0.5270479899752639\n"
     ]
    }
   ],
   "source": [
    "knn_reg19 = KNeighborsRegressor(n_neighbors=19)\n",
    "knn_reg19.fit(training_set_x_new, y_train)\n",
    "y_pred = knn_reg19.predict(testing_set_x_new)\n",
    "r2 = r2_score(y_test, y_pred) \n",
    "mse = mean_squared_error(y_test, y_pred)\n",
    "print(f\"mse: {math.floor(mse)}, r2: {r2}\")"
   ]
  },
  {
   "cell_type": "markdown",
   "id": "dd612ebb-c116-4d69-81df-907b74e4bf04",
   "metadata": {},
   "source": [
    "# DecisionTreeRegressor\n",
    "\n",
    "Fit Decision tree with default parameters"
   ]
  },
  {
   "cell_type": "code",
   "execution_count": 17,
   "id": "e7b55355",
   "metadata": {},
   "outputs": [
    {
     "data": {
      "text/html": [
       "<style>#sk-container-id-3 {color: black;background-color: white;}#sk-container-id-3 pre{padding: 0;}#sk-container-id-3 div.sk-toggleable {background-color: white;}#sk-container-id-3 label.sk-toggleable__label {cursor: pointer;display: block;width: 100%;margin-bottom: 0;padding: 0.3em;box-sizing: border-box;text-align: center;}#sk-container-id-3 label.sk-toggleable__label-arrow:before {content: \"▸\";float: left;margin-right: 0.25em;color: #696969;}#sk-container-id-3 label.sk-toggleable__label-arrow:hover:before {color: black;}#sk-container-id-3 div.sk-estimator:hover label.sk-toggleable__label-arrow:before {color: black;}#sk-container-id-3 div.sk-toggleable__content {max-height: 0;max-width: 0;overflow: hidden;text-align: left;background-color: #f0f8ff;}#sk-container-id-3 div.sk-toggleable__content pre {margin: 0.2em;color: black;border-radius: 0.25em;background-color: #f0f8ff;}#sk-container-id-3 input.sk-toggleable__control:checked~div.sk-toggleable__content {max-height: 200px;max-width: 100%;overflow: auto;}#sk-container-id-3 input.sk-toggleable__control:checked~label.sk-toggleable__label-arrow:before {content: \"▾\";}#sk-container-id-3 div.sk-estimator input.sk-toggleable__control:checked~label.sk-toggleable__label {background-color: #d4ebff;}#sk-container-id-3 div.sk-label input.sk-toggleable__control:checked~label.sk-toggleable__label {background-color: #d4ebff;}#sk-container-id-3 input.sk-hidden--visually {border: 0;clip: rect(1px 1px 1px 1px);clip: rect(1px, 1px, 1px, 1px);height: 1px;margin: -1px;overflow: hidden;padding: 0;position: absolute;width: 1px;}#sk-container-id-3 div.sk-estimator {font-family: monospace;background-color: #f0f8ff;border: 1px dotted black;border-radius: 0.25em;box-sizing: border-box;margin-bottom: 0.5em;}#sk-container-id-3 div.sk-estimator:hover {background-color: #d4ebff;}#sk-container-id-3 div.sk-parallel-item::after {content: \"\";width: 100%;border-bottom: 1px solid gray;flex-grow: 1;}#sk-container-id-3 div.sk-label:hover label.sk-toggleable__label {background-color: #d4ebff;}#sk-container-id-3 div.sk-serial::before {content: \"\";position: absolute;border-left: 1px solid gray;box-sizing: border-box;top: 0;bottom: 0;left: 50%;z-index: 0;}#sk-container-id-3 div.sk-serial {display: flex;flex-direction: column;align-items: center;background-color: white;padding-right: 0.2em;padding-left: 0.2em;position: relative;}#sk-container-id-3 div.sk-item {position: relative;z-index: 1;}#sk-container-id-3 div.sk-parallel {display: flex;align-items: stretch;justify-content: center;background-color: white;position: relative;}#sk-container-id-3 div.sk-item::before, #sk-container-id-3 div.sk-parallel-item::before {content: \"\";position: absolute;border-left: 1px solid gray;box-sizing: border-box;top: 0;bottom: 0;left: 50%;z-index: -1;}#sk-container-id-3 div.sk-parallel-item {display: flex;flex-direction: column;z-index: 1;position: relative;background-color: white;}#sk-container-id-3 div.sk-parallel-item:first-child::after {align-self: flex-end;width: 50%;}#sk-container-id-3 div.sk-parallel-item:last-child::after {align-self: flex-start;width: 50%;}#sk-container-id-3 div.sk-parallel-item:only-child::after {width: 0;}#sk-container-id-3 div.sk-dashed-wrapped {border: 1px dashed gray;margin: 0 0.4em 0.5em 0.4em;box-sizing: border-box;padding-bottom: 0.4em;background-color: white;}#sk-container-id-3 div.sk-label label {font-family: monospace;font-weight: bold;display: inline-block;line-height: 1.2em;}#sk-container-id-3 div.sk-label-container {text-align: center;}#sk-container-id-3 div.sk-container {/* jupyter's `normalize.less` sets `[hidden] { display: none; }` but bootstrap.min.css set `[hidden] { display: none !important; }` so we also need the `!important` here to be able to override the default hidden behavior on the sphinx rendered scikit-learn.org. See: https://github.com/scikit-learn/scikit-learn/issues/21755 */display: inline-block !important;position: relative;}#sk-container-id-3 div.sk-text-repr-fallback {display: none;}</style><div id=\"sk-container-id-3\" class=\"sk-top-container\"><div class=\"sk-text-repr-fallback\"><pre>DecisionTreeRegressor(random_state=0)</pre><b>In a Jupyter environment, please rerun this cell to show the HTML representation or trust the notebook. <br />On GitHub, the HTML representation is unable to render, please try loading this page with nbviewer.org.</b></div><div class=\"sk-container\" hidden><div class=\"sk-item\"><div class=\"sk-estimator sk-toggleable\"><input class=\"sk-toggleable__control sk-hidden--visually\" id=\"sk-estimator-id-3\" type=\"checkbox\" checked><label for=\"sk-estimator-id-3\" class=\"sk-toggleable__label sk-toggleable__label-arrow\">DecisionTreeRegressor</label><div class=\"sk-toggleable__content\"><pre>DecisionTreeRegressor(random_state=0)</pre></div></div></div></div></div>"
      ],
      "text/plain": [
       "DecisionTreeRegressor(random_state=0)"
      ]
     },
     "execution_count": 17,
     "metadata": {},
     "output_type": "execute_result"
    }
   ],
   "source": [
    "from sklearn.tree import DecisionTreeRegressor\n",
    "regressor = DecisionTreeRegressor(random_state=0)\n",
    "regressor.fit(x_train, y_train)"
   ]
  },
  {
   "cell_type": "markdown",
   "id": "67164fd5-b14f-46fd-a53a-e5fa244099db",
   "metadata": {},
   "source": [
    "## Calculate training mse and rsquared"
   ]
  },
  {
   "cell_type": "code",
   "execution_count": 18,
   "id": "f2749652",
   "metadata": {},
   "outputs": [
    {
     "name": "stdout",
     "output_type": "stream",
     "text": [
      "mse: 0, r2: 1.0\n"
     ]
    }
   ],
   "source": [
    "y_pred = regressor.predict(x_train)\n",
    "mse = mean_squared_error(y_train, y_pred)\n",
    "r2 = r2_score(y_train, y_pred)\n",
    "print(f\"mse: {math.floor(mse)}, r2: {r2}\")"
   ]
  },
  {
   "cell_type": "markdown",
   "id": "5ce402f0-2830-4bb1-aa61-202db3d10970",
   "metadata": {},
   "source": [
    "## Calculate testing mse and rsquared"
   ]
  },
  {
   "cell_type": "code",
   "execution_count": 19,
   "id": "e5d50021",
   "metadata": {},
   "outputs": [
    {
     "name": "stdout",
     "output_type": "stream",
     "text": [
      "mse: 7668, r2: -0.19417880096345663\n"
     ]
    }
   ],
   "source": [
    "y_pred = regressor.predict(x_test)\n",
    "mse = mean_squared_error(y_test, y_pred)\n",
    "r2 = r2_score(y_test, y_pred)\n",
    "print(f\"mse: {math.floor(mse)}, r2: {r2}\")"
   ]
  },
  {
   "cell_type": "markdown",
   "id": "99cbd827-9a8c-45fd-8504-ee4bc298ea9e",
   "metadata": {},
   "source": [
    "## Grid search decision tree hyperparameters for prepruning with mse as the target"
   ]
  },
  {
   "cell_type": "code",
   "execution_count": 20,
   "id": "e70d88af",
   "metadata": {},
   "outputs": [],
   "source": [
    "from sklearn.tree import DecisionTreeRegressor\n",
    "from sklearn.model_selection import GridSearchCV\n",
    "\n",
    "param_grid = {\n",
    "    \"max_depth\": [3,5,10,15,20,None],\n",
    "    \"min_samples_split\": [2,5,7,10],\n",
    "    \"min_samples_leaf\": [1,2,5]\n",
    "}\n",
    "\n",
    "regressor = DecisionTreeRegressor(random_state=0)\n",
    "grid_cv = GridSearchCV(regressor, param_grid, scoring=\"neg_mean_squared_error\", n_jobs=-1, cv=3).fit(x_train, y_train)"
   ]
  },
  {
   "cell_type": "markdown",
   "id": "63d578ac-ce90-4e4b-86b8-f447bc11d850",
   "metadata": {},
   "source": [
    "### Print best_params, best_score"
   ]
  },
  {
   "cell_type": "code",
   "execution_count": 21,
   "id": "37906317",
   "metadata": {},
   "outputs": [
    {
     "name": "stdout",
     "output_type": "stream",
     "text": [
      "Param for GS {'max_depth': 3, 'min_samples_leaf': 1, 'min_samples_split': 2}\n",
      "CV score for GS -3884.288257578453\n"
     ]
    }
   ],
   "source": [
    "print(\"Param for GS\", grid_cv.best_params_)\n",
    "print(\"CV score for GS\", grid_cv.best_score_)"
   ]
  },
  {
   "cell_type": "markdown",
   "id": "2bdc315f-ac13-45ba-acab-9ba2800ada8e",
   "metadata": {},
   "source": [
    "### Use best estimator from grid search and Calculate mse and rsquared on training set "
   ]
  },
  {
   "cell_type": "code",
   "execution_count": 22,
   "id": "4ee33891",
   "metadata": {
    "scrolled": true
   },
   "outputs": [],
   "source": [
    "train_grid = grid_cv.predict(x_train)"
   ]
  },
  {
   "cell_type": "code",
   "execution_count": 23,
   "id": "5b97f982",
   "metadata": {},
   "outputs": [
    {
     "name": "stdout",
     "output_type": "stream",
     "text": [
      "mse: 2692, r2: 0.5361393024498831\n"
     ]
    }
   ],
   "source": [
    "mse = mean_squared_error(y_train, train_grid)\n",
    "r2 = r2_score(y_train, train_grid)\n",
    "print(f\"mse: {math.floor(mse)}, r2: {r2}\")"
   ]
  },
  {
   "cell_type": "markdown",
   "id": "febb93f7-a59e-49dd-b06c-5a6767657eb9",
   "metadata": {},
   "source": [
    "### Use best estimator from grid search and Calculate mse and rsquared on testing set "
   ]
  },
  {
   "cell_type": "code",
   "execution_count": 24,
   "id": "04e5ffa9",
   "metadata": {},
   "outputs": [],
   "source": [
    "test_grid = grid_cv.predict(x_test)"
   ]
  },
  {
   "cell_type": "code",
   "execution_count": 25,
   "id": "20888cc9",
   "metadata": {},
   "outputs": [
    {
     "name": "stdout",
     "output_type": "stream",
     "text": [
      "mse: 4072, r2: 0.36587950649666023\n"
     ]
    }
   ],
   "source": [
    "mse = mean_squared_error(y_test, test_grid)\n",
    "r2 = r2_score(y_test, test_grid)\n",
    "print(f\"mse: {math.floor(mse)}, r2: {r2}\")"
   ]
  },
  {
   "cell_type": "markdown",
   "id": "1872be37-c365-4d49-8ab2-b2c5b21d8462",
   "metadata": {},
   "source": [
    "### Show dataframe for all Grid search results"
   ]
  },
  {
   "cell_type": "code",
   "execution_count": 26,
   "id": "d2cb3b76",
   "metadata": {},
   "outputs": [
    {
     "data": {
      "text/html": [
       "<div>\n",
       "<style scoped>\n",
       "    .dataframe tbody tr th:only-of-type {\n",
       "        vertical-align: middle;\n",
       "    }\n",
       "\n",
       "    .dataframe tbody tr th {\n",
       "        vertical-align: top;\n",
       "    }\n",
       "\n",
       "    .dataframe thead th {\n",
       "        text-align: right;\n",
       "    }\n",
       "</style>\n",
       "<table border=\"1\" class=\"dataframe\">\n",
       "  <thead>\n",
       "    <tr style=\"text-align: right;\">\n",
       "      <th></th>\n",
       "      <th>mean_fit_time</th>\n",
       "      <th>std_fit_time</th>\n",
       "      <th>mean_score_time</th>\n",
       "      <th>std_score_time</th>\n",
       "      <th>param_max_depth</th>\n",
       "      <th>param_min_samples_leaf</th>\n",
       "      <th>param_min_samples_split</th>\n",
       "      <th>params</th>\n",
       "      <th>split0_test_score</th>\n",
       "      <th>split1_test_score</th>\n",
       "      <th>split2_test_score</th>\n",
       "      <th>mean_test_score</th>\n",
       "      <th>std_test_score</th>\n",
       "      <th>rank_test_score</th>\n",
       "    </tr>\n",
       "  </thead>\n",
       "  <tbody>\n",
       "    <tr>\n",
       "      <th>0</th>\n",
       "      <td>0.007667</td>\n",
       "      <td>1.246661e-03</td>\n",
       "      <td>0.004001</td>\n",
       "      <td>1.381091e-06</td>\n",
       "      <td>3</td>\n",
       "      <td>1</td>\n",
       "      <td>2</td>\n",
       "      <td>{'max_depth': 3, 'min_samples_leaf': 1, 'min_s...</td>\n",
       "      <td>-3199.935413</td>\n",
       "      <td>-4301.272953</td>\n",
       "      <td>-4151.656406</td>\n",
       "      <td>-3884.288258</td>\n",
       "      <td>487.750202</td>\n",
       "      <td>1</td>\n",
       "    </tr>\n",
       "    <tr>\n",
       "      <th>1</th>\n",
       "      <td>0.007668</td>\n",
       "      <td>1.699456e-03</td>\n",
       "      <td>0.003999</td>\n",
       "      <td>6.743496e-07</td>\n",
       "      <td>3</td>\n",
       "      <td>1</td>\n",
       "      <td>5</td>\n",
       "      <td>{'max_depth': 3, 'min_samples_leaf': 1, 'min_s...</td>\n",
       "      <td>-3199.935413</td>\n",
       "      <td>-4301.272953</td>\n",
       "      <td>-4151.656406</td>\n",
       "      <td>-3884.288258</td>\n",
       "      <td>487.750202</td>\n",
       "      <td>1</td>\n",
       "    </tr>\n",
       "    <tr>\n",
       "      <th>2</th>\n",
       "      <td>0.006333</td>\n",
       "      <td>1.247681e-03</td>\n",
       "      <td>0.004667</td>\n",
       "      <td>4.708094e-04</td>\n",
       "      <td>3</td>\n",
       "      <td>1</td>\n",
       "      <td>7</td>\n",
       "      <td>{'max_depth': 3, 'min_samples_leaf': 1, 'min_s...</td>\n",
       "      <td>-3199.935413</td>\n",
       "      <td>-4301.272953</td>\n",
       "      <td>-4151.656406</td>\n",
       "      <td>-3884.288258</td>\n",
       "      <td>487.750202</td>\n",
       "      <td>1</td>\n",
       "    </tr>\n",
       "    <tr>\n",
       "      <th>3</th>\n",
       "      <td>0.006332</td>\n",
       "      <td>4.711457e-04</td>\n",
       "      <td>0.003999</td>\n",
       "      <td>1.413662e-03</td>\n",
       "      <td>3</td>\n",
       "      <td>1</td>\n",
       "      <td>10</td>\n",
       "      <td>{'max_depth': 3, 'min_samples_leaf': 1, 'min_s...</td>\n",
       "      <td>-3199.935413</td>\n",
       "      <td>-4301.272953</td>\n",
       "      <td>-4151.656406</td>\n",
       "      <td>-3884.288258</td>\n",
       "      <td>487.750202</td>\n",
       "      <td>1</td>\n",
       "    </tr>\n",
       "    <tr>\n",
       "      <th>4</th>\n",
       "      <td>0.005000</td>\n",
       "      <td>2.973602e-07</td>\n",
       "      <td>0.003667</td>\n",
       "      <td>4.717082e-04</td>\n",
       "      <td>3</td>\n",
       "      <td>2</td>\n",
       "      <td>2</td>\n",
       "      <td>{'max_depth': 3, 'min_samples_leaf': 2, 'min_s...</td>\n",
       "      <td>-3199.935413</td>\n",
       "      <td>-4301.272953</td>\n",
       "      <td>-4151.656406</td>\n",
       "      <td>-3884.288258</td>\n",
       "      <td>487.750202</td>\n",
       "      <td>1</td>\n",
       "    </tr>\n",
       "    <tr>\n",
       "      <th>...</th>\n",
       "      <td>...</td>\n",
       "      <td>...</td>\n",
       "      <td>...</td>\n",
       "      <td>...</td>\n",
       "      <td>...</td>\n",
       "      <td>...</td>\n",
       "      <td>...</td>\n",
       "      <td>...</td>\n",
       "      <td>...</td>\n",
       "      <td>...</td>\n",
       "      <td>...</td>\n",
       "      <td>...</td>\n",
       "      <td>...</td>\n",
       "      <td>...</td>\n",
       "    </tr>\n",
       "    <tr>\n",
       "      <th>67</th>\n",
       "      <td>0.005333</td>\n",
       "      <td>4.713704e-04</td>\n",
       "      <td>0.003001</td>\n",
       "      <td>1.123916e-07</td>\n",
       "      <td>None</td>\n",
       "      <td>2</td>\n",
       "      <td>10</td>\n",
       "      <td>{'max_depth': None, 'min_samples_leaf': 2, 'mi...</td>\n",
       "      <td>-4693.001750</td>\n",
       "      <td>-5318.621059</td>\n",
       "      <td>-5206.009637</td>\n",
       "      <td>-5072.544149</td>\n",
       "      <td>272.286194</td>\n",
       "      <td>41</td>\n",
       "    </tr>\n",
       "    <tr>\n",
       "      <th>68</th>\n",
       "      <td>0.004331</td>\n",
       "      <td>2.054670e-03</td>\n",
       "      <td>0.003001</td>\n",
       "      <td>1.416134e-03</td>\n",
       "      <td>None</td>\n",
       "      <td>5</td>\n",
       "      <td>2</td>\n",
       "      <td>{'max_depth': None, 'min_samples_leaf': 5, 'mi...</td>\n",
       "      <td>-4341.549556</td>\n",
       "      <td>-5445.241630</td>\n",
       "      <td>-5199.122283</td>\n",
       "      <td>-4995.304490</td>\n",
       "      <td>473.068225</td>\n",
       "      <td>25</td>\n",
       "    </tr>\n",
       "    <tr>\n",
       "      <th>69</th>\n",
       "      <td>0.005000</td>\n",
       "      <td>1.632875e-03</td>\n",
       "      <td>0.002666</td>\n",
       "      <td>4.710338e-04</td>\n",
       "      <td>None</td>\n",
       "      <td>5</td>\n",
       "      <td>5</td>\n",
       "      <td>{'max_depth': None, 'min_samples_leaf': 5, 'mi...</td>\n",
       "      <td>-4341.549556</td>\n",
       "      <td>-5445.241630</td>\n",
       "      <td>-5199.122283</td>\n",
       "      <td>-4995.304490</td>\n",
       "      <td>473.068225</td>\n",
       "      <td>25</td>\n",
       "    </tr>\n",
       "    <tr>\n",
       "      <th>70</th>\n",
       "      <td>0.006331</td>\n",
       "      <td>4.684483e-04</td>\n",
       "      <td>0.003337</td>\n",
       "      <td>4.711462e-04</td>\n",
       "      <td>None</td>\n",
       "      <td>5</td>\n",
       "      <td>7</td>\n",
       "      <td>{'max_depth': None, 'min_samples_leaf': 5, 'mi...</td>\n",
       "      <td>-4341.549556</td>\n",
       "      <td>-5445.241630</td>\n",
       "      <td>-5199.122283</td>\n",
       "      <td>-4995.304490</td>\n",
       "      <td>473.068225</td>\n",
       "      <td>25</td>\n",
       "    </tr>\n",
       "    <tr>\n",
       "      <th>71</th>\n",
       "      <td>0.005000</td>\n",
       "      <td>8.684751e-06</td>\n",
       "      <td>0.002329</td>\n",
       "      <td>9.397069e-04</td>\n",
       "      <td>None</td>\n",
       "      <td>5</td>\n",
       "      <td>10</td>\n",
       "      <td>{'max_depth': None, 'min_samples_leaf': 5, 'mi...</td>\n",
       "      <td>-4341.549556</td>\n",
       "      <td>-5445.241630</td>\n",
       "      <td>-5199.122283</td>\n",
       "      <td>-4995.304490</td>\n",
       "      <td>473.068225</td>\n",
       "      <td>25</td>\n",
       "    </tr>\n",
       "  </tbody>\n",
       "</table>\n",
       "<p>72 rows × 14 columns</p>\n",
       "</div>"
      ],
      "text/plain": [
       "    mean_fit_time  std_fit_time  mean_score_time  std_score_time  \\\n",
       "0        0.007667  1.246661e-03         0.004001    1.381091e-06   \n",
       "1        0.007668  1.699456e-03         0.003999    6.743496e-07   \n",
       "2        0.006333  1.247681e-03         0.004667    4.708094e-04   \n",
       "3        0.006332  4.711457e-04         0.003999    1.413662e-03   \n",
       "4        0.005000  2.973602e-07         0.003667    4.717082e-04   \n",
       "..            ...           ...              ...             ...   \n",
       "67       0.005333  4.713704e-04         0.003001    1.123916e-07   \n",
       "68       0.004331  2.054670e-03         0.003001    1.416134e-03   \n",
       "69       0.005000  1.632875e-03         0.002666    4.710338e-04   \n",
       "70       0.006331  4.684483e-04         0.003337    4.711462e-04   \n",
       "71       0.005000  8.684751e-06         0.002329    9.397069e-04   \n",
       "\n",
       "   param_max_depth param_min_samples_leaf param_min_samples_split  \\\n",
       "0                3                      1                       2   \n",
       "1                3                      1                       5   \n",
       "2                3                      1                       7   \n",
       "3                3                      1                      10   \n",
       "4                3                      2                       2   \n",
       "..             ...                    ...                     ...   \n",
       "67            None                      2                      10   \n",
       "68            None                      5                       2   \n",
       "69            None                      5                       5   \n",
       "70            None                      5                       7   \n",
       "71            None                      5                      10   \n",
       "\n",
       "                                               params  split0_test_score  \\\n",
       "0   {'max_depth': 3, 'min_samples_leaf': 1, 'min_s...       -3199.935413   \n",
       "1   {'max_depth': 3, 'min_samples_leaf': 1, 'min_s...       -3199.935413   \n",
       "2   {'max_depth': 3, 'min_samples_leaf': 1, 'min_s...       -3199.935413   \n",
       "3   {'max_depth': 3, 'min_samples_leaf': 1, 'min_s...       -3199.935413   \n",
       "4   {'max_depth': 3, 'min_samples_leaf': 2, 'min_s...       -3199.935413   \n",
       "..                                                ...                ...   \n",
       "67  {'max_depth': None, 'min_samples_leaf': 2, 'mi...       -4693.001750   \n",
       "68  {'max_depth': None, 'min_samples_leaf': 5, 'mi...       -4341.549556   \n",
       "69  {'max_depth': None, 'min_samples_leaf': 5, 'mi...       -4341.549556   \n",
       "70  {'max_depth': None, 'min_samples_leaf': 5, 'mi...       -4341.549556   \n",
       "71  {'max_depth': None, 'min_samples_leaf': 5, 'mi...       -4341.549556   \n",
       "\n",
       "    split1_test_score  split2_test_score  mean_test_score  std_test_score  \\\n",
       "0        -4301.272953       -4151.656406     -3884.288258      487.750202   \n",
       "1        -4301.272953       -4151.656406     -3884.288258      487.750202   \n",
       "2        -4301.272953       -4151.656406     -3884.288258      487.750202   \n",
       "3        -4301.272953       -4151.656406     -3884.288258      487.750202   \n",
       "4        -4301.272953       -4151.656406     -3884.288258      487.750202   \n",
       "..                ...                ...              ...             ...   \n",
       "67       -5318.621059       -5206.009637     -5072.544149      272.286194   \n",
       "68       -5445.241630       -5199.122283     -4995.304490      473.068225   \n",
       "69       -5445.241630       -5199.122283     -4995.304490      473.068225   \n",
       "70       -5445.241630       -5199.122283     -4995.304490      473.068225   \n",
       "71       -5445.241630       -5199.122283     -4995.304490      473.068225   \n",
       "\n",
       "    rank_test_score  \n",
       "0                 1  \n",
       "1                 1  \n",
       "2                 1  \n",
       "3                 1  \n",
       "4                 1  \n",
       "..              ...  \n",
       "67               41  \n",
       "68               25  \n",
       "69               25  \n",
       "70               25  \n",
       "71               25  \n",
       "\n",
       "[72 rows x 14 columns]"
      ]
     },
     "execution_count": 26,
     "metadata": {},
     "output_type": "execute_result"
    }
   ],
   "source": [
    "pd.DataFrame(grid_cv.cv_results_)"
   ]
  },
  {
   "cell_type": "markdown",
   "id": "eee670c7-a7cc-4f6b-9bfe-a9b2f6a179d2",
   "metadata": {},
   "source": [
    "## Use cost_complexity_pruning_path function to get alpha's and impurities from the tree for postpruning"
   ]
  },
  {
   "cell_type": "code",
   "execution_count": 27,
   "id": "7a72fa56",
   "metadata": {},
   "outputs": [],
   "source": [
    "regressor = DecisionTreeRegressor(random_state=0)\n",
    "path = regressor.cost_complexity_pruning_path(x_train, y_train)\n",
    "ccp_alphas, impurities = path.ccp_alphas, path.impurities"
   ]
  },
  {
   "cell_type": "markdown",
   "id": "adbc07d8",
   "metadata": {},
   "source": [
    "# Plot impurities against alpha's returned by the function (y-axis: impurities, x-axis: alpha)"
   ]
  },
  {
   "cell_type": "code",
   "execution_count": 28,
   "id": "a4d29051",
   "metadata": {},
   "outputs": [
    {
     "data": {
      "text/plain": [
       "Text(0.5, 1.0, 'Total Impurity vs Alpha for training set')"
      ]
     },
     "execution_count": 28,
     "metadata": {},
     "output_type": "execute_result"
    },
    {
     "data": {
      "image/png": "[encoded data removed]",
      "text/plain": [
       "<Figure size 432x288 with 1 Axes>"
      ]
     },
     "metadata": {
      "needs_background": "light"
     },
     "output_type": "display_data"
    }
   ],
   "source": [
    "fig, ax = plt.subplots()\n",
    "ax.plot(ccp_alphas[:-1], impurities[:-1], marker=\"o\", drawstyle=\"steps-post\")\n",
    "ax.set_xlabel(\"effective alpha\")\n",
    "ax.set_ylabel(\"total impurity of leaves\")\n",
    "ax.set_title(\"Total Impurity vs Alpha for training set\")"
   ]
  },
  {
   "cell_type": "markdown",
   "id": "508f795d-6b31-4e19-9ad3-a2a239fd1005",
   "metadata": {},
   "source": [
    "## Train Decision Trees with all alphas returned by the function and get the train mse and test mse"
   ]
  },
  {
   "cell_type": "code",
   "execution_count": 29,
   "id": "f390baee",
   "metadata": {
    "scrolled": true
   },
   "outputs": [
    {
     "name": "stdout",
     "output_type": "stream",
     "text": [
      "Alpha: 0.0, train_mse: 0.0,test_mse: 7668.741573033708\n",
      "Alpha: 0.00141643059490085, train_mse: 0.019830028328611898,test_mse: 7671.904494382023\n",
      "Alpha: 0.00141643059490085, train_mse: 0.019830028328611898,test_mse: 7671.904494382023\n",
      "Alpha: 0.00141643059490085, train_mse: 0.019830028328611898,test_mse: 7671.904494382023\n",
      "Alpha: 0.00141643059490085, train_mse: 0.019830028328611898,test_mse: 7671.904494382023\n",
      "Alpha: 0.00141643059490085, train_mse: 0.019830028328611898,test_mse: 7671.904494382023\n",
      "Alpha: 0.00141643059490085, train_mse: 0.019830028328611898,test_mse: 7671.904494382023\n",
      "Alpha: 0.00141643059490085, train_mse: 0.019830028328611898,test_mse: 7671.904494382023\n",
      "Alpha: 0.00141643059490085, train_mse: 0.019830028328611898,test_mse: 7671.904494382023\n",
      "Alpha: 0.00141643059490085, train_mse: 0.019830028328611898,test_mse: 7671.904494382023\n",
      "Alpha: 0.00141643059490085, train_mse: 0.019830028328611898,test_mse: 7671.904494382023\n",
      "Alpha: 0.00141643059490085, train_mse: 0.019830028328611898,test_mse: 7671.904494382023\n",
      "Alpha: 0.00141643059490085, train_mse: 0.019830028328611898,test_mse: 7671.904494382023\n",
      "Alpha: 0.00141643059490085, train_mse: 0.019830028328611898,test_mse: 7671.904494382023\n",
      "Alpha: 0.00141643059490085, train_mse: 0.019830028328611898,test_mse: 7671.904494382023\n",
      "Alpha: 0.0018885741265688195, train_mse: 0.02171860245514636,test_mse: 7672.407615480649\n",
      "Alpha: 0.004249291784705126, train_mse: 0.025967894239848913,test_mse: 7672.407615480649\n",
      "Alpha: 0.0056657223796034, train_mse: 0.05996222851746932,test_mse: 7672.261548064918\n",
      "Alpha: 0.0056657223796034, train_mse: 0.05996222851746932,test_mse: 7672.261548064918\n",
      "Alpha: 0.0056657223796034, train_mse: 0.05996222851746932,test_mse: 7672.261548064918\n",
      "Alpha: 0.0056657223796034, train_mse: 0.05996222851746932,test_mse: 7672.261548064918\n",
      "Alpha: 0.0056657223796034, train_mse: 0.05996222851746932,test_mse: 7672.261548064918\n",
      "Alpha: 0.0056657223796034, train_mse: 0.05996222851746932,test_mse: 7672.261548064918\n",
      "Alpha: 0.012747875354107648, train_mse: 0.1874409820585458,test_mse: 7665.6969413233455\n",
      "Alpha: 0.012747875354107648, train_mse: 0.1874409820585458,test_mse: 7665.6969413233455\n",
      "Alpha: 0.012747875354107648, train_mse: 0.1874409820585458,test_mse: 7665.6969413233455\n",
      "Alpha: 0.012747875354107648, train_mse: 0.1874409820585458,test_mse: 7665.6969413233455\n",
      "Alpha: 0.012747875354107648, train_mse: 0.1874409820585458,test_mse: 7665.6969413233455\n",
      "Alpha: 0.012747875354107648, train_mse: 0.1874409820585458,test_mse: 7665.6969413233455\n",
      "Alpha: 0.012747875354107648, train_mse: 0.1874409820585458,test_mse: 7665.6969413233455\n",
      "Alpha: 0.012747875354107648, train_mse: 0.1874409820585458,test_mse: 7665.6969413233455\n",
      "Alpha: 0.012747875354107648, train_mse: 0.1874409820585458,test_mse: 7665.6969413233455\n",
      "Alpha: 0.012747875354107648, train_mse: 0.1874409820585458,test_mse: 7665.6969413233455\n",
      "Alpha: 0.019121813031158896, train_mse: 0.2065627950897073,test_mse: 7665.6969413233455\n",
      "Alpha: 0.0226628895184136, train_mse: 0.3652030217186025,test_mse: 7672.843008739076\n",
      "Alpha: 0.0226628895184136, train_mse: 0.3652030217186025,test_mse: 7672.843008739076\n",
      "Alpha: 0.0226628895184136, train_mse: 0.3652030217186025,test_mse: 7672.843008739076\n",
      "Alpha: 0.0226628895184136, train_mse: 0.3652030217186025,test_mse: 7672.843008739076\n",
      "Alpha: 0.0226628895184136, train_mse: 0.3652030217186025,test_mse: 7672.843008739076\n",
      "Alpha: 0.0226628895184136, train_mse: 0.3652030217186025,test_mse: 7672.843008739076\n",
      "Alpha: 0.0226628895184136, train_mse: 0.3652030217186025,test_mse: 7672.843008739076\n",
      "Alpha: 0.030217186024547173, train_mse: 0.39542020774315384,test_mse: 7672.083957553059\n",
      "Alpha: 0.030217186024549102, train_mse: 0.4256373937677054,test_mse: 7670.455992509363\n",
      "Alpha: 0.030217186024560052, train_mse: 0.4558545797922569,test_mse: 7670.455992509363\n",
      "Alpha: 0.03541076487252125, train_mse: 0.6329084041548632,test_mse: 7666.270599250935\n",
      "Alpha: 0.03541076487252125, train_mse: 0.6329084041548632,test_mse: 7666.270599250935\n",
      "Alpha: 0.03541076487252125, train_mse: 0.6329084041548632,test_mse: 7666.270599250935\n",
      "Alpha: 0.03541076487252125, train_mse: 0.6329084041548632,test_mse: 7666.270599250935\n",
      "Alpha: 0.03541076487252125, train_mse: 0.6329084041548632,test_mse: 7666.270599250935\n",
      "Alpha: 0.03824362606231779, train_mse: 0.7093956562795091,test_mse: 7667.020599250935\n",
      "Alpha: 0.03824362606231779, train_mse: 0.7093956562795091,test_mse: 7667.020599250935\n",
      "Alpha: 0.03824362606236417, train_mse: 0.747639282341832,test_mse: 7667.020599250935\n",
      "Alpha: 0.04721435316334963, train_mse: 0.7948536355051935,test_mse: 7667.020599250935\n",
      "Alpha: 0.05099150141643059, train_mse: 1.2537771482530689,test_mse: 7665.402621722846\n",
      "Alpha: 0.05099150141643059, train_mse: 1.2537771482530689,test_mse: 7665.402621722846\n",
      "Alpha: 0.05099150141643059, train_mse: 1.2537771482530689,test_mse: 7665.402621722846\n",
      "Alpha: 0.05099150141643059, train_mse: 1.2537771482530689,test_mse: 7665.402621722846\n",
      "Alpha: 0.05099150141643059, train_mse: 1.2537771482530689,test_mse: 7665.402621722846\n",
      "Alpha: 0.05099150141643059, train_mse: 1.2537771482530689,test_mse: 7665.402621722846\n",
      "Alpha: 0.05099150141643059, train_mse: 1.2537771482530689,test_mse: 7665.402621722846\n",
      "Alpha: 0.05099150141643059, train_mse: 1.2537771482530689,test_mse: 7665.402621722846\n",
      "Alpha: 0.05099150141643059, train_mse: 1.2537771482530689,test_mse: 7665.402621722846\n",
      "Alpha: 0.05712936732766203, train_mse: 1.3109065155807365,test_mse: 7661.629525593008\n",
      "Alpha: 0.057129367327673625, train_mse: 1.3680358829084043,test_mse: 7658.700998751562\n",
      "Alpha: 0.0679886685552511, train_mse: 1.436024551463645,test_mse: 7658.700998751562\n",
      "Alpha: 0.06940509915014165, train_mse: 1.6442398489140702,test_mse: 7645.369538077404\n",
      "Alpha: 0.06940509915014165, train_mse: 1.6442398489140702,test_mse: 7645.369538077404\n",
      "Alpha: 0.06940509915014165, train_mse: 1.6442398489140702,test_mse: 7645.369538077404\n",
      "Alpha: 0.07979225684608335, train_mse: 1.724032105760151,test_mse: 7645.369538077404\n",
      "Alpha: 0.0797922568460898, train_mse: 1.8038243626062322,test_mse: 7645.369538077404\n",
      "Alpha: 0.0906515580736544, train_mse: 2.257082152974504,test_mse: 7652.021223470663\n",
      "Alpha: 0.0906515580736544, train_mse: 2.257082152974504,test_mse: 7652.021223470663\n",
      "Alpha: 0.0906515580736544, train_mse: 2.257082152974504,test_mse: 7652.021223470663\n",
      "Alpha: 0.0906515580736544, train_mse: 2.257082152974504,test_mse: 7652.021223470663\n",
      "Alpha: 0.0906515580736544, train_mse: 2.257082152974504,test_mse: 7652.021223470663\n",
      "Alpha: 0.09254013220018714, train_mse: 2.3496222851746933,test_mse: 7642.932584269663\n",
      "Alpha: 0.10623229461756374, train_mse: 2.455854579792257,test_mse: 7642.932584269663\n",
      "Alpha: 0.11473087818696884, train_mse: 2.9147780925401316,test_mse: 7646.11797752809\n",
      "Alpha: 0.11473087818696884, train_mse: 2.9147780925401316,test_mse: 7646.11797752809\n",
      "Alpha: 0.11473087818696884, train_mse: 2.9147780925401316,test_mse: 7646.11797752809\n",
      "Alpha: 0.11473087818696884, train_mse: 2.9147780925401316,test_mse: 7646.11797752809\n",
      "Alpha: 0.1208687440982505, train_mse: 3.0356468366383385,test_mse: 7646.11797752809\n",
      "Alpha: 0.13644948064208773, train_mse: 3.1720963172804533,test_mse: 7646.855493133583\n",
      "Alpha: 0.13644948064211093, train_mse: 3.308545797922568,test_mse: 7646.855493133583\n",
      "Alpha: 0.141643059490085, train_mse: 3.875118035882908,test_mse: 7647.024032459425\n",
      "Alpha: 0.141643059490085, train_mse: 3.875118035882908,test_mse: 7647.024032459425\n",
      "Alpha: 0.141643059490085, train_mse: 3.875118035882908,test_mse: 7647.024032459425\n",
      "Alpha: 0.141643059490085, train_mse: 3.875118035882908,test_mse: 7647.024032459425\n",
      "Alpha: 0.15410764872517535, train_mse: 4.183333333333334,test_mse: 7647.024032459425\n",
      "Alpha: 0.15958451369216672, train_mse: 4.342917847025496,test_mse: 7647.62858926342\n",
      "Alpha: 0.17044381491970811, train_mse: 4.513361661945232,test_mse: 7647.62858926342\n",
      "Alpha: 0.1704438149197403, train_mse: 4.683805476864967,test_mse: 7651.637328339576\n",
      "Alpha: 0.17138810198300283, train_mse: 5.7121340887629835,test_mse: 7652.7496878901375\n",
      "Alpha: 0.17138810198300283, train_mse: 5.7121340887629835,test_mse: 7652.7496878901375\n",
      "Alpha: 0.17138810198300283, train_mse: 5.7121340887629835,test_mse: 7652.7496878901375\n",
      "Alpha: 0.17138810198300283, train_mse: 5.7121340887629835,test_mse: 7652.7496878901375\n",
      "Alpha: 0.17138810198300283, train_mse: 5.7121340887629835,test_mse: 7652.7496878901375\n"
     ]
    },
    {
     "name": "stdout",
     "output_type": "stream",
     "text": [
      "Alpha: 0.17138810198300283, train_mse: 5.7121340887629835,test_mse: 7652.7496878901375\n",
      "Alpha: 0.1720963172804584, train_mse: 5.884230406043437,test_mse: 7652.7496878901375\n",
      "Alpha: 0.18885741265344624, train_mse: 6.073087818696883,test_mse: 7652.7496878901375\n",
      "Alpha: 0.18885741265354283, train_mse: 6.261945231350331,test_mse: 7652.7496878901375\n",
      "Alpha: 0.20396600566572237, train_mse: 6.669877242681776,test_mse: 7652.7496878901375\n",
      "Alpha: 0.20396600566572237, train_mse: 6.669877242681776,test_mse: 7652.7496878901375\n",
      "Alpha: 0.22851746931066744, train_mse: 6.898394711992445,test_mse: 7650.387640449439\n",
      "Alpha: 0.2285174693106687, train_mse: 7.126912181303116,test_mse: 7651.44506866417\n",
      "Alpha: 0.228517469310679, train_mse: 7.355429650613787,test_mse: 7651.44506866417\n",
      "Alpha: 0.22946175637393768, train_mse: 7.584891406987724,test_mse: 7660.116416978777\n",
      "Alpha: 0.23937677053824363, train_mse: 8.542398489140698,test_mse: 7661.6136079900125\n",
      "Alpha: 0.23937677053824363, train_mse: 8.542398489140698,test_mse: 7661.6136079900125\n",
      "Alpha: 0.23937677053824363, train_mse: 8.542398489140698,test_mse: 7661.6136079900125\n",
      "Alpha: 0.23937677053824363, train_mse: 8.542398489140698,test_mse: 7661.6136079900125\n",
      "Alpha: 0.24976392823420723, train_mse: 8.792162417374882,test_mse: 7661.6136079900125\n",
      "Alpha: 0.2497639282343206, train_mse: 9.041926345609065,test_mse: 7672.2808988764045\n",
      "Alpha: 0.27195467422096314, train_mse: 9.313881019830028,test_mse: 7672.2808988764045\n",
      "Alpha: 0.2776203966005666, train_mse: 10.146742209631727,test_mse: 7672.2808988764045\n",
      "Alpha: 0.2776203966005666, train_mse: 10.146742209631727,test_mse: 7672.2808988764045\n",
      "Alpha: 0.2776203966005666, train_mse: 10.146742209631727,test_mse: 7672.2808988764045\n",
      "Alpha: 0.2868271954674221, train_mse: 10.43356940509915,test_mse: 7672.2808988764045\n",
      "Alpha: 0.31869688385269124, train_mse: 11.070963172804532,test_mse: 7656.564606741573\n",
      "Alpha: 0.31869688385269124, train_mse: 11.070963172804532,test_mse: 7656.564606741573\n",
      "Alpha: 0.3191690273843283, train_mse: 11.390132200188857,test_mse: 7656.564606741573\n",
      "Alpha: 0.3441926345609065, train_mse: 11.734324834749764,test_mse: 7656.564606741573\n",
      "Alpha: 0.3626062322946176, train_mse: 12.09693106704438,test_mse: 7683.5308988764045\n",
      "Alpha: 0.3968366383380565, train_mse: 12.493767705382433,test_mse: 7690.137094257178\n",
      "Alpha: 0.39707271010386214, train_mse: 12.89084041548631,test_mse: 7689.150514981273\n",
      "Alpha: 0.397072710103875, train_mse: 13.28791312559018,test_mse: 7692.155508739076\n",
      "Alpha: 0.3970727101038853, train_mse: 13.684985835694048,test_mse: 7692.155508739076\n",
      "Alpha: 0.4093484419263456, train_mse: 14.094334277620398,test_mse: 7692.155508739076\n",
      "Alpha: 0.43649669499527255, train_mse: 14.530830972615675,test_mse: 7712.595271535582\n",
      "Alpha: 0.45892351274787535, train_mse: 15.448677998111428,test_mse: 7664.157069288391\n",
      "Alpha: 0.45892351274787535, train_mse: 15.448677998111428,test_mse: 7664.157069288391\n",
      "Alpha: 0.4780453257790368, train_mse: 15.926723323890466,test_mse: 7694.904962546817\n",
      "Alpha: 0.4834749763928371, train_mse: 16.410198300283287,test_mse: 7694.904962546817\n",
      "Alpha: 0.48347497639283715, train_mse: 16.89367327667611,test_mse: 7694.904962546817\n",
      "Alpha: 0.5113314447592068, train_mse: 17.40500472143532,test_mse: 7694.904962546817\n",
      "Alpha: 0.5170915958451767, train_mse: 17.922096317280452,test_mse: 7687.713751560549\n",
      "Alpha: 0.5457979225684126, train_mse: 18.467894239848913,test_mse: 7687.713751560549\n",
      "Alpha: 0.56657223796034, train_mse: 19.601038715769594,test_mse: 7688.38790886392\n",
      "Alpha: 0.56657223796034, train_mse: 19.601038715769594,test_mse: 7688.38790886392\n",
      "Alpha: 0.5901794145420225, train_mse: 20.191218130311615,test_mse: 7687.209694132334\n",
      "Alpha: 0.5901794145420238, train_mse: 20.781397544853636,test_mse: 7686.406011235955\n",
      "Alpha: 0.5901794145420483, train_mse: 21.371576959395657,test_mse: 7671.6432147315845\n",
      "Alpha: 0.6118980169971465, train_mse: 21.983474976392824,test_mse: 7641.440967540573\n",
      "Alpha: 0.6463644948064555, train_mse: 22.629839471199244,test_mse: 7641.440967540573\n",
      "Alpha: 0.6817752596789253, train_mse: 23.311614730878187,test_mse: 7641.440967540573\n",
      "Alpha: 0.6817752596789419, train_mse: 23.993389990557134,test_mse: 7624.338595505618\n",
      "Alpha: 0.7492917847025495, train_mse: 26.241265344664782,test_mse: 7639.198146067416\n",
      "Alpha: 0.7492917847025495, train_mse: 26.241265344664782,test_mse: 7639.198146067416\n",
      "Alpha: 0.7492917847025495, train_mse: 26.241265344664782,test_mse: 7639.198146067416\n",
      "Alpha: 0.7554296506138003, train_mse: 26.99669499527856,test_mse: 7639.198146067416\n",
      "Alpha: 0.7936732766761336, train_mse: 27.790368271954673,test_mse: 7639.198146067416\n",
      "Alpha: 0.8181303116147391, train_mse: 28.608498583569403,test_mse: 7622.486685393258\n",
      "Alpha: 0.8186968838526912, train_mse: 29.427195467422095,test_mse: 7630.222640449438\n",
      "Alpha: 0.8217658168082651, train_mse: 30.248961284230404,test_mse: 7630.222640449438\n",
      "Alpha: 0.8217658168083121, train_mse: 31.070727101038717,test_mse: 7624.564790886391\n",
      "Alpha: 0.8522190745986707, train_mse: 31.922946175637392,test_mse: 7620.556051810237\n",
      "Alpha: 0.8729933899905089, train_mse: 32.795939565627954,test_mse: 7620.556051810237\n",
      "Alpha: 0.8729933899905915, train_mse: 33.66893295561851,test_mse: 7620.556051810237\n",
      "Alpha: 0.8852691218130312, train_mse: 34.55420207743154,test_mse: 7620.556051810237\n",
      "Alpha: 0.9293201133144533, train_mse: 35.48352219074599,test_mse: 7597.539310237203\n",
      "Alpha: 0.9560906515580737, train_mse: 36.439612842304065,test_mse: 7597.539310237203\n",
      "Alpha: 0.9632672332387177, train_mse: 37.40288007554297,test_mse: 7597.539310237203\n",
      "Alpha: 1.028328611898017, train_mse: 38.431208687440986,test_mse: 7597.539310237203\n",
      "Alpha: 1.0429650613786317, train_mse: 39.47417374881964,test_mse: 7592.5811329588005\n",
      "Alpha: 1.0475920679886717, train_mse: 40.52176581680831,test_mse: 7594.093380149812\n",
      "Alpha: 1.0878186968838939, train_mse: 42.69740321057602,test_mse: 7578.812481273408\n",
      "Alpha: 1.0878186968838939, train_mse: 42.69740321057602,test_mse: 7578.812481273408\n",
      "Alpha: 1.1104815864022664, train_mse: 43.807884796978286,test_mse: 7563.711357677902\n",
      "Alpha: 1.1634560906515394, train_mse: 44.97134088762984,test_mse: 7563.711357677902\n",
      "Alpha: 1.1803588290840346, train_mse: 46.151699716713885,test_mse: 7563.711357677902\n",
      "Alpha: 1.1912181303116147, train_mse: 47.342917847025504,test_mse: 7538.784391385768\n",
      "Alpha: 1.2057601510859863, train_mse: 48.54867799811143,test_mse: 7538.784391385768\n",
      "Alpha: 1.274787535410765, train_mse: 49.823465533522196,test_mse: 7538.784391385768\n",
      "Alpha: 1.3094900849858357, train_mse: 51.13295561850803,test_mse: 7557.596891385768\n",
      "Alpha: 1.3611898016997168, train_mse: 52.494145420207744,test_mse: 7557.596891385768\n",
      "Alpha: 1.4172737083502025, train_mse: 53.91141912855794,test_mse: 7571.138661558256\n",
      "Alpha: 1.533994334277623, train_mse: 55.44541346283556,test_mse: 7628.512257063874\n",
      "Alpha: 1.5424929178470255, train_mse: 56.98790638068259,test_mse: 7628.512257063874\n",
      "Alpha: 1.5873465533522195, train_mse: 58.575252934034815,test_mse: 7626.656763930289\n",
      "Alpha: 1.6262983947119785, train_mse: 60.20155132874679,test_mse: 7613.555250197457\n",
      "Alpha: 1.7007284500202096, train_mse: 61.90227977876703,test_mse: 7613.555250197457\n",
      "Alpha: 1.755681460497322, train_mse: 63.65796123926437,test_mse: 7615.921141444509\n",
      "Alpha: 1.767988668555752, train_mse: 65.4259499078196,test_mse: 7644.946984141139\n",
      "Alpha: 1.772332389046182, train_mse: 67.19828229686587,test_mse: 7622.5805796467575\n",
      "Alpha: 1.7840280588155966, train_mse: 68.98231035568146,test_mse: 7624.538559467899\n",
      "Alpha: 1.8149197355996234, train_mse: 70.79723009128108,test_mse: 7627.28637469886\n",
      "Alpha: 1.840793201133153, train_mse: 72.63802329241423,test_mse: 7627.28637469886\n",
      "Alpha: 1.8699244570349558, train_mse: 74.50794774944916,test_mse: 7627.28637469886\n",
      "Alpha: 1.93389990557139, train_mse: 76.44184765502047,test_mse: 7626.647173700108\n",
      "Alpha: 1.9948064211520438, train_mse: 78.43665407617249,test_mse: 7626.647173700108\n",
      "Alpha: 2.045325779036827, train_mse: 82.52730563424615,test_mse: 7578.61346583494\n",
      "Alpha: 2.045325779036827, train_mse: 82.52730563424615,test_mse: 7578.61346583494\n",
      "Alpha: 2.056657223796034, train_mse: 84.58396285804218,test_mse: 7594.557286059659\n",
      "Alpha: 2.119452313503298, train_mse: 86.70341517154549,test_mse: 7594.557286059659\n",
      "Alpha: 2.1423512747875355, train_mse: 88.84576644633303,test_mse: 7557.169645610221\n",
      "Alpha: 2.2672332389046392, train_mse: 91.11299968523765,test_mse: 7557.169645610221\n",
      "Alpha: 2.3009915014164304, train_mse: 93.41399118665409,test_mse: 7557.169645610221\n",
      "Alpha: 2.3137393767704975, train_mse: 95.72773056342461,test_mse: 7487.763044486625\n",
      "Alpha: 2.47818696883853, train_mse: 98.20591753226313,test_mse: 7482.532932127074\n",
      "Alpha: 2.4853950267547935, train_mse: 100.69131255901794,test_mse: 7480.8965914418195\n",
      "Alpha: 2.5854579792256986, train_mse: 103.27677053824362,test_mse: 7451.656891067288\n",
      "Alpha: 2.7993389990557267, train_mse: 106.07610953729935,test_mse: 7451.656891067288\n",
      "Alpha: 2.8564683663833463, train_mse: 108.93257790368271,test_mse: 7434.817003426838\n",
      "Alpha: 2.85892351274787, train_mse: 111.7915014164306,test_mse: 7443.145542752682\n",
      "Alpha: 2.868271954674221, train_mse: 117.52804532577905,test_mse: 7321.418014662794\n",
      "Alpha: 2.868271954674221, train_mse: 117.52804532577905,test_mse: 7321.418014662794\n",
      "Alpha: 2.997167138810198, train_mse: 120.52521246458925,test_mse: 7321.418014662794\n",
      "Alpha: 3.084671073339617, train_mse: 123.60988353792885,test_mse: 7325.06900647858\n",
      "Alpha: 3.1746931067044932, train_mse: 126.7845766446333,test_mse: 7325.06900647858\n",
      "Alpha: 3.287063267233287, train_mse: 130.07163991186653,test_mse: 7256.6223772650965\n",
      "Alpha: 3.3042492917853044, train_mse: 133.37588920365124,test_mse: 7242.788669399928\n",
      "Alpha: 3.4472773056342136, train_mse: 136.8231665092855,test_mse: 7192.634140339032\n",
      "Alpha: 3.8163586492198247, train_mse: 140.63952515850534,test_mse: 7162.918065477959\n",
      "Alpha: 3.853068932955654, train_mse: 144.49259409146094,test_mse: 7212.896043006048\n",
      "Alpha: 3.8913125590179307, train_mse: 148.38390665047888,test_mse: 7211.367840758857\n"
     ]
    },
    {
     "name": "stdout",
     "output_type": "stream",
     "text": [
      "Alpha: 4.010434372049117, train_mse: 156.4047753945771,test_mse: 7206.148115415537\n",
      "Alpha: 4.075306893295567, train_mse: 164.5553891811682,test_mse: 7190.979263979831\n",
      "Alpha: 4.308035024465633, train_mse: 168.86342420563383,test_mse: 7192.977739232873\n",
      "Alpha: 4.441926345609065, train_mse: 173.3053505512429,test_mse: 7192.977739232873\n",
      "Alpha: 4.442398489140713, train_mse: 177.7477490403836,test_mse: 7192.977739232873\n",
      "Alpha: 4.518310584599503, train_mse: 182.26605962498311,test_mse: 7189.984881957358\n",
      "Alpha: 4.6933427762039255, train_mse: 186.95940240118708,test_mse: 7324.0206965641\n",
      "Alpha: 4.738054768649668, train_mse: 191.69745716983678,test_mse: 7313.6065142919415\n",
      "Alpha: 4.738054768649679, train_mse: 196.43551193848646,test_mse: 7313.6065142919415\n",
      "Alpha: 4.886244885111702, train_mse: 201.32175682359818,test_mse: 7311.384286521099\n",
      "Alpha: 4.895184135977335, train_mse: 206.2169409595755,test_mse: 7417.092151689639\n",
      "Alpha: 4.9634088762983986, train_mse: 211.18034983587393,test_mse: 7417.092151689639\n",
      "Alpha: 5.069054363955251, train_mse: 216.24940419982912,test_mse: 7417.092151689639\n",
      "Alpha: 5.530122757318214, train_mse: 221.77952695714734,test_mse: 7417.092151689639\n",
      "Alpha: 5.684623858986592, train_mse: 227.4641508161338,test_mse: 7358.188274244777\n",
      "Alpha: 6.19756284005576, train_mse: 233.6617136561896,test_mse: 7313.0629182413695\n",
      "Alpha: 6.257790368271955, train_mse: 239.91950402446153,test_mse: 7313.0629182413695\n",
      "Alpha: 6.306090651558134, train_mse: 246.22559467601957,test_mse: 7313.0629182413695\n",
      "Alpha: 6.3739376770538385, train_mse: 252.5995323530734,test_mse: 7318.905614870583\n",
      "Alpha: 6.4270538243626065, train_mse: 259.026586177436,test_mse: 7318.905614870583\n",
      "Alpha: 7.229697828139659, train_mse: 266.25628400557576,test_mse: 7402.664197891807\n",
      "Alpha: 7.819641170915904, train_mse: 274.07592517649175,test_mse: 7402.664197891807\n",
      "Alpha: 7.900175367597488, train_mse: 281.9761005440892,test_mse: 7260.605037148857\n",
      "Alpha: 7.906272764062981, train_mse: 289.8823733081523,test_mse: 7260.605037148857\n",
      "Alpha: 8.226628895184131, train_mse: 298.10900220333644,test_mse: 7316.964587710655\n",
      "Alpha: 8.260623229461757, train_mse: 306.3696254327982,test_mse: 7478.661216924138\n",
      "Alpha: 8.342398489140631, train_mse: 323.05442241107966,test_mse: 7478.661216924138\n",
      "Alpha: 8.612275731822407, train_mse: 331.66669814290213,test_mse: 7430.009431655724\n",
      "Alpha: 8.839943342776204, train_mse: 340.50664148567836,test_mse: 7397.38864513887\n",
      "Alpha: 8.873783157351973, train_mse: 349.3804246430309,test_mse: 7377.474578837449\n",
      "Alpha: 9.178702034509584, train_mse: 358.5591266775403,test_mse: 7377.474578837449\n",
      "Alpha: 9.19021890291036, train_mse: 376.9395644833605,test_mse: 7314.338658622018\n",
      "Alpha: 9.383569405099145, train_mse: 386.32313388845967,test_mse: 7320.8415799703325\n",
      "Alpha: 9.386685552407911, train_mse: 395.7098194408676,test_mse: 7279.254501318646\n",
      "Alpha: 9.442870632672319, train_mse: 405.15269007354,test_mse: 7279.254501318646\n",
      "Alpha: 9.824362606232315, train_mse: 414.97705267977227,test_mse: 7229.973602442242\n",
      "Alpha: 10.0496425198976, train_mse: 425.02669519966975,test_mse: 7272.867408653865\n",
      "Alpha: 10.17941454202078, train_mse: 435.20610974169045,test_mse: 7265.412976693816\n",
      "Alpha: 10.38086806960745, train_mse: 445.5869778112979,test_mse: 7203.545522268225\n",
      "Alpha: 10.510151085930108, train_mse: 456.09712889722806,test_mse: 7203.545522268225\n",
      "Alpha: 10.578389316066417, train_mse: 466.6755182132944,test_mse: 7197.257093008881\n",
      "Alpha: 10.610009442870648, train_mse: 477.2855276561651,test_mse: 7197.257093008881\n",
      "Alpha: 10.720963172804533, train_mse: 488.0064908289696,test_mse: 7045.251475031353\n",
      "Alpha: 10.885898646521873, train_mse: 498.8923894754915,test_mse: 7045.251475031353\n",
      "Alpha: 10.912417374881972, train_mse: 509.80480685037344,test_mse: 7015.340036204885\n",
      "Alpha: 10.957102387697272, train_mse: 520.7619092380708,test_mse: 6991.75341616361\n",
      "Alpha: 11.585835694050948, train_mse: 532.3477449321217,test_mse: 7029.993865601813\n",
      "Alpha: 11.633711048158705, train_mse: 543.9814559802803,test_mse: 7018.228135264733\n",
      "Alpha: 12.188871720033198, train_mse: 556.1703277003136,test_mse: 6970.054662654165\n",
      "Alpha: 12.32059894779441, train_mse: 580.8115255959024,test_mse: 6907.61735011117\n",
      "Alpha: 13.037063267233234, train_mse: 593.8485888631355,test_mse: 6920.141148488201\n",
      "Alpha: 13.20830972615678, train_mse: 607.0568985892924,test_mse: 6920.141148488201\n",
      "Alpha: 13.3505021890291, train_mse: 620.4074007783215,test_mse: 6872.791905290132\n",
      "Alpha: 13.94337650074199, train_mse: 634.3507772790634,test_mse: 6813.049744661835\n",
      "Alpha: 13.946754013219998, train_mse: 648.2975312922833,test_mse: 6785.564106592235\n",
      "Alpha: 14.011159756202211, train_mse: 662.3086910484857,test_mse: 6768.978268641739\n",
      "Alpha: 14.688424614416107, train_mse: 676.9971156629018,test_mse: 6833.956347258744\n",
      "Alpha: 15.467894239848908, train_mse: 692.4650099027507,test_mse: 6833.956347258744\n",
      "Alpha: 15.5642687498212, train_mse: 708.0292786525717,test_mse: 6924.380314544816\n",
      "Alpha: 15.73049474919165, train_mse: 739.4902681509552,test_mse: 6924.380314544816\n",
      "Alpha: 16.14746826146113, train_mse: 755.6377364124177,test_mse: 6914.987202774036\n",
      "Alpha: 16.674575070821533, train_mse: 772.3123114832392,test_mse: 6914.987202774036\n",
      "Alpha: 17.003074986077724, train_mse: 789.315386469317,test_mse: 6914.987202774036\n",
      "Alpha: 17.201200593551818, train_mse: 806.5165870628689,test_mse: 6914.987202774036\n",
      "Alpha: 17.51168762321298, train_mse: 824.0282746860817,test_mse: 6617.93295271957\n",
      "Alpha: 17.68909082195576, train_mse: 859.4064563299934,test_mse: 6592.481664473716\n",
      "Alpha: 18.525135923693387, train_mse: 914.9818641010734,test_mse: 6570.074108385955\n",
      "Alpha: 18.906751652502347, train_mse: 933.8886157535759,test_mse: 6677.855241344758\n",
      "Alpha: 19.23299159134851, train_mse: 991.5875905276215,test_mse: 6234.781780874428\n",
      "Alpha: 19.7514164305949, train_mse: 1011.3390069582164,test_mse: 6039.049337054201\n",
      "Alpha: 19.955375282570856, train_mse: 1031.2943822407872,test_mse: 5948.629872862862\n",
      "Alpha: 20.035598867717738, train_mse: 1051.3299811085049,test_mse: 5950.642031669501\n",
      "Alpha: 20.230878186968816, train_mse: 1071.5608592954738,test_mse: 5908.146947399839\n",
      "Alpha: 21.020302171860177, train_mse: 1092.5811614673341,test_mse: 5886.941579110201\n",
      "Alpha: 21.176092675030425, train_mse: 1113.7572541423642,test_mse: 5886.941579110201\n",
      "Alpha: 21.4335694050992, train_mse: 1135.1908235474637,test_mse: 5966.293208323684\n",
      "Alpha: 21.518535006070394, train_mse: 1156.709358553534,test_mse: 6049.59444427874\n",
      "Alpha: 22.13172804532578, train_mse: 1178.8410865988599,test_mse: 6049.59444427874\n",
      "Alpha: 22.187677053824363, train_mse: 1201.0287636526841,test_mse: 5918.460315065257\n",
      "Alpha: 23.215391184802563, train_mse: 1224.2441548374868,test_mse: 5924.064243852776\n",
      "Alpha: 23.887095972591993, train_mse: 1248.1312508100782,test_mse: 5934.436778413734\n",
      "Alpha: 24.989244029848365, train_mse: 1323.0989828996235,test_mse: 5778.92534330195\n",
      "Alpha: 28.75168206732556, train_mse: 1351.8506649669491,test_mse: 5854.359236004744\n",
      "Alpha: 29.272240552500534, train_mse: 1439.667386624451,test_mse: 5844.205412203181\n",
      "Alpha: 29.356839336301142, train_mse: 1469.0242259607517,test_mse: 5741.584683012628\n",
      "Alpha: 30.97522784091045, train_mse: 1499.999453801663,test_mse: 5732.683780178003\n",
      "Alpha: 32.21479248408097, train_mse: 1532.214246285744,test_mse: 5660.817767231063\n",
      "Alpha: 33.30204340943183, train_mse: 1598.818333104607,test_mse: 5733.810770613512\n",
      "Alpha: 35.96600566572242, train_mse: 1634.7843387703294,test_mse: 5681.220882973063\n",
      "Alpha: 36.523485768245024, train_mse: 1817.4017676115548,test_mse: 5045.797292563116\n",
      "Alpha: 37.22428105416767, train_mse: 1929.074610774058,test_mse: 5007.606248362169\n",
      "Alpha: 43.97043201133127, train_mse: 2017.0154747967208,test_mse: 4728.337853387138\n",
      "Alpha: 44.42310597806346, train_mse: 2061.438580774784,test_mse: 4685.765292387205\n",
      "Alpha: 44.63293843637746, train_mse: 2106.0715192111616,test_mse: 4826.042281258111\n",
      "Alpha: 45.944831844265394, train_mse: 2152.016351055427,test_mse: 4826.042281258111\n",
      "Alpha: 70.42308594511081, train_mse: 2222.439437000539,test_mse: 4731.37543517349\n",
      "Alpha: 75.47334739081978, train_mse: 2297.912784391358,test_mse: 4445.8468617890685\n",
      "Alpha: 77.75545450027278, train_mse: 2375.668238891631,test_mse: 4495.380586081072\n",
      "Alpha: 78.55892492760643, train_mse: 2532.786088746844,test_mse: 4450.191269499238\n",
      "Alpha: 88.9051139000178, train_mse: 2621.6912026468617,test_mse: 4442.204836828598\n",
      "Alpha: 101.41074002286234, train_mse: 2723.1019426697235,test_mse: 4063.2750451208635\n",
      "Alpha: 114.57641701879811, train_mse: 2837.6783596885207,test_mse: 4238.611065355752\n",
      "Alpha: 137.94949581705976, train_mse: 2975.6278555055806,test_mse: 4351.7979701230915\n",
      "Alpha: 195.75912155471747, train_mse: 3171.386977060297,test_mse: 4319.762612500914\n",
      "Alpha: 338.8205501673958, train_mse: 3510.2075272276943,test_mse: 4518.697081210981\n",
      "Alpha: 511.5734963073851, train_mse: 4021.781023535078,test_mse: 5423.371858235764\n",
      "Alpha: 1781.95861003874, train_mse: 5803.739633573819,test_mse: 6432.342774039893\n"
     ]
    }
   ],
   "source": [
    "clfs = []\n",
    "mse_train=[]\n",
    "mse_test=[]\n",
    "#for i, alpha in enumerate(ccp_alphas):\n",
    "for alpha in ccp_alphas:\n",
    "    regressor = DecisionTreeRegressor(random_state=0, ccp_alpha=alpha)\n",
    "    reg = regressor.fit(x_train, y_train)\n",
    "    y_pred1 = reg.predict(x_train)\n",
    "    y_pred2 = reg.predict(x_test)\n",
    "    train_mse = mean_squared_error(y_train, y_pred1)\n",
    "    test_mse = mean_squared_error(y_test, y_pred2)\n",
    "    clfs.append(alpha)\n",
    "    mse_train.append(train_mse)\n",
    "    mse_test.append(test_mse)\n",
    "    print(f'Alpha: {alpha}, train_mse: {train_mse},test_mse: {test_mse}')\n"
   ]
  },
  {
   "cell_type": "code",
   "execution_count": 30,
   "id": "f5952c58",
   "metadata": {},
   "outputs": [
    {
     "data": {
      "text/html": [
       "<div>\n",
       "<style scoped>\n",
       "    .dataframe tbody tr th:only-of-type {\n",
       "        vertical-align: middle;\n",
       "    }\n",
       "\n",
       "    .dataframe tbody tr th {\n",
       "        vertical-align: top;\n",
       "    }\n",
       "\n",
       "    .dataframe thead th {\n",
       "        text-align: right;\n",
       "    }\n",
       "</style>\n",
       "<table border=\"1\" class=\"dataframe\">\n",
       "  <thead>\n",
       "    <tr style=\"text-align: right;\">\n",
       "      <th></th>\n",
       "      <th>Alpha</th>\n",
       "      <th>Train_mse</th>\n",
       "      <th>Test_mse</th>\n",
       "    </tr>\n",
       "  </thead>\n",
       "  <tbody>\n",
       "    <tr>\n",
       "      <th>0</th>\n",
       "      <td>0.000000</td>\n",
       "      <td>0.000000</td>\n",
       "      <td>7668.741573</td>\n",
       "    </tr>\n",
       "    <tr>\n",
       "      <th>1</th>\n",
       "      <td>0.001416</td>\n",
       "      <td>0.019830</td>\n",
       "      <td>7671.904494</td>\n",
       "    </tr>\n",
       "    <tr>\n",
       "      <th>2</th>\n",
       "      <td>0.001416</td>\n",
       "      <td>0.019830</td>\n",
       "      <td>7671.904494</td>\n",
       "    </tr>\n",
       "    <tr>\n",
       "      <th>3</th>\n",
       "      <td>0.001416</td>\n",
       "      <td>0.019830</td>\n",
       "      <td>7671.904494</td>\n",
       "    </tr>\n",
       "    <tr>\n",
       "      <th>4</th>\n",
       "      <td>0.001416</td>\n",
       "      <td>0.019830</td>\n",
       "      <td>7671.904494</td>\n",
       "    </tr>\n",
       "    <tr>\n",
       "      <th>...</th>\n",
       "      <td>...</td>\n",
       "      <td>...</td>\n",
       "      <td>...</td>\n",
       "    </tr>\n",
       "    <tr>\n",
       "      <th>317</th>\n",
       "      <td>137.949496</td>\n",
       "      <td>2975.627856</td>\n",
       "      <td>4351.797970</td>\n",
       "    </tr>\n",
       "    <tr>\n",
       "      <th>318</th>\n",
       "      <td>195.759122</td>\n",
       "      <td>3171.386977</td>\n",
       "      <td>4319.762613</td>\n",
       "    </tr>\n",
       "    <tr>\n",
       "      <th>319</th>\n",
       "      <td>338.820550</td>\n",
       "      <td>3510.207527</td>\n",
       "      <td>4518.697081</td>\n",
       "    </tr>\n",
       "    <tr>\n",
       "      <th>320</th>\n",
       "      <td>511.573496</td>\n",
       "      <td>4021.781024</td>\n",
       "      <td>5423.371858</td>\n",
       "    </tr>\n",
       "    <tr>\n",
       "      <th>321</th>\n",
       "      <td>1781.958610</td>\n",
       "      <td>5803.739634</td>\n",
       "      <td>6432.342774</td>\n",
       "    </tr>\n",
       "  </tbody>\n",
       "</table>\n",
       "<p>322 rows × 3 columns</p>\n",
       "</div>"
      ],
      "text/plain": [
       "           Alpha    Train_mse     Test_mse\n",
       "0       0.000000     0.000000  7668.741573\n",
       "1       0.001416     0.019830  7671.904494\n",
       "2       0.001416     0.019830  7671.904494\n",
       "3       0.001416     0.019830  7671.904494\n",
       "4       0.001416     0.019830  7671.904494\n",
       "..           ...          ...          ...\n",
       "317   137.949496  2975.627856  4351.797970\n",
       "318   195.759122  3171.386977  4319.762613\n",
       "319   338.820550  3510.207527  4518.697081\n",
       "320   511.573496  4021.781024  5423.371858\n",
       "321  1781.958610  5803.739634  6432.342774\n",
       "\n",
       "[322 rows x 3 columns]"
      ]
     },
     "execution_count": 30,
     "metadata": {},
     "output_type": "execute_result"
    }
   ],
   "source": [
    "#Putting the alpha, train and test mse value in a dataset\n",
    "final_alpha = clfs\n",
    "final_mse_train = mse_train\n",
    "final_mse_test = mse_test\n",
    "dataset = pd.DataFrame({'Alpha': final_alpha, 'Train_mse': final_mse_train,'Test_mse': final_mse_test}, columns=['Alpha', 'Train_mse','Test_mse'])\n",
    "dataset"
   ]
  },
  {
   "cell_type": "markdown",
   "id": "d8aeb2c1-99db-4de6-9fcd-94b39951516c",
   "metadata": {},
   "source": [
    "## Plot train ans test mse's against alphas (y-axis: mse, x-axis: alpha)"
   ]
  },
  {
   "cell_type": "code",
   "execution_count": 31,
   "id": "576b6801",
   "metadata": {},
   "outputs": [
    {
     "data": {
      "image/png": "[encoded data removed]",
      "text/plain": [
       "<Figure size 432x288 with 1 Axes>"
      ]
     },
     "metadata": {
      "needs_background": "light"
     },
     "output_type": "display_data"
    }
   ],
   "source": [
    "fig, ax = plt.subplots()\n",
    "ax.set_xlabel(\"Alpha\")\n",
    "ax.set_ylabel(\"MSE\")\n",
    "ax.set_title(\"MSE vs Alpha for training and testing sets\")\n",
    "ax.plot(clfs, mse_train, marker='o', label=\"train\", drawstyle=\"steps-post\")\n",
    "ax.plot(clfs, mse_test, marker='o', label=\"test\", drawstyle=\"steps-post\")\n",
    "ax.legend()\n",
    "plt.show()"
   ]
  },
  {
   "cell_type": "markdown",
   "id": "c36989a8-c8ce-434e-a6de-90d6510c1df1",
   "metadata": {},
   "source": [
    "## Grab and print the alpha that gives the smallest mse in testing set"
   ]
  },
  {
   "cell_type": "code",
   "execution_count": 32,
   "id": "d6da71e8",
   "metadata": {
    "scrolled": false
   },
   "outputs": [
    {
     "data": {
      "text/html": [
       "<div>\n",
       "<style scoped>\n",
       "    .dataframe tbody tr th:only-of-type {\n",
       "        vertical-align: middle;\n",
       "    }\n",
       "\n",
       "    .dataframe tbody tr th {\n",
       "        vertical-align: top;\n",
       "    }\n",
       "\n",
       "    .dataframe thead th {\n",
       "        text-align: right;\n",
       "    }\n",
       "</style>\n",
       "<table border=\"1\" class=\"dataframe\">\n",
       "  <thead>\n",
       "    <tr style=\"text-align: right;\">\n",
       "      <th></th>\n",
       "      <th>Best_alpha</th>\n",
       "      <th>lowest_mse_test</th>\n",
       "    </tr>\n",
       "  </thead>\n",
       "  <tbody>\n",
       "    <tr>\n",
       "      <th>315</th>\n",
       "      <td>101.410740</td>\n",
       "      <td>4063.275045</td>\n",
       "    </tr>\n",
       "    <tr>\n",
       "      <th>316</th>\n",
       "      <td>101.410740</td>\n",
       "      <td>4238.611065</td>\n",
       "    </tr>\n",
       "    <tr>\n",
       "      <th>318</th>\n",
       "      <td>101.410740</td>\n",
       "      <td>4319.762613</td>\n",
       "    </tr>\n",
       "    <tr>\n",
       "      <th>317</th>\n",
       "      <td>101.410740</td>\n",
       "      <td>4351.797970</td>\n",
       "    </tr>\n",
       "    <tr>\n",
       "      <th>314</th>\n",
       "      <td>88.905114</td>\n",
       "      <td>4442.204837</td>\n",
       "    </tr>\n",
       "    <tr>\n",
       "      <th>...</th>\n",
       "      <td>...</td>\n",
       "      <td>...</td>\n",
       "    </tr>\n",
       "    <tr>\n",
       "      <th>131</th>\n",
       "      <td>0.092540</td>\n",
       "      <td>7694.904963</td>\n",
       "    </tr>\n",
       "    <tr>\n",
       "      <th>132</th>\n",
       "      <td>0.092540</td>\n",
       "      <td>7694.904963</td>\n",
       "    </tr>\n",
       "    <tr>\n",
       "      <th>133</th>\n",
       "      <td>0.092540</td>\n",
       "      <td>7694.904963</td>\n",
       "    </tr>\n",
       "    <tr>\n",
       "      <th>134</th>\n",
       "      <td>0.092540</td>\n",
       "      <td>7694.904963</td>\n",
       "    </tr>\n",
       "    <tr>\n",
       "      <th>128</th>\n",
       "      <td>0.092540</td>\n",
       "      <td>7712.595272</td>\n",
       "    </tr>\n",
       "  </tbody>\n",
       "</table>\n",
       "<p>322 rows × 2 columns</p>\n",
       "</div>"
      ],
      "text/plain": [
       "     Best_alpha  lowest_mse_test\n",
       "315  101.410740      4063.275045\n",
       "316  101.410740      4238.611065\n",
       "318  101.410740      4319.762613\n",
       "317  101.410740      4351.797970\n",
       "314   88.905114      4442.204837\n",
       "..          ...              ...\n",
       "131    0.092540      7694.904963\n",
       "132    0.092540      7694.904963\n",
       "133    0.092540      7694.904963\n",
       "134    0.092540      7694.904963\n",
       "128    0.092540      7712.595272\n",
       "\n",
       "[322 rows x 2 columns]"
      ]
     },
     "execution_count": 32,
     "metadata": {},
     "output_type": "execute_result"
    }
   ],
   "source": [
    "clfs_best_alpha = []\n",
    "lowest_mse_test=[]\n",
    "\n",
    "for ccpalpha in ccp_alphas:\n",
    "    regressor = DecisionTreeRegressor(random_state=0, ccp_alpha=ccpalpha)\n",
    "    reg = regressor.fit(x_train, y_train)\n",
    "    y_pred2 = reg.predict(x_test)\n",
    "    test_mse = mean_squared_error(y_test, y_pred2)\n",
    "    lowest_mse_test.append(test_mse)\n",
    "    best_alpha_index_mse=np.argmin(lowest_mse_test)\n",
    "    best_alpha = ccp_alphas[best_alpha_index_mse]\n",
    "    clfs_best_alpha.append(best_alpha)\n",
    "    #print(f'Best Alpha: {best_alpha},test_mse: {test_mse}')\n",
    "\n",
    "Best_alpha = clfs_best_alpha\n",
    "lowest_mse_test = lowest_mse_test\n",
    "dataset1 = pd.DataFrame({'Best_alpha': Best_alpha, 'lowest_mse_test': lowest_mse_test}, columns=['Best_alpha', 'lowest_mse_test'])\n",
    "dataset1.sort_values(ascending=True,by='lowest_mse_test')"
   ]
  },
  {
   "cell_type": "markdown",
   "id": "f3a63dab-3c97-491a-8f99-3d3c61a142c0",
   "metadata": {},
   "source": [
    "## Use the best alpha and fit a decsion tree"
   ]
  },
  {
   "cell_type": "code",
   "execution_count": 33,
   "id": "3dd608cb",
   "metadata": {},
   "outputs": [
    {
     "data": {
      "text/html": [
       "<style>#sk-container-id-4 {color: black;background-color: white;}#sk-container-id-4 pre{padding: 0;}#sk-container-id-4 div.sk-toggleable {background-color: white;}#sk-container-id-4 label.sk-toggleable__label {cursor: pointer;display: block;width: 100%;margin-bottom: 0;padding: 0.3em;box-sizing: border-box;text-align: center;}#sk-container-id-4 label.sk-toggleable__label-arrow:before {content: \"▸\";float: left;margin-right: 0.25em;color: #696969;}#sk-container-id-4 label.sk-toggleable__label-arrow:hover:before {color: black;}#sk-container-id-4 div.sk-estimator:hover label.sk-toggleable__label-arrow:before {color: black;}#sk-container-id-4 div.sk-toggleable__content {max-height: 0;max-width: 0;overflow: hidden;text-align: left;background-color: #f0f8ff;}#sk-container-id-4 div.sk-toggleable__content pre {margin: 0.2em;color: black;border-radius: 0.25em;background-color: #f0f8ff;}#sk-container-id-4 input.sk-toggleable__control:checked~div.sk-toggleable__content {max-height: 200px;max-width: 100%;overflow: auto;}#sk-container-id-4 input.sk-toggleable__control:checked~label.sk-toggleable__label-arrow:before {content: \"▾\";}#sk-container-id-4 div.sk-estimator input.sk-toggleable__control:checked~label.sk-toggleable__label {background-color: #d4ebff;}#sk-container-id-4 div.sk-label input.sk-toggleable__control:checked~label.sk-toggleable__label {background-color: #d4ebff;}#sk-container-id-4 input.sk-hidden--visually {border: 0;clip: rect(1px 1px 1px 1px);clip: rect(1px, 1px, 1px, 1px);height: 1px;margin: -1px;overflow: hidden;padding: 0;position: absolute;width: 1px;}#sk-container-id-4 div.sk-estimator {font-family: monospace;background-color: #f0f8ff;border: 1px dotted black;border-radius: 0.25em;box-sizing: border-box;margin-bottom: 0.5em;}#sk-container-id-4 div.sk-estimator:hover {background-color: #d4ebff;}#sk-container-id-4 div.sk-parallel-item::after {content: \"\";width: 100%;border-bottom: 1px solid gray;flex-grow: 1;}#sk-container-id-4 div.sk-label:hover label.sk-toggleable__label {background-color: #d4ebff;}#sk-container-id-4 div.sk-serial::before {content: \"\";position: absolute;border-left: 1px solid gray;box-sizing: border-box;top: 0;bottom: 0;left: 50%;z-index: 0;}#sk-container-id-4 div.sk-serial {display: flex;flex-direction: column;align-items: center;background-color: white;padding-right: 0.2em;padding-left: 0.2em;position: relative;}#sk-container-id-4 div.sk-item {position: relative;z-index: 1;}#sk-container-id-4 div.sk-parallel {display: flex;align-items: stretch;justify-content: center;background-color: white;position: relative;}#sk-container-id-4 div.sk-item::before, #sk-container-id-4 div.sk-parallel-item::before {content: \"\";position: absolute;border-left: 1px solid gray;box-sizing: border-box;top: 0;bottom: 0;left: 50%;z-index: -1;}#sk-container-id-4 div.sk-parallel-item {display: flex;flex-direction: column;z-index: 1;position: relative;background-color: white;}#sk-container-id-4 div.sk-parallel-item:first-child::after {align-self: flex-end;width: 50%;}#sk-container-id-4 div.sk-parallel-item:last-child::after {align-self: flex-start;width: 50%;}#sk-container-id-4 div.sk-parallel-item:only-child::after {width: 0;}#sk-container-id-4 div.sk-dashed-wrapped {border: 1px dashed gray;margin: 0 0.4em 0.5em 0.4em;box-sizing: border-box;padding-bottom: 0.4em;background-color: white;}#sk-container-id-4 div.sk-label label {font-family: monospace;font-weight: bold;display: inline-block;line-height: 1.2em;}#sk-container-id-4 div.sk-label-container {text-align: center;}#sk-container-id-4 div.sk-container {/* jupyter's `normalize.less` sets `[hidden] { display: none; }` but bootstrap.min.css set `[hidden] { display: none !important; }` so we also need the `!important` here to be able to override the default hidden behavior on the sphinx rendered scikit-learn.org. See: https://github.com/scikit-learn/scikit-learn/issues/21755 */display: inline-block !important;position: relative;}#sk-container-id-4 div.sk-text-repr-fallback {display: none;}</style><div id=\"sk-container-id-4\" class=\"sk-top-container\"><div class=\"sk-text-repr-fallback\"><pre>DecisionTreeRegressor(ccp_alpha=101.41074, random_state=0)</pre><b>In a Jupyter environment, please rerun this cell to show the HTML representation or trust the notebook. <br />On GitHub, the HTML representation is unable to render, please try loading this page with nbviewer.org.</b></div><div class=\"sk-container\" hidden><div class=\"sk-item\"><div class=\"sk-estimator sk-toggleable\"><input class=\"sk-toggleable__control sk-hidden--visually\" id=\"sk-estimator-id-4\" type=\"checkbox\" checked><label for=\"sk-estimator-id-4\" class=\"sk-toggleable__label sk-toggleable__label-arrow\">DecisionTreeRegressor</label><div class=\"sk-toggleable__content\"><pre>DecisionTreeRegressor(ccp_alpha=101.41074, random_state=0)</pre></div></div></div></div></div>"
      ],
      "text/plain": [
       "DecisionTreeRegressor(ccp_alpha=101.41074, random_state=0)"
      ]
     },
     "execution_count": 33,
     "metadata": {},
     "output_type": "execute_result"
    }
   ],
   "source": [
    "reg_best_alpha = DecisionTreeRegressor(random_state=0, ccp_alpha=101.410740)\n",
    "reg_best_alpha.fit(x_train, y_train)"
   ]
  },
  {
   "cell_type": "markdown",
   "id": "f5b17e40-dede-4d6e-8556-7573c19080de",
   "metadata": {},
   "source": [
    "### Get training mse and rsquared "
   ]
  },
  {
   "cell_type": "code",
   "execution_count": 34,
   "id": "0ce3b1f6",
   "metadata": {},
   "outputs": [
    {
     "name": "stdout",
     "output_type": "stream",
     "text": [
      "mse: 2621, r2: 0.5482755312659537\n"
     ]
    }
   ],
   "source": [
    "y_train_best_alpha = reg_best_alpha.predict(x_train)\n",
    "mse = mean_squared_error(y_train, y_train_best_alpha)\n",
    "r2 = r2_score(y_train, y_train_best_alpha)\n",
    "print(f\"mse: {math.floor(mse)}, r2: {r2}\")"
   ]
  },
  {
   "cell_type": "markdown",
   "id": "e83755ef-68a8-4734-a749-8d4d1dc431ac",
   "metadata": {},
   "source": [
    "### Get testing mse and rsquared"
   ]
  },
  {
   "cell_type": "code",
   "execution_count": 35,
   "id": "554370ac",
   "metadata": {},
   "outputs": [
    {
     "name": "stdout",
     "output_type": "stream",
     "text": [
      "mse: 4442, r2: 0.30825849389269466\n"
     ]
    }
   ],
   "source": [
    "y_test_best_alpha = reg_best_alpha.predict(x_test)\n",
    "mse = mean_squared_error(y_test, y_test_best_alpha)\n",
    "r2 = r2_score(y_test, y_test_best_alpha)\n",
    "print(f\"mse: {math.floor(mse)}, r2: {r2}\")"
   ]
  },
  {
   "cell_type": "markdown",
   "id": "90e6c42d-77c0-46ac-9fd1-3a8e86daae33",
   "metadata": {},
   "source": [
    "### Plot decision tree using alpha that gives the smallest mse"
   ]
  },
  {
   "cell_type": "code",
   "execution_count": 36,
   "id": "0b7baf3a",
   "metadata": {},
   "outputs": [
    {
     "data": {
      "text/plain": [
       "[Text(0.5769230769230769, 0.9, 's5 <= 0.017\\nsquared_error = 5803.74\\nsamples = 353\\nvalue = 151.479'),\n",
       " Text(0.3076923076923077, 0.7, 'bmi <= 0.006\\nsquared_error = 3710.377\\nsamples = 230\\nvalue = 120.609'),\n",
       " Text(0.15384615384615385, 0.5, 's3 <= 0.021\\nsquared_error = 2458.828\\nsamples = 172\\nvalue = 104.337'),\n",
       " Text(0.07692307692307693, 0.3, 'squared_error = 3009.523\\nsamples = 99\\nvalue = 117.505'),\n",
       " Text(0.23076923076923078, 0.3, 'squared_error = 1157.948\\nsamples = 73\\nvalue = 86.479'),\n",
       " Text(0.46153846153846156, 0.5, 'bmi <= 0.081\\nsquared_error = 4308.326\\nsamples = 58\\nvalue = 168.862'),\n",
       " Text(0.38461538461538464, 0.3, 'squared_error = 3588.414\\nsamples = 53\\nvalue = 159.962'),\n",
       " Text(0.5384615384615384, 0.3, 'squared_error = 2200.16\\nsamples = 5\\nvalue = 263.2'),\n",
       " Text(0.8461538461538461, 0.7, 'bp <= 0.061\\nsquared_error = 4604.081\\nsamples = 123\\nvalue = 209.203'),\n",
       " Text(0.7692307692307693, 0.5, 's6 <= 0.03\\nsquared_error = 4383.55\\nsamples = 94\\nvalue = 191.883'),\n",
       " Text(0.6923076923076923, 0.3, 'bmi <= 0.065\\nsquared_error = 4272.712\\nsamples = 59\\nvalue = 171.0'),\n",
       " Text(0.6153846153846154, 0.1, 'squared_error = 3728.202\\nsamples = 57\\nvalue = 166.386'),\n",
       " Text(0.7692307692307693, 0.1, 'squared_error = 1892.25\\nsamples = 2\\nvalue = 302.5'),\n",
       " Text(0.8461538461538461, 0.3, 'squared_error = 2596.021\\nsamples = 35\\nvalue = 227.086'),\n",
       " Text(0.9230769230769231, 0.5, 'squared_error = 1194.64\\nsamples = 29\\nvalue = 265.345')]"
      ]
     },
     "execution_count": 36,
     "metadata": {},
     "output_type": "execute_result"
    },
    {
     "data": {
      "image/png": "[encoded data removed]",
      "text/plain": [
       "<Figure size 1152x1152 with 1 Axes>"
      ]
     },
     "metadata": {
      "needs_background": "light"
     },
     "output_type": "display_data"
    }
   ],
   "source": [
    "from sklearn.tree import plot_tree\n",
    "fig = plt.figure(figsize=(16,16))\n",
    "plot_tree(reg_best_alpha, filled=True,feature_names=load_diabetes().feature_names)"
   ]
  },
  {
   "cell_type": "markdown",
   "id": "4db7c69d-dca0-437f-b593-612fca33c851",
   "metadata": {},
   "source": [
    "# Loading Classification Data"
   ]
  },
  {
   "cell_type": "code",
   "execution_count": 37,
   "id": "df40f8e3",
   "metadata": {
    "scrolled": true
   },
   "outputs": [],
   "source": [
    "from sklearn.datasets import load_wine\n",
    "wine_df =  load_wine(as_frame=True).frame\n",
    "#Copy the dataset\n",
    "wine_df_copy = copy.deepcopy(wine_df)"
   ]
  },
  {
   "cell_type": "code",
   "execution_count": 38,
   "id": "f706414a",
   "metadata": {},
   "outputs": [],
   "source": [
    "# Shuffle data\n",
    "wine_df_copy = wine_df.sample(frac=1, random_state=0).reset_index(drop=True)"
   ]
  },
  {
   "cell_type": "code",
   "execution_count": 39,
   "id": "6f77cfb6",
   "metadata": {},
   "outputs": [],
   "source": [
    "feature1 = np.array(wine_df_copy[[\"alcohol\", \"malic_acid\", \"ash\", \"alcalinity_of_ash\", \"magnesium\", \"total_phenols\", \"flavanoids\", \"nonflavanoid_phenols\",\n",
    "                            \"proanthocyanins\", \"color_intensity\",\"hue\",\"od280/od315_of_diluted_wines\",\"proline\"]])\n",
    "X1 = feature1\n",
    "Y1 = wine_df_copy[\"target\"]"
   ]
  },
  {
   "cell_type": "markdown",
   "id": "53ec6ef8-8e19-42e8-a430-b45cc716cb6c",
   "metadata": {},
   "source": [
    "# Split training and testing data here"
   ]
  },
  {
   "cell_type": "code",
   "execution_count": 40,
   "id": "0eaf392d",
   "metadata": {},
   "outputs": [],
   "source": [
    "#Spliting the dataset\n",
    "x_train1, x_test1, y_train1, y_test1 = train_test_split(X1,Y1, test_size=.2)"
   ]
  },
  {
   "cell_type": "markdown",
   "id": "4baa0171-60f3-4a2f-96a2-79066580d83e",
   "metadata": {},
   "source": [
    "# KNeighborsClassifier\n",
    "\n",
    "## No feature scaling\n",
    "fit Knn Classifier with k=5 Split training and testing data here"
   ]
  },
  {
   "cell_type": "code",
   "execution_count": 41,
   "id": "37540f9c",
   "metadata": {},
   "outputs": [],
   "source": [
    "from sklearn.neighbors import KNeighborsClassifier\n",
    "classifier = KNeighborsClassifier(n_neighbors=5)\n",
    "clf=classifier.fit(x_train1, y_train1)"
   ]
  },
  {
   "cell_type": "markdown",
   "id": "eb52f07a-fe1b-40c8-8cc7-ba0c7d1d658c",
   "metadata": {},
   "source": [
    "### Get the accuracy and log_loss on the testing set with k=5"
   ]
  },
  {
   "cell_type": "code",
   "execution_count": 42,
   "id": "4f679460",
   "metadata": {},
   "outputs": [
    {
     "name": "stdout",
     "output_type": "stream",
     "text": [
      "log_loss: 2.3995908503971415, accuracy: 0.6944444444444444\n"
     ]
    }
   ],
   "source": [
    "h_w_x = clf.predict(x_test1)\n",
    "log_loss_g = log_loss(y_test1, clf.predict_proba(x_test1))\n",
    "accuracy = accuracy_score(y_test1, h_w_x, normalize=True)\n",
    "print(f\"log_loss: {log_loss_g}, accuracy: {accuracy}\")"
   ]
  },
  {
   "cell_type": "markdown",
   "id": "c4e004f2-83f1-4b61-bb1c-6acc9a7b919f",
   "metadata": {},
   "source": [
    "### Find the k that gives the lowest log_loss for the problem. (Try k's from 1-40). Print best k found"
   ]
  },
  {
   "cell_type": "code",
   "execution_count": 43,
   "id": "55dc864b",
   "metadata": {},
   "outputs": [
    {
     "data": {
      "text/html": [
       "<div>\n",
       "<style scoped>\n",
       "    .dataframe tbody tr th:only-of-type {\n",
       "        vertical-align: middle;\n",
       "    }\n",
       "\n",
       "    .dataframe tbody tr th {\n",
       "        vertical-align: top;\n",
       "    }\n",
       "\n",
       "    .dataframe thead th {\n",
       "        text-align: right;\n",
       "    }\n",
       "</style>\n",
       "<table border=\"1\" class=\"dataframe\">\n",
       "  <thead>\n",
       "    <tr style=\"text-align: right;\">\n",
       "      <th></th>\n",
       "      <th>Best_K</th>\n",
       "      <th>Lowest_log_loss</th>\n",
       "    </tr>\n",
       "  </thead>\n",
       "  <tbody>\n",
       "    <tr>\n",
       "      <th>20</th>\n",
       "      <td>21</td>\n",
       "      <td>0.658588</td>\n",
       "    </tr>\n",
       "    <tr>\n",
       "      <th>19</th>\n",
       "      <td>20</td>\n",
       "      <td>0.658756</td>\n",
       "    </tr>\n",
       "    <tr>\n",
       "      <th>17</th>\n",
       "      <td>18</td>\n",
       "      <td>0.660337</td>\n",
       "    </tr>\n",
       "    <tr>\n",
       "      <th>15</th>\n",
       "      <td>16</td>\n",
       "      <td>0.662211</td>\n",
       "    </tr>\n",
       "    <tr>\n",
       "      <th>25</th>\n",
       "      <td>26</td>\n",
       "      <td>0.663914</td>\n",
       "    </tr>\n",
       "    <tr>\n",
       "      <th>21</th>\n",
       "      <td>22</td>\n",
       "      <td>0.665114</td>\n",
       "    </tr>\n",
       "    <tr>\n",
       "      <th>22</th>\n",
       "      <td>23</td>\n",
       "      <td>0.665183</td>\n",
       "    </tr>\n",
       "    <tr>\n",
       "      <th>26</th>\n",
       "      <td>27</td>\n",
       "      <td>0.666707</td>\n",
       "    </tr>\n",
       "    <tr>\n",
       "      <th>16</th>\n",
       "      <td>17</td>\n",
       "      <td>0.667057</td>\n",
       "    </tr>\n",
       "    <tr>\n",
       "      <th>18</th>\n",
       "      <td>19</td>\n",
       "      <td>0.670782</td>\n",
       "    </tr>\n",
       "    <tr>\n",
       "      <th>23</th>\n",
       "      <td>24</td>\n",
       "      <td>0.673890</td>\n",
       "    </tr>\n",
       "    <tr>\n",
       "      <th>24</th>\n",
       "      <td>25</td>\n",
       "      <td>0.675120</td>\n",
       "    </tr>\n",
       "    <tr>\n",
       "      <th>27</th>\n",
       "      <td>28</td>\n",
       "      <td>0.685259</td>\n",
       "    </tr>\n",
       "    <tr>\n",
       "      <th>28</th>\n",
       "      <td>29</td>\n",
       "      <td>0.689675</td>\n",
       "    </tr>\n",
       "    <tr>\n",
       "      <th>29</th>\n",
       "      <td>30</td>\n",
       "      <td>0.692459</td>\n",
       "    </tr>\n",
       "    <tr>\n",
       "      <th>37</th>\n",
       "      <td>38</td>\n",
       "      <td>0.697473</td>\n",
       "    </tr>\n",
       "    <tr>\n",
       "      <th>38</th>\n",
       "      <td>39</td>\n",
       "      <td>0.699924</td>\n",
       "    </tr>\n",
       "    <tr>\n",
       "      <th>30</th>\n",
       "      <td>31</td>\n",
       "      <td>0.700951</td>\n",
       "    </tr>\n",
       "    <tr>\n",
       "      <th>36</th>\n",
       "      <td>37</td>\n",
       "      <td>0.705564</td>\n",
       "    </tr>\n",
       "    <tr>\n",
       "      <th>35</th>\n",
       "      <td>36</td>\n",
       "      <td>0.710705</td>\n",
       "    </tr>\n",
       "    <tr>\n",
       "      <th>31</th>\n",
       "      <td>32</td>\n",
       "      <td>0.710804</td>\n",
       "    </tr>\n",
       "    <tr>\n",
       "      <th>34</th>\n",
       "      <td>35</td>\n",
       "      <td>0.717152</td>\n",
       "    </tr>\n",
       "    <tr>\n",
       "      <th>32</th>\n",
       "      <td>33</td>\n",
       "      <td>0.722192</td>\n",
       "    </tr>\n",
       "    <tr>\n",
       "      <th>33</th>\n",
       "      <td>34</td>\n",
       "      <td>0.722977</td>\n",
       "    </tr>\n",
       "    <tr>\n",
       "      <th>5</th>\n",
       "      <td>6</td>\n",
       "      <td>1.516708</td>\n",
       "    </tr>\n",
       "    <tr>\n",
       "      <th>12</th>\n",
       "      <td>13</td>\n",
       "      <td>1.527379</td>\n",
       "    </tr>\n",
       "    <tr>\n",
       "      <th>11</th>\n",
       "      <td>12</td>\n",
       "      <td>1.528235</td>\n",
       "    </tr>\n",
       "    <tr>\n",
       "      <th>13</th>\n",
       "      <td>14</td>\n",
       "      <td>1.529509</td>\n",
       "    </tr>\n",
       "    <tr>\n",
       "      <th>9</th>\n",
       "      <td>10</td>\n",
       "      <td>1.538232</td>\n",
       "    </tr>\n",
       "    <tr>\n",
       "      <th>14</th>\n",
       "      <td>15</td>\n",
       "      <td>1.541567</td>\n",
       "    </tr>\n",
       "    <tr>\n",
       "      <th>10</th>\n",
       "      <td>11</td>\n",
       "      <td>1.549109</td>\n",
       "    </tr>\n",
       "    <tr>\n",
       "      <th>7</th>\n",
       "      <td>8</td>\n",
       "      <td>1.552946</td>\n",
       "    </tr>\n",
       "    <tr>\n",
       "      <th>6</th>\n",
       "      <td>7</td>\n",
       "      <td>1.553123</td>\n",
       "    </tr>\n",
       "    <tr>\n",
       "      <th>8</th>\n",
       "      <td>9</td>\n",
       "      <td>1.556720</td>\n",
       "    </tr>\n",
       "    <tr>\n",
       "      <th>4</th>\n",
       "      <td>5</td>\n",
       "      <td>2.399591</td>\n",
       "    </tr>\n",
       "    <tr>\n",
       "      <th>3</th>\n",
       "      <td>4</td>\n",
       "      <td>2.428866</td>\n",
       "    </tr>\n",
       "    <tr>\n",
       "      <th>2</th>\n",
       "      <td>3</td>\n",
       "      <td>5.123301</td>\n",
       "    </tr>\n",
       "    <tr>\n",
       "      <th>1</th>\n",
       "      <td>2</td>\n",
       "      <td>6.869906</td>\n",
       "    </tr>\n",
       "    <tr>\n",
       "      <th>0</th>\n",
       "      <td>1</td>\n",
       "      <td>9.594105</td>\n",
       "    </tr>\n",
       "  </tbody>\n",
       "</table>\n",
       "</div>"
      ],
      "text/plain": [
       "    Best_K  Lowest_log_loss\n",
       "20      21         0.658588\n",
       "19      20         0.658756\n",
       "17      18         0.660337\n",
       "15      16         0.662211\n",
       "25      26         0.663914\n",
       "21      22         0.665114\n",
       "22      23         0.665183\n",
       "26      27         0.666707\n",
       "16      17         0.667057\n",
       "18      19         0.670782\n",
       "23      24         0.673890\n",
       "24      25         0.675120\n",
       "27      28         0.685259\n",
       "28      29         0.689675\n",
       "29      30         0.692459\n",
       "37      38         0.697473\n",
       "38      39         0.699924\n",
       "30      31         0.700951\n",
       "36      37         0.705564\n",
       "35      36         0.710705\n",
       "31      32         0.710804\n",
       "34      35         0.717152\n",
       "32      33         0.722192\n",
       "33      34         0.722977\n",
       "5        6         1.516708\n",
       "12      13         1.527379\n",
       "11      12         1.528235\n",
       "13      14         1.529509\n",
       "9       10         1.538232\n",
       "14      15         1.541567\n",
       "10      11         1.549109\n",
       "7        8         1.552946\n",
       "6        7         1.553123\n",
       "8        9         1.556720\n",
       "4        5         2.399591\n",
       "3        4         2.428866\n",
       "2        3         5.123301\n",
       "1        2         6.869906\n",
       "0        1         9.594105"
      ]
     },
     "execution_count": 43,
     "metadata": {},
     "output_type": "execute_result"
    }
   ],
   "source": [
    "log_loss_store = []\n",
    "best_k =[]\n",
    "# Calculating MSE error for K values between 1 and 39\n",
    "for i in range(1, 40):\n",
    "    knn = KNeighborsClassifier(n_neighbors=i)\n",
    "    knn.fit(x_train1, y_train1)\n",
    "    y_pred = knn.predict(x_test1)\n",
    "    log_loss_g = log_loss(y_test1, knn.predict_proba(x_test1))\n",
    "    best_k.append(i)\n",
    "    log_loss_store.append(log_loss_g)\n",
    "Best_K = best_k\n",
    "log_loss_store = log_loss_store\n",
    "dataset_knn = pd.DataFrame({'Best_K': Best_K, 'Lowest_log_loss': log_loss_store}, columns=['Best_K', 'Lowest_log_loss'])\n",
    "dataset_knn.sort_values(ascending=True,by='Lowest_log_loss')"
   ]
  },
  {
   "cell_type": "markdown",
   "id": "d9bee62a",
   "metadata": {},
   "source": [
    "# Plot testing set log loss as k increases. Plot from k=1 to k=40 (y-axis: testing set log loss, x-axis: k)"
   ]
  },
  {
   "cell_type": "code",
   "execution_count": 44,
   "id": "6f36a803",
   "metadata": {},
   "outputs": [
    {
     "data": {
      "text/plain": [
       "Text(0, 0.5, 'Log-Loss')"
      ]
     },
     "execution_count": 44,
     "metadata": {},
     "output_type": "execute_result"
    },
    {
     "data": {
      "image/png": "[encoded data removed]",
      "text/plain": [
       "<Figure size 864x432 with 1 Axes>"
      ]
     },
     "metadata": {
      "needs_background": "light"
     },
     "output_type": "display_data"
    }
   ],
   "source": [
    "import matplotlib.pyplot as plt \n",
    "\n",
    "plt.figure(figsize=(12, 6))\n",
    "plt.plot(range(1, 40), log_loss_store, color='red', \n",
    "         linestyle='dashed', marker='o',\n",
    "         markerfacecolor='blue', markersize=10)\n",
    "         \n",
    "plt.title('K Value Log-Loss')\n",
    "plt.xlabel('K Value')\n",
    "plt.ylabel('Log-Loss')"
   ]
  },
  {
   "cell_type": "markdown",
   "id": "64a0b60e-d07b-4be2-abea-d6a34f96c53a",
   "metadata": {},
   "source": [
    "### Fit KnnClassifier with best k and get the accuracy and log loss on testing set"
   ]
  },
  {
   "cell_type": "code",
   "execution_count": 45,
   "id": "9164ac12",
   "metadata": {},
   "outputs": [
    {
     "name": "stdout",
     "output_type": "stream",
     "text": [
      "log_loss: 0.6585880169316333, accuracy: 0.5833333333333334\n"
     ]
    }
   ],
   "source": [
    "classifier = KNeighborsClassifier(n_neighbors=21)\n",
    "clf=classifier.fit(x_train1, y_train1)\n",
    "h_w_x = clf.predict(x_test1)\n",
    "log_loss_g = log_loss(y_test1, clf.predict_proba(x_test1))\n",
    "accuracy = accuracy_score(y_test1, h_w_x, normalize=True)\n",
    "print(f\"log_loss: {log_loss_g}, accuracy: {accuracy}\")"
   ]
  },
  {
   "cell_type": "markdown",
   "id": "3ea1e485-010a-43b6-a286-89e807b8d62d",
   "metadata": {},
   "source": [
    "## Feature scaling\n",
    "\n",
    "Fit knnClassifier here with k=5"
   ]
  },
  {
   "cell_type": "code",
   "execution_count": 46,
   "id": "8a7de56f",
   "metadata": {},
   "outputs": [],
   "source": [
    "#Feature Scaling\n",
    "from sklearn.preprocessing import StandardScaler\n",
    "scaler = StandardScaler()\n",
    "scaler.fit(x_train1, y_train1)\n",
    "training_set_x_new1 = scaler.transform(x_train1)\n",
    "testing_set_x_new1 = scaler.transform(x_test1)"
   ]
  },
  {
   "cell_type": "code",
   "execution_count": 47,
   "id": "315352be",
   "metadata": {},
   "outputs": [],
   "source": [
    "from sklearn.neighbors import KNeighborsClassifier\n",
    "classifier = KNeighborsClassifier(n_neighbors=5)\n",
    "clf=classifier.fit(training_set_x_new1, y_train1)"
   ]
  },
  {
   "cell_type": "markdown",
   "id": "8f0441fb-28dd-41ad-a139-9bb1b4b6f724",
   "metadata": {},
   "source": [
    "### Get the accuracy and log_loss on the testing set with k=5"
   ]
  },
  {
   "cell_type": "code",
   "execution_count": 48,
   "id": "ccc6768d",
   "metadata": {},
   "outputs": [
    {
     "name": "stdout",
     "output_type": "stream",
     "text": [
      "log_loss: 0.05710347264062759, accuracy: 0.9722222222222222\n"
     ]
    }
   ],
   "source": [
    "h_w_x = clf.predict(testing_set_x_new1)\n",
    "log_loss_g = log_loss(y_test1, clf.predict_proba(testing_set_x_new1))\n",
    "accuracy = accuracy_score(y_test1, h_w_x, normalize=True)\n",
    "print(f\"log_loss: {log_loss_g}, accuracy: {accuracy}\")"
   ]
  },
  {
   "cell_type": "markdown",
   "id": "3877c8fe-1e5d-4a01-afec-0cedd6caa528",
   "metadata": {},
   "source": [
    "### Find the k that gives the lowest log_loss for the problem. (Try k's from 1-40). Print best k found"
   ]
  },
  {
   "cell_type": "code",
   "execution_count": 49,
   "id": "c7e73282",
   "metadata": {},
   "outputs": [
    {
     "data": {
      "text/html": [
       "<div>\n",
       "<style scoped>\n",
       "    .dataframe tbody tr th:only-of-type {\n",
       "        vertical-align: middle;\n",
       "    }\n",
       "\n",
       "    .dataframe tbody tr th {\n",
       "        vertical-align: top;\n",
       "    }\n",
       "\n",
       "    .dataframe thead th {\n",
       "        text-align: right;\n",
       "    }\n",
       "</style>\n",
       "<table border=\"1\" class=\"dataframe\">\n",
       "  <thead>\n",
       "    <tr style=\"text-align: right;\">\n",
       "      <th></th>\n",
       "      <th>Best_K</th>\n",
       "      <th>Lowest_log_loss</th>\n",
       "    </tr>\n",
       "  </thead>\n",
       "  <tbody>\n",
       "    <tr>\n",
       "      <th>4</th>\n",
       "      <td>5</td>\n",
       "      <td>0.057103</td>\n",
       "    </tr>\n",
       "    <tr>\n",
       "      <th>5</th>\n",
       "      <td>6</td>\n",
       "      <td>0.064965</td>\n",
       "    </tr>\n",
       "    <tr>\n",
       "      <th>8</th>\n",
       "      <td>9</td>\n",
       "      <td>0.067954</td>\n",
       "    </tr>\n",
       "    <tr>\n",
       "      <th>7</th>\n",
       "      <td>8</td>\n",
       "      <td>0.072464</td>\n",
       "    </tr>\n",
       "    <tr>\n",
       "      <th>9</th>\n",
       "      <td>10</td>\n",
       "      <td>0.081398</td>\n",
       "    </tr>\n",
       "    <tr>\n",
       "      <th>11</th>\n",
       "      <td>12</td>\n",
       "      <td>0.085747</td>\n",
       "    </tr>\n",
       "    <tr>\n",
       "      <th>10</th>\n",
       "      <td>11</td>\n",
       "      <td>0.085991</td>\n",
       "    </tr>\n",
       "    <tr>\n",
       "      <th>13</th>\n",
       "      <td>14</td>\n",
       "      <td>0.088034</td>\n",
       "    </tr>\n",
       "    <tr>\n",
       "      <th>6</th>\n",
       "      <td>7</td>\n",
       "      <td>0.088309</td>\n",
       "    </tr>\n",
       "    <tr>\n",
       "      <th>12</th>\n",
       "      <td>13</td>\n",
       "      <td>0.090421</td>\n",
       "    </tr>\n",
       "    <tr>\n",
       "      <th>14</th>\n",
       "      <td>15</td>\n",
       "      <td>0.092179</td>\n",
       "    </tr>\n",
       "    <tr>\n",
       "      <th>15</th>\n",
       "      <td>16</td>\n",
       "      <td>0.094601</td>\n",
       "    </tr>\n",
       "    <tr>\n",
       "      <th>16</th>\n",
       "      <td>17</td>\n",
       "      <td>0.097911</td>\n",
       "    </tr>\n",
       "    <tr>\n",
       "      <th>18</th>\n",
       "      <td>19</td>\n",
       "      <td>0.101853</td>\n",
       "    </tr>\n",
       "    <tr>\n",
       "      <th>17</th>\n",
       "      <td>18</td>\n",
       "      <td>0.102380</td>\n",
       "    </tr>\n",
       "    <tr>\n",
       "      <th>19</th>\n",
       "      <td>20</td>\n",
       "      <td>0.106136</td>\n",
       "    </tr>\n",
       "    <tr>\n",
       "      <th>20</th>\n",
       "      <td>21</td>\n",
       "      <td>0.114020</td>\n",
       "    </tr>\n",
       "    <tr>\n",
       "      <th>21</th>\n",
       "      <td>22</td>\n",
       "      <td>0.122055</td>\n",
       "    </tr>\n",
       "    <tr>\n",
       "      <th>22</th>\n",
       "      <td>23</td>\n",
       "      <td>0.123171</td>\n",
       "    </tr>\n",
       "    <tr>\n",
       "      <th>23</th>\n",
       "      <td>24</td>\n",
       "      <td>0.127575</td>\n",
       "    </tr>\n",
       "    <tr>\n",
       "      <th>24</th>\n",
       "      <td>25</td>\n",
       "      <td>0.135111</td>\n",
       "    </tr>\n",
       "    <tr>\n",
       "      <th>25</th>\n",
       "      <td>26</td>\n",
       "      <td>0.142966</td>\n",
       "    </tr>\n",
       "    <tr>\n",
       "      <th>26</th>\n",
       "      <td>27</td>\n",
       "      <td>0.152003</td>\n",
       "    </tr>\n",
       "    <tr>\n",
       "      <th>27</th>\n",
       "      <td>28</td>\n",
       "      <td>0.157286</td>\n",
       "    </tr>\n",
       "    <tr>\n",
       "      <th>28</th>\n",
       "      <td>29</td>\n",
       "      <td>0.164293</td>\n",
       "    </tr>\n",
       "    <tr>\n",
       "      <th>29</th>\n",
       "      <td>30</td>\n",
       "      <td>0.175207</td>\n",
       "    </tr>\n",
       "    <tr>\n",
       "      <th>30</th>\n",
       "      <td>31</td>\n",
       "      <td>0.177423</td>\n",
       "    </tr>\n",
       "    <tr>\n",
       "      <th>31</th>\n",
       "      <td>32</td>\n",
       "      <td>0.179367</td>\n",
       "    </tr>\n",
       "    <tr>\n",
       "      <th>32</th>\n",
       "      <td>33</td>\n",
       "      <td>0.190380</td>\n",
       "    </tr>\n",
       "    <tr>\n",
       "      <th>33</th>\n",
       "      <td>34</td>\n",
       "      <td>0.198272</td>\n",
       "    </tr>\n",
       "    <tr>\n",
       "      <th>34</th>\n",
       "      <td>35</td>\n",
       "      <td>0.204858</td>\n",
       "    </tr>\n",
       "    <tr>\n",
       "      <th>35</th>\n",
       "      <td>36</td>\n",
       "      <td>0.220544</td>\n",
       "    </tr>\n",
       "    <tr>\n",
       "      <th>36</th>\n",
       "      <td>37</td>\n",
       "      <td>0.230902</td>\n",
       "    </tr>\n",
       "    <tr>\n",
       "      <th>37</th>\n",
       "      <td>38</td>\n",
       "      <td>0.237931</td>\n",
       "    </tr>\n",
       "    <tr>\n",
       "      <th>38</th>\n",
       "      <td>39</td>\n",
       "      <td>0.245429</td>\n",
       "    </tr>\n",
       "    <tr>\n",
       "      <th>2</th>\n",
       "      <td>3</td>\n",
       "      <td>0.959410</td>\n",
       "    </tr>\n",
       "    <tr>\n",
       "      <th>1</th>\n",
       "      <td>2</td>\n",
       "      <td>0.959410</td>\n",
       "    </tr>\n",
       "    <tr>\n",
       "      <th>0</th>\n",
       "      <td>1</td>\n",
       "      <td>0.959410</td>\n",
       "    </tr>\n",
       "    <tr>\n",
       "      <th>3</th>\n",
       "      <td>4</td>\n",
       "      <td>0.967402</td>\n",
       "    </tr>\n",
       "  </tbody>\n",
       "</table>\n",
       "</div>"
      ],
      "text/plain": [
       "    Best_K  Lowest_log_loss\n",
       "4        5         0.057103\n",
       "5        6         0.064965\n",
       "8        9         0.067954\n",
       "7        8         0.072464\n",
       "9       10         0.081398\n",
       "11      12         0.085747\n",
       "10      11         0.085991\n",
       "13      14         0.088034\n",
       "6        7         0.088309\n",
       "12      13         0.090421\n",
       "14      15         0.092179\n",
       "15      16         0.094601\n",
       "16      17         0.097911\n",
       "18      19         0.101853\n",
       "17      18         0.102380\n",
       "19      20         0.106136\n",
       "20      21         0.114020\n",
       "21      22         0.122055\n",
       "22      23         0.123171\n",
       "23      24         0.127575\n",
       "24      25         0.135111\n",
       "25      26         0.142966\n",
       "26      27         0.152003\n",
       "27      28         0.157286\n",
       "28      29         0.164293\n",
       "29      30         0.175207\n",
       "30      31         0.177423\n",
       "31      32         0.179367\n",
       "32      33         0.190380\n",
       "33      34         0.198272\n",
       "34      35         0.204858\n",
       "35      36         0.220544\n",
       "36      37         0.230902\n",
       "37      38         0.237931\n",
       "38      39         0.245429\n",
       "2        3         0.959410\n",
       "1        2         0.959410\n",
       "0        1         0.959410\n",
       "3        4         0.967402"
      ]
     },
     "execution_count": 49,
     "metadata": {},
     "output_type": "execute_result"
    }
   ],
   "source": [
    "log_loss_store = []\n",
    "best_k =[]\n",
    "# Calculating MSE error for K values between 1 and 39\n",
    "for i in range(1, 40):\n",
    "    knn = KNeighborsClassifier(n_neighbors=i)\n",
    "    knn.fit(training_set_x_new1, y_train1)\n",
    "    y_pred = knn.predict(testing_set_x_new1)\n",
    "    log_loss_g = log_loss(y_test1, knn.predict_proba(testing_set_x_new1))\n",
    "    best_k.append(i)\n",
    "    log_loss_store.append(log_loss_g)\n",
    "Best_K = best_k\n",
    "log_loss_store = log_loss_store\n",
    "dataset_knn = pd.DataFrame({'Best_K': Best_K, 'Lowest_log_loss': log_loss_store}, columns=['Best_K', 'Lowest_log_loss'])\n",
    "dataset_knn.sort_values(ascending=True,by='Lowest_log_loss')"
   ]
  },
  {
   "cell_type": "markdown",
   "id": "3d629174-c17a-4d47-9edd-ce3c4a068ff8",
   "metadata": {},
   "source": [
    "### Plot testing set log loss as k increases. Plot from k=1 to k=40 (y-axis: testing set log loss, x-axis: k)"
   ]
  },
  {
   "cell_type": "code",
   "execution_count": 50,
   "id": "63e37a44",
   "metadata": {},
   "outputs": [
    {
     "data": {
      "text/plain": [
       "Text(0, 0.5, 'Log-Loss')"
      ]
     },
     "execution_count": 50,
     "metadata": {},
     "output_type": "execute_result"
    },
    {
     "data": {
      "image/png": "[encoded data removed]",
      "text/plain": [
       "<Figure size 864x432 with 1 Axes>"
      ]
     },
     "metadata": {
      "needs_background": "light"
     },
     "output_type": "display_data"
    }
   ],
   "source": [
    "import matplotlib.pyplot as plt \n",
    "\n",
    "plt.figure(figsize=(12, 6))\n",
    "plt.plot(range(1, 40), log_loss_store, color='red', \n",
    "         linestyle='dashed', marker='o',\n",
    "         markerfacecolor='blue', markersize=10)\n",
    "         \n",
    "plt.title('K Value Log-Loss')\n",
    "plt.xlabel('K Value')\n",
    "plt.ylabel('Log-Loss')"
   ]
  },
  {
   "cell_type": "markdown",
   "id": "2485132a-ef5e-4233-b231-69368efb35ab",
   "metadata": {},
   "source": [
    "### Fit KnnClassifier with best k and get the accuracy and log loss on testing set"
   ]
  },
  {
   "cell_type": "code",
   "execution_count": 51,
   "id": "a2b3d134",
   "metadata": {},
   "outputs": [
    {
     "name": "stdout",
     "output_type": "stream",
     "text": [
      "log_loss: 0.05710347264062759, accuracy: 0.9722222222222222\n"
     ]
    }
   ],
   "source": [
    "classifier = KNeighborsClassifier(n_neighbors=5)\n",
    "clf=classifier.fit(training_set_x_new1, y_train1)\n",
    "h_w_x = clf.predict(testing_set_x_new1)\n",
    "log_loss_g = log_loss(y_test1, clf.predict_proba(testing_set_x_new1))\n",
    "accuracy = accuracy_score(y_test1, h_w_x, normalize=True)\n",
    "print(f\"log_loss: {log_loss_g}, accuracy: {accuracy}\")"
   ]
  },
  {
   "cell_type": "markdown",
   "id": "25a022f7-8ce1-4a24-a6b5-b09d049f6f1b",
   "metadata": {},
   "source": [
    "# DecisionTreeClassifier\n",
    "\n",
    "Fit Decision tree"
   ]
  },
  {
   "cell_type": "code",
   "execution_count": 52,
   "id": "607bedc4",
   "metadata": {},
   "outputs": [],
   "source": [
    "from sklearn.tree import DecisionTreeClassifier\n",
    "classifier = DecisionTreeClassifier(random_state=0)\n",
    "clf = classifier.fit(x_train1, y_train1)"
   ]
  },
  {
   "cell_type": "markdown",
   "id": "ea30ad39-340c-42c6-b051-9fe5d01045cf",
   "metadata": {},
   "source": [
    "## Calculate training log_loss and accuracy"
   ]
  },
  {
   "cell_type": "code",
   "execution_count": 53,
   "id": "14dcbe05",
   "metadata": {},
   "outputs": [
    {
     "name": "stdout",
     "output_type": "stream",
     "text": [
      "log_loss: 2.1094237467878e-15, accuracy: 1.0\n"
     ]
    }
   ],
   "source": [
    "h_w_x = clf.predict(x_train1)\n",
    "log_loss_g = log_loss(y_train1, clf.predict_proba(x_train1))\n",
    "accuracy = accuracy_score(y_train1, h_w_x, normalize=True)\n",
    "print(f\"log_loss: {log_loss_g}, accuracy: {accuracy}\")"
   ]
  },
  {
   "cell_type": "markdown",
   "id": "0ac4a962-a2a9-491a-b25b-803c6b7176cc",
   "metadata": {},
   "source": [
    "## Calculate testing log_loss and accuracy "
   ]
  },
  {
   "cell_type": "code",
   "execution_count": 54,
   "id": "72df7acd",
   "metadata": {},
   "outputs": [
    {
     "name": "stdout",
     "output_type": "stream",
     "text": [
      "log_loss: 2.8782313662425576, accuracy: 0.9166666666666666\n"
     ]
    }
   ],
   "source": [
    "h_w_x = clf.predict(x_test1)\n",
    "log_loss_g = log_loss(y_test1, clf.predict_proba(x_test1))\n",
    "accuracy = accuracy_score(y_test1, h_w_x, normalize=True)\n",
    "print(f\"log_loss: {log_loss_g}, accuracy: {accuracy}\")"
   ]
  },
  {
   "cell_type": "markdown",
   "id": "c90df475-ea94-4962-adb0-6d8fb489952e",
   "metadata": {},
   "source": [
    "## Grid search decision tree hyperparameters for prepruning with log loss as the scoring"
   ]
  },
  {
   "cell_type": "code",
   "execution_count": 55,
   "id": "2e327c87",
   "metadata": {},
   "outputs": [],
   "source": [
    "from sklearn.tree import DecisionTreeClassifier\n",
    "from sklearn.model_selection import GridSearchCV\n",
    "\n",
    "param_grid = {\n",
    "    \"max_depth\": [3,5,10,15,20,None],\n",
    "    \"min_samples_split\": [2,5,7,10],\n",
    "    \"min_samples_leaf\": [1,2,5]\n",
    "}\n",
    "\n",
    "classifier = DecisionTreeClassifier(random_state=0)\n",
    "grid_cv1 = GridSearchCV(classifier, param_grid, scoring='neg_log_loss', n_jobs=-1, cv=3).fit(x_train1, y_train1)"
   ]
  },
  {
   "cell_type": "markdown",
   "id": "1e6ce3a2-b8f7-408f-96e1-0e0539d44fce",
   "metadata": {},
   "source": [
    "### Print best_params, best_score"
   ]
  },
  {
   "cell_type": "code",
   "execution_count": 56,
   "id": "4382c550",
   "metadata": {},
   "outputs": [
    {
     "name": "stdout",
     "output_type": "stream",
     "text": [
      "Param for GS {'max_depth': 3, 'min_samples_leaf': 5, 'min_samples_split': 2}\n",
      "CV score for GS -2.3289516760156546\n"
     ]
    }
   ],
   "source": [
    "print(\"Param for GS\", grid_cv1.best_params_)\n",
    "print(\"CV score for GS\", grid_cv1.best_score_)"
   ]
  },
  {
   "cell_type": "markdown",
   "id": "61970630-26e2-47db-a9d7-047ffcb052fb",
   "metadata": {},
   "source": [
    "### Use best estimator from grid search and calculate log_loss and accuracy on the training set"
   ]
  },
  {
   "cell_type": "code",
   "execution_count": 57,
   "id": "dcf28b68",
   "metadata": {},
   "outputs": [],
   "source": [
    "train_grid1 = grid_cv1.predict(x_train1)"
   ]
  },
  {
   "cell_type": "code",
   "execution_count": 58,
   "id": "821a0842",
   "metadata": {},
   "outputs": [
    {
     "name": "stdout",
     "output_type": "stream",
     "text": [
      "log_loss: 0.1314479768385504, accuracy: 0.9366197183098591\n"
     ]
    }
   ],
   "source": [
    "log_loss_g = log_loss(y_train1, grid_cv1.predict_proba(x_train1))\n",
    "accuracy = accuracy_score(y_train1, train_grid1, normalize=True)\n",
    "print(f\"log_loss: {log_loss_g}, accuracy: {accuracy}\")"
   ]
  },
  {
   "cell_type": "markdown",
   "id": "ea07c3f3-4f71-4b0a-b979-fc3b649e476d",
   "metadata": {},
   "source": [
    "### Use best estimator from grid search and calculate log_loss and accuracy on the testing set"
   ]
  },
  {
   "cell_type": "code",
   "execution_count": 59,
   "id": "da166a52",
   "metadata": {},
   "outputs": [],
   "source": [
    "test_grid1 = grid_cv1.predict(x_test1)"
   ]
  },
  {
   "cell_type": "code",
   "execution_count": 60,
   "id": "a5fded11",
   "metadata": {},
   "outputs": [
    {
     "name": "stdout",
     "output_type": "stream",
     "text": [
      "log_loss: 1.1364441534308212, accuracy: 0.8888888888888888\n"
     ]
    }
   ],
   "source": [
    "log_loss_g = log_loss(y_test1, grid_cv1.predict_proba(x_test1))\n",
    "accuracy = accuracy_score(y_test1, test_grid1, normalize=True)\n",
    "print(f\"log_loss: {log_loss_g}, accuracy: {accuracy}\")"
   ]
  },
  {
   "cell_type": "markdown",
   "id": "385da011-199e-42a0-ac7d-e8485eaa76b4",
   "metadata": {},
   "source": [
    "### Show dataframe for all Grid search results"
   ]
  },
  {
   "cell_type": "code",
   "execution_count": 61,
   "id": "28246f98",
   "metadata": {},
   "outputs": [
    {
     "data": {
      "text/html": [
       "<div>\n",
       "<style scoped>\n",
       "    .dataframe tbody tr th:only-of-type {\n",
       "        vertical-align: middle;\n",
       "    }\n",
       "\n",
       "    .dataframe tbody tr th {\n",
       "        vertical-align: top;\n",
       "    }\n",
       "\n",
       "    .dataframe thead th {\n",
       "        text-align: right;\n",
       "    }\n",
       "</style>\n",
       "<table border=\"1\" class=\"dataframe\">\n",
       "  <thead>\n",
       "    <tr style=\"text-align: right;\">\n",
       "      <th></th>\n",
       "      <th>mean_fit_time</th>\n",
       "      <th>std_fit_time</th>\n",
       "      <th>mean_score_time</th>\n",
       "      <th>std_score_time</th>\n",
       "      <th>param_max_depth</th>\n",
       "      <th>param_min_samples_leaf</th>\n",
       "      <th>param_min_samples_split</th>\n",
       "      <th>params</th>\n",
       "      <th>split0_test_score</th>\n",
       "      <th>split1_test_score</th>\n",
       "      <th>split2_test_score</th>\n",
       "      <th>mean_test_score</th>\n",
       "      <th>std_test_score</th>\n",
       "      <th>rank_test_score</th>\n",
       "    </tr>\n",
       "  </thead>\n",
       "  <tbody>\n",
       "    <tr>\n",
       "      <th>0</th>\n",
       "      <td>0.001669</td>\n",
       "      <td>0.000473</td>\n",
       "      <td>0.002002</td>\n",
       "      <td>1.766373e-06</td>\n",
       "      <td>3</td>\n",
       "      <td>1</td>\n",
       "      <td>2</td>\n",
       "      <td>{'max_depth': 3, 'min_samples_leaf': 1, 'min_s...</td>\n",
       "      <td>-3.597789</td>\n",
       "      <td>-3.030563</td>\n",
       "      <td>-2.573727</td>\n",
       "      <td>-3.067360</td>\n",
       "      <td>0.418880</td>\n",
       "      <td>52</td>\n",
       "    </tr>\n",
       "    <tr>\n",
       "      <th>1</th>\n",
       "      <td>0.002003</td>\n",
       "      <td>0.000002</td>\n",
       "      <td>0.001002</td>\n",
       "      <td>7.867412e-07</td>\n",
       "      <td>3</td>\n",
       "      <td>1</td>\n",
       "      <td>5</td>\n",
       "      <td>{'max_depth': 3, 'min_samples_leaf': 1, 'min_s...</td>\n",
       "      <td>-3.597789</td>\n",
       "      <td>-1.596444</td>\n",
       "      <td>-2.573727</td>\n",
       "      <td>-2.589320</td>\n",
       "      <td>0.817120</td>\n",
       "      <td>39</td>\n",
       "    </tr>\n",
       "    <tr>\n",
       "      <th>2</th>\n",
       "      <td>0.001665</td>\n",
       "      <td>0.000470</td>\n",
       "      <td>0.001333</td>\n",
       "      <td>4.715953e-04</td>\n",
       "      <td>3</td>\n",
       "      <td>1</td>\n",
       "      <td>7</td>\n",
       "      <td>{'max_depth': 3, 'min_samples_leaf': 1, 'min_s...</td>\n",
       "      <td>-3.597789</td>\n",
       "      <td>-1.596444</td>\n",
       "      <td>-2.573727</td>\n",
       "      <td>-2.589320</td>\n",
       "      <td>0.817120</td>\n",
       "      <td>39</td>\n",
       "    </tr>\n",
       "    <tr>\n",
       "      <th>3</th>\n",
       "      <td>0.001666</td>\n",
       "      <td>0.000471</td>\n",
       "      <td>0.001000</td>\n",
       "      <td>2.247832e-07</td>\n",
       "      <td>3</td>\n",
       "      <td>1</td>\n",
       "      <td>10</td>\n",
       "      <td>{'max_depth': 3, 'min_samples_leaf': 1, 'min_s...</td>\n",
       "      <td>-3.597789</td>\n",
       "      <td>-1.596444</td>\n",
       "      <td>-2.573727</td>\n",
       "      <td>-2.589320</td>\n",
       "      <td>0.817120</td>\n",
       "      <td>39</td>\n",
       "    </tr>\n",
       "    <tr>\n",
       "      <th>4</th>\n",
       "      <td>0.001333</td>\n",
       "      <td>0.000471</td>\n",
       "      <td>0.001334</td>\n",
       "      <td>4.715952e-04</td>\n",
       "      <td>3</td>\n",
       "      <td>2</td>\n",
       "      <td>2</td>\n",
       "      <td>{'max_depth': 3, 'min_samples_leaf': 2, 'min_s...</td>\n",
       "      <td>-3.597789</td>\n",
       "      <td>-0.855456</td>\n",
       "      <td>-2.573727</td>\n",
       "      <td>-2.342324</td>\n",
       "      <td>1.131447</td>\n",
       "      <td>25</td>\n",
       "    </tr>\n",
       "    <tr>\n",
       "      <th>...</th>\n",
       "      <td>...</td>\n",
       "      <td>...</td>\n",
       "      <td>...</td>\n",
       "      <td>...</td>\n",
       "      <td>...</td>\n",
       "      <td>...</td>\n",
       "      <td>...</td>\n",
       "      <td>...</td>\n",
       "      <td>...</td>\n",
       "      <td>...</td>\n",
       "      <td>...</td>\n",
       "      <td>...</td>\n",
       "      <td>...</td>\n",
       "      <td>...</td>\n",
       "    </tr>\n",
       "    <tr>\n",
       "      <th>67</th>\n",
       "      <td>0.001666</td>\n",
       "      <td>0.000471</td>\n",
       "      <td>0.001667</td>\n",
       "      <td>4.712580e-04</td>\n",
       "      <td>None</td>\n",
       "      <td>2</td>\n",
       "      <td>10</td>\n",
       "      <td>{'max_depth': None, 'min_samples_leaf': 2, 'mi...</td>\n",
       "      <td>-3.597789</td>\n",
       "      <td>-0.876324</td>\n",
       "      <td>-3.071191</td>\n",
       "      <td>-2.515102</td>\n",
       "      <td>1.178564</td>\n",
       "      <td>29</td>\n",
       "    </tr>\n",
       "    <tr>\n",
       "      <th>68</th>\n",
       "      <td>0.001667</td>\n",
       "      <td>0.000472</td>\n",
       "      <td>0.001333</td>\n",
       "      <td>4.717075e-04</td>\n",
       "      <td>None</td>\n",
       "      <td>5</td>\n",
       "      <td>2</td>\n",
       "      <td>{'max_depth': None, 'min_samples_leaf': 5, 'mi...</td>\n",
       "      <td>-3.597789</td>\n",
       "      <td>-0.917317</td>\n",
       "      <td>-2.471749</td>\n",
       "      <td>-2.328952</td>\n",
       "      <td>1.098947</td>\n",
       "      <td>1</td>\n",
       "    </tr>\n",
       "    <tr>\n",
       "      <th>69</th>\n",
       "      <td>0.001333</td>\n",
       "      <td>0.000472</td>\n",
       "      <td>0.001667</td>\n",
       "      <td>4.724381e-04</td>\n",
       "      <td>None</td>\n",
       "      <td>5</td>\n",
       "      <td>5</td>\n",
       "      <td>{'max_depth': None, 'min_samples_leaf': 5, 'mi...</td>\n",
       "      <td>-3.597789</td>\n",
       "      <td>-0.917317</td>\n",
       "      <td>-2.471749</td>\n",
       "      <td>-2.328952</td>\n",
       "      <td>1.098947</td>\n",
       "      <td>1</td>\n",
       "    </tr>\n",
       "    <tr>\n",
       "      <th>70</th>\n",
       "      <td>0.001001</td>\n",
       "      <td>0.000002</td>\n",
       "      <td>0.001333</td>\n",
       "      <td>4.692916e-04</td>\n",
       "      <td>None</td>\n",
       "      <td>5</td>\n",
       "      <td>7</td>\n",
       "      <td>{'max_depth': None, 'min_samples_leaf': 5, 'mi...</td>\n",
       "      <td>-3.597789</td>\n",
       "      <td>-0.917317</td>\n",
       "      <td>-2.471749</td>\n",
       "      <td>-2.328952</td>\n",
       "      <td>1.098947</td>\n",
       "      <td>1</td>\n",
       "    </tr>\n",
       "    <tr>\n",
       "      <th>71</th>\n",
       "      <td>0.000999</td>\n",
       "      <td>0.000002</td>\n",
       "      <td>0.001000</td>\n",
       "      <td>2.247832e-07</td>\n",
       "      <td>None</td>\n",
       "      <td>5</td>\n",
       "      <td>10</td>\n",
       "      <td>{'max_depth': None, 'min_samples_leaf': 5, 'mi...</td>\n",
       "      <td>-3.597789</td>\n",
       "      <td>-0.917317</td>\n",
       "      <td>-2.471749</td>\n",
       "      <td>-2.328952</td>\n",
       "      <td>1.098947</td>\n",
       "      <td>1</td>\n",
       "    </tr>\n",
       "  </tbody>\n",
       "</table>\n",
       "<p>72 rows × 14 columns</p>\n",
       "</div>"
      ],
      "text/plain": [
       "    mean_fit_time  std_fit_time  mean_score_time  std_score_time  \\\n",
       "0        0.001669      0.000473         0.002002    1.766373e-06   \n",
       "1        0.002003      0.000002         0.001002    7.867412e-07   \n",
       "2        0.001665      0.000470         0.001333    4.715953e-04   \n",
       "3        0.001666      0.000471         0.001000    2.247832e-07   \n",
       "4        0.001333      0.000471         0.001334    4.715952e-04   \n",
       "..            ...           ...              ...             ...   \n",
       "67       0.001666      0.000471         0.001667    4.712580e-04   \n",
       "68       0.001667      0.000472         0.001333    4.717075e-04   \n",
       "69       0.001333      0.000472         0.001667    4.724381e-04   \n",
       "70       0.001001      0.000002         0.001333    4.692916e-04   \n",
       "71       0.000999      0.000002         0.001000    2.247832e-07   \n",
       "\n",
       "   param_max_depth param_min_samples_leaf param_min_samples_split  \\\n",
       "0                3                      1                       2   \n",
       "1                3                      1                       5   \n",
       "2                3                      1                       7   \n",
       "3                3                      1                      10   \n",
       "4                3                      2                       2   \n",
       "..             ...                    ...                     ...   \n",
       "67            None                      2                      10   \n",
       "68            None                      5                       2   \n",
       "69            None                      5                       5   \n",
       "70            None                      5                       7   \n",
       "71            None                      5                      10   \n",
       "\n",
       "                                               params  split0_test_score  \\\n",
       "0   {'max_depth': 3, 'min_samples_leaf': 1, 'min_s...          -3.597789   \n",
       "1   {'max_depth': 3, 'min_samples_leaf': 1, 'min_s...          -3.597789   \n",
       "2   {'max_depth': 3, 'min_samples_leaf': 1, 'min_s...          -3.597789   \n",
       "3   {'max_depth': 3, 'min_samples_leaf': 1, 'min_s...          -3.597789   \n",
       "4   {'max_depth': 3, 'min_samples_leaf': 2, 'min_s...          -3.597789   \n",
       "..                                                ...                ...   \n",
       "67  {'max_depth': None, 'min_samples_leaf': 2, 'mi...          -3.597789   \n",
       "68  {'max_depth': None, 'min_samples_leaf': 5, 'mi...          -3.597789   \n",
       "69  {'max_depth': None, 'min_samples_leaf': 5, 'mi...          -3.597789   \n",
       "70  {'max_depth': None, 'min_samples_leaf': 5, 'mi...          -3.597789   \n",
       "71  {'max_depth': None, 'min_samples_leaf': 5, 'mi...          -3.597789   \n",
       "\n",
       "    split1_test_score  split2_test_score  mean_test_score  std_test_score  \\\n",
       "0           -3.030563          -2.573727        -3.067360        0.418880   \n",
       "1           -1.596444          -2.573727        -2.589320        0.817120   \n",
       "2           -1.596444          -2.573727        -2.589320        0.817120   \n",
       "3           -1.596444          -2.573727        -2.589320        0.817120   \n",
       "4           -0.855456          -2.573727        -2.342324        1.131447   \n",
       "..                ...                ...              ...             ...   \n",
       "67          -0.876324          -3.071191        -2.515102        1.178564   \n",
       "68          -0.917317          -2.471749        -2.328952        1.098947   \n",
       "69          -0.917317          -2.471749        -2.328952        1.098947   \n",
       "70          -0.917317          -2.471749        -2.328952        1.098947   \n",
       "71          -0.917317          -2.471749        -2.328952        1.098947   \n",
       "\n",
       "    rank_test_score  \n",
       "0                52  \n",
       "1                39  \n",
       "2                39  \n",
       "3                39  \n",
       "4                25  \n",
       "..              ...  \n",
       "67               29  \n",
       "68                1  \n",
       "69                1  \n",
       "70                1  \n",
       "71                1  \n",
       "\n",
       "[72 rows x 14 columns]"
      ]
     },
     "execution_count": 61,
     "metadata": {},
     "output_type": "execute_result"
    }
   ],
   "source": [
    "pd.DataFrame(grid_cv1.cv_results_)"
   ]
  },
  {
   "cell_type": "markdown",
   "id": "fcd2ef26-0c32-45f3-b316-16e1323c977b",
   "metadata": {},
   "source": [
    "## Use cost_complexity_pruning_path function to get alpha's and impurities from the tree"
   ]
  },
  {
   "cell_type": "code",
   "execution_count": 62,
   "id": "82003489",
   "metadata": {},
   "outputs": [],
   "source": [
    "classifier = DecisionTreeClassifier(random_state=0)\n",
    "path = classifier.cost_complexity_pruning_path(x_train1, y_train1)\n",
    "ccp_alphas, impurities = path.ccp_alphas, path.impurities"
   ]
  },
  {
   "cell_type": "markdown",
   "id": "2d0ac791-1c9c-46fe-bc8b-178fa9986b0f",
   "metadata": {},
   "source": [
    "### Plot impurities against alpha's returned by the function (y-axis: impurities, x-axis: alpha)"
   ]
  },
  {
   "cell_type": "code",
   "execution_count": 63,
   "id": "0529fce2",
   "metadata": {},
   "outputs": [
    {
     "data": {
      "text/plain": [
       "Text(0.5, 1.0, 'Total Impurity vs Alpha for training set')"
      ]
     },
     "execution_count": 63,
     "metadata": {},
     "output_type": "execute_result"
    },
    {
     "data": {
      "image/png": "[encoded data removed]",
      "text/plain": [
       "<Figure size 432x288 with 1 Axes>"
      ]
     },
     "metadata": {
      "needs_background": "light"
     },
     "output_type": "display_data"
    }
   ],
   "source": [
    "fig, ax = plt.subplots()\n",
    "ax.plot(ccp_alphas[:-1], impurities[:-1], marker=\"o\", drawstyle=\"steps-post\")\n",
    "ax.set_xlabel(\"effective alpha\")\n",
    "ax.set_ylabel(\"total impurity of leaves\")\n",
    "ax.set_title(\"Total Impurity vs Alpha for training set\")"
   ]
  },
  {
   "cell_type": "markdown",
   "id": "b0961fa5-8b11-45fb-8605-45cfba9d9910",
   "metadata": {},
   "source": [
    "## Train Decision Trees with all alphas returned by the function and get the train log loss and test log loss"
   ]
  },
  {
   "cell_type": "code",
   "execution_count": 64,
   "id": "80b928d3",
   "metadata": {},
   "outputs": [
    {
     "name": "stdout",
     "output_type": "stream",
     "text": [
      "Alpha: 0.0, train_log_loss: 2.1094237467878e-15,test_log_loss: 2.8782313662425576\n",
      "Alpha: 0.0069142125480153626, train_log_loss: 0.035198497699403725,test_log_loss: 1.0753125507821382\n",
      "Alpha: 0.009389671361502348, train_log_loss: 0.048645980128167364,test_log_loss: 1.0978383901214805\n",
      "Alpha: 0.01056338028169014, train_log_loss: 0.06448640673714784,test_log_loss: 1.1748547435170302\n",
      "Alpha: 0.013586061825498435, train_log_loss: 0.09981295246519285,test_log_loss: 1.1798598839344405\n",
      "Alpha: 0.01379107981220659, train_log_loss: 0.1340433133328405,test_log_loss: 0.333830959155983\n",
      "Alpha: 0.016430503927519935, train_log_loss: 0.16891266872062383,test_log_loss: 0.48670971965461685\n",
      "Alpha: 0.018779342723004695, train_log_loss: 0.19580763357815106,test_log_loss: 0.5092355589939593\n",
      "Alpha: 0.027319086935405537, train_log_loss: 0.2478913774976555,test_log_loss: 0.465585655921046\n",
      "Alpha: 0.05637063119457481, train_log_loss: 0.3670983540514528,test_log_loss: 0.5931259408717274\n",
      "Alpha: 0.1920134723649265, train_log_loss: 0.6088419219464525,test_log_loss: 0.8928897062662196\n",
      "Alpha: 0.27512136173612073, train_log_loss: 1.068744636710102,test_log_loss: 1.1741725247202297\n"
     ]
    }
   ],
   "source": [
    "clfs = []\n",
    "log_train=[]\n",
    "log_test=[]\n",
    "for i, alpha in enumerate(ccp_alphas):\n",
    "    classifier = DecisionTreeClassifier(random_state=0, ccp_alpha=alpha)\n",
    "    clf = classifier.fit(x_train1, y_train1)\n",
    "    y_pred1 = clf.predict(x_train1)\n",
    "    y_pred2 = clf.predict(x_test1) \n",
    "    train_log = log_loss(y_train1, clf.predict_proba(x_train1))\n",
    "    test_log = log_loss(y_test1, clf.predict_proba(x_test1))\n",
    "    clfs.append(alpha)\n",
    "    log_train.append(train_log)\n",
    "    log_test.append(test_log)\n",
    "    print(f'Alpha: {alpha}, train_log_loss: {train_log},test_log_loss: {test_log}')"
   ]
  },
  {
   "cell_type": "code",
   "execution_count": 65,
   "id": "2ff9255c",
   "metadata": {},
   "outputs": [
    {
     "data": {
      "text/html": [
       "<div>\n",
       "<style scoped>\n",
       "    .dataframe tbody tr th:only-of-type {\n",
       "        vertical-align: middle;\n",
       "    }\n",
       "\n",
       "    .dataframe tbody tr th {\n",
       "        vertical-align: top;\n",
       "    }\n",
       "\n",
       "    .dataframe thead th {\n",
       "        text-align: right;\n",
       "    }\n",
       "</style>\n",
       "<table border=\"1\" class=\"dataframe\">\n",
       "  <thead>\n",
       "    <tr style=\"text-align: right;\">\n",
       "      <th></th>\n",
       "      <th>Alpha</th>\n",
       "      <th>log_loss_train</th>\n",
       "      <th>log_loss_test</th>\n",
       "    </tr>\n",
       "  </thead>\n",
       "  <tbody>\n",
       "    <tr>\n",
       "      <th>0</th>\n",
       "      <td>0.000000</td>\n",
       "      <td>2.109424e-15</td>\n",
       "      <td>2.878231</td>\n",
       "    </tr>\n",
       "    <tr>\n",
       "      <th>1</th>\n",
       "      <td>0.006914</td>\n",
       "      <td>3.519850e-02</td>\n",
       "      <td>1.075313</td>\n",
       "    </tr>\n",
       "    <tr>\n",
       "      <th>2</th>\n",
       "      <td>0.009390</td>\n",
       "      <td>4.864598e-02</td>\n",
       "      <td>1.097838</td>\n",
       "    </tr>\n",
       "    <tr>\n",
       "      <th>3</th>\n",
       "      <td>0.010563</td>\n",
       "      <td>6.448641e-02</td>\n",
       "      <td>1.174855</td>\n",
       "    </tr>\n",
       "    <tr>\n",
       "      <th>4</th>\n",
       "      <td>0.013586</td>\n",
       "      <td>9.981295e-02</td>\n",
       "      <td>1.179860</td>\n",
       "    </tr>\n",
       "    <tr>\n",
       "      <th>5</th>\n",
       "      <td>0.013791</td>\n",
       "      <td>1.340433e-01</td>\n",
       "      <td>0.333831</td>\n",
       "    </tr>\n",
       "    <tr>\n",
       "      <th>6</th>\n",
       "      <td>0.016431</td>\n",
       "      <td>1.689127e-01</td>\n",
       "      <td>0.486710</td>\n",
       "    </tr>\n",
       "    <tr>\n",
       "      <th>7</th>\n",
       "      <td>0.018779</td>\n",
       "      <td>1.958076e-01</td>\n",
       "      <td>0.509236</td>\n",
       "    </tr>\n",
       "    <tr>\n",
       "      <th>8</th>\n",
       "      <td>0.027319</td>\n",
       "      <td>2.478914e-01</td>\n",
       "      <td>0.465586</td>\n",
       "    </tr>\n",
       "    <tr>\n",
       "      <th>9</th>\n",
       "      <td>0.056371</td>\n",
       "      <td>3.670984e-01</td>\n",
       "      <td>0.593126</td>\n",
       "    </tr>\n",
       "    <tr>\n",
       "      <th>10</th>\n",
       "      <td>0.192013</td>\n",
       "      <td>6.088419e-01</td>\n",
       "      <td>0.892890</td>\n",
       "    </tr>\n",
       "    <tr>\n",
       "      <th>11</th>\n",
       "      <td>0.275121</td>\n",
       "      <td>1.068745e+00</td>\n",
       "      <td>1.174173</td>\n",
       "    </tr>\n",
       "  </tbody>\n",
       "</table>\n",
       "</div>"
      ],
      "text/plain": [
       "       Alpha  log_loss_train  log_loss_test\n",
       "0   0.000000    2.109424e-15       2.878231\n",
       "1   0.006914    3.519850e-02       1.075313\n",
       "2   0.009390    4.864598e-02       1.097838\n",
       "3   0.010563    6.448641e-02       1.174855\n",
       "4   0.013586    9.981295e-02       1.179860\n",
       "5   0.013791    1.340433e-01       0.333831\n",
       "6   0.016431    1.689127e-01       0.486710\n",
       "7   0.018779    1.958076e-01       0.509236\n",
       "8   0.027319    2.478914e-01       0.465586\n",
       "9   0.056371    3.670984e-01       0.593126\n",
       "10  0.192013    6.088419e-01       0.892890\n",
       "11  0.275121    1.068745e+00       1.174173"
      ]
     },
     "execution_count": 65,
     "metadata": {},
     "output_type": "execute_result"
    }
   ],
   "source": [
    "#Putting the alpha, train and test log_loss value in a dataset\n",
    "final_alpha = clfs\n",
    "log_loss_train = log_train\n",
    "log_loss_test = log_test\n",
    "dataset2 = pd.DataFrame({'Alpha': final_alpha, 'log_loss_train': log_loss_train,'log_loss_test': log_loss_test}, columns=['Alpha', 'log_loss_train','log_loss_test'])\n",
    "dataset2"
   ]
  },
  {
   "cell_type": "markdown",
   "id": "a94f95cd-6115-44fc-b0e6-1b33aaf68d6e",
   "metadata": {},
   "source": [
    "## Plot log loss against alpha's"
   ]
  },
  {
   "cell_type": "code",
   "execution_count": 66,
   "id": "a0590321",
   "metadata": {},
   "outputs": [
    {
     "data": {
      "image/png": "[encoded data removed]",
      "text/plain": [
       "<Figure size 432x288 with 1 Axes>"
      ]
     },
     "metadata": {
      "needs_background": "light"
     },
     "output_type": "display_data"
    }
   ],
   "source": [
    "fig, ax = plt.subplots()\n",
    "ax.set_xlabel(\"alpha\")\n",
    "ax.set_ylabel(\"Log_loss\")\n",
    "ax.set_title(\"Log_loss vs alpha for training and testing sets\")\n",
    "ax.plot(clfs, log_train, marker='o', label=\"train\", drawstyle=\"steps-post\")\n",
    "ax.plot(clfs, log_test, marker='o', label=\"test\", drawstyle=\"steps-post\")\n",
    "ax.legend()\n",
    "plt.show()"
   ]
  },
  {
   "cell_type": "markdown",
   "id": "07397e99-b66e-4439-872d-fac85de448d6",
   "metadata": {},
   "source": [
    "## Grab and print the alpha that gives the smallest log loss in testing set"
   ]
  },
  {
   "cell_type": "code",
   "execution_count": 67,
   "id": "5d194a26",
   "metadata": {},
   "outputs": [
    {
     "data": {
      "text/html": [
       "<div>\n",
       "<style scoped>\n",
       "    .dataframe tbody tr th:only-of-type {\n",
       "        vertical-align: middle;\n",
       "    }\n",
       "\n",
       "    .dataframe tbody tr th {\n",
       "        vertical-align: top;\n",
       "    }\n",
       "\n",
       "    .dataframe thead th {\n",
       "        text-align: right;\n",
       "    }\n",
       "</style>\n",
       "<table border=\"1\" class=\"dataframe\">\n",
       "  <thead>\n",
       "    <tr style=\"text-align: right;\">\n",
       "      <th></th>\n",
       "      <th>Best_alpha</th>\n",
       "      <th>lowest_log_loss</th>\n",
       "    </tr>\n",
       "  </thead>\n",
       "  <tbody>\n",
       "    <tr>\n",
       "      <th>5</th>\n",
       "      <td>0.013791</td>\n",
       "      <td>0.333831</td>\n",
       "    </tr>\n",
       "    <tr>\n",
       "      <th>8</th>\n",
       "      <td>0.013791</td>\n",
       "      <td>0.465586</td>\n",
       "    </tr>\n",
       "    <tr>\n",
       "      <th>6</th>\n",
       "      <td>0.013791</td>\n",
       "      <td>0.486710</td>\n",
       "    </tr>\n",
       "    <tr>\n",
       "      <th>7</th>\n",
       "      <td>0.013791</td>\n",
       "      <td>0.509236</td>\n",
       "    </tr>\n",
       "    <tr>\n",
       "      <th>9</th>\n",
       "      <td>0.013791</td>\n",
       "      <td>0.593126</td>\n",
       "    </tr>\n",
       "    <tr>\n",
       "      <th>10</th>\n",
       "      <td>0.013791</td>\n",
       "      <td>0.892890</td>\n",
       "    </tr>\n",
       "    <tr>\n",
       "      <th>1</th>\n",
       "      <td>0.006914</td>\n",
       "      <td>1.075313</td>\n",
       "    </tr>\n",
       "    <tr>\n",
       "      <th>2</th>\n",
       "      <td>0.006914</td>\n",
       "      <td>1.097838</td>\n",
       "    </tr>\n",
       "    <tr>\n",
       "      <th>11</th>\n",
       "      <td>0.013791</td>\n",
       "      <td>1.174173</td>\n",
       "    </tr>\n",
       "    <tr>\n",
       "      <th>3</th>\n",
       "      <td>0.006914</td>\n",
       "      <td>1.174855</td>\n",
       "    </tr>\n",
       "    <tr>\n",
       "      <th>4</th>\n",
       "      <td>0.006914</td>\n",
       "      <td>1.179860</td>\n",
       "    </tr>\n",
       "    <tr>\n",
       "      <th>0</th>\n",
       "      <td>0.000000</td>\n",
       "      <td>2.878231</td>\n",
       "    </tr>\n",
       "  </tbody>\n",
       "</table>\n",
       "</div>"
      ],
      "text/plain": [
       "    Best_alpha  lowest_log_loss\n",
       "5     0.013791         0.333831\n",
       "8     0.013791         0.465586\n",
       "6     0.013791         0.486710\n",
       "7     0.013791         0.509236\n",
       "9     0.013791         0.593126\n",
       "10    0.013791         0.892890\n",
       "1     0.006914         1.075313\n",
       "2     0.006914         1.097838\n",
       "11    0.013791         1.174173\n",
       "3     0.006914         1.174855\n",
       "4     0.006914         1.179860\n",
       "0     0.000000         2.878231"
      ]
     },
     "execution_count": 67,
     "metadata": {},
     "output_type": "execute_result"
    }
   ],
   "source": [
    "clfs_best_alpha = []\n",
    "lowest_logloss=[]\n",
    "for ccpalpha in ccp_alphas:\n",
    "    classifier = DecisionTreeClassifier(random_state=0, ccp_alpha=ccpalpha)\n",
    "    clf = classifier.fit(x_train1, y_train1)\n",
    "    y_pred2 = clf.predict(x_test1)\n",
    "    test_logloss = log_loss(y_test1, clf.predict_proba(x_test1))\n",
    "    \n",
    "    lowest_logloss.append(test_logloss)\n",
    "    #print(f'Alpha: {alpha}, train_mse: {train_mse},test_mse: {test_mse}')\n",
    "    best_alpha_index_logloss=np.argmin(lowest_logloss)\n",
    "    best_alpha = ccp_alphas[best_alpha_index_logloss]\n",
    "    clfs_best_alpha.append(best_alpha)\n",
    "    #print(f'Best Alpha: {best_alpha},test_mse: {test_mse}')\n",
    "Best_alpha = clfs_best_alpha\n",
    "lowest_logloss_test = lowest_logloss\n",
    "dataset3 = pd.DataFrame({'Best_alpha': Best_alpha, 'lowest_log_loss': lowest_logloss_test}, columns=['Best_alpha', 'lowest_log_loss'])\n",
    "dataset3.sort_values(ascending=True,by='lowest_log_loss')"
   ]
  },
  {
   "cell_type": "markdown",
   "id": "53a58034-75c1-4c09-b506-e20d2ecf295e",
   "metadata": {},
   "source": [
    "## Use the best alpha and fit a decsion tree"
   ]
  },
  {
   "cell_type": "code",
   "execution_count": 68,
   "id": "f1c22942",
   "metadata": {},
   "outputs": [
    {
     "data": {
      "text/html": [
       "<style>#sk-container-id-5 {color: black;background-color: white;}#sk-container-id-5 pre{padding: 0;}#sk-container-id-5 div.sk-toggleable {background-color: white;}#sk-container-id-5 label.sk-toggleable__label {cursor: pointer;display: block;width: 100%;margin-bottom: 0;padding: 0.3em;box-sizing: border-box;text-align: center;}#sk-container-id-5 label.sk-toggleable__label-arrow:before {content: \"▸\";float: left;margin-right: 0.25em;color: #696969;}#sk-container-id-5 label.sk-toggleable__label-arrow:hover:before {color: black;}#sk-container-id-5 div.sk-estimator:hover label.sk-toggleable__label-arrow:before {color: black;}#sk-container-id-5 div.sk-toggleable__content {max-height: 0;max-width: 0;overflow: hidden;text-align: left;background-color: #f0f8ff;}#sk-container-id-5 div.sk-toggleable__content pre {margin: 0.2em;color: black;border-radius: 0.25em;background-color: #f0f8ff;}#sk-container-id-5 input.sk-toggleable__control:checked~div.sk-toggleable__content {max-height: 200px;max-width: 100%;overflow: auto;}#sk-container-id-5 input.sk-toggleable__control:checked~label.sk-toggleable__label-arrow:before {content: \"▾\";}#sk-container-id-5 div.sk-estimator input.sk-toggleable__control:checked~label.sk-toggleable__label {background-color: #d4ebff;}#sk-container-id-5 div.sk-label input.sk-toggleable__control:checked~label.sk-toggleable__label {background-color: #d4ebff;}#sk-container-id-5 input.sk-hidden--visually {border: 0;clip: rect(1px 1px 1px 1px);clip: rect(1px, 1px, 1px, 1px);height: 1px;margin: -1px;overflow: hidden;padding: 0;position: absolute;width: 1px;}#sk-container-id-5 div.sk-estimator {font-family: monospace;background-color: #f0f8ff;border: 1px dotted black;border-radius: 0.25em;box-sizing: border-box;margin-bottom: 0.5em;}#sk-container-id-5 div.sk-estimator:hover {background-color: #d4ebff;}#sk-container-id-5 div.sk-parallel-item::after {content: \"\";width: 100%;border-bottom: 1px solid gray;flex-grow: 1;}#sk-container-id-5 div.sk-label:hover label.sk-toggleable__label {background-color: #d4ebff;}#sk-container-id-5 div.sk-serial::before {content: \"\";position: absolute;border-left: 1px solid gray;box-sizing: border-box;top: 0;bottom: 0;left: 50%;z-index: 0;}#sk-container-id-5 div.sk-serial {display: flex;flex-direction: column;align-items: center;background-color: white;padding-right: 0.2em;padding-left: 0.2em;position: relative;}#sk-container-id-5 div.sk-item {position: relative;z-index: 1;}#sk-container-id-5 div.sk-parallel {display: flex;align-items: stretch;justify-content: center;background-color: white;position: relative;}#sk-container-id-5 div.sk-item::before, #sk-container-id-5 div.sk-parallel-item::before {content: \"\";position: absolute;border-left: 1px solid gray;box-sizing: border-box;top: 0;bottom: 0;left: 50%;z-index: -1;}#sk-container-id-5 div.sk-parallel-item {display: flex;flex-direction: column;z-index: 1;position: relative;background-color: white;}#sk-container-id-5 div.sk-parallel-item:first-child::after {align-self: flex-end;width: 50%;}#sk-container-id-5 div.sk-parallel-item:last-child::after {align-self: flex-start;width: 50%;}#sk-container-id-5 div.sk-parallel-item:only-child::after {width: 0;}#sk-container-id-5 div.sk-dashed-wrapped {border: 1px dashed gray;margin: 0 0.4em 0.5em 0.4em;box-sizing: border-box;padding-bottom: 0.4em;background-color: white;}#sk-container-id-5 div.sk-label label {font-family: monospace;font-weight: bold;display: inline-block;line-height: 1.2em;}#sk-container-id-5 div.sk-label-container {text-align: center;}#sk-container-id-5 div.sk-container {/* jupyter's `normalize.less` sets `[hidden] { display: none; }` but bootstrap.min.css set `[hidden] { display: none !important; }` so we also need the `!important` here to be able to override the default hidden behavior on the sphinx rendered scikit-learn.org. See: https://github.com/scikit-learn/scikit-learn/issues/21755 */display: inline-block !important;position: relative;}#sk-container-id-5 div.sk-text-repr-fallback {display: none;}</style><div id=\"sk-container-id-5\" class=\"sk-top-container\"><div class=\"sk-text-repr-fallback\"><pre>DecisionTreeClassifier(ccp_alpha=0.013791, random_state=0)</pre><b>In a Jupyter environment, please rerun this cell to show the HTML representation or trust the notebook. <br />On GitHub, the HTML representation is unable to render, please try loading this page with nbviewer.org.</b></div><div class=\"sk-container\" hidden><div class=\"sk-item\"><div class=\"sk-estimator sk-toggleable\"><input class=\"sk-toggleable__control sk-hidden--visually\" id=\"sk-estimator-id-5\" type=\"checkbox\" checked><label for=\"sk-estimator-id-5\" class=\"sk-toggleable__label sk-toggleable__label-arrow\">DecisionTreeClassifier</label><div class=\"sk-toggleable__content\"><pre>DecisionTreeClassifier(ccp_alpha=0.013791, random_state=0)</pre></div></div></div></div></div>"
      ],
      "text/plain": [
       "DecisionTreeClassifier(ccp_alpha=0.013791, random_state=0)"
      ]
     },
     "execution_count": 68,
     "metadata": {},
     "output_type": "execute_result"
    }
   ],
   "source": [
    "clf_best_alpha = DecisionTreeClassifier(random_state=0, ccp_alpha=0.013791)\n",
    "clf_best_alpha.fit(x_train1, y_train1)"
   ]
  },
  {
   "cell_type": "markdown",
   "id": "30f36500-99a6-41bd-a943-04b306f6e2af",
   "metadata": {},
   "source": [
    "### Get training log loss and accuracy "
   ]
  },
  {
   "cell_type": "code",
   "execution_count": 69,
   "id": "40e2d667",
   "metadata": {},
   "outputs": [
    {
     "name": "stdout",
     "output_type": "stream",
     "text": [
      "log_loss: 0.09981295246519285, accuracy: 0.971830985915493\n"
     ]
    }
   ],
   "source": [
    "y_train1_predict = clf_best_alpha.predict(x_train1)\n",
    "log_loss_g = log_loss(y_train1, clf_best_alpha.predict_proba(x_train1))\n",
    "accuracy = accuracy_score(y_train1, y_train1_predict, normalize=True)\n",
    "print(f\"log_loss: {log_loss_g}, accuracy: {accuracy}\")"
   ]
  },
  {
   "cell_type": "markdown",
   "id": "d7815ea1-3c5a-4e22-b299-aa506fc5011f",
   "metadata": {},
   "source": [
    "### Get testing log loss and accuracy"
   ]
  },
  {
   "cell_type": "code",
   "execution_count": 70,
   "id": "aef026f5",
   "metadata": {},
   "outputs": [
    {
     "name": "stdout",
     "output_type": "stream",
     "text": [
      "log_loss: 1.1798598839344405, accuracy: 0.8888888888888888\n"
     ]
    }
   ],
   "source": [
    "y_test1_predict = clf_best_alpha.predict(x_test1)\n",
    "log_loss_g = log_loss(y_test1, clf_best_alpha.predict_proba(x_test1))\n",
    "accuracy = accuracy_score(y_test1, y_test1_predict, normalize=True)\n",
    "print(f\"log_loss: {log_loss_g}, accuracy: {accuracy}\")"
   ]
  },
  {
   "cell_type": "markdown",
   "id": "cf486de3-938e-4b79-bc26-a0aff3b61602",
   "metadata": {},
   "source": [
    "### Plot decision tree using alpha that gives the smallest log loss"
   ]
  },
  {
   "cell_type": "code",
   "execution_count": 72,
   "id": "d2ce022a",
   "metadata": {},
   "outputs": [
    {
     "data": {
      "text/plain": [
       "[Text(0.5, 0.875, 'proline <= 755.0\\ngini = 0.647\\nsamples = 142\\nvalue = [48, 61, 33]'),\n",
       " Text(0.25, 0.625, 'color_intensity <= 4.86\\ngini = 0.457\\nsamples = 88\\nvalue = [1, 58, 29]'),\n",
       " Text(0.125, 0.375, 'flavanoids <= 0.895\\ngini = 0.128\\nsamples = 59\\nvalue = [1, 55, 3]'),\n",
       " Text(0.0625, 0.125, 'gini = 0.444\\nsamples = 3\\nvalue = [0, 1, 2]'),\n",
       " Text(0.1875, 0.125, 'gini = 0.07\\nsamples = 56\\nvalue = [1, 54, 1]'),\n",
       " Text(0.375, 0.375, 'flavanoids <= 1.36\\ngini = 0.185\\nsamples = 29\\nvalue = [0, 3, 26]'),\n",
       " Text(0.3125, 0.125, 'gini = 0.0\\nsamples = 25\\nvalue = [0, 0, 25]'),\n",
       " Text(0.4375, 0.125, 'gini = 0.375\\nsamples = 4\\nvalue = [0, 3, 1]'),\n",
       " Text(0.75, 0.625, 'flavanoids <= 2.165\\ngini = 0.234\\nsamples = 54\\nvalue = [47, 3, 4]'),\n",
       " Text(0.625, 0.375, 'hue <= 0.803\\ngini = 0.444\\nsamples = 6\\nvalue = [0, 2, 4]'),\n",
       " Text(0.5625, 0.125, 'gini = 0.0\\nsamples = 4\\nvalue = [0, 0, 4]'),\n",
       " Text(0.6875, 0.125, 'gini = 0.0\\nsamples = 2\\nvalue = [0, 2, 0]'),\n",
       " Text(0.875, 0.375, 'color_intensity <= 3.15\\ngini = 0.041\\nsamples = 48\\nvalue = [47, 1, 0]'),\n",
       " Text(0.8125, 0.125, 'gini = 0.0\\nsamples = 1\\nvalue = [0, 1, 0]'),\n",
       " Text(0.9375, 0.125, 'gini = 0.0\\nsamples = 47\\nvalue = [47, 0, 0]')]"
      ]
     },
     "execution_count": 72,
     "metadata": {},
     "output_type": "execute_result"
    },
    {
     "data": {
      "image/png": "[encoded data removed]",
      "text/plain": [
       "<Figure size 1152x1152 with 1 Axes>"
      ]
     },
     "metadata": {
      "needs_background": "light"
     },
     "output_type": "display_data"
    }
   ],
   "source": [
    "from sklearn.tree import plot_tree\n",
    "fig = plt.figure(figsize=(16,16))\n",
    "plot_tree(clf_best_alpha, filled=True,feature_names=load_wine().feature_names)"
   ]
  },
  {
   "cell_type": "markdown",
   "id": "62342a47-3a5e-4dcf-9c8b-0e942e3b5638",
   "metadata": {},
   "source": [
    "# Linear Discriminant Analysis\n",
    "Fit LDA algorithm here"
   ]
  },
  {
   "cell_type": "code",
   "execution_count": 73,
   "id": "75a9120e",
   "metadata": {},
   "outputs": [
    {
     "data": {
      "text/plain": [
       "array([0, 2, 1, 1, 2, 0, 2, 0, 1, 0, 1, 2, 0, 2, 1, 2, 0, 1, 0, 1, 1, 2,\n",
       "       2, 2, 1, 2, 2, 0, 0, 2, 2, 2, 1, 2, 0, 0])"
      ]
     },
     "execution_count": 73,
     "metadata": {},
     "output_type": "execute_result"
    }
   ],
   "source": [
    "from sklearn.discriminant_analysis import LinearDiscriminantAnalysis\n",
    "\n",
    "classifier = LinearDiscriminantAnalysis()\n",
    "clf = classifier.fit(x_train1, y_train1)\n",
    "clf.predict(x_test1)"
   ]
  },
  {
   "cell_type": "markdown",
   "id": "781329be-f351-4469-bda6-a256b4047f53",
   "metadata": {},
   "source": [
    "## Get log_loss and accuracy on testing set"
   ]
  },
  {
   "cell_type": "code",
   "execution_count": 74,
   "id": "49061721",
   "metadata": {},
   "outputs": [
    {
     "name": "stdout",
     "output_type": "stream",
     "text": [
      "log_loss: 0.017062032016924994, accuracy: 1.0\n"
     ]
    }
   ],
   "source": [
    "h_w_x = clf.predict(x_test1)\n",
    "log_loss_g = log_loss(y_test1, clf.predict_proba(x_test1))\n",
    "accuracy = accuracy_score(y_test1, h_w_x, normalize=True)\n",
    "print(f\"log_loss: {log_loss_g}, accuracy: {accuracy}\")"
   ]
  },
  {
   "cell_type": "markdown",
   "id": "5189634e-58ca-4854-b75c-b425b7a2cedb",
   "metadata": {},
   "source": [
    "# Quadratic Discriminant analysis\n",
    "\n",
    "fit QDA algorithm here"
   ]
  },
  {
   "cell_type": "code",
   "execution_count": 75,
   "id": "b151de3e",
   "metadata": {},
   "outputs": [
    {
     "data": {
      "text/plain": [
       "array([0, 2, 1, 1, 2, 0, 2, 0, 1, 0, 1, 2, 0, 2, 1, 2, 1, 1, 0, 1, 1, 2,\n",
       "       2, 2, 1, 2, 2, 0, 0, 2, 2, 2, 1, 2, 0, 0])"
      ]
     },
     "execution_count": 75,
     "metadata": {},
     "output_type": "execute_result"
    }
   ],
   "source": [
    "from sklearn.discriminant_analysis import QuadraticDiscriminantAnalysis\n",
    "classifier = QuadraticDiscriminantAnalysis()\n",
    "clf = classifier.fit(x_train1, y_train1)\n",
    "clf.predict(x_test1)"
   ]
  },
  {
   "cell_type": "markdown",
   "id": "ae609575-62a5-4525-9c35-7c28050a0210",
   "metadata": {},
   "source": [
    "## Get log_loss and accuracy on testing set"
   ]
  },
  {
   "cell_type": "code",
   "execution_count": 76,
   "id": "6ef1fdee",
   "metadata": {},
   "outputs": [
    {
     "name": "stdout",
     "output_type": "stream",
     "text": [
      "log_loss: 0.03462565757061547, accuracy: 0.9722222222222222\n"
     ]
    }
   ],
   "source": [
    "h_w_x = clf.predict(x_test1)\n",
    "log_loss_g = log_loss(y_test1, clf.predict_proba(x_test1))\n",
    "accuracy = accuracy_score(y_test1, h_w_x, normalize=True)\n",
    "print(f\"log_loss: {log_loss_g}, accuracy: {accuracy}\")"
   ]
  },
  {
   "cell_type": "markdown",
   "id": "a72cc709-718a-458a-a98d-7d72930a9f46",
   "metadata": {},
   "source": [
    "# Gaussian Naive Bayes\n",
    "\n",
    "## No feature scaling\n",
    "fit Gaussian Naive Bayes without scaling"
   ]
  },
  {
   "cell_type": "code",
   "execution_count": 77,
   "id": "f65bbcaa",
   "metadata": {},
   "outputs": [
    {
     "data": {
      "text/plain": [
       "array([0, 2, 1, 1, 2, 0, 2, 0, 1, 0, 1, 2, 0, 2, 1, 2, 1, 1, 0, 1, 1, 2,\n",
       "       2, 2, 1, 2, 2, 0, 0, 2, 2, 2, 1, 2, 0, 0])"
      ]
     },
     "execution_count": 77,
     "metadata": {},
     "output_type": "execute_result"
    }
   ],
   "source": [
    "from sklearn.naive_bayes import GaussianNB\n",
    "classifier = GaussianNB()\n",
    "clf = classifier.fit(x_train1, y_train1)\n",
    "clf.predict(x_test1)"
   ]
  },
  {
   "cell_type": "markdown",
   "id": "5b705425-a15c-4d69-8ce3-dcdfd8e8a63b",
   "metadata": {},
   "source": [
    "### Get log_loss and accuracy on testing set"
   ]
  },
  {
   "cell_type": "code",
   "execution_count": 78,
   "id": "5f2dac08",
   "metadata": {},
   "outputs": [
    {
     "name": "stdout",
     "output_type": "stream",
     "text": [
      "log_loss: 0.2188054139079512, accuracy: 0.9722222222222222\n"
     ]
    }
   ],
   "source": [
    "h_w_x = clf.predict(x_test1)\n",
    "log_loss_g = log_loss(y_test1, clf.predict_proba(x_test1))\n",
    "accuracy = accuracy_score(y_test1, h_w_x, normalize=True)\n",
    "print(f\"log_loss: {log_loss_g}, accuracy: {accuracy}\")"
   ]
  },
  {
   "cell_type": "markdown",
   "id": "7181de45-5861-42bd-80df-c9b56c89bdec",
   "metadata": {},
   "source": [
    "## Feature scaling (use StandardScaler)"
   ]
  },
  {
   "cell_type": "code",
   "execution_count": 79,
   "id": "c4d300fd",
   "metadata": {},
   "outputs": [],
   "source": [
    "#Feature Scaling\n",
    "from sklearn.preprocessing import StandardScaler\n",
    "scaler = StandardScaler()\n",
    "scaler.fit(x_train1, y_train1)\n",
    "training_set_x_new2 = scaler.transform(x_train1)\n",
    "testing_set_x_new2 = scaler.transform(x_test1)"
   ]
  },
  {
   "cell_type": "markdown",
   "id": "00fdad91-e2d3-45ef-9519-366dd43ff0b6",
   "metadata": {},
   "source": [
    "### fit Gaussian Naive Bayes algorithm here using feature scaling"
   ]
  },
  {
   "cell_type": "code",
   "execution_count": 80,
   "id": "bb5ff37b",
   "metadata": {},
   "outputs": [
    {
     "data": {
      "text/plain": [
       "array([0, 2, 1, 1, 2, 0, 2, 0, 1, 0, 1, 2, 0, 2, 1, 2, 1, 1, 0, 1, 1, 2,\n",
       "       2, 2, 1, 2, 2, 0, 0, 2, 2, 2, 1, 2, 0, 0])"
      ]
     },
     "execution_count": 80,
     "metadata": {},
     "output_type": "execute_result"
    }
   ],
   "source": [
    "from sklearn.naive_bayes import GaussianNB\n",
    "classifier = GaussianNB()\n",
    "clf = classifier.fit(training_set_x_new2, y_train1)\n",
    "clf.predict(testing_set_x_new2)"
   ]
  },
  {
   "cell_type": "markdown",
   "id": "e7fe40a4-3d94-455d-a59f-cdc6c5c9cef9",
   "metadata": {},
   "source": [
    "### Get log_loss and accuracy on testing set with feature scaling"
   ]
  },
  {
   "cell_type": "code",
   "execution_count": 81,
   "id": "acac1dee",
   "metadata": {},
   "outputs": [
    {
     "name": "stdout",
     "output_type": "stream",
     "text": [
      "log_loss: 0.22126310771029448, accuracy: 0.9722222222222222\n"
     ]
    }
   ],
   "source": [
    "h_w_x = clf.predict(testing_set_x_new2)\n",
    "log_loss_g = log_loss(y_test1, clf.predict_proba(testing_set_x_new2))\n",
    "accuracy = accuracy_score(y_test1, h_w_x, normalize=True)\n",
    "print(f\"log_loss: {log_loss_g}, accuracy: {accuracy}\")"
   ]
  },
  {
   "cell_type": "markdown",
   "id": "e8415097-4b27-49ef-bd6d-3285cd63d427",
   "metadata": {},
   "source": [
    "# Multinomial Naive Bayes\n",
    "\n",
    "## No Feature Scaling\n",
    "fit Multinomial Naive Bayes algorithm here without feature scaling"
   ]
  },
  {
   "cell_type": "code",
   "execution_count": 82,
   "id": "69985639",
   "metadata": {},
   "outputs": [],
   "source": [
    "from sklearn.naive_bayes import MultinomialNB\n",
    "\n",
    "classifier = MultinomialNB()\n",
    "clf = classifier.fit(x_train1, y_train1)"
   ]
  },
  {
   "cell_type": "markdown",
   "id": "5fbf9274-5f0f-4fdf-a63b-d7f8a2aaec2e",
   "metadata": {},
   "source": [
    "### Get log_loss and accuracy on testing set"
   ]
  },
  {
   "cell_type": "code",
   "execution_count": 83,
   "id": "3a8612f4",
   "metadata": {},
   "outputs": [
    {
     "name": "stdout",
     "output_type": "stream",
     "text": [
      "log_loss: 0.9492435024133131, accuracy: 0.8611111111111112\n"
     ]
    }
   ],
   "source": [
    "h_w_x = clf.predict(x_test1)\n",
    "log_loss_g = log_loss(y_test1, clf.predict_proba(x_test1))\n",
    "accuracy = accuracy_score(y_test1, h_w_x, normalize=True)\n",
    "print(f\"log_loss: {log_loss_g}, accuracy: {accuracy}\")"
   ]
  },
  {
   "cell_type": "markdown",
   "id": "787c1f2a-4745-413c-8883-6266a09f437a",
   "metadata": {},
   "source": [
    "## Feature scaling (use MinMaxScaler)"
   ]
  },
  {
   "cell_type": "code",
   "execution_count": 84,
   "id": "81b91851",
   "metadata": {},
   "outputs": [],
   "source": [
    "from sklearn.preprocessing import MinMaxScaler\n",
    "scaler = MinMaxScaler()\n",
    "training_set_x = x_train1\n",
    "training_set_y = y_train1\n",
    "testing_set_x = x_test1\n",
    "testing_set_y = y_test1\n",
    "scaler.fit(training_set_x)\n",
    "        \n",
    "training_set_x_fs = scaler.transform(training_set_x)\n",
    "testing_set_x_fs = scaler.transform(testing_set_x)\n",
    "#all_scaled = scaler.transform(X1"
   ]
  },
  {
   "cell_type": "markdown",
   "id": "c8b7a5c7-355d-4950-8c9d-94839b484873",
   "metadata": {},
   "source": [
    "### fit Multinomial Naive Bayes algorithm here using feature scaling"
   ]
  },
  {
   "cell_type": "code",
   "execution_count": 85,
   "id": "65032d30",
   "metadata": {},
   "outputs": [],
   "source": [
    "classifier = MultinomialNB()\n",
    "clf = classifier.fit(training_set_x_fs, training_set_y)"
   ]
  },
  {
   "cell_type": "markdown",
   "id": "f6c5bbbf-0a47-4845-b550-9f1c1e2436a9",
   "metadata": {},
   "source": [
    "### Get log_loss and accuracy on testing set"
   ]
  },
  {
   "cell_type": "code",
   "execution_count": 86,
   "id": "92ad8c47",
   "metadata": {},
   "outputs": [
    {
     "name": "stdout",
     "output_type": "stream",
     "text": [
      "log_loss: 0.6357066299636828, accuracy: 0.9166666666666666\n"
     ]
    }
   ],
   "source": [
    "h_w_x = clf.predict(testing_set_x_fs)\n",
    "log_loss_g = log_loss(testing_set_y, clf.predict_proba(testing_set_x_fs))\n",
    "accuracy = accuracy_score(testing_set_y, h_w_x, normalize=True)\n",
    "print(f\"log_loss: {log_loss_g}, accuracy: {accuracy}\")"
   ]
  }
 ],
 "metadata": {
  "kernelspec": {
   "display_name": "Python 3 (ipykernel)",
   "language": "python",
   "name": "python3"
  },
  "language_info": {
   "codemirror_mode": {
    "name": "ipython",
    "version": 3
   },
   "file_extension": ".py",
   "mimetype": "text/x-python",
   "name": "python",
   "nbconvert_exporter": "python",
   "pygments_lexer": "ipython3",
   "version": "3.9.7"
  }
 },
 "nbformat": 4,
 "nbformat_minor": 5
}
