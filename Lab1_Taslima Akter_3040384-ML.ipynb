{
 "cells": [
  {
   "cell_type": "markdown",
   "id": "8ef5f49b",
   "metadata": {},
   "source": [
    "# Student Name- Taslima Akter\n",
    "StudentID-3040384"
   ]
  },
  {
   "cell_type": "markdown",
   "id": "ffbd1053-ec5b-4a27-8508-a1d2c08169a4",
   "metadata": {
    "jp-MarkdownHeadingCollapsed": true,
    "tags": []
   },
   "source": [
    "# Import Python Packages"
   ]
  },
  {
   "cell_type": "code",
   "execution_count": 1,
   "id": "d0b9ddc2",
   "metadata": {},
   "outputs": [],
   "source": [
    "import numpy as np\n",
    "import matplotlib as plt\n",
    "import pandas as pd\n",
    "import seaborn as sns\n",
    "import matplotlib.pyplot as plt\n",
    "from IPython.display import display\n",
    "from sklearn.linear_model import LogisticRegression\n",
    "from sklearn.linear_model import LinearRegression\n",
    "from sklearn.model_selection import train_test_split\n",
    "from sklearn import metrics\n",
    "import math\n",
    "from sklearn.metrics import mean_squared_error, r2_score"
   ]
  },
  {
   "cell_type": "markdown",
   "id": "9f448010",
   "metadata": {},
   "source": [
    "# Loading Regression Data"
   ]
  },
  {
   "cell_type": "code",
   "execution_count": 2,
   "id": "a7f6ae88-86b4-4c57-bd4d-4cb17d62a468",
   "metadata": {},
   "outputs": [
    {
     "data": {
      "text/html": [
       "<div>\n",
       "<style scoped>\n",
       "    .dataframe tbody tr th:only-of-type {\n",
       "        vertical-align: middle;\n",
       "    }\n",
       "\n",
       "    .dataframe tbody tr th {\n",
       "        vertical-align: top;\n",
       "    }\n",
       "\n",
       "    .dataframe thead th {\n",
       "        text-align: right;\n",
       "    }\n",
       "</style>\n",
       "<table border=\"1\" class=\"dataframe\">\n",
       "  <thead>\n",
       "    <tr style=\"text-align: right;\">\n",
       "      <th></th>\n",
       "      <th>age</th>\n",
       "      <th>sex</th>\n",
       "      <th>bmi</th>\n",
       "      <th>bp</th>\n",
       "      <th>s1</th>\n",
       "      <th>s2</th>\n",
       "      <th>s3</th>\n",
       "      <th>s4</th>\n",
       "      <th>s5</th>\n",
       "      <th>s6</th>\n",
       "      <th>target</th>\n",
       "    </tr>\n",
       "  </thead>\n",
       "  <tbody>\n",
       "    <tr>\n",
       "      <th>0</th>\n",
       "      <td>0.038076</td>\n",
       "      <td>0.050680</td>\n",
       "      <td>0.061696</td>\n",
       "      <td>0.021872</td>\n",
       "      <td>-0.044223</td>\n",
       "      <td>-0.034821</td>\n",
       "      <td>-0.043401</td>\n",
       "      <td>-0.002592</td>\n",
       "      <td>0.019908</td>\n",
       "      <td>-0.017646</td>\n",
       "      <td>151.0</td>\n",
       "    </tr>\n",
       "    <tr>\n",
       "      <th>1</th>\n",
       "      <td>-0.001882</td>\n",
       "      <td>-0.044642</td>\n",
       "      <td>-0.051474</td>\n",
       "      <td>-0.026328</td>\n",
       "      <td>-0.008449</td>\n",
       "      <td>-0.019163</td>\n",
       "      <td>0.074412</td>\n",
       "      <td>-0.039493</td>\n",
       "      <td>-0.068330</td>\n",
       "      <td>-0.092204</td>\n",
       "      <td>75.0</td>\n",
       "    </tr>\n",
       "    <tr>\n",
       "      <th>2</th>\n",
       "      <td>0.085299</td>\n",
       "      <td>0.050680</td>\n",
       "      <td>0.044451</td>\n",
       "      <td>-0.005671</td>\n",
       "      <td>-0.045599</td>\n",
       "      <td>-0.034194</td>\n",
       "      <td>-0.032356</td>\n",
       "      <td>-0.002592</td>\n",
       "      <td>0.002864</td>\n",
       "      <td>-0.025930</td>\n",
       "      <td>141.0</td>\n",
       "    </tr>\n",
       "    <tr>\n",
       "      <th>3</th>\n",
       "      <td>-0.089063</td>\n",
       "      <td>-0.044642</td>\n",
       "      <td>-0.011595</td>\n",
       "      <td>-0.036656</td>\n",
       "      <td>0.012191</td>\n",
       "      <td>0.024991</td>\n",
       "      <td>-0.036038</td>\n",
       "      <td>0.034309</td>\n",
       "      <td>0.022692</td>\n",
       "      <td>-0.009362</td>\n",
       "      <td>206.0</td>\n",
       "    </tr>\n",
       "    <tr>\n",
       "      <th>4</th>\n",
       "      <td>0.005383</td>\n",
       "      <td>-0.044642</td>\n",
       "      <td>-0.036385</td>\n",
       "      <td>0.021872</td>\n",
       "      <td>0.003935</td>\n",
       "      <td>0.015596</td>\n",
       "      <td>0.008142</td>\n",
       "      <td>-0.002592</td>\n",
       "      <td>-0.031991</td>\n",
       "      <td>-0.046641</td>\n",
       "      <td>135.0</td>\n",
       "    </tr>\n",
       "    <tr>\n",
       "      <th>...</th>\n",
       "      <td>...</td>\n",
       "      <td>...</td>\n",
       "      <td>...</td>\n",
       "      <td>...</td>\n",
       "      <td>...</td>\n",
       "      <td>...</td>\n",
       "      <td>...</td>\n",
       "      <td>...</td>\n",
       "      <td>...</td>\n",
       "      <td>...</td>\n",
       "      <td>...</td>\n",
       "    </tr>\n",
       "    <tr>\n",
       "      <th>437</th>\n",
       "      <td>0.041708</td>\n",
       "      <td>0.050680</td>\n",
       "      <td>0.019662</td>\n",
       "      <td>0.059744</td>\n",
       "      <td>-0.005697</td>\n",
       "      <td>-0.002566</td>\n",
       "      <td>-0.028674</td>\n",
       "      <td>-0.002592</td>\n",
       "      <td>0.031193</td>\n",
       "      <td>0.007207</td>\n",
       "      <td>178.0</td>\n",
       "    </tr>\n",
       "    <tr>\n",
       "      <th>438</th>\n",
       "      <td>-0.005515</td>\n",
       "      <td>0.050680</td>\n",
       "      <td>-0.015906</td>\n",
       "      <td>-0.067642</td>\n",
       "      <td>0.049341</td>\n",
       "      <td>0.079165</td>\n",
       "      <td>-0.028674</td>\n",
       "      <td>0.034309</td>\n",
       "      <td>-0.018118</td>\n",
       "      <td>0.044485</td>\n",
       "      <td>104.0</td>\n",
       "    </tr>\n",
       "    <tr>\n",
       "      <th>439</th>\n",
       "      <td>0.041708</td>\n",
       "      <td>0.050680</td>\n",
       "      <td>-0.015906</td>\n",
       "      <td>0.017282</td>\n",
       "      <td>-0.037344</td>\n",
       "      <td>-0.013840</td>\n",
       "      <td>-0.024993</td>\n",
       "      <td>-0.011080</td>\n",
       "      <td>-0.046879</td>\n",
       "      <td>0.015491</td>\n",
       "      <td>132.0</td>\n",
       "    </tr>\n",
       "    <tr>\n",
       "      <th>440</th>\n",
       "      <td>-0.045472</td>\n",
       "      <td>-0.044642</td>\n",
       "      <td>0.039062</td>\n",
       "      <td>0.001215</td>\n",
       "      <td>0.016318</td>\n",
       "      <td>0.015283</td>\n",
       "      <td>-0.028674</td>\n",
       "      <td>0.026560</td>\n",
       "      <td>0.044528</td>\n",
       "      <td>-0.025930</td>\n",
       "      <td>220.0</td>\n",
       "    </tr>\n",
       "    <tr>\n",
       "      <th>441</th>\n",
       "      <td>-0.045472</td>\n",
       "      <td>-0.044642</td>\n",
       "      <td>-0.073030</td>\n",
       "      <td>-0.081414</td>\n",
       "      <td>0.083740</td>\n",
       "      <td>0.027809</td>\n",
       "      <td>0.173816</td>\n",
       "      <td>-0.039493</td>\n",
       "      <td>-0.004220</td>\n",
       "      <td>0.003064</td>\n",
       "      <td>57.0</td>\n",
       "    </tr>\n",
       "  </tbody>\n",
       "</table>\n",
       "<p>442 rows × 11 columns</p>\n",
       "</div>"
      ],
      "text/plain": [
       "          age       sex       bmi        bp        s1        s2        s3  \\\n",
       "0    0.038076  0.050680  0.061696  0.021872 -0.044223 -0.034821 -0.043401   \n",
       "1   -0.001882 -0.044642 -0.051474 -0.026328 -0.008449 -0.019163  0.074412   \n",
       "2    0.085299  0.050680  0.044451 -0.005671 -0.045599 -0.034194 -0.032356   \n",
       "3   -0.089063 -0.044642 -0.011595 -0.036656  0.012191  0.024991 -0.036038   \n",
       "4    0.005383 -0.044642 -0.036385  0.021872  0.003935  0.015596  0.008142   \n",
       "..        ...       ...       ...       ...       ...       ...       ...   \n",
       "437  0.041708  0.050680  0.019662  0.059744 -0.005697 -0.002566 -0.028674   \n",
       "438 -0.005515  0.050680 -0.015906 -0.067642  0.049341  0.079165 -0.028674   \n",
       "439  0.041708  0.050680 -0.015906  0.017282 -0.037344 -0.013840 -0.024993   \n",
       "440 -0.045472 -0.044642  0.039062  0.001215  0.016318  0.015283 -0.028674   \n",
       "441 -0.045472 -0.044642 -0.073030 -0.081414  0.083740  0.027809  0.173816   \n",
       "\n",
       "           s4        s5        s6  target  \n",
       "0   -0.002592  0.019908 -0.017646   151.0  \n",
       "1   -0.039493 -0.068330 -0.092204    75.0  \n",
       "2   -0.002592  0.002864 -0.025930   141.0  \n",
       "3    0.034309  0.022692 -0.009362   206.0  \n",
       "4   -0.002592 -0.031991 -0.046641   135.0  \n",
       "..        ...       ...       ...     ...  \n",
       "437 -0.002592  0.031193  0.007207   178.0  \n",
       "438  0.034309 -0.018118  0.044485   104.0  \n",
       "439 -0.011080 -0.046879  0.015491   132.0  \n",
       "440  0.026560  0.044528 -0.025930   220.0  \n",
       "441 -0.039493 -0.004220  0.003064    57.0  \n",
       "\n",
       "[442 rows x 11 columns]"
      ]
     },
     "execution_count": 2,
     "metadata": {},
     "output_type": "execute_result"
    }
   ],
   "source": [
    "#Import the datafile\n",
    "from sklearn.datasets import load_diabetes\n",
    "diabetes_df =  load_diabetes(as_frame=True).frame\n",
    "diabetes_df"
   ]
  },
  {
   "cell_type": "markdown",
   "id": "bb5b1462",
   "metadata": {},
   "source": [
    "# Univariate Linear Regression\n",
    "(Grab appropriate features and data split)"
   ]
  },
  {
   "cell_type": "code",
   "execution_count": 3,
   "id": "bfd48fc4",
   "metadata": {},
   "outputs": [
    {
     "data": {
      "text/html": [
       "<div>\n",
       "<style scoped>\n",
       "    .dataframe tbody tr th:only-of-type {\n",
       "        vertical-align: middle;\n",
       "    }\n",
       "\n",
       "    .dataframe tbody tr th {\n",
       "        vertical-align: top;\n",
       "    }\n",
       "\n",
       "    .dataframe thead th {\n",
       "        text-align: right;\n",
       "    }\n",
       "</style>\n",
       "<table border=\"1\" class=\"dataframe\">\n",
       "  <thead>\n",
       "    <tr style=\"text-align: right;\">\n",
       "      <th></th>\n",
       "      <th>x_bmi</th>\n",
       "      <th>y_target</th>\n",
       "    </tr>\n",
       "  </thead>\n",
       "  <tbody>\n",
       "    <tr>\n",
       "      <th>0</th>\n",
       "      <td>0.061696</td>\n",
       "      <td>151.0</td>\n",
       "    </tr>\n",
       "    <tr>\n",
       "      <th>1</th>\n",
       "      <td>-0.051474</td>\n",
       "      <td>75.0</td>\n",
       "    </tr>\n",
       "    <tr>\n",
       "      <th>2</th>\n",
       "      <td>0.044451</td>\n",
       "      <td>141.0</td>\n",
       "    </tr>\n",
       "    <tr>\n",
       "      <th>3</th>\n",
       "      <td>-0.011595</td>\n",
       "      <td>206.0</td>\n",
       "    </tr>\n",
       "    <tr>\n",
       "      <th>4</th>\n",
       "      <td>-0.036385</td>\n",
       "      <td>135.0</td>\n",
       "    </tr>\n",
       "    <tr>\n",
       "      <th>...</th>\n",
       "      <td>...</td>\n",
       "      <td>...</td>\n",
       "    </tr>\n",
       "    <tr>\n",
       "      <th>437</th>\n",
       "      <td>0.019662</td>\n",
       "      <td>178.0</td>\n",
       "    </tr>\n",
       "    <tr>\n",
       "      <th>438</th>\n",
       "      <td>-0.015906</td>\n",
       "      <td>104.0</td>\n",
       "    </tr>\n",
       "    <tr>\n",
       "      <th>439</th>\n",
       "      <td>-0.015906</td>\n",
       "      <td>132.0</td>\n",
       "    </tr>\n",
       "    <tr>\n",
       "      <th>440</th>\n",
       "      <td>0.039062</td>\n",
       "      <td>220.0</td>\n",
       "    </tr>\n",
       "    <tr>\n",
       "      <th>441</th>\n",
       "      <td>-0.073030</td>\n",
       "      <td>57.0</td>\n",
       "    </tr>\n",
       "  </tbody>\n",
       "</table>\n",
       "<p>442 rows × 2 columns</p>\n",
       "</div>"
      ],
      "text/plain": [
       "        x_bmi  y_target\n",
       "0    0.061696     151.0\n",
       "1   -0.051474      75.0\n",
       "2    0.044451     141.0\n",
       "3   -0.011595     206.0\n",
       "4   -0.036385     135.0\n",
       "..        ...       ...\n",
       "437  0.019662     178.0\n",
       "438 -0.015906     104.0\n",
       "439 -0.015906     132.0\n",
       "440  0.039062     220.0\n",
       "441 -0.073030      57.0\n",
       "\n",
       "[442 rows x 2 columns]"
      ]
     },
     "execution_count": 3,
     "metadata": {},
     "output_type": "execute_result"
    }
   ],
   "source": [
    "bmi = np.array(diabetes_df[\"bmi\"])\n",
    "target = np.array(diabetes_df[\"target\"])\n",
    "x=bmi\n",
    "y=target\n",
    "X_y_df = pd.DataFrame(np.array(np.transpose([x, y])), columns=[\"x_bmi\",\"y_target\"])\n",
    "X_y_df"
   ]
  },
  {
   "cell_type": "code",
   "execution_count": 4,
   "id": "872444d9",
   "metadata": {},
   "outputs": [],
   "source": [
    "#Spliting the dataset\n",
    "x_train, x_test, y_train, y_test = train_test_split(x,y, test_size=.2, random_state=0,shuffle=False)"
   ]
  },
  {
   "cell_type": "markdown",
   "id": "4095ec55-bf96-4596-a593-c0b5830128ae",
   "metadata": {
    "tags": []
   },
   "source": [
    "## Normal Equation-Training Dataset\n",
    "(fit and predict the normal equation)"
   ]
  },
  {
   "cell_type": "code",
   "execution_count": 5,
   "id": "898309a6",
   "metadata": {},
   "outputs": [],
   "source": [
    "#Training Dataset\n",
    "x_reshaped=x_train.reshape(-1, 1)\n",
    "reg = LinearRegression().fit(x_reshaped, y_train)"
   ]
  },
  {
   "cell_type": "code",
   "execution_count": 7,
   "id": "f8b7c2d3",
   "metadata": {},
   "outputs": [
    {
     "data": {
      "text/html": [
       "<div>\n",
       "<style scoped>\n",
       "    .dataframe tbody tr th:only-of-type {\n",
       "        vertical-align: middle;\n",
       "    }\n",
       "\n",
       "    .dataframe tbody tr th {\n",
       "        vertical-align: top;\n",
       "    }\n",
       "\n",
       "    .dataframe thead th {\n",
       "        text-align: right;\n",
       "    }\n",
       "</style>\n",
       "<table border=\"1\" class=\"dataframe\">\n",
       "  <thead>\n",
       "    <tr style=\"text-align: right;\">\n",
       "      <th></th>\n",
       "      <th>x</th>\n",
       "      <th>predicted_y</th>\n",
       "    </tr>\n",
       "  </thead>\n",
       "  <tbody>\n",
       "    <tr>\n",
       "      <th>0</th>\n",
       "      <td>0.061696</td>\n",
       "      <td>211.143800</td>\n",
       "    </tr>\n",
       "    <tr>\n",
       "      <th>1</th>\n",
       "      <td>-0.051474</td>\n",
       "      <td>102.753615</td>\n",
       "    </tr>\n",
       "    <tr>\n",
       "      <th>2</th>\n",
       "      <td>0.044451</td>\n",
       "      <td>194.627200</td>\n",
       "    </tr>\n",
       "    <tr>\n",
       "      <th>3</th>\n",
       "      <td>-0.011595</td>\n",
       "      <td>140.948252</td>\n",
       "    </tr>\n",
       "    <tr>\n",
       "      <th>4</th>\n",
       "      <td>-0.036385</td>\n",
       "      <td>117.205640</td>\n",
       "    </tr>\n",
       "    <tr>\n",
       "      <th>...</th>\n",
       "      <td>...</td>\n",
       "      <td>...</td>\n",
       "    </tr>\n",
       "    <tr>\n",
       "      <th>348</th>\n",
       "      <td>-0.020218</td>\n",
       "      <td>132.689952</td>\n",
       "    </tr>\n",
       "    <tr>\n",
       "      <th>349</th>\n",
       "      <td>-0.057941</td>\n",
       "      <td>96.559890</td>\n",
       "    </tr>\n",
       "    <tr>\n",
       "      <th>350</th>\n",
       "      <td>0.060618</td>\n",
       "      <td>210.111512</td>\n",
       "    </tr>\n",
       "    <tr>\n",
       "      <th>351</th>\n",
       "      <td>-0.040696</td>\n",
       "      <td>113.076490</td>\n",
       "    </tr>\n",
       "    <tr>\n",
       "      <th>352</th>\n",
       "      <td>-0.071952</td>\n",
       "      <td>83.140153</td>\n",
       "    </tr>\n",
       "  </tbody>\n",
       "</table>\n",
       "<p>353 rows × 2 columns</p>\n",
       "</div>"
      ],
      "text/plain": [
       "            x  predicted_y\n",
       "0    0.061696   211.143800\n",
       "1   -0.051474   102.753615\n",
       "2    0.044451   194.627200\n",
       "3   -0.011595   140.948252\n",
       "4   -0.036385   117.205640\n",
       "..        ...          ...\n",
       "348 -0.020218   132.689952\n",
       "349 -0.057941    96.559890\n",
       "350  0.060618   210.111512\n",
       "351 -0.040696   113.076490\n",
       "352 -0.071952    83.140153\n",
       "\n",
       "[353 rows x 2 columns]"
      ]
     },
     "execution_count": 7,
     "metadata": {},
     "output_type": "execute_result"
    }
   ],
   "source": [
    "#Training Data\n",
    "training_set = x_reshaped\n",
    "h_w_x = reg.predict(training_set)\n",
    "h_w_x_df = pd.DataFrame(np.array(np.transpose([training_set[:,0], h_w_x])),columns=[\"x\", \"predicted_y\"])\n",
    "h_w_x_df"
   ]
  },
  {
   "cell_type": "markdown",
   "id": "5aedbb3d",
   "metadata": {},
   "source": [
    "# Plot Regression Graph"
   ]
  },
  {
   "cell_type": "code",
   "execution_count": 8,
   "id": "0732395e",
   "metadata": {},
   "outputs": [
    {
     "data": {
      "text/plain": [
       "[<matplotlib.lines.Line2D at 0x22c22faf8e0>]"
      ]
     },
     "execution_count": 8,
     "metadata": {},
     "output_type": "execute_result"
    },
    {
     "data": {
      "image/png": "[encoded data removed]",
      "text/plain": [
       "<Figure size 432x288 with 1 Axes>"
      ]
     },
     "metadata": {
      "needs_background": "light"
     },
     "output_type": "display_data"
    }
   ],
   "source": [
    "#Training Data\n",
    "plt.scatter(x_reshaped[:,0], y_train, color=\"black\")\n",
    "plt.plot(x_reshaped[:,0], h_w_x, color=\"blue\", linewidth=3)"
   ]
  },
  {
   "cell_type": "markdown",
   "id": "15e28996-6820-4539-808a-509b6d7f8755",
   "metadata": {},
   "source": [
    "### mse and rsquared (Training set)"
   ]
  },
  {
   "cell_type": "code",
   "execution_count": 9,
   "id": "5edecab0",
   "metadata": {},
   "outputs": [
    {
     "name": "stdout",
     "output_type": "stream",
     "text": [
      "mse: 3842, r2: 0.3378550554042947\n"
     ]
    }
   ],
   "source": [
    "#Training Data(your mse should be lower than 4000.0 and your rsquared should be above 0.30)\n",
    "mse = mean_squared_error(y_train, h_w_x)\n",
    "r2 = r2_score(y_train, h_w_x)\n",
    "# Using math.floor here because the mse was basically 0 so I'm cleaning it up (You dont need to use math.floor in your own implementation)\n",
    "print(f\"mse: {math.floor(mse)}, r2: {r2}\")"
   ]
  },
  {
   "cell_type": "markdown",
   "id": "085eb7d2",
   "metadata": {},
   "source": [
    "# Normal Equation-Testing Dataset\n",
    "\n",
    "(fit and predict the normal equation)"
   ]
  },
  {
   "cell_type": "code",
   "execution_count": 10,
   "id": "2365d430",
   "metadata": {},
   "outputs": [],
   "source": [
    "#reshaped testing dataset\n",
    "x_reshaped=x_test.reshape(-1, 1)\n",
    "reg = LinearRegression().fit(x_reshaped, y_test)"
   ]
  },
  {
   "cell_type": "code",
   "execution_count": 11,
   "id": "ad2cba8e",
   "metadata": {},
   "outputs": [
    {
     "data": {
      "text/html": [
       "<div>\n",
       "<style scoped>\n",
       "    .dataframe tbody tr th:only-of-type {\n",
       "        vertical-align: middle;\n",
       "    }\n",
       "\n",
       "    .dataframe tbody tr th {\n",
       "        vertical-align: top;\n",
       "    }\n",
       "\n",
       "    .dataframe thead th {\n",
       "        text-align: right;\n",
       "    }\n",
       "</style>\n",
       "<table border=\"1\" class=\"dataframe\">\n",
       "  <thead>\n",
       "    <tr style=\"text-align: right;\">\n",
       "      <th></th>\n",
       "      <th>x</th>\n",
       "      <th>predicted_y</th>\n",
       "    </tr>\n",
       "  </thead>\n",
       "  <tbody>\n",
       "    <tr>\n",
       "      <th>0</th>\n",
       "      <td>-0.055785</td>\n",
       "      <td>101.020061</td>\n",
       "    </tr>\n",
       "    <tr>\n",
       "      <th>1</th>\n",
       "      <td>0.045529</td>\n",
       "      <td>194.574125</td>\n",
       "    </tr>\n",
       "    <tr>\n",
       "      <th>2</th>\n",
       "      <td>-0.009439</td>\n",
       "      <td>143.816069</td>\n",
       "    </tr>\n",
       "    <tr>\n",
       "      <th>3</th>\n",
       "      <td>-0.033151</td>\n",
       "      <td>121.920437</td>\n",
       "    </tr>\n",
       "    <tr>\n",
       "      <th>4</th>\n",
       "      <td>0.049840</td>\n",
       "      <td>198.555149</td>\n",
       "    </tr>\n",
       "    <tr>\n",
       "      <th>...</th>\n",
       "      <td>...</td>\n",
       "      <td>...</td>\n",
       "    </tr>\n",
       "    <tr>\n",
       "      <th>84</th>\n",
       "      <td>0.019662</td>\n",
       "      <td>170.687981</td>\n",
       "    </tr>\n",
       "    <tr>\n",
       "      <th>85</th>\n",
       "      <td>-0.015906</td>\n",
       "      <td>137.844533</td>\n",
       "    </tr>\n",
       "    <tr>\n",
       "      <th>86</th>\n",
       "      <td>-0.015906</td>\n",
       "      <td>137.844533</td>\n",
       "    </tr>\n",
       "    <tr>\n",
       "      <th>87</th>\n",
       "      <td>0.039062</td>\n",
       "      <td>188.602589</td>\n",
       "    </tr>\n",
       "    <tr>\n",
       "      <th>88</th>\n",
       "      <td>-0.073030</td>\n",
       "      <td>85.095965</td>\n",
       "    </tr>\n",
       "  </tbody>\n",
       "</table>\n",
       "<p>89 rows × 2 columns</p>\n",
       "</div>"
      ],
      "text/plain": [
       "           x  predicted_y\n",
       "0  -0.055785   101.020061\n",
       "1   0.045529   194.574125\n",
       "2  -0.009439   143.816069\n",
       "3  -0.033151   121.920437\n",
       "4   0.049840   198.555149\n",
       "..       ...          ...\n",
       "84  0.019662   170.687981\n",
       "85 -0.015906   137.844533\n",
       "86 -0.015906   137.844533\n",
       "87  0.039062   188.602589\n",
       "88 -0.073030    85.095965\n",
       "\n",
       "[89 rows x 2 columns]"
      ]
     },
     "execution_count": 11,
     "metadata": {},
     "output_type": "execute_result"
    }
   ],
   "source": [
    "#testing dataset\n",
    "testing_set = x_reshaped\n",
    "h_w_x = reg.predict(testing_set)\n",
    "h_w_x_df = pd.DataFrame(np.array(np.transpose([testing_set[:,0], h_w_x])),columns=[\"x\", \"predicted_y\"])\n",
    "h_w_x_df"
   ]
  },
  {
   "cell_type": "markdown",
   "id": "c98a69fe",
   "metadata": {},
   "source": [
    "# mse and rsquared (Testing set)"
   ]
  },
  {
   "cell_type": "code",
   "execution_count": 12,
   "id": "8cdd91f8",
   "metadata": {},
   "outputs": [
    {
     "name": "stdout",
     "output_type": "stream",
     "text": [
      "mse: 4076, r2: 0.36521875730552655\n"
     ]
    }
   ],
   "source": [
    "#testing dataset(your mse should be lower than 4500.0 and your rsquared should be above 0.30)\n",
    "mse = mean_squared_error(y_test, h_w_x)\n",
    "r2 = r2_score(y_test, h_w_x)\n",
    "\n",
    "# Using math.floor here because the mse was basically 0 so I'm cleaning it up (You dont need to use math.floor in your own implementation)\n",
    "print(f\"mse: {math.floor(mse)}, r2: {r2}\")"
   ]
  },
  {
   "cell_type": "markdown",
   "id": "b9a5189a-05b2-4fe7-aa5d-f87e5d6a94d3",
   "metadata": {},
   "source": [
    "### Plot Regression Graph(Testing data)"
   ]
  },
  {
   "cell_type": "code",
   "execution_count": 13,
   "id": "c6fd3b79",
   "metadata": {},
   "outputs": [
    {
     "data": {
      "text/plain": [
       "[<matplotlib.lines.Line2D at 0x22c250c8a60>]"
      ]
     },
     "execution_count": 13,
     "metadata": {},
     "output_type": "execute_result"
    },
    {
     "data": {
      "image/png": "[encoded data removed]",
      "text/plain": [
       "<Figure size 432x288 with 1 Axes>"
      ]
     },
     "metadata": {
      "needs_background": "light"
     },
     "output_type": "display_data"
    }
   ],
   "source": [
    "plt.scatter(x_reshaped[:,0], y_test, color=\"black\")\n",
    "plt.plot(x_reshaped[:,0], h_w_x, color=\"blue\", linewidth=3)"
   ]
  },
  {
   "cell_type": "markdown",
   "id": "d6b0a5cc-551a-485c-a683-9bcf67cb8c63",
   "metadata": {
    "tags": []
   },
   "source": [
    "## Gradient descent -Training Data\n",
    "(fit and predict gradient descent)"
   ]
  },
  {
   "cell_type": "code",
   "execution_count": 22,
   "id": "96fd0c67",
   "metadata": {},
   "outputs": [],
   "source": [
    "#reshape training dataset\n",
    "x_train=x_train.reshape(-1,1)"
   ]
  },
  {
   "cell_type": "code",
   "execution_count": 23,
   "id": "3b3cffce",
   "metadata": {},
   "outputs": [],
   "source": [
    "#training dataset\n",
    "from sklearn.linear_model import SGDRegressor\n",
    "sgd = SGDRegressor(max_iter=30000, tol=1e-3, random_state=0, penalty='none').fit(x_train, y_train)"
   ]
  },
  {
   "cell_type": "code",
   "execution_count": 24,
   "id": "ede4e051",
   "metadata": {},
   "outputs": [
    {
     "data": {
      "text/html": [
       "<div>\n",
       "<style scoped>\n",
       "    .dataframe tbody tr th:only-of-type {\n",
       "        vertical-align: middle;\n",
       "    }\n",
       "\n",
       "    .dataframe tbody tr th {\n",
       "        vertical-align: top;\n",
       "    }\n",
       "\n",
       "    .dataframe thead th {\n",
       "        text-align: right;\n",
       "    }\n",
       "</style>\n",
       "<table border=\"1\" class=\"dataframe\">\n",
       "  <thead>\n",
       "    <tr style=\"text-align: right;\">\n",
       "      <th></th>\n",
       "      <th>x</th>\n",
       "      <th>predicted_y</th>\n",
       "    </tr>\n",
       "  </thead>\n",
       "  <tbody>\n",
       "    <tr>\n",
       "      <th>0</th>\n",
       "      <td>0.061696</td>\n",
       "      <td>203.209825</td>\n",
       "    </tr>\n",
       "    <tr>\n",
       "      <th>1</th>\n",
       "      <td>-0.051474</td>\n",
       "      <td>109.225678</td>\n",
       "    </tr>\n",
       "    <tr>\n",
       "      <th>2</th>\n",
       "      <td>0.044451</td>\n",
       "      <td>188.888431</td>\n",
       "    </tr>\n",
       "    <tr>\n",
       "      <th>3</th>\n",
       "      <td>-0.011595</td>\n",
       "      <td>142.343901</td>\n",
       "    </tr>\n",
       "    <tr>\n",
       "      <th>4</th>\n",
       "      <td>-0.036385</td>\n",
       "      <td>121.756898</td>\n",
       "    </tr>\n",
       "    <tr>\n",
       "      <th>...</th>\n",
       "      <td>...</td>\n",
       "      <td>...</td>\n",
       "    </tr>\n",
       "    <tr>\n",
       "      <th>348</th>\n",
       "      <td>-0.020218</td>\n",
       "      <td>135.183205</td>\n",
       "    </tr>\n",
       "    <tr>\n",
       "      <th>349</th>\n",
       "      <td>-0.057941</td>\n",
       "      <td>103.855156</td>\n",
       "    </tr>\n",
       "    <tr>\n",
       "      <th>350</th>\n",
       "      <td>0.060618</td>\n",
       "      <td>202.314738</td>\n",
       "    </tr>\n",
       "    <tr>\n",
       "      <th>351</th>\n",
       "      <td>-0.040696</td>\n",
       "      <td>118.176549</td>\n",
       "    </tr>\n",
       "    <tr>\n",
       "      <th>352</th>\n",
       "      <td>-0.071952</td>\n",
       "      <td>92.219023</td>\n",
       "    </tr>\n",
       "  </tbody>\n",
       "</table>\n",
       "<p>353 rows × 2 columns</p>\n",
       "</div>"
      ],
      "text/plain": [
       "            x  predicted_y\n",
       "0    0.061696   203.209825\n",
       "1   -0.051474   109.225678\n",
       "2    0.044451   188.888431\n",
       "3   -0.011595   142.343901\n",
       "4   -0.036385   121.756898\n",
       "..        ...          ...\n",
       "348 -0.020218   135.183205\n",
       "349 -0.057941   103.855156\n",
       "350  0.060618   202.314738\n",
       "351 -0.040696   118.176549\n",
       "352 -0.071952    92.219023\n",
       "\n",
       "[353 rows x 2 columns]"
      ]
     },
     "execution_count": 24,
     "metadata": {},
     "output_type": "execute_result"
    }
   ],
   "source": [
    "#training dataset\n",
    "training_set_sgd = x_train\n",
    "h_w_x = sgd.predict(training_set_sgd)\n",
    "h_w_x_df = pd.DataFrame(np.array(np.transpose([training_set_sgd[:,0], h_w_x])),columns=[\"x\", \"predicted_y\"])\n",
    "h_w_x_df"
   ]
  },
  {
   "cell_type": "code",
   "execution_count": 25,
   "id": "9074bf0e",
   "metadata": {},
   "outputs": [
    {
     "name": "stdout",
     "output_type": "stream",
     "text": [
      "mse: 3877, r2: 0.33188690378091246\n"
     ]
    }
   ],
   "source": [
    "#training dataset(your mse should be lower than 4000.0 and your rsquared should be above 0.30)\n",
    "mse = mean_squared_error(y_train, h_w_x)\n",
    "r2 = r2_score(y_train, h_w_x)\n",
    "\n",
    "# Using math.floor here because the mse was basically 0 so I'm cleaning it up (You dont need to use math.floor in your own implementation)\n",
    "print(f\"mse: {math.floor(mse)}, r2: {r2}\")"
   ]
  },
  {
   "cell_type": "code",
   "execution_count": 26,
   "id": "b6481b41",
   "metadata": {},
   "outputs": [
    {
     "data": {
      "text/plain": [
       "[<matplotlib.lines.Line2D at 0x22c251ad700>]"
      ]
     },
     "execution_count": 26,
     "metadata": {},
     "output_type": "execute_result"
    },
    {
     "data": {
      "image/png": "[encoded data removed]",
      "text/plain": [
       "<Figure size 432x288 with 1 Axes>"
      ]
     },
     "metadata": {
      "needs_background": "light"
     },
     "output_type": "display_data"
    }
   ],
   "source": [
    "#training dataset\n",
    "plt.scatter(training_set_sgd[:,0], y_train, color=\"black\")\n",
    "plt.plot(training_set_sgd[:,0], h_w_x, color=\"blue\", linewidth=3)"
   ]
  },
  {
   "cell_type": "markdown",
   "id": "15d52c7c",
   "metadata": {},
   "source": [
    "# Gradient descent -Test Data\n",
    "\n",
    "(fit and predict gradient descent)\n"
   ]
  },
  {
   "cell_type": "code",
   "execution_count": 27,
   "id": "7b3c7ac7",
   "metadata": {},
   "outputs": [],
   "source": [
    "#testing dataset\n",
    "x_test=x_test.reshape(-1,1)"
   ]
  },
  {
   "cell_type": "code",
   "execution_count": 28,
   "id": "dd4a6242",
   "metadata": {},
   "outputs": [],
   "source": [
    "#testing dataset\n",
    "from sklearn.linear_model import SGDRegressor\n",
    "sgd = SGDRegressor(max_iter=30000, tol=1e-3, random_state=0, penalty='none').fit(x_test, y_test)"
   ]
  },
  {
   "cell_type": "code",
   "execution_count": 30,
   "id": "6b3eaca2",
   "metadata": {},
   "outputs": [
    {
     "data": {
      "text/html": [
       "<div>\n",
       "<style scoped>\n",
       "    .dataframe tbody tr th:only-of-type {\n",
       "        vertical-align: middle;\n",
       "    }\n",
       "\n",
       "    .dataframe tbody tr th {\n",
       "        vertical-align: top;\n",
       "    }\n",
       "\n",
       "    .dataframe thead th {\n",
       "        text-align: right;\n",
       "    }\n",
       "</style>\n",
       "<table border=\"1\" class=\"dataframe\">\n",
       "  <thead>\n",
       "    <tr style=\"text-align: right;\">\n",
       "      <th></th>\n",
       "      <th>x</th>\n",
       "      <th>predicted_y</th>\n",
       "    </tr>\n",
       "  </thead>\n",
       "  <tbody>\n",
       "    <tr>\n",
       "      <th>0</th>\n",
       "      <td>-0.055785</td>\n",
       "      <td>107.583674</td>\n",
       "    </tr>\n",
       "    <tr>\n",
       "      <th>1</th>\n",
       "      <td>0.045529</td>\n",
       "      <td>189.713305</td>\n",
       "    </tr>\n",
       "    <tr>\n",
       "      <th>2</th>\n",
       "      <td>-0.009439</td>\n",
       "      <td>145.153612</td>\n",
       "    </tr>\n",
       "    <tr>\n",
       "      <th>3</th>\n",
       "      <td>-0.033151</td>\n",
       "      <td>125.931783</td>\n",
       "    </tr>\n",
       "    <tr>\n",
       "      <th>4</th>\n",
       "      <td>0.049840</td>\n",
       "      <td>193.208183</td>\n",
       "    </tr>\n",
       "    <tr>\n",
       "      <th>...</th>\n",
       "      <td>...</td>\n",
       "      <td>...</td>\n",
       "    </tr>\n",
       "    <tr>\n",
       "      <th>84</th>\n",
       "      <td>0.019662</td>\n",
       "      <td>168.744038</td>\n",
       "    </tr>\n",
       "    <tr>\n",
       "      <th>85</th>\n",
       "      <td>-0.015906</td>\n",
       "      <td>139.911295</td>\n",
       "    </tr>\n",
       "    <tr>\n",
       "      <th>86</th>\n",
       "      <td>-0.015906</td>\n",
       "      <td>139.911295</td>\n",
       "    </tr>\n",
       "    <tr>\n",
       "      <th>87</th>\n",
       "      <td>0.039062</td>\n",
       "      <td>184.470988</td>\n",
       "    </tr>\n",
       "    <tr>\n",
       "      <th>88</th>\n",
       "      <td>-0.073030</td>\n",
       "      <td>93.604163</td>\n",
       "    </tr>\n",
       "  </tbody>\n",
       "</table>\n",
       "<p>89 rows × 2 columns</p>\n",
       "</div>"
      ],
      "text/plain": [
       "           x  predicted_y\n",
       "0  -0.055785   107.583674\n",
       "1   0.045529   189.713305\n",
       "2  -0.009439   145.153612\n",
       "3  -0.033151   125.931783\n",
       "4   0.049840   193.208183\n",
       "..       ...          ...\n",
       "84  0.019662   168.744038\n",
       "85 -0.015906   139.911295\n",
       "86 -0.015906   139.911295\n",
       "87  0.039062   184.470988\n",
       "88 -0.073030    93.604163\n",
       "\n",
       "[89 rows x 2 columns]"
      ]
     },
     "execution_count": 30,
     "metadata": {},
     "output_type": "execute_result"
    }
   ],
   "source": [
    "#testing dataset\n",
    "test_set_sgd = x_test\n",
    "h_w_x = sgd.predict(test_set_sgd)\n",
    "h_w_x_df = pd.DataFrame(np.array(np.transpose([test_set_sgd[:,0], h_w_x])),columns=[\"x\", \"predicted_y\"])\n",
    "h_w_x_df"
   ]
  },
  {
   "cell_type": "markdown",
   "id": "00943909",
   "metadata": {},
   "source": [
    "### mse and rsquared (Testing set)"
   ]
  },
  {
   "cell_type": "code",
   "execution_count": 31,
   "id": "4647660f",
   "metadata": {},
   "outputs": [
    {
     "name": "stdout",
     "output_type": "stream",
     "text": [
      "mse: 4111, r2: 0.3597725103827535\n"
     ]
    }
   ],
   "source": [
    "#testing dataset(your mse should be lower than 4500.0 and your rsquared should be above 0.30)\n",
    "mse = mean_squared_error(y_test, h_w_x)\n",
    "r2 = r2_score(y_test, h_w_x)\n",
    "\n",
    "# Using math.floor here because the mse was basically 0 so I'm cleaning it up (You dont need to use math.floor in your own implementation)\n",
    "print(f\"mse: {math.floor(mse)}, r2: {r2}\")"
   ]
  },
  {
   "cell_type": "markdown",
   "id": "2642e1bd",
   "metadata": {},
   "source": [
    "# Plot Regression graph-Testing data"
   ]
  },
  {
   "cell_type": "code",
   "execution_count": 32,
   "id": "b782e4fa",
   "metadata": {},
   "outputs": [
    {
     "data": {
      "text/plain": [
       "[<matplotlib.lines.Line2D at 0x22c252204c0>]"
      ]
     },
     "execution_count": 32,
     "metadata": {},
     "output_type": "execute_result"
    },
    {
     "data": {
      "image/png": "[encoded data removed]",
      "text/plain": [
       "<Figure size 432x288 with 1 Axes>"
      ]
     },
     "metadata": {
      "needs_background": "light"
     },
     "output_type": "display_data"
    }
   ],
   "source": [
    "plt.scatter(test_set_sgd[:,0], y_test, color=\"black\")\n",
    "plt.plot(test_set_sgd[:,0], h_w_x, color=\"blue\", linewidth=3)"
   ]
  },
  {
   "cell_type": "markdown",
   "id": "cebed181-6bba-4c1d-b440-a38d804a3688",
   "metadata": {
    "tags": []
   },
   "source": [
    "# Multivariate Linear Regression\n",
    "(Grab appropriate features and data split)"
   ]
  },
  {
   "cell_type": "code",
   "execution_count": 34,
   "id": "5e98d95f",
   "metadata": {},
   "outputs": [],
   "source": [
    "#Assign the data to variable\n",
    "feature_cols1 = ['age', 'sex', 'bmi', 'bp', 's1', 's2', 's3', 's4', 's5', 's6']\n",
    "X = diabetes_df[feature_cols1]\n",
    "y = diabetes_df['target']"
   ]
  },
  {
   "cell_type": "markdown",
   "id": "9aa0d07d-7a64-4f7e-bdd9-216ebab33240",
   "metadata": {
    "tags": []
   },
   "source": [
    "## No feature scaling"
   ]
  },
  {
   "cell_type": "code",
   "execution_count": 35,
   "id": "d3f659db",
   "metadata": {},
   "outputs": [],
   "source": [
    "#Split the dataset\n",
    "x_train, x_test, y_train, y_test = train_test_split(X, y,test_size=0.2)"
   ]
  },
  {
   "cell_type": "markdown",
   "id": "d70dcfe8-1f4f-4edc-b162-506735f49102",
   "metadata": {},
   "source": [
    "## Fit and predict Normal Equation-Training Dataset"
   ]
  },
  {
   "cell_type": "code",
   "execution_count": 36,
   "id": "6bb7ed36",
   "metadata": {},
   "outputs": [],
   "source": [
    "#Training Dataset\n",
    "#x_train=x_train.reshape(-1,1)\n",
    "reg = LinearRegression().fit(x_train, y_train)\n",
    "training_set = x_train\n",
    "h_w_x = reg.predict(training_set)"
   ]
  },
  {
   "cell_type": "markdown",
   "id": "88e04578-3877-4399-9519-27a84c7b3155",
   "metadata": {},
   "source": [
    "### mse and rsquared (Training set)"
   ]
  },
  {
   "cell_type": "code",
   "execution_count": 37,
   "id": "7764d45e",
   "metadata": {},
   "outputs": [
    {
     "name": "stdout",
     "output_type": "stream",
     "text": [
      "mse: 2909, r2: 0.5104632995430749\n"
     ]
    }
   ],
   "source": [
    "#Training Dataset(your mse should be lower than 3000.0 and your rsquared should be above 0.50)\n",
    "mse = mean_squared_error(y_train, h_w_x)\n",
    "r2 = r2_score(y_train, h_w_x)\n",
    "print(f\"mse: {math.floor(mse)}, r2: {r2}\")"
   ]
  },
  {
   "cell_type": "markdown",
   "id": "b87b7b73",
   "metadata": {},
   "source": [
    "# Fit and predict Normal Equation-Testing Dataset"
   ]
  },
  {
   "cell_type": "code",
   "execution_count": 38,
   "id": "aecf3f46",
   "metadata": {},
   "outputs": [],
   "source": [
    "#Testing Dataset\n",
    "#x_test=x_test.reshape(-1,1)\n",
    "reg = LinearRegression().fit(x_test, y_test)\n",
    "testing_set = x_test\n",
    "h_w_x = reg.predict(testing_set)"
   ]
  },
  {
   "cell_type": "markdown",
   "id": "f8f6a573-4c9e-4284-934d-67a940db7adb",
   "metadata": {},
   "source": [
    "### mse and rsquared (Testing set)"
   ]
  },
  {
   "cell_type": "code",
   "execution_count": 39,
   "id": "f56df3da",
   "metadata": {},
   "outputs": [
    {
     "name": "stdout",
     "output_type": "stream",
     "text": [
      "mse: 2347, r2: 0.6003067185668471\n"
     ]
    }
   ],
   "source": [
    "#Testing Dataset(your mse should be lower than 3000.0 and your rsquared should be above 0.50)\n",
    "mse = mean_squared_error(y_test, h_w_x)\n",
    "r2 = r2_score(y_test, h_w_x)\n",
    "print(f\"mse: {math.floor(mse)}, r2: {r2}\")"
   ]
  },
  {
   "cell_type": "markdown",
   "id": "962392a7-46b6-4f2c-9334-6d8b87802ea8",
   "metadata": {},
   "source": [
    "## Fit and predict Gradient Descent (without feature scaling)-Training dataset"
   ]
  },
  {
   "cell_type": "code",
   "execution_count": 40,
   "id": "b6cefc3e",
   "metadata": {},
   "outputs": [],
   "source": [
    "#Training Dataset\n",
    "sgd = SGDRegressor(max_iter=150000, tol=1e-3, random_state=0, penalty='none').fit(x_train, y_train)"
   ]
  },
  {
   "cell_type": "markdown",
   "id": "15789162-65a4-4cb0-86e1-ac6784c1238a",
   "metadata": {},
   "source": [
    "### mse and rsquared (Training set) No feature scaling"
   ]
  },
  {
   "cell_type": "code",
   "execution_count": 41,
   "id": "f2f69371",
   "metadata": {},
   "outputs": [],
   "source": [
    "#Training Dataset\n",
    "training_set_sgd = x_train\n",
    "h_w_x = sgd.predict(training_set_sgd)"
   ]
  },
  {
   "cell_type": "code",
   "execution_count": 42,
   "id": "fc72f9ca",
   "metadata": {
    "scrolled": true
   },
   "outputs": [
    {
     "name": "stdout",
     "output_type": "stream",
     "text": [
      "mse: 2970, r2: 0.500074572416081\n"
     ]
    }
   ],
   "source": [
    "#training data-your mse should be lower than 3000.0 and your rsquared should be above 0.50\n",
    "mse = mean_squared_error(y_train, h_w_x)\n",
    "r2 = r2_score(y_train, h_w_x)\n",
    "print(f\"mse: {math.floor(mse)}, r2: {r2}\")"
   ]
  },
  {
   "cell_type": "markdown",
   "id": "12413640",
   "metadata": {},
   "source": [
    "# Fit and predict Gradient Descent (without feature scaling)-Testing dataset"
   ]
  },
  {
   "cell_type": "code",
   "execution_count": 43,
   "id": "72da9e97",
   "metadata": {},
   "outputs": [],
   "source": [
    "#Testing Dataset\n",
    "sgd = SGDRegressor(max_iter=100000, tol=1e-3, random_state=0, penalty='none').fit(x_test, y_test)"
   ]
  },
  {
   "cell_type": "code",
   "execution_count": 44,
   "id": "b56814c2",
   "metadata": {},
   "outputs": [],
   "source": [
    "#Testing Dataset\n",
    "testing_set_sgd = x_test\n",
    "h_w_x = sgd.predict(testing_set_sgd)"
   ]
  },
  {
   "cell_type": "markdown",
   "id": "6376375a-0bba-46ae-a483-13afecffda71",
   "metadata": {},
   "source": [
    "### mse and rsquared (Testing set) No feature scaling"
   ]
  },
  {
   "cell_type": "code",
   "execution_count": 45,
   "id": "94e26523",
   "metadata": {},
   "outputs": [
    {
     "name": "stdout",
     "output_type": "stream",
     "text": [
      "mse: 2447, r2: 0.5832753921150028\n"
     ]
    }
   ],
   "source": [
    "#Testing Dataset(your mse should be lower than 3500.0 and your rsquared should be above 0.50)\n",
    "mse = mean_squared_error(y_test, h_w_x)\n",
    "r2 = r2_score(y_test, h_w_x)\n",
    "print(f\"mse: {math.floor(mse)}, r2: {r2}\")"
   ]
  },
  {
   "cell_type": "markdown",
   "id": "82e37e2f-0c42-4f65-a6bf-cbef52a7bb83",
   "metadata": {},
   "source": [
    "## Feature scaling-Training Data\n",
    "(Feature scale your data here)"
   ]
  },
  {
   "cell_type": "code",
   "execution_count": 46,
   "id": "cd78892e",
   "metadata": {},
   "outputs": [],
   "source": [
    "#Assign the data to variable-training data\n",
    "feature_cols2 = ['age', 'sex', 'bmi', 'bp', 's1', 's2', 's3', 's4', 's5', 's6']\n",
    "X = diabetes_df[feature_cols2]\n",
    "y = diabetes_df['target']"
   ]
  },
  {
   "cell_type": "code",
   "execution_count": 47,
   "id": "2c386448",
   "metadata": {},
   "outputs": [],
   "source": [
    "#Split the dataset-training data\n",
    "x_train, x_test, y_train, y_test = train_test_split(X, y,test_size=0.2)"
   ]
  },
  {
   "cell_type": "code",
   "execution_count": 48,
   "id": "2384e68b",
   "metadata": {},
   "outputs": [],
   "source": [
    "#Training data\n",
    "from sklearn.preprocessing import StandardScaler\n",
    "scaler = StandardScaler()\n",
    "scaler.fit(x_train)\n",
    "scaler.fit(x_test)\n",
    "training_set_x_fs = scaler.transform(x_train)\n",
    "testing_set_x_fs = scaler.transform(x_test)"
   ]
  },
  {
   "cell_type": "markdown",
   "id": "bddc4318",
   "metadata": {},
   "source": [
    "# Fit and predict Gradient Descent (with feature scaling)-training Dataset"
   ]
  },
  {
   "cell_type": "code",
   "execution_count": 49,
   "id": "aff0877b",
   "metadata": {},
   "outputs": [],
   "source": [
    "#training dataset\n",
    "from sklearn.linear_model import SGDRegressor\n",
    "sgd = SGDRegressor(max_iter=10000, tol=1e-3, random_state=0, penalty='none').fit(training_set_x_fs, y_train)"
   ]
  },
  {
   "cell_type": "code",
   "execution_count": 50,
   "id": "2e6daa82",
   "metadata": {},
   "outputs": [],
   "source": [
    "#training dataset\n",
    "training_set_sgd = training_set_x_fs\n",
    "h_w_x = sgd.predict(training_set_sgd)"
   ]
  },
  {
   "cell_type": "markdown",
   "id": "29c444cb",
   "metadata": {},
   "source": [
    "# mse and rsquared (Training set) feature scaling"
   ]
  },
  {
   "cell_type": "code",
   "execution_count": 51,
   "id": "82e08eee",
   "metadata": {},
   "outputs": [
    {
     "name": "stdout",
     "output_type": "stream",
     "text": [
      "mse: 2881, r2: 0.5111530997570571\n"
     ]
    }
   ],
   "source": [
    "#training dataset(your mse should be lower than 3000.0 and your rsquared should be above 0.50)\n",
    "mse = mean_squared_error(y_train, h_w_x)\n",
    "r2 = r2_score(y_train, h_w_x)\n",
    "\n",
    "# Using math.floor here because the mse was basically 0 so I'm cleaning it up (You dont need to use math.floor in your own implementation)\n",
    "print(f\"mse: {math.floor(mse)}, r2: {r2}\")"
   ]
  },
  {
   "cell_type": "markdown",
   "id": "910de03f",
   "metadata": {},
   "source": [
    "# Fit and predict Gradient Descent (with feature scaling)-Testing Dataset"
   ]
  },
  {
   "cell_type": "code",
   "execution_count": 52,
   "id": "6dbebc20",
   "metadata": {},
   "outputs": [],
   "source": [
    "#training dataset\n",
    "from sklearn.linear_model import SGDRegressor\n",
    "sgd = SGDRegressor(max_iter=25000, tol=1e-3, random_state=0, penalty='none').fit(testing_set_x_fs, y_test)"
   ]
  },
  {
   "cell_type": "code",
   "execution_count": 53,
   "id": "69823256",
   "metadata": {},
   "outputs": [],
   "source": [
    "#training dataset\n",
    "testing_set_sgd = testing_set_x_fs\n",
    "h_w_x = sgd.predict(testing_set_sgd)"
   ]
  },
  {
   "cell_type": "markdown",
   "id": "287efffb",
   "metadata": {},
   "source": [
    "# mse and rsquared (Testing set) feature scaling"
   ]
  },
  {
   "cell_type": "code",
   "execution_count": 54,
   "id": "f8c5ac32",
   "metadata": {},
   "outputs": [
    {
     "name": "stdout",
     "output_type": "stream",
     "text": [
      "mse: 2576, r2: 0.5733795359733894\n"
     ]
    }
   ],
   "source": [
    "#your mse should be lower than 3000.0 and your rsquared should be above 0.50)\n",
    "mse = mean_squared_error(y_test, h_w_x)\n",
    "r2 = r2_score(y_test, h_w_x)\n",
    "\n",
    "# Using math.floor here because the mse was basically 0 so I'm cleaning it up (You dont need to use math.floor in your own implementation)\n",
    "print(f\"mse: {math.floor(mse)}, r2: {r2}\")"
   ]
  },
  {
   "cell_type": "markdown",
   "id": "29a4e980-ec8a-4470-8cd5-dd2c1f38399a",
   "metadata": {
    "tags": []
   },
   "source": [
    "# Loading Classification data"
   ]
  },
  {
   "cell_type": "code",
   "execution_count": 55,
   "id": "2dd1304b",
   "metadata": {},
   "outputs": [
    {
     "data": {
      "text/html": [
       "<div>\n",
       "<style scoped>\n",
       "    .dataframe tbody tr th:only-of-type {\n",
       "        vertical-align: middle;\n",
       "    }\n",
       "\n",
       "    .dataframe tbody tr th {\n",
       "        vertical-align: top;\n",
       "    }\n",
       "\n",
       "    .dataframe thead th {\n",
       "        text-align: right;\n",
       "    }\n",
       "</style>\n",
       "<table border=\"1\" class=\"dataframe\">\n",
       "  <thead>\n",
       "    <tr style=\"text-align: right;\">\n",
       "      <th></th>\n",
       "      <th>sepal length (cm)</th>\n",
       "      <th>sepal width (cm)</th>\n",
       "      <th>petal length (cm)</th>\n",
       "      <th>petal width (cm)</th>\n",
       "      <th>target</th>\n",
       "    </tr>\n",
       "  </thead>\n",
       "  <tbody>\n",
       "    <tr>\n",
       "      <th>0</th>\n",
       "      <td>5.1</td>\n",
       "      <td>3.5</td>\n",
       "      <td>1.4</td>\n",
       "      <td>0.2</td>\n",
       "      <td>0</td>\n",
       "    </tr>\n",
       "    <tr>\n",
       "      <th>1</th>\n",
       "      <td>4.9</td>\n",
       "      <td>3.0</td>\n",
       "      <td>1.4</td>\n",
       "      <td>0.2</td>\n",
       "      <td>0</td>\n",
       "    </tr>\n",
       "    <tr>\n",
       "      <th>2</th>\n",
       "      <td>4.7</td>\n",
       "      <td>3.2</td>\n",
       "      <td>1.3</td>\n",
       "      <td>0.2</td>\n",
       "      <td>0</td>\n",
       "    </tr>\n",
       "    <tr>\n",
       "      <th>3</th>\n",
       "      <td>4.6</td>\n",
       "      <td>3.1</td>\n",
       "      <td>1.5</td>\n",
       "      <td>0.2</td>\n",
       "      <td>0</td>\n",
       "    </tr>\n",
       "    <tr>\n",
       "      <th>4</th>\n",
       "      <td>5.0</td>\n",
       "      <td>3.6</td>\n",
       "      <td>1.4</td>\n",
       "      <td>0.2</td>\n",
       "      <td>0</td>\n",
       "    </tr>\n",
       "    <tr>\n",
       "      <th>...</th>\n",
       "      <td>...</td>\n",
       "      <td>...</td>\n",
       "      <td>...</td>\n",
       "      <td>...</td>\n",
       "      <td>...</td>\n",
       "    </tr>\n",
       "    <tr>\n",
       "      <th>145</th>\n",
       "      <td>6.7</td>\n",
       "      <td>3.0</td>\n",
       "      <td>5.2</td>\n",
       "      <td>2.3</td>\n",
       "      <td>2</td>\n",
       "    </tr>\n",
       "    <tr>\n",
       "      <th>146</th>\n",
       "      <td>6.3</td>\n",
       "      <td>2.5</td>\n",
       "      <td>5.0</td>\n",
       "      <td>1.9</td>\n",
       "      <td>2</td>\n",
       "    </tr>\n",
       "    <tr>\n",
       "      <th>147</th>\n",
       "      <td>6.5</td>\n",
       "      <td>3.0</td>\n",
       "      <td>5.2</td>\n",
       "      <td>2.0</td>\n",
       "      <td>2</td>\n",
       "    </tr>\n",
       "    <tr>\n",
       "      <th>148</th>\n",
       "      <td>6.2</td>\n",
       "      <td>3.4</td>\n",
       "      <td>5.4</td>\n",
       "      <td>2.3</td>\n",
       "      <td>2</td>\n",
       "    </tr>\n",
       "    <tr>\n",
       "      <th>149</th>\n",
       "      <td>5.9</td>\n",
       "      <td>3.0</td>\n",
       "      <td>5.1</td>\n",
       "      <td>1.8</td>\n",
       "      <td>2</td>\n",
       "    </tr>\n",
       "  </tbody>\n",
       "</table>\n",
       "<p>150 rows × 5 columns</p>\n",
       "</div>"
      ],
      "text/plain": [
       "     sepal length (cm)  sepal width (cm)  petal length (cm)  petal width (cm)  \\\n",
       "0                  5.1               3.5                1.4               0.2   \n",
       "1                  4.9               3.0                1.4               0.2   \n",
       "2                  4.7               3.2                1.3               0.2   \n",
       "3                  4.6               3.1                1.5               0.2   \n",
       "4                  5.0               3.6                1.4               0.2   \n",
       "..                 ...               ...                ...               ...   \n",
       "145                6.7               3.0                5.2               2.3   \n",
       "146                6.3               2.5                5.0               1.9   \n",
       "147                6.5               3.0                5.2               2.0   \n",
       "148                6.2               3.4                5.4               2.3   \n",
       "149                5.9               3.0                5.1               1.8   \n",
       "\n",
       "     target  \n",
       "0         0  \n",
       "1         0  \n",
       "2         0  \n",
       "3         0  \n",
       "4         0  \n",
       "..      ...  \n",
       "145       2  \n",
       "146       2  \n",
       "147       2  \n",
       "148       2  \n",
       "149       2  \n",
       "\n",
       "[150 rows x 5 columns]"
      ]
     },
     "execution_count": 55,
     "metadata": {},
     "output_type": "execute_result"
    }
   ],
   "source": [
    "from sklearn.datasets import load_iris\n",
    "from sklearn.datasets import load_iris\n",
    "iris_df =  load_iris(as_frame=True).frame\n",
    "iris_df"
   ]
  },
  {
   "cell_type": "markdown",
   "id": "d8d7d45e-35e8-459f-ac4e-7365f01d18c7",
   "metadata": {
    "tags": []
   },
   "source": [
    "# Binary Logistic Classification\n",
    "\n",
    "(Grab appropriate features and data split)\n",
    "## No Feature Scaling"
   ]
  },
  {
   "cell_type": "code",
   "execution_count": 62,
   "id": "3433620b",
   "metadata": {},
   "outputs": [],
   "source": [
    "import copy\n",
    "iris_df_copy = copy.deepcopy(iris_df)\n",
    "\n",
    "# Shuffle data\n",
    "iris_df_copy = iris_df.sample(frac=1, random_state=0).reset_index(drop=True)\n",
    "\n",
    "# Grab appropriate columns\n",
    "sepal_length_width = np.array(iris_df_copy[[\"sepal length (cm)\", \"sepal width (cm)\"]])\n",
    "\n",
    "# Change class 2 to class 0 for Binary Classification\n",
    "iris_df_copy[iris_df_copy[\"target\"] == 2] = 0\n",
    "target = iris_df_copy[\"target\"]"
   ]
  },
  {
   "cell_type": "code",
   "execution_count": 63,
   "id": "69cf0829",
   "metadata": {},
   "outputs": [
    {
     "data": {
      "text/html": [
       "<div>\n",
       "<style scoped>\n",
       "    .dataframe tbody tr th:only-of-type {\n",
       "        vertical-align: middle;\n",
       "    }\n",
       "\n",
       "    .dataframe tbody tr th {\n",
       "        vertical-align: top;\n",
       "    }\n",
       "\n",
       "    .dataframe thead th {\n",
       "        text-align: right;\n",
       "    }\n",
       "</style>\n",
       "<table border=\"1\" class=\"dataframe\">\n",
       "  <thead>\n",
       "    <tr style=\"text-align: right;\">\n",
       "      <th></th>\n",
       "      <th>sepal length (cm)</th>\n",
       "      <th>sepal width (cm)</th>\n",
       "      <th>y_target</th>\n",
       "    </tr>\n",
       "  </thead>\n",
       "  <tbody>\n",
       "    <tr>\n",
       "      <th>0</th>\n",
       "      <td>5.8</td>\n",
       "      <td>2.8</td>\n",
       "      <td>0.0</td>\n",
       "    </tr>\n",
       "    <tr>\n",
       "      <th>1</th>\n",
       "      <td>6.0</td>\n",
       "      <td>2.2</td>\n",
       "      <td>1.0</td>\n",
       "    </tr>\n",
       "    <tr>\n",
       "      <th>2</th>\n",
       "      <td>5.5</td>\n",
       "      <td>4.2</td>\n",
       "      <td>0.0</td>\n",
       "    </tr>\n",
       "    <tr>\n",
       "      <th>3</th>\n",
       "      <td>7.3</td>\n",
       "      <td>2.9</td>\n",
       "      <td>0.0</td>\n",
       "    </tr>\n",
       "    <tr>\n",
       "      <th>4</th>\n",
       "      <td>5.0</td>\n",
       "      <td>3.4</td>\n",
       "      <td>0.0</td>\n",
       "    </tr>\n",
       "    <tr>\n",
       "      <th>...</th>\n",
       "      <td>...</td>\n",
       "      <td>...</td>\n",
       "      <td>...</td>\n",
       "    </tr>\n",
       "    <tr>\n",
       "      <th>145</th>\n",
       "      <td>4.9</td>\n",
       "      <td>3.1</td>\n",
       "      <td>0.0</td>\n",
       "    </tr>\n",
       "    <tr>\n",
       "      <th>146</th>\n",
       "      <td>6.3</td>\n",
       "      <td>2.9</td>\n",
       "      <td>0.0</td>\n",
       "    </tr>\n",
       "    <tr>\n",
       "      <th>147</th>\n",
       "      <td>5.8</td>\n",
       "      <td>2.7</td>\n",
       "      <td>1.0</td>\n",
       "    </tr>\n",
       "    <tr>\n",
       "      <th>148</th>\n",
       "      <td>7.7</td>\n",
       "      <td>3.8</td>\n",
       "      <td>0.0</td>\n",
       "    </tr>\n",
       "    <tr>\n",
       "      <th>149</th>\n",
       "      <td>4.6</td>\n",
       "      <td>3.2</td>\n",
       "      <td>0.0</td>\n",
       "    </tr>\n",
       "  </tbody>\n",
       "</table>\n",
       "<p>150 rows × 3 columns</p>\n",
       "</div>"
      ],
      "text/plain": [
       "     sepal length (cm)  sepal width (cm)  y_target\n",
       "0                  5.8               2.8       0.0\n",
       "1                  6.0               2.2       1.0\n",
       "2                  5.5               4.2       0.0\n",
       "3                  7.3               2.9       0.0\n",
       "4                  5.0               3.4       0.0\n",
       "..                 ...               ...       ...\n",
       "145                4.9               3.1       0.0\n",
       "146                6.3               2.9       0.0\n",
       "147                5.8               2.7       1.0\n",
       "148                7.7               3.8       0.0\n",
       "149                4.6               3.2       0.0\n",
       "\n",
       "[150 rows x 3 columns]"
      ]
     },
     "execution_count": 63,
     "metadata": {},
     "output_type": "execute_result"
    }
   ],
   "source": [
    "target = np.array(iris_df_copy[\"target\"])\n",
    "X=sepal_length_width\n",
    "Y=target\n",
    "X_y_df = pd.DataFrame(np.array(np.transpose([X[:,0], X[:,1], Y])), columns=[\"sepal length (cm)\", \"sepal width (cm)\", \"y_target\"])\n",
    "                                             \n",
    "X_y_df"
   ]
  },
  {
   "cell_type": "code",
   "execution_count": 64,
   "id": "b211d1fd",
   "metadata": {},
   "outputs": [],
   "source": [
    "#Spliting the dataset\n",
    "x_train, x_test, y_train, y_test = train_test_split(X, Y, test_size=.2, random_state=0,shuffle=False)"
   ]
  },
  {
   "cell_type": "markdown",
   "id": "edc1fbbc-ba88-4015-af9d-ed7a6d2a70a5",
   "metadata": {},
   "source": [
    "## Fit and predict Gradient Descent (without feature scaling)-Training Data"
   ]
  },
  {
   "cell_type": "code",
   "execution_count": 65,
   "id": "3617ba80",
   "metadata": {},
   "outputs": [],
   "source": [
    "from sklearn.linear_model import SGDClassifier\n",
    "\n",
    "sgd = SGDClassifier(max_iter=25000, tol=1e-3, loss='log', random_state=0, penalty='none').fit(x_train, y_train)"
   ]
  },
  {
   "cell_type": "code",
   "execution_count": 66,
   "id": "88772d8e",
   "metadata": {},
   "outputs": [
    {
     "data": {
      "text/plain": [
       "array([0, 0, 0, 0, 0, 0, 0, 0, 0, 0, 0, 0, 0, 0, 0, 0, 0, 0, 0, 0, 0, 0,\n",
       "       0, 0, 0, 0, 0, 0, 0, 0, 0, 0, 0, 0, 0, 0, 0, 0, 0, 0, 0, 0, 0, 0,\n",
       "       0, 0, 0, 0, 0, 0, 0, 0, 0, 0, 0, 0, 0, 0, 0, 0, 0, 0, 0, 0, 0, 0,\n",
       "       0, 0, 0, 0, 0, 0, 0, 0, 0, 0, 0, 0, 0, 0, 0, 0, 0, 0, 0, 0, 0, 0,\n",
       "       0, 0, 0, 0, 0, 0, 0, 0, 0, 0, 0, 0, 0, 0, 0, 0, 0, 0, 0, 0, 0, 0,\n",
       "       0, 0, 0, 0, 0, 0, 0, 0, 0, 0])"
      ]
     },
     "execution_count": 66,
     "metadata": {},
     "output_type": "execute_result"
    }
   ],
   "source": [
    "#Training Dataset\n",
    "training_set_sgd = x_train\n",
    "h_w_x = sgd.predict(training_set_sgd)\n",
    "h_w_x"
   ]
  },
  {
   "cell_type": "code",
   "execution_count": 67,
   "id": "5bacf703",
   "metadata": {},
   "outputs": [
    {
     "data": {
      "text/html": [
       "<div>\n",
       "<style scoped>\n",
       "    .dataframe tbody tr th:only-of-type {\n",
       "        vertical-align: middle;\n",
       "    }\n",
       "\n",
       "    .dataframe tbody tr th {\n",
       "        vertical-align: top;\n",
       "    }\n",
       "\n",
       "    .dataframe thead th {\n",
       "        text-align: right;\n",
       "    }\n",
       "</style>\n",
       "<table border=\"1\" class=\"dataframe\">\n",
       "  <thead>\n",
       "    <tr style=\"text-align: right;\">\n",
       "      <th></th>\n",
       "      <th>x1</th>\n",
       "      <th>x2</th>\n",
       "      <th>predicted_y</th>\n",
       "      <th>y</th>\n",
       "    </tr>\n",
       "  </thead>\n",
       "  <tbody>\n",
       "    <tr>\n",
       "      <th>0</th>\n",
       "      <td>5.8</td>\n",
       "      <td>2.8</td>\n",
       "      <td>0.0</td>\n",
       "      <td>0.0</td>\n",
       "    </tr>\n",
       "    <tr>\n",
       "      <th>1</th>\n",
       "      <td>6.0</td>\n",
       "      <td>2.2</td>\n",
       "      <td>0.0</td>\n",
       "      <td>1.0</td>\n",
       "    </tr>\n",
       "    <tr>\n",
       "      <th>2</th>\n",
       "      <td>5.5</td>\n",
       "      <td>4.2</td>\n",
       "      <td>0.0</td>\n",
       "      <td>0.0</td>\n",
       "    </tr>\n",
       "    <tr>\n",
       "      <th>3</th>\n",
       "      <td>7.3</td>\n",
       "      <td>2.9</td>\n",
       "      <td>0.0</td>\n",
       "      <td>0.0</td>\n",
       "    </tr>\n",
       "    <tr>\n",
       "      <th>4</th>\n",
       "      <td>5.0</td>\n",
       "      <td>3.4</td>\n",
       "      <td>0.0</td>\n",
       "      <td>0.0</td>\n",
       "    </tr>\n",
       "    <tr>\n",
       "      <th>...</th>\n",
       "      <td>...</td>\n",
       "      <td>...</td>\n",
       "      <td>...</td>\n",
       "      <td>...</td>\n",
       "    </tr>\n",
       "    <tr>\n",
       "      <th>115</th>\n",
       "      <td>4.9</td>\n",
       "      <td>2.4</td>\n",
       "      <td>0.0</td>\n",
       "      <td>1.0</td>\n",
       "    </tr>\n",
       "    <tr>\n",
       "      <th>116</th>\n",
       "      <td>7.9</td>\n",
       "      <td>3.8</td>\n",
       "      <td>0.0</td>\n",
       "      <td>0.0</td>\n",
       "    </tr>\n",
       "    <tr>\n",
       "      <th>117</th>\n",
       "      <td>6.7</td>\n",
       "      <td>3.1</td>\n",
       "      <td>0.0</td>\n",
       "      <td>1.0</td>\n",
       "    </tr>\n",
       "    <tr>\n",
       "      <th>118</th>\n",
       "      <td>5.2</td>\n",
       "      <td>4.1</td>\n",
       "      <td>0.0</td>\n",
       "      <td>0.0</td>\n",
       "    </tr>\n",
       "    <tr>\n",
       "      <th>119</th>\n",
       "      <td>6.0</td>\n",
       "      <td>3.0</td>\n",
       "      <td>0.0</td>\n",
       "      <td>0.0</td>\n",
       "    </tr>\n",
       "  </tbody>\n",
       "</table>\n",
       "<p>120 rows × 4 columns</p>\n",
       "</div>"
      ],
      "text/plain": [
       "      x1   x2  predicted_y    y\n",
       "0    5.8  2.8          0.0  0.0\n",
       "1    6.0  2.2          0.0  1.0\n",
       "2    5.5  4.2          0.0  0.0\n",
       "3    7.3  2.9          0.0  0.0\n",
       "4    5.0  3.4          0.0  0.0\n",
       "..   ...  ...          ...  ...\n",
       "115  4.9  2.4          0.0  1.0\n",
       "116  7.9  3.8          0.0  0.0\n",
       "117  6.7  3.1          0.0  1.0\n",
       "118  5.2  4.1          0.0  0.0\n",
       "119  6.0  3.0          0.0  0.0\n",
       "\n",
       "[120 rows x 4 columns]"
      ]
     },
     "execution_count": 67,
     "metadata": {},
     "output_type": "execute_result"
    }
   ],
   "source": [
    "h_w_x_df = pd.DataFrame(np.array(np.transpose([training_set_sgd[:,0], training_set_sgd[:,1], h_w_x, y_train])),\n",
    "                        columns=[\"x1\", \"x2\", \"predicted_y\", \"y\"])\n",
    "h_w_x_df"
   ]
  },
  {
   "cell_type": "markdown",
   "id": "cf866cca-4b1f-4b3e-a1fb-1fbf59010a02",
   "metadata": {},
   "source": [
    "### accuracy, f1-score and AUC (Training set) no feature scaling"
   ]
  },
  {
   "cell_type": "code",
   "execution_count": 68,
   "id": "415d4e60",
   "metadata": {},
   "outputs": [
    {
     "name": "stdout",
     "output_type": "stream",
     "text": [
      "accuracy: 0.675, f1_score: 0.0, auc: 0.7730294396961064\n"
     ]
    }
   ],
   "source": [
    "#your accuracy should be above 0.65, f1-score will be 0.0 and auc above 0.70\n",
    "from sklearn.metrics import accuracy_score, f1_score, roc_auc_score\n",
    "accuracy = accuracy_score(y_train, h_w_x, normalize=True)\n",
    "f1_score = f1_score(y_train, h_w_x)\n",
    "auc = roc_auc_score(y_train, sgd.decision_function(training_set_sgd))\n",
    "\n",
    "print(f\"accuracy: {accuracy}, f1_score: {f1_score}, auc: {auc}\")"
   ]
  },
  {
   "cell_type": "markdown",
   "id": "00ee76c1",
   "metadata": {},
   "source": [
    "# Fit and predict Gradient Descent (without feature scaling)-Testing Data"
   ]
  },
  {
   "cell_type": "code",
   "execution_count": 69,
   "id": "7ba41072",
   "metadata": {},
   "outputs": [
    {
     "data": {
      "text/plain": [
       "array([0, 0, 0, 0, 0, 0, 0, 0, 0, 0, 0, 0, 0, 0, 0, 0, 0, 0, 0, 0, 0, 0,\n",
       "       0, 0, 0, 0, 0, 0, 0, 0])"
      ]
     },
     "execution_count": 69,
     "metadata": {},
     "output_type": "execute_result"
    }
   ],
   "source": [
    "#Testing Dataset\n",
    "#from sklearn.linear_model import SGDClassifier\n",
    "sgd = SGDClassifier(max_iter=17000, tol=1e-3, loss='log', random_state=0, penalty='none').fit(x_test, y_test)\n",
    "testing_set_sgd = x_test\n",
    "h_w_x = sgd.predict(testing_set_sgd)\n",
    "h_w_x"
   ]
  },
  {
   "cell_type": "code",
   "execution_count": 70,
   "id": "7a814d7c",
   "metadata": {},
   "outputs": [
    {
     "data": {
      "text/html": [
       "<div>\n",
       "<style scoped>\n",
       "    .dataframe tbody tr th:only-of-type {\n",
       "        vertical-align: middle;\n",
       "    }\n",
       "\n",
       "    .dataframe tbody tr th {\n",
       "        vertical-align: top;\n",
       "    }\n",
       "\n",
       "    .dataframe thead th {\n",
       "        text-align: right;\n",
       "    }\n",
       "</style>\n",
       "<table border=\"1\" class=\"dataframe\">\n",
       "  <thead>\n",
       "    <tr style=\"text-align: right;\">\n",
       "      <th></th>\n",
       "      <th>x1</th>\n",
       "      <th>x2</th>\n",
       "      <th>predicted_y</th>\n",
       "      <th>y</th>\n",
       "    </tr>\n",
       "  </thead>\n",
       "  <tbody>\n",
       "    <tr>\n",
       "      <th>0</th>\n",
       "      <td>5.8</td>\n",
       "      <td>4.0</td>\n",
       "      <td>0.0</td>\n",
       "      <td>0.0</td>\n",
       "    </tr>\n",
       "    <tr>\n",
       "      <th>1</th>\n",
       "      <td>7.7</td>\n",
       "      <td>2.8</td>\n",
       "      <td>0.0</td>\n",
       "      <td>0.0</td>\n",
       "    </tr>\n",
       "    <tr>\n",
       "      <th>2</th>\n",
       "      <td>5.1</td>\n",
       "      <td>3.8</td>\n",
       "      <td>0.0</td>\n",
       "      <td>0.0</td>\n",
       "    </tr>\n",
       "    <tr>\n",
       "      <th>3</th>\n",
       "      <td>4.7</td>\n",
       "      <td>3.2</td>\n",
       "      <td>0.0</td>\n",
       "      <td>0.0</td>\n",
       "    </tr>\n",
       "    <tr>\n",
       "      <th>4</th>\n",
       "      <td>7.4</td>\n",
       "      <td>2.8</td>\n",
       "      <td>0.0</td>\n",
       "      <td>0.0</td>\n",
       "    </tr>\n",
       "    <tr>\n",
       "      <th>5</th>\n",
       "      <td>5.0</td>\n",
       "      <td>3.3</td>\n",
       "      <td>0.0</td>\n",
       "      <td>0.0</td>\n",
       "    </tr>\n",
       "    <tr>\n",
       "      <th>6</th>\n",
       "      <td>6.3</td>\n",
       "      <td>3.4</td>\n",
       "      <td>0.0</td>\n",
       "      <td>0.0</td>\n",
       "    </tr>\n",
       "    <tr>\n",
       "      <th>7</th>\n",
       "      <td>5.7</td>\n",
       "      <td>2.8</td>\n",
       "      <td>0.0</td>\n",
       "      <td>1.0</td>\n",
       "    </tr>\n",
       "    <tr>\n",
       "      <th>8</th>\n",
       "      <td>5.8</td>\n",
       "      <td>2.7</td>\n",
       "      <td>0.0</td>\n",
       "      <td>1.0</td>\n",
       "    </tr>\n",
       "    <tr>\n",
       "      <th>9</th>\n",
       "      <td>5.7</td>\n",
       "      <td>2.6</td>\n",
       "      <td>0.0</td>\n",
       "      <td>1.0</td>\n",
       "    </tr>\n",
       "    <tr>\n",
       "      <th>10</th>\n",
       "      <td>6.4</td>\n",
       "      <td>3.2</td>\n",
       "      <td>0.0</td>\n",
       "      <td>0.0</td>\n",
       "    </tr>\n",
       "    <tr>\n",
       "      <th>11</th>\n",
       "      <td>6.7</td>\n",
       "      <td>3.0</td>\n",
       "      <td>0.0</td>\n",
       "      <td>0.0</td>\n",
       "    </tr>\n",
       "    <tr>\n",
       "      <th>12</th>\n",
       "      <td>6.3</td>\n",
       "      <td>2.5</td>\n",
       "      <td>0.0</td>\n",
       "      <td>1.0</td>\n",
       "    </tr>\n",
       "    <tr>\n",
       "      <th>13</th>\n",
       "      <td>6.7</td>\n",
       "      <td>3.0</td>\n",
       "      <td>0.0</td>\n",
       "      <td>1.0</td>\n",
       "    </tr>\n",
       "    <tr>\n",
       "      <th>14</th>\n",
       "      <td>5.0</td>\n",
       "      <td>3.0</td>\n",
       "      <td>0.0</td>\n",
       "      <td>0.0</td>\n",
       "    </tr>\n",
       "    <tr>\n",
       "      <th>15</th>\n",
       "      <td>5.5</td>\n",
       "      <td>2.4</td>\n",
       "      <td>0.0</td>\n",
       "      <td>1.0</td>\n",
       "    </tr>\n",
       "    <tr>\n",
       "      <th>16</th>\n",
       "      <td>6.7</td>\n",
       "      <td>3.1</td>\n",
       "      <td>0.0</td>\n",
       "      <td>0.0</td>\n",
       "    </tr>\n",
       "    <tr>\n",
       "      <th>17</th>\n",
       "      <td>5.8</td>\n",
       "      <td>2.7</td>\n",
       "      <td>0.0</td>\n",
       "      <td>0.0</td>\n",
       "    </tr>\n",
       "    <tr>\n",
       "      <th>18</th>\n",
       "      <td>5.1</td>\n",
       "      <td>3.4</td>\n",
       "      <td>0.0</td>\n",
       "      <td>0.0</td>\n",
       "    </tr>\n",
       "    <tr>\n",
       "      <th>19</th>\n",
       "      <td>6.6</td>\n",
       "      <td>2.9</td>\n",
       "      <td>0.0</td>\n",
       "      <td>1.0</td>\n",
       "    </tr>\n",
       "    <tr>\n",
       "      <th>20</th>\n",
       "      <td>5.6</td>\n",
       "      <td>3.0</td>\n",
       "      <td>0.0</td>\n",
       "      <td>1.0</td>\n",
       "    </tr>\n",
       "    <tr>\n",
       "      <th>21</th>\n",
       "      <td>5.9</td>\n",
       "      <td>3.2</td>\n",
       "      <td>0.0</td>\n",
       "      <td>1.0</td>\n",
       "    </tr>\n",
       "    <tr>\n",
       "      <th>22</th>\n",
       "      <td>6.3</td>\n",
       "      <td>2.3</td>\n",
       "      <td>0.0</td>\n",
       "      <td>1.0</td>\n",
       "    </tr>\n",
       "    <tr>\n",
       "      <th>23</th>\n",
       "      <td>5.5</td>\n",
       "      <td>3.5</td>\n",
       "      <td>0.0</td>\n",
       "      <td>0.0</td>\n",
       "    </tr>\n",
       "    <tr>\n",
       "      <th>24</th>\n",
       "      <td>5.1</td>\n",
       "      <td>3.7</td>\n",
       "      <td>0.0</td>\n",
       "      <td>0.0</td>\n",
       "    </tr>\n",
       "    <tr>\n",
       "      <th>25</th>\n",
       "      <td>4.9</td>\n",
       "      <td>3.1</td>\n",
       "      <td>0.0</td>\n",
       "      <td>0.0</td>\n",
       "    </tr>\n",
       "    <tr>\n",
       "      <th>26</th>\n",
       "      <td>6.3</td>\n",
       "      <td>2.9</td>\n",
       "      <td>0.0</td>\n",
       "      <td>0.0</td>\n",
       "    </tr>\n",
       "    <tr>\n",
       "      <th>27</th>\n",
       "      <td>5.8</td>\n",
       "      <td>2.7</td>\n",
       "      <td>0.0</td>\n",
       "      <td>1.0</td>\n",
       "    </tr>\n",
       "    <tr>\n",
       "      <th>28</th>\n",
       "      <td>7.7</td>\n",
       "      <td>3.8</td>\n",
       "      <td>0.0</td>\n",
       "      <td>0.0</td>\n",
       "    </tr>\n",
       "    <tr>\n",
       "      <th>29</th>\n",
       "      <td>4.6</td>\n",
       "      <td>3.2</td>\n",
       "      <td>0.0</td>\n",
       "      <td>0.0</td>\n",
       "    </tr>\n",
       "  </tbody>\n",
       "</table>\n",
       "</div>"
      ],
      "text/plain": [
       "     x1   x2  predicted_y    y\n",
       "0   5.8  4.0          0.0  0.0\n",
       "1   7.7  2.8          0.0  0.0\n",
       "2   5.1  3.8          0.0  0.0\n",
       "3   4.7  3.2          0.0  0.0\n",
       "4   7.4  2.8          0.0  0.0\n",
       "5   5.0  3.3          0.0  0.0\n",
       "6   6.3  3.4          0.0  0.0\n",
       "7   5.7  2.8          0.0  1.0\n",
       "8   5.8  2.7          0.0  1.0\n",
       "9   5.7  2.6          0.0  1.0\n",
       "10  6.4  3.2          0.0  0.0\n",
       "11  6.7  3.0          0.0  0.0\n",
       "12  6.3  2.5          0.0  1.0\n",
       "13  6.7  3.0          0.0  1.0\n",
       "14  5.0  3.0          0.0  0.0\n",
       "15  5.5  2.4          0.0  1.0\n",
       "16  6.7  3.1          0.0  0.0\n",
       "17  5.8  2.7          0.0  0.0\n",
       "18  5.1  3.4          0.0  0.0\n",
       "19  6.6  2.9          0.0  1.0\n",
       "20  5.6  3.0          0.0  1.0\n",
       "21  5.9  3.2          0.0  1.0\n",
       "22  6.3  2.3          0.0  1.0\n",
       "23  5.5  3.5          0.0  0.0\n",
       "24  5.1  3.7          0.0  0.0\n",
       "25  4.9  3.1          0.0  0.0\n",
       "26  6.3  2.9          0.0  0.0\n",
       "27  5.8  2.7          0.0  1.0\n",
       "28  7.7  3.8          0.0  0.0\n",
       "29  4.6  3.2          0.0  0.0"
      ]
     },
     "execution_count": 70,
     "metadata": {},
     "output_type": "execute_result"
    }
   ],
   "source": [
    "h_w_x_df = pd.DataFrame(np.array(np.transpose([testing_set_sgd[:,0], testing_set_sgd[:,1], h_w_x, y_test])),\n",
    "                        columns=[\"x1\", \"x2\", \"predicted_y\", \"y\"])\n",
    "h_w_x_df"
   ]
  },
  {
   "cell_type": "markdown",
   "id": "fbe0474e-b462-4b07-896f-7b8744d3004d",
   "metadata": {},
   "source": [
    "# accuracy, f1-score and AUC (Testing set) no feature scaling"
   ]
  },
  {
   "cell_type": "code",
   "execution_count": 71,
   "id": "2390e377",
   "metadata": {},
   "outputs": [
    {
     "name": "stdout",
     "output_type": "stream",
     "text": [
      "accuracy: 0.6333333333333333, f1_score: 0.0, auc: 0.8301435406698564\n"
     ]
    }
   ],
   "source": [
    "# your accuracy should be above 0.60, f1-score will be 0.0 and auc above 0.80\n",
    "from sklearn.metrics import accuracy_score, f1_score, roc_auc_score\n",
    "\n",
    "accuracy = accuracy_score(y_test, h_w_x, normalize=True)\n",
    "f1_score = f1_score(y_test, h_w_x)\n",
    "auc = roc_auc_score(y_test, sgd.decision_function(testing_set_sgd))\n",
    "\n",
    "print(f\"accuracy: {accuracy}, f1_score: {f1_score}, auc: {auc}\")"
   ]
  },
  {
   "cell_type": "markdown",
   "id": "24af2fef-1a1a-4ba7-b63c-b2fa10b15fed",
   "metadata": {},
   "source": [
    "### plot decision boundary on testing set no feature scaling"
   ]
  },
  {
   "cell_type": "code",
   "execution_count": 72,
   "id": "3b0b1377",
   "metadata": {},
   "outputs": [
    {
     "data": {
      "text/plain": [
       "[<matplotlib.lines.Line2D at 0x22c252bd760>]"
      ]
     },
     "execution_count": 72,
     "metadata": {},
     "output_type": "execute_result"
    },
    {
     "data": {
      "image/png": "[encoded data removed]",
      "text/plain": [
       "<Figure size 432x288 with 1 Axes>"
      ]
     },
     "metadata": {
      "needs_background": "light"
     },
     "output_type": "display_data"
    }
   ],
   "source": [
    "fig = plt.figure()\n",
    "\n",
    "# ENSURE THAT WHEN YOU ARE DOING YOUR PLOT, YOU PLOT THE GROUNDTRUTH VALUES\n",
    "positive_samples = h_w_x_df[h_w_x_df[\"y\"]==1]\n",
    "negative_samples = h_w_x_df[h_w_x_df[\"y\"]==0]\n",
    "\n",
    "# Plot your positive examples\n",
    "plt.scatter(positive_samples[\"x1\"],positive_samples[\"x2\"], marker='+', c ='blue')\n",
    "\n",
    "# Plot your negative examples\n",
    "plt.scatter(negative_samples[\"x1\"],negative_samples[\"x2\"], c= 'green', marker='o')\n",
    "\n",
    "w = sgd.coef_[0]\n",
    "a = -w[0] / w[1]\n",
    "xx = np.linspace(-1, 8)\n",
    "yy = a * xx - (sgd.intercept_[0]) / w[1]\n",
    "\n",
    "plt.plot(xx, yy, 'k-')"
   ]
  },
  {
   "cell_type": "markdown",
   "id": "405cd966-7f20-4fde-835c-c03c40ae5ee2",
   "metadata": {},
   "source": [
    "### plot confusion matrix on testing set no feature scaling"
   ]
  },
  {
   "cell_type": "code",
   "execution_count": 73,
   "id": "45a2baf9",
   "metadata": {},
   "outputs": [
    {
     "data": {
      "text/plain": [
       "<sklearn.metrics._plot.confusion_matrix.ConfusionMatrixDisplay at 0x22c252e1370>"
      ]
     },
     "execution_count": 73,
     "metadata": {},
     "output_type": "execute_result"
    },
    {
     "data": {
      "image/png": "[encoded data removed]",
      "text/plain": [
       "<Figure size 432x288 with 2 Axes>"
      ]
     },
     "metadata": {
      "needs_background": "light"
     },
     "output_type": "display_data"
    }
   ],
   "source": [
    "from sklearn.metrics import confusion_matrix, ConfusionMatrixDisplay\n",
    "\n",
    "cm = confusion_matrix(y_test, h_w_x, labels=sgd.classes_)\n",
    "disp = ConfusionMatrixDisplay(confusion_matrix=cm,\n",
    "                              display_labels=sgd.classes_)\n",
    "disp.plot()"
   ]
  },
  {
   "cell_type": "markdown",
   "id": "1262f42c-984a-4872-bf2b-188b23ae903b",
   "metadata": {
    "tags": []
   },
   "source": [
    "## Fit and predict using lbfgs optimizer (without feature scaling)-Training Dataset"
   ]
  },
  {
   "cell_type": "code",
   "execution_count": 74,
   "id": "55207d34",
   "metadata": {},
   "outputs": [],
   "source": [
    "from sklearn.linear_model import LogisticRegression\n",
    "\n",
    "clf = LogisticRegression(random_state=0, solver='lbfgs', penalty='none').fit(x_train, y_train)"
   ]
  },
  {
   "cell_type": "code",
   "execution_count": 76,
   "id": "6bf29f4f",
   "metadata": {},
   "outputs": [
    {
     "data": {
      "text/plain": [
       "array([0, 0, 0, 0, 0, 0, 0, 0, 0, 0, 0, 0, 0, 0, 0, 0, 0, 0, 0, 0, 0, 0,\n",
       "       0, 0, 0, 0, 0, 0, 0, 0, 0, 0, 0, 0, 0, 0, 0, 0, 0, 0, 0, 0, 0, 0,\n",
       "       0, 0, 0, 0, 0, 0, 0, 0, 0, 0, 0, 0, 0, 0, 0, 0, 0, 0, 0, 0, 0, 0,\n",
       "       0, 0, 0, 0, 0, 0, 0, 0, 0, 0, 0, 0, 0, 0, 0, 0, 0, 0, 0, 0, 0, 0,\n",
       "       0, 0, 0, 0, 0, 0, 0, 0, 0, 0, 0, 0, 0, 0, 0, 0, 0, 0, 0, 0, 0, 0,\n",
       "       0, 0, 0, 0, 0, 0, 0, 0, 0, 0])"
      ]
     },
     "execution_count": 76,
     "metadata": {},
     "output_type": "execute_result"
    }
   ],
   "source": [
    "#Training Dataset\n",
    "training_set_clf = x_train\n",
    "h_w_x = sgd.predict(training_set_clf)\n",
    "h_w_x"
   ]
  },
  {
   "cell_type": "code",
   "execution_count": 77,
   "id": "03b41d91",
   "metadata": {},
   "outputs": [
    {
     "data": {
      "text/html": [
       "<div>\n",
       "<style scoped>\n",
       "    .dataframe tbody tr th:only-of-type {\n",
       "        vertical-align: middle;\n",
       "    }\n",
       "\n",
       "    .dataframe tbody tr th {\n",
       "        vertical-align: top;\n",
       "    }\n",
       "\n",
       "    .dataframe thead th {\n",
       "        text-align: right;\n",
       "    }\n",
       "</style>\n",
       "<table border=\"1\" class=\"dataframe\">\n",
       "  <thead>\n",
       "    <tr style=\"text-align: right;\">\n",
       "      <th></th>\n",
       "      <th>x1</th>\n",
       "      <th>x2</th>\n",
       "      <th>predicted_y</th>\n",
       "      <th>y</th>\n",
       "    </tr>\n",
       "  </thead>\n",
       "  <tbody>\n",
       "    <tr>\n",
       "      <th>0</th>\n",
       "      <td>5.8</td>\n",
       "      <td>2.8</td>\n",
       "      <td>0.0</td>\n",
       "      <td>0.0</td>\n",
       "    </tr>\n",
       "    <tr>\n",
       "      <th>1</th>\n",
       "      <td>6.0</td>\n",
       "      <td>2.2</td>\n",
       "      <td>1.0</td>\n",
       "      <td>1.0</td>\n",
       "    </tr>\n",
       "    <tr>\n",
       "      <th>2</th>\n",
       "      <td>5.5</td>\n",
       "      <td>4.2</td>\n",
       "      <td>0.0</td>\n",
       "      <td>0.0</td>\n",
       "    </tr>\n",
       "    <tr>\n",
       "      <th>3</th>\n",
       "      <td>7.3</td>\n",
       "      <td>2.9</td>\n",
       "      <td>0.0</td>\n",
       "      <td>0.0</td>\n",
       "    </tr>\n",
       "    <tr>\n",
       "      <th>4</th>\n",
       "      <td>5.0</td>\n",
       "      <td>3.4</td>\n",
       "      <td>0.0</td>\n",
       "      <td>0.0</td>\n",
       "    </tr>\n",
       "    <tr>\n",
       "      <th>...</th>\n",
       "      <td>...</td>\n",
       "      <td>...</td>\n",
       "      <td>...</td>\n",
       "      <td>...</td>\n",
       "    </tr>\n",
       "    <tr>\n",
       "      <th>115</th>\n",
       "      <td>4.9</td>\n",
       "      <td>2.4</td>\n",
       "      <td>1.0</td>\n",
       "      <td>1.0</td>\n",
       "    </tr>\n",
       "    <tr>\n",
       "      <th>116</th>\n",
       "      <td>7.9</td>\n",
       "      <td>3.8</td>\n",
       "      <td>0.0</td>\n",
       "      <td>0.0</td>\n",
       "    </tr>\n",
       "    <tr>\n",
       "      <th>117</th>\n",
       "      <td>6.7</td>\n",
       "      <td>3.1</td>\n",
       "      <td>0.0</td>\n",
       "      <td>1.0</td>\n",
       "    </tr>\n",
       "    <tr>\n",
       "      <th>118</th>\n",
       "      <td>5.2</td>\n",
       "      <td>4.1</td>\n",
       "      <td>0.0</td>\n",
       "      <td>0.0</td>\n",
       "    </tr>\n",
       "    <tr>\n",
       "      <th>119</th>\n",
       "      <td>6.0</td>\n",
       "      <td>3.0</td>\n",
       "      <td>0.0</td>\n",
       "      <td>0.0</td>\n",
       "    </tr>\n",
       "  </tbody>\n",
       "</table>\n",
       "<p>120 rows × 4 columns</p>\n",
       "</div>"
      ],
      "text/plain": [
       "      x1   x2  predicted_y    y\n",
       "0    5.8  2.8          0.0  0.0\n",
       "1    6.0  2.2          1.0  1.0\n",
       "2    5.5  4.2          0.0  0.0\n",
       "3    7.3  2.9          0.0  0.0\n",
       "4    5.0  3.4          0.0  0.0\n",
       "..   ...  ...          ...  ...\n",
       "115  4.9  2.4          1.0  1.0\n",
       "116  7.9  3.8          0.0  0.0\n",
       "117  6.7  3.1          0.0  1.0\n",
       "118  5.2  4.1          0.0  0.0\n",
       "119  6.0  3.0          0.0  0.0\n",
       "\n",
       "[120 rows x 4 columns]"
      ]
     },
     "execution_count": 77,
     "metadata": {},
     "output_type": "execute_result"
    }
   ],
   "source": [
    "h_w_x = clf.predict(training_set_clf)\n",
    "h_w_x_df = pd.DataFrame(np.array(np.transpose([training_set_clf[:,0], training_set_clf[:,1], h_w_x, y_train])),columns=[\"x1\", \"x2\", \"predicted_y\", \"y\"])\n",
    "h_w_x_df"
   ]
  },
  {
   "cell_type": "code",
   "execution_count": 78,
   "id": "a8109e91",
   "metadata": {},
   "outputs": [
    {
     "name": "stdout",
     "output_type": "stream",
     "text": [
      "accuracy: 0.6916666666666667, f1_score: 0.4126984126984126, auc: 0.776511554289332\n"
     ]
    }
   ],
   "source": [
    "# your accuracy should be above 0.65, f1-score above 0.40 and auc above 0.70\n",
    "from sklearn.metrics import accuracy_score, f1_score, roc_auc_score\n",
    "\n",
    "accuracy = accuracy_score(y_train, h_w_x, normalize=True)\n",
    "f1_score = f1_score(y_train, h_w_x)\n",
    "auc = roc_auc_score(y_train, clf.decision_function(training_set_clf))\n",
    "\n",
    "print(f\"accuracy: {accuracy}, f1_score: {f1_score}, auc: {auc}\")"
   ]
  },
  {
   "cell_type": "markdown",
   "id": "304e31eb",
   "metadata": {},
   "source": [
    "# Fit and predict using lbfgs optimizer (without feature scaling)-Testing Dataset"
   ]
  },
  {
   "cell_type": "code",
   "execution_count": 79,
   "id": "0f3052dc",
   "metadata": {},
   "outputs": [],
   "source": [
    "from sklearn.linear_model import LogisticRegression\n",
    "\n",
    "clf = LogisticRegression(random_state=0, solver='lbfgs', penalty='none').fit(x_test, y_test)"
   ]
  },
  {
   "cell_type": "code",
   "execution_count": 80,
   "id": "1ea2d215",
   "metadata": {},
   "outputs": [
    {
     "data": {
      "text/plain": [
       "array([0, 0, 0, 0, 0, 0, 0, 0, 0, 0, 0, 0, 0, 0, 0, 0, 0, 0, 0, 0, 0, 0,\n",
       "       0, 0, 0, 0, 0, 0, 0, 0])"
      ]
     },
     "execution_count": 80,
     "metadata": {},
     "output_type": "execute_result"
    }
   ],
   "source": [
    "#testing Dataset\n",
    "testing_set_clf = x_test\n",
    "h_w_x = sgd.predict(testing_set_clf)\n",
    "h_w_x"
   ]
  },
  {
   "cell_type": "code",
   "execution_count": 81,
   "id": "edca30c4",
   "metadata": {},
   "outputs": [
    {
     "data": {
      "text/html": [
       "<div>\n",
       "<style scoped>\n",
       "    .dataframe tbody tr th:only-of-type {\n",
       "        vertical-align: middle;\n",
       "    }\n",
       "\n",
       "    .dataframe tbody tr th {\n",
       "        vertical-align: top;\n",
       "    }\n",
       "\n",
       "    .dataframe thead th {\n",
       "        text-align: right;\n",
       "    }\n",
       "</style>\n",
       "<table border=\"1\" class=\"dataframe\">\n",
       "  <thead>\n",
       "    <tr style=\"text-align: right;\">\n",
       "      <th></th>\n",
       "      <th>x1</th>\n",
       "      <th>x2</th>\n",
       "      <th>predicted_y</th>\n",
       "      <th>y</th>\n",
       "    </tr>\n",
       "  </thead>\n",
       "  <tbody>\n",
       "    <tr>\n",
       "      <th>0</th>\n",
       "      <td>5.8</td>\n",
       "      <td>4.0</td>\n",
       "      <td>0.0</td>\n",
       "      <td>0.0</td>\n",
       "    </tr>\n",
       "    <tr>\n",
       "      <th>1</th>\n",
       "      <td>7.7</td>\n",
       "      <td>2.8</td>\n",
       "      <td>0.0</td>\n",
       "      <td>0.0</td>\n",
       "    </tr>\n",
       "    <tr>\n",
       "      <th>2</th>\n",
       "      <td>5.1</td>\n",
       "      <td>3.8</td>\n",
       "      <td>0.0</td>\n",
       "      <td>0.0</td>\n",
       "    </tr>\n",
       "    <tr>\n",
       "      <th>3</th>\n",
       "      <td>4.7</td>\n",
       "      <td>3.2</td>\n",
       "      <td>0.0</td>\n",
       "      <td>0.0</td>\n",
       "    </tr>\n",
       "    <tr>\n",
       "      <th>4</th>\n",
       "      <td>7.4</td>\n",
       "      <td>2.8</td>\n",
       "      <td>0.0</td>\n",
       "      <td>0.0</td>\n",
       "    </tr>\n",
       "    <tr>\n",
       "      <th>5</th>\n",
       "      <td>5.0</td>\n",
       "      <td>3.3</td>\n",
       "      <td>0.0</td>\n",
       "      <td>0.0</td>\n",
       "    </tr>\n",
       "    <tr>\n",
       "      <th>6</th>\n",
       "      <td>6.3</td>\n",
       "      <td>3.4</td>\n",
       "      <td>0.0</td>\n",
       "      <td>0.0</td>\n",
       "    </tr>\n",
       "    <tr>\n",
       "      <th>7</th>\n",
       "      <td>5.7</td>\n",
       "      <td>2.8</td>\n",
       "      <td>1.0</td>\n",
       "      <td>1.0</td>\n",
       "    </tr>\n",
       "    <tr>\n",
       "      <th>8</th>\n",
       "      <td>5.8</td>\n",
       "      <td>2.7</td>\n",
       "      <td>1.0</td>\n",
       "      <td>1.0</td>\n",
       "    </tr>\n",
       "    <tr>\n",
       "      <th>9</th>\n",
       "      <td>5.7</td>\n",
       "      <td>2.6</td>\n",
       "      <td>1.0</td>\n",
       "      <td>1.0</td>\n",
       "    </tr>\n",
       "    <tr>\n",
       "      <th>10</th>\n",
       "      <td>6.4</td>\n",
       "      <td>3.2</td>\n",
       "      <td>0.0</td>\n",
       "      <td>0.0</td>\n",
       "    </tr>\n",
       "    <tr>\n",
       "      <th>11</th>\n",
       "      <td>6.7</td>\n",
       "      <td>3.0</td>\n",
       "      <td>0.0</td>\n",
       "      <td>0.0</td>\n",
       "    </tr>\n",
       "    <tr>\n",
       "      <th>12</th>\n",
       "      <td>6.3</td>\n",
       "      <td>2.5</td>\n",
       "      <td>1.0</td>\n",
       "      <td>1.0</td>\n",
       "    </tr>\n",
       "    <tr>\n",
       "      <th>13</th>\n",
       "      <td>6.7</td>\n",
       "      <td>3.0</td>\n",
       "      <td>0.0</td>\n",
       "      <td>1.0</td>\n",
       "    </tr>\n",
       "    <tr>\n",
       "      <th>14</th>\n",
       "      <td>5.0</td>\n",
       "      <td>3.0</td>\n",
       "      <td>0.0</td>\n",
       "      <td>0.0</td>\n",
       "    </tr>\n",
       "    <tr>\n",
       "      <th>15</th>\n",
       "      <td>5.5</td>\n",
       "      <td>2.4</td>\n",
       "      <td>1.0</td>\n",
       "      <td>1.0</td>\n",
       "    </tr>\n",
       "    <tr>\n",
       "      <th>16</th>\n",
       "      <td>6.7</td>\n",
       "      <td>3.1</td>\n",
       "      <td>0.0</td>\n",
       "      <td>0.0</td>\n",
       "    </tr>\n",
       "    <tr>\n",
       "      <th>17</th>\n",
       "      <td>5.8</td>\n",
       "      <td>2.7</td>\n",
       "      <td>1.0</td>\n",
       "      <td>0.0</td>\n",
       "    </tr>\n",
       "    <tr>\n",
       "      <th>18</th>\n",
       "      <td>5.1</td>\n",
       "      <td>3.4</td>\n",
       "      <td>0.0</td>\n",
       "      <td>0.0</td>\n",
       "    </tr>\n",
       "    <tr>\n",
       "      <th>19</th>\n",
       "      <td>6.6</td>\n",
       "      <td>2.9</td>\n",
       "      <td>0.0</td>\n",
       "      <td>1.0</td>\n",
       "    </tr>\n",
       "    <tr>\n",
       "      <th>20</th>\n",
       "      <td>5.6</td>\n",
       "      <td>3.0</td>\n",
       "      <td>0.0</td>\n",
       "      <td>1.0</td>\n",
       "    </tr>\n",
       "    <tr>\n",
       "      <th>21</th>\n",
       "      <td>5.9</td>\n",
       "      <td>3.2</td>\n",
       "      <td>0.0</td>\n",
       "      <td>1.0</td>\n",
       "    </tr>\n",
       "    <tr>\n",
       "      <th>22</th>\n",
       "      <td>6.3</td>\n",
       "      <td>2.3</td>\n",
       "      <td>1.0</td>\n",
       "      <td>1.0</td>\n",
       "    </tr>\n",
       "    <tr>\n",
       "      <th>23</th>\n",
       "      <td>5.5</td>\n",
       "      <td>3.5</td>\n",
       "      <td>0.0</td>\n",
       "      <td>0.0</td>\n",
       "    </tr>\n",
       "    <tr>\n",
       "      <th>24</th>\n",
       "      <td>5.1</td>\n",
       "      <td>3.7</td>\n",
       "      <td>0.0</td>\n",
       "      <td>0.0</td>\n",
       "    </tr>\n",
       "    <tr>\n",
       "      <th>25</th>\n",
       "      <td>4.9</td>\n",
       "      <td>3.1</td>\n",
       "      <td>0.0</td>\n",
       "      <td>0.0</td>\n",
       "    </tr>\n",
       "    <tr>\n",
       "      <th>26</th>\n",
       "      <td>6.3</td>\n",
       "      <td>2.9</td>\n",
       "      <td>0.0</td>\n",
       "      <td>0.0</td>\n",
       "    </tr>\n",
       "    <tr>\n",
       "      <th>27</th>\n",
       "      <td>5.8</td>\n",
       "      <td>2.7</td>\n",
       "      <td>1.0</td>\n",
       "      <td>1.0</td>\n",
       "    </tr>\n",
       "    <tr>\n",
       "      <th>28</th>\n",
       "      <td>7.7</td>\n",
       "      <td>3.8</td>\n",
       "      <td>0.0</td>\n",
       "      <td>0.0</td>\n",
       "    </tr>\n",
       "    <tr>\n",
       "      <th>29</th>\n",
       "      <td>4.6</td>\n",
       "      <td>3.2</td>\n",
       "      <td>0.0</td>\n",
       "      <td>0.0</td>\n",
       "    </tr>\n",
       "  </tbody>\n",
       "</table>\n",
       "</div>"
      ],
      "text/plain": [
       "     x1   x2  predicted_y    y\n",
       "0   5.8  4.0          0.0  0.0\n",
       "1   7.7  2.8          0.0  0.0\n",
       "2   5.1  3.8          0.0  0.0\n",
       "3   4.7  3.2          0.0  0.0\n",
       "4   7.4  2.8          0.0  0.0\n",
       "5   5.0  3.3          0.0  0.0\n",
       "6   6.3  3.4          0.0  0.0\n",
       "7   5.7  2.8          1.0  1.0\n",
       "8   5.8  2.7          1.0  1.0\n",
       "9   5.7  2.6          1.0  1.0\n",
       "10  6.4  3.2          0.0  0.0\n",
       "11  6.7  3.0          0.0  0.0\n",
       "12  6.3  2.5          1.0  1.0\n",
       "13  6.7  3.0          0.0  1.0\n",
       "14  5.0  3.0          0.0  0.0\n",
       "15  5.5  2.4          1.0  1.0\n",
       "16  6.7  3.1          0.0  0.0\n",
       "17  5.8  2.7          1.0  0.0\n",
       "18  5.1  3.4          0.0  0.0\n",
       "19  6.6  2.9          0.0  1.0\n",
       "20  5.6  3.0          0.0  1.0\n",
       "21  5.9  3.2          0.0  1.0\n",
       "22  6.3  2.3          1.0  1.0\n",
       "23  5.5  3.5          0.0  0.0\n",
       "24  5.1  3.7          0.0  0.0\n",
       "25  4.9  3.1          0.0  0.0\n",
       "26  6.3  2.9          0.0  0.0\n",
       "27  5.8  2.7          1.0  1.0\n",
       "28  7.7  3.8          0.0  0.0\n",
       "29  4.6  3.2          0.0  0.0"
      ]
     },
     "execution_count": 81,
     "metadata": {},
     "output_type": "execute_result"
    }
   ],
   "source": [
    "h_w_x = clf.predict(testing_set_clf)\n",
    "h_w_x_df = pd.DataFrame(np.array(np.transpose([testing_set_clf[:,0], testing_set_clf[:,1], h_w_x, y_test])),columns=[\"x1\", \"x2\", \"predicted_y\", \"y\"])\n",
    "h_w_x_df"
   ]
  },
  {
   "cell_type": "code",
   "execution_count": 82,
   "id": "43cae5d7",
   "metadata": {},
   "outputs": [
    {
     "name": "stdout",
     "output_type": "stream",
     "text": [
      "accuracy: 0.8333333333333334, f1_score: 0.7368421052631579, auc: 0.8636363636363636\n"
     ]
    }
   ],
   "source": [
    "#testing data\n",
    "#your accuracy should be above 0.70, f1-score above 0.50 and auc above 0.80\n",
    "from sklearn.metrics import accuracy_score, f1_score, roc_auc_score\n",
    "\n",
    "accuracy = accuracy_score(y_test, h_w_x, normalize=True)\n",
    "f1_score = f1_score(y_test, h_w_x)\n",
    "auc = roc_auc_score(y_test, clf.decision_function(testing_set_clf))\n",
    "\n",
    "print(f\"accuracy: {accuracy}, f1_score: {f1_score}, auc: {auc}\")"
   ]
  },
  {
   "cell_type": "code",
   "execution_count": 83,
   "id": "cc121c61",
   "metadata": {},
   "outputs": [
    {
     "data": {
      "text/plain": [
       "[<matplotlib.lines.Line2D at 0x22c263cbaf0>]"
      ]
     },
     "execution_count": 83,
     "metadata": {},
     "output_type": "execute_result"
    },
    {
     "data": {
      "image/png": "[encoded data removed]",
      "text/plain": [
       "<Figure size 432x288 with 1 Axes>"
      ]
     },
     "metadata": {
      "needs_background": "light"
     },
     "output_type": "display_data"
    }
   ],
   "source": [
    "#testing data\n",
    "fig = plt.figure()\n",
    "\n",
    "# ENSURE THAT WHEN YOU ARE DOING YOUR PLOT, YOU PLOT THE GROUNDTRUTH VALUES\n",
    "positive_samples = h_w_x_df[h_w_x_df[\"y\"]==1]\n",
    "negative_samples = h_w_x_df[h_w_x_df[\"y\"]==0]\n",
    "\n",
    "# Plot your positive examples\n",
    "plt.scatter(positive_samples[\"x1\"],positive_samples[\"x2\"], marker='+', c ='blue')\n",
    "\n",
    "# Plot your negative examples\n",
    "plt.scatter(negative_samples[\"x1\"],negative_samples[\"x2\"], c= 'green', marker='o')\n",
    "\n",
    "w = sgd.coef_[0]\n",
    "a = -w[0] / w[1]\n",
    "xx = np.linspace(-2, 10)\n",
    "yy = a * xx - (sgd.intercept_[0]) / w[1]\n",
    "\n",
    "plt.plot(xx, yy, 'k-')"
   ]
  },
  {
   "cell_type": "code",
   "execution_count": 84,
   "id": "7b471834",
   "metadata": {},
   "outputs": [
    {
     "data": {
      "text/plain": [
       "<sklearn.metrics._plot.confusion_matrix.ConfusionMatrixDisplay at 0x22c263f0e80>"
      ]
     },
     "execution_count": 84,
     "metadata": {},
     "output_type": "execute_result"
    },
    {
     "data": {
      "image/png": "[encoded data removed]",
      "text/plain": [
       "<Figure size 432x288 with 2 Axes>"
      ]
     },
     "metadata": {
      "needs_background": "light"
     },
     "output_type": "display_data"
    }
   ],
   "source": [
    "# from sklearn.metrics import confusion_matrix, ConfusionMatrixDisplay\n",
    "\n",
    "cm = confusion_matrix(y_test, h_w_x, labels=sgd.classes_)\n",
    "disp = ConfusionMatrixDisplay(confusion_matrix=cm,\n",
    "                              display_labels=sgd.classes_)\n",
    "disp.plot()"
   ]
  },
  {
   "cell_type": "markdown",
   "id": "9b03b8f4-6d7f-4e15-b4ff-544777124aaf",
   "metadata": {
    "tags": []
   },
   "source": [
    "## Feature scaling\n",
    "\n",
    "(feature scale your data here)"
   ]
  },
  {
   "cell_type": "code",
   "execution_count": 91,
   "id": "817ed2aa",
   "metadata": {},
   "outputs": [],
   "source": [
    "import copy\n",
    "#iris_df_copy = copy.deepcopy(iris_df)\n",
    "\n",
    "# Shuffle data\n",
    "#iris_df_copy = iris_df.sample(frac=1, random_state=0).reset_index(drop=True)\n",
    "\n",
    "# Grab appropriate columns\n",
    "#sepal_length_width = np.array(iris_df_copy[[\"sepal length (cm)\", \"sepal width (cm)\"]])\n",
    "\n",
    "# Change class 2 to class 0 for Binary Classification\n",
    "#iris_df_copy[iris_df_copy[\"target\"] == 2] = 0\n",
    "#target = iris_df_copy[\"target\"]\n"
   ]
  },
  {
   "cell_type": "code",
   "execution_count": 92,
   "id": "b80a09a1",
   "metadata": {},
   "outputs": [],
   "source": [
    "#target = np.array(iris_df_copy[\"target\"])\n",
    "#X=sepal_length_width\n",
    "#Y=target\n",
    "#X_y_df = pd.DataFrame(np.array(np.transpose([X[:,0], X[:,1], Y])), columns=[\"sepal length (cm)\", \"sepal width (cm)\", \"y_target\"])\n",
    "                                             \n",
    "#X_y_df"
   ]
  },
  {
   "cell_type": "code",
   "execution_count": 93,
   "id": "a93abfb0",
   "metadata": {},
   "outputs": [],
   "source": [
    "#target = np.array(iris_df_copy[\"target\"])\n",
    "#X=sepal_petal_length_width\n",
    "#Y=target\n",
    "#X_y_df = pd.DataFrame(np.array(np.transpose([X[:,0], X[:,1],X[:,2], X[:,3], Y])), columns=[\"sepal length (cm)\", \"sepal width (cm)\",\"petal length (cm)\",\"petal width (cm)\", \"y_target\"])\n",
    "                                             \n",
    "#X_y_df"
   ]
  },
  {
   "cell_type": "code",
   "execution_count": 95,
   "id": "f89ec660",
   "metadata": {},
   "outputs": [],
   "source": [
    "#Spliting the dataset\n",
    "x_train, x_test, y_train, y_test = train_test_split(X, Y, test_size=.2, random_state=0,shuffle=False)"
   ]
  },
  {
   "cell_type": "code",
   "execution_count": 96,
   "id": "a36d4f87",
   "metadata": {},
   "outputs": [],
   "source": [
    "from sklearn.preprocessing import StandardScaler\n",
    "\n",
    "scaler = StandardScaler()\n",
    "\n",
    "scaler.fit(x_train)\n",
    "scaler.fit(x_test)\n",
    "training_set_x_fs = scaler.transform(x_train)\n",
    "testing_set_x_fs = scaler.transform(x_test)\n"
   ]
  },
  {
   "cell_type": "markdown",
   "id": "572c5b75",
   "metadata": {},
   "source": [
    "# Fit and predict Gradient Descent (with feature scaling)-Training Dataset"
   ]
  },
  {
   "cell_type": "code",
   "execution_count": 97,
   "id": "67daf62a",
   "metadata": {},
   "outputs": [],
   "source": [
    "from sklearn.linear_model import SGDClassifier\n",
    "\n",
    "sgd = SGDClassifier(max_iter=150000, tol=1e-3, loss='log', random_state=0, penalty='none').fit(training_set_x_fs,y_train)"
   ]
  },
  {
   "cell_type": "code",
   "execution_count": 98,
   "id": "a6a6a702",
   "metadata": {},
   "outputs": [
    {
     "data": {
      "text/plain": [
       "array([1, 1, 0, 0, 0, 0, 0, 0, 0, 0, 1, 0, 0, 0, 0, 0, 0, 1, 1, 0, 1, 0,\n",
       "       0, 1, 0, 0, 0, 0, 1, 0, 0, 0, 0, 0, 0, 1, 0, 1, 0, 1, 0, 0, 0, 0,\n",
       "       0, 1, 0, 0, 1, 1, 1, 0, 0, 1, 1, 0, 1, 1, 0, 0, 0, 1, 1, 1, 0, 1,\n",
       "       0, 0, 0, 1, 0, 0, 0, 0, 0, 1, 0, 1, 0, 1, 0, 0, 1, 0, 0, 0, 0, 0,\n",
       "       0, 0, 0, 1, 0, 1, 1, 0, 1, 0, 0, 0, 1, 0, 1, 0, 0, 0, 0, 0, 1, 0,\n",
       "       0, 0, 0, 0, 0, 1, 0, 0, 0, 0])"
      ]
     },
     "execution_count": 98,
     "metadata": {},
     "output_type": "execute_result"
    }
   ],
   "source": [
    "#Training Dataset\n",
    "training_set_sgd = training_set_x_fs\n",
    "h_w_x = sgd.predict(training_set_sgd)\n",
    "h_w_x\n"
   ]
  },
  {
   "cell_type": "code",
   "execution_count": 99,
   "id": "d110d1b5",
   "metadata": {},
   "outputs": [
    {
     "data": {
      "text/html": [
       "<div>\n",
       "<style scoped>\n",
       "    .dataframe tbody tr th:only-of-type {\n",
       "        vertical-align: middle;\n",
       "    }\n",
       "\n",
       "    .dataframe tbody tr th {\n",
       "        vertical-align: top;\n",
       "    }\n",
       "\n",
       "    .dataframe thead th {\n",
       "        text-align: right;\n",
       "    }\n",
       "</style>\n",
       "<table border=\"1\" class=\"dataframe\">\n",
       "  <thead>\n",
       "    <tr style=\"text-align: right;\">\n",
       "      <th></th>\n",
       "      <th>x1</th>\n",
       "      <th>x2</th>\n",
       "      <th>predicted_y</th>\n",
       "      <th>y</th>\n",
       "    </tr>\n",
       "  </thead>\n",
       "  <tbody>\n",
       "    <tr>\n",
       "      <th>0</th>\n",
       "      <td>-0.150251</td>\n",
       "      <td>-0.643823</td>\n",
       "      <td>1.0</td>\n",
       "      <td>0.0</td>\n",
       "    </tr>\n",
       "    <tr>\n",
       "      <th>1</th>\n",
       "      <td>0.093400</td>\n",
       "      <td>-2.092424</td>\n",
       "      <td>1.0</td>\n",
       "      <td>1.0</td>\n",
       "    </tr>\n",
       "    <tr>\n",
       "      <th>2</th>\n",
       "      <td>-0.515728</td>\n",
       "      <td>2.736247</td>\n",
       "      <td>0.0</td>\n",
       "      <td>0.0</td>\n",
       "    </tr>\n",
       "    <tr>\n",
       "      <th>3</th>\n",
       "      <td>1.677131</td>\n",
       "      <td>-0.402389</td>\n",
       "      <td>0.0</td>\n",
       "      <td>0.0</td>\n",
       "    </tr>\n",
       "    <tr>\n",
       "      <th>4</th>\n",
       "      <td>-1.124855</td>\n",
       "      <td>0.804778</td>\n",
       "      <td>0.0</td>\n",
       "      <td>0.0</td>\n",
       "    </tr>\n",
       "    <tr>\n",
       "      <th>...</th>\n",
       "      <td>...</td>\n",
       "      <td>...</td>\n",
       "      <td>...</td>\n",
       "      <td>...</td>\n",
       "    </tr>\n",
       "    <tr>\n",
       "      <th>115</th>\n",
       "      <td>-1.246681</td>\n",
       "      <td>-1.609557</td>\n",
       "      <td>1.0</td>\n",
       "      <td>1.0</td>\n",
       "    </tr>\n",
       "    <tr>\n",
       "      <th>116</th>\n",
       "      <td>2.408083</td>\n",
       "      <td>1.770513</td>\n",
       "      <td>0.0</td>\n",
       "      <td>0.0</td>\n",
       "    </tr>\n",
       "    <tr>\n",
       "      <th>117</th>\n",
       "      <td>0.946178</td>\n",
       "      <td>0.080478</td>\n",
       "      <td>0.0</td>\n",
       "      <td>1.0</td>\n",
       "    </tr>\n",
       "    <tr>\n",
       "      <th>118</th>\n",
       "      <td>-0.881204</td>\n",
       "      <td>2.494813</td>\n",
       "      <td>0.0</td>\n",
       "      <td>0.0</td>\n",
       "    </tr>\n",
       "    <tr>\n",
       "      <th>119</th>\n",
       "      <td>0.093400</td>\n",
       "      <td>-0.160956</td>\n",
       "      <td>0.0</td>\n",
       "      <td>0.0</td>\n",
       "    </tr>\n",
       "  </tbody>\n",
       "</table>\n",
       "<p>120 rows × 4 columns</p>\n",
       "</div>"
      ],
      "text/plain": [
       "           x1        x2  predicted_y    y\n",
       "0   -0.150251 -0.643823          1.0  0.0\n",
       "1    0.093400 -2.092424          1.0  1.0\n",
       "2   -0.515728  2.736247          0.0  0.0\n",
       "3    1.677131 -0.402389          0.0  0.0\n",
       "4   -1.124855  0.804778          0.0  0.0\n",
       "..        ...       ...          ...  ...\n",
       "115 -1.246681 -1.609557          1.0  1.0\n",
       "116  2.408083  1.770513          0.0  0.0\n",
       "117  0.946178  0.080478          0.0  1.0\n",
       "118 -0.881204  2.494813          0.0  0.0\n",
       "119  0.093400 -0.160956          0.0  0.0\n",
       "\n",
       "[120 rows x 4 columns]"
      ]
     },
     "execution_count": 99,
     "metadata": {},
     "output_type": "execute_result"
    }
   ],
   "source": [
    "h_w_x_df = pd.DataFrame(np.array(np.transpose([training_set_sgd[:,0], training_set_sgd[:,1], h_w_x, y_train])),\n",
    "                        columns=[\"x1\", \"x2\", \"predicted_y\", \"y\"])\n",
    "h_w_x_df\n"
   ]
  },
  {
   "cell_type": "markdown",
   "id": "c15d781e",
   "metadata": {},
   "source": [
    "# accuracy, f1-score and AUC (Training set) with feature scaling"
   ]
  },
  {
   "cell_type": "code",
   "execution_count": 100,
   "id": "48513379",
   "metadata": {},
   "outputs": [
    {
     "name": "stdout",
     "output_type": "stream",
     "text": [
      "accuracy: 0.6416666666666667, f1_score: 0.42666666666666664, auc: 0.7144666033554923\n"
     ]
    }
   ],
   "source": [
    "#your accuracy should be above 0.60, f1-score above 0.40 and auc above 0.65\n",
    "from sklearn.metrics import accuracy_score, f1_score, roc_auc_score\n",
    "\n",
    "accuracy = accuracy_score(y_train, h_w_x, normalize=True)\n",
    "f1_score = f1_score(y_train, h_w_x)\n",
    "auc = roc_auc_score(y_train, sgd.decision_function(training_set_sgd))\n",
    "\n",
    "print(f\"accuracy: {accuracy}, f1_score: {f1_score}, auc: {auc}\")\n",
    "\n"
   ]
  },
  {
   "cell_type": "markdown",
   "id": "0dfd1359-23e8-424e-9df1-945a1da60c12",
   "metadata": {},
   "source": [
    "# Fit and predict Gradient Descent (with feature scaling)-Testing Dataset"
   ]
  },
  {
   "cell_type": "code",
   "execution_count": 101,
   "id": "f81c6b74",
   "metadata": {},
   "outputs": [],
   "source": [
    "from sklearn.linear_model import SGDClassifier\n",
    "\n",
    "sgd = SGDClassifier(max_iter=150000, tol=1e-3, loss='log', random_state=0, penalty='none').fit(testing_set_x_fs,y_test)"
   ]
  },
  {
   "cell_type": "code",
   "execution_count": 102,
   "id": "2874a863",
   "metadata": {},
   "outputs": [
    {
     "data": {
      "text/plain": [
       "array([0, 1, 0, 1, 1, 1, 0, 1, 1, 1, 1, 1, 1, 1, 1, 1, 1, 1, 0, 1, 1, 1,\n",
       "       1, 0, 0, 1, 1, 1, 0, 1])"
      ]
     },
     "execution_count": 102,
     "metadata": {},
     "output_type": "execute_result"
    }
   ],
   "source": [
    "testing_set_sgd = testing_set_x_fs\n",
    "h_w_x = sgd.predict(testing_set_sgd)\n",
    "h_w_x\n"
   ]
  },
  {
   "cell_type": "code",
   "execution_count": 103,
   "id": "6346acdd",
   "metadata": {},
   "outputs": [
    {
     "data": {
      "text/html": [
       "<div>\n",
       "<style scoped>\n",
       "    .dataframe tbody tr th:only-of-type {\n",
       "        vertical-align: middle;\n",
       "    }\n",
       "\n",
       "    .dataframe tbody tr th {\n",
       "        vertical-align: top;\n",
       "    }\n",
       "\n",
       "    .dataframe thead th {\n",
       "        text-align: right;\n",
       "    }\n",
       "</style>\n",
       "<table border=\"1\" class=\"dataframe\">\n",
       "  <thead>\n",
       "    <tr style=\"text-align: right;\">\n",
       "      <th></th>\n",
       "      <th>x1</th>\n",
       "      <th>x2</th>\n",
       "      <th>predicted_y</th>\n",
       "      <th>y</th>\n",
       "    </tr>\n",
       "  </thead>\n",
       "  <tbody>\n",
       "    <tr>\n",
       "      <th>0</th>\n",
       "      <td>-0.150251</td>\n",
       "      <td>2.253380</td>\n",
       "      <td>0.0</td>\n",
       "      <td>0.0</td>\n",
       "    </tr>\n",
       "    <tr>\n",
       "      <th>1</th>\n",
       "      <td>2.164432</td>\n",
       "      <td>-0.643823</td>\n",
       "      <td>1.0</td>\n",
       "      <td>0.0</td>\n",
       "    </tr>\n",
       "    <tr>\n",
       "      <th>2</th>\n",
       "      <td>-1.003030</td>\n",
       "      <td>1.770513</td>\n",
       "      <td>0.0</td>\n",
       "      <td>0.0</td>\n",
       "    </tr>\n",
       "    <tr>\n",
       "      <th>3</th>\n",
       "      <td>-1.490332</td>\n",
       "      <td>0.321911</td>\n",
       "      <td>1.0</td>\n",
       "      <td>0.0</td>\n",
       "    </tr>\n",
       "    <tr>\n",
       "      <th>4</th>\n",
       "      <td>1.798956</td>\n",
       "      <td>-0.643823</td>\n",
       "      <td>1.0</td>\n",
       "      <td>0.0</td>\n",
       "    </tr>\n",
       "    <tr>\n",
       "      <th>5</th>\n",
       "      <td>-1.124855</td>\n",
       "      <td>0.563345</td>\n",
       "      <td>1.0</td>\n",
       "      <td>0.0</td>\n",
       "    </tr>\n",
       "    <tr>\n",
       "      <th>6</th>\n",
       "      <td>0.458876</td>\n",
       "      <td>0.804778</td>\n",
       "      <td>0.0</td>\n",
       "      <td>0.0</td>\n",
       "    </tr>\n",
       "    <tr>\n",
       "      <th>7</th>\n",
       "      <td>-0.272077</td>\n",
       "      <td>-0.643823</td>\n",
       "      <td>1.0</td>\n",
       "      <td>1.0</td>\n",
       "    </tr>\n",
       "    <tr>\n",
       "      <th>8</th>\n",
       "      <td>-0.150251</td>\n",
       "      <td>-0.885256</td>\n",
       "      <td>1.0</td>\n",
       "      <td>1.0</td>\n",
       "    </tr>\n",
       "    <tr>\n",
       "      <th>9</th>\n",
       "      <td>-0.272077</td>\n",
       "      <td>-1.126690</td>\n",
       "      <td>1.0</td>\n",
       "      <td>1.0</td>\n",
       "    </tr>\n",
       "    <tr>\n",
       "      <th>10</th>\n",
       "      <td>0.580701</td>\n",
       "      <td>0.321911</td>\n",
       "      <td>1.0</td>\n",
       "      <td>0.0</td>\n",
       "    </tr>\n",
       "    <tr>\n",
       "      <th>11</th>\n",
       "      <td>0.946178</td>\n",
       "      <td>-0.160956</td>\n",
       "      <td>1.0</td>\n",
       "      <td>0.0</td>\n",
       "    </tr>\n",
       "    <tr>\n",
       "      <th>12</th>\n",
       "      <td>0.458876</td>\n",
       "      <td>-1.368123</td>\n",
       "      <td>1.0</td>\n",
       "      <td>1.0</td>\n",
       "    </tr>\n",
       "    <tr>\n",
       "      <th>13</th>\n",
       "      <td>0.946178</td>\n",
       "      <td>-0.160956</td>\n",
       "      <td>1.0</td>\n",
       "      <td>1.0</td>\n",
       "    </tr>\n",
       "    <tr>\n",
       "      <th>14</th>\n",
       "      <td>-1.124855</td>\n",
       "      <td>-0.160956</td>\n",
       "      <td>1.0</td>\n",
       "      <td>0.0</td>\n",
       "    </tr>\n",
       "    <tr>\n",
       "      <th>15</th>\n",
       "      <td>-0.515728</td>\n",
       "      <td>-1.609557</td>\n",
       "      <td>1.0</td>\n",
       "      <td>1.0</td>\n",
       "    </tr>\n",
       "    <tr>\n",
       "      <th>16</th>\n",
       "      <td>0.946178</td>\n",
       "      <td>0.080478</td>\n",
       "      <td>1.0</td>\n",
       "      <td>0.0</td>\n",
       "    </tr>\n",
       "    <tr>\n",
       "      <th>17</th>\n",
       "      <td>-0.150251</td>\n",
       "      <td>-0.885256</td>\n",
       "      <td>1.0</td>\n",
       "      <td>0.0</td>\n",
       "    </tr>\n",
       "    <tr>\n",
       "      <th>18</th>\n",
       "      <td>-1.003030</td>\n",
       "      <td>0.804778</td>\n",
       "      <td>0.0</td>\n",
       "      <td>0.0</td>\n",
       "    </tr>\n",
       "    <tr>\n",
       "      <th>19</th>\n",
       "      <td>0.824352</td>\n",
       "      <td>-0.402389</td>\n",
       "      <td>1.0</td>\n",
       "      <td>1.0</td>\n",
       "    </tr>\n",
       "    <tr>\n",
       "      <th>20</th>\n",
       "      <td>-0.393902</td>\n",
       "      <td>-0.160956</td>\n",
       "      <td>1.0</td>\n",
       "      <td>1.0</td>\n",
       "    </tr>\n",
       "    <tr>\n",
       "      <th>21</th>\n",
       "      <td>-0.028426</td>\n",
       "      <td>0.321911</td>\n",
       "      <td>1.0</td>\n",
       "      <td>1.0</td>\n",
       "    </tr>\n",
       "    <tr>\n",
       "      <th>22</th>\n",
       "      <td>0.458876</td>\n",
       "      <td>-1.850990</td>\n",
       "      <td>1.0</td>\n",
       "      <td>1.0</td>\n",
       "    </tr>\n",
       "    <tr>\n",
       "      <th>23</th>\n",
       "      <td>-0.515728</td>\n",
       "      <td>1.046212</td>\n",
       "      <td>0.0</td>\n",
       "      <td>0.0</td>\n",
       "    </tr>\n",
       "    <tr>\n",
       "      <th>24</th>\n",
       "      <td>-1.003030</td>\n",
       "      <td>1.529079</td>\n",
       "      <td>0.0</td>\n",
       "      <td>0.0</td>\n",
       "    </tr>\n",
       "    <tr>\n",
       "      <th>25</th>\n",
       "      <td>-1.246681</td>\n",
       "      <td>0.080478</td>\n",
       "      <td>1.0</td>\n",
       "      <td>0.0</td>\n",
       "    </tr>\n",
       "    <tr>\n",
       "      <th>26</th>\n",
       "      <td>0.458876</td>\n",
       "      <td>-0.402389</td>\n",
       "      <td>1.0</td>\n",
       "      <td>0.0</td>\n",
       "    </tr>\n",
       "    <tr>\n",
       "      <th>27</th>\n",
       "      <td>-0.150251</td>\n",
       "      <td>-0.885256</td>\n",
       "      <td>1.0</td>\n",
       "      <td>1.0</td>\n",
       "    </tr>\n",
       "    <tr>\n",
       "      <th>28</th>\n",
       "      <td>2.164432</td>\n",
       "      <td>1.770513</td>\n",
       "      <td>0.0</td>\n",
       "      <td>0.0</td>\n",
       "    </tr>\n",
       "    <tr>\n",
       "      <th>29</th>\n",
       "      <td>-1.612157</td>\n",
       "      <td>0.321911</td>\n",
       "      <td>1.0</td>\n",
       "      <td>0.0</td>\n",
       "    </tr>\n",
       "  </tbody>\n",
       "</table>\n",
       "</div>"
      ],
      "text/plain": [
       "          x1        x2  predicted_y    y\n",
       "0  -0.150251  2.253380          0.0  0.0\n",
       "1   2.164432 -0.643823          1.0  0.0\n",
       "2  -1.003030  1.770513          0.0  0.0\n",
       "3  -1.490332  0.321911          1.0  0.0\n",
       "4   1.798956 -0.643823          1.0  0.0\n",
       "5  -1.124855  0.563345          1.0  0.0\n",
       "6   0.458876  0.804778          0.0  0.0\n",
       "7  -0.272077 -0.643823          1.0  1.0\n",
       "8  -0.150251 -0.885256          1.0  1.0\n",
       "9  -0.272077 -1.126690          1.0  1.0\n",
       "10  0.580701  0.321911          1.0  0.0\n",
       "11  0.946178 -0.160956          1.0  0.0\n",
       "12  0.458876 -1.368123          1.0  1.0\n",
       "13  0.946178 -0.160956          1.0  1.0\n",
       "14 -1.124855 -0.160956          1.0  0.0\n",
       "15 -0.515728 -1.609557          1.0  1.0\n",
       "16  0.946178  0.080478          1.0  0.0\n",
       "17 -0.150251 -0.885256          1.0  0.0\n",
       "18 -1.003030  0.804778          0.0  0.0\n",
       "19  0.824352 -0.402389          1.0  1.0\n",
       "20 -0.393902 -0.160956          1.0  1.0\n",
       "21 -0.028426  0.321911          1.0  1.0\n",
       "22  0.458876 -1.850990          1.0  1.0\n",
       "23 -0.515728  1.046212          0.0  0.0\n",
       "24 -1.003030  1.529079          0.0  0.0\n",
       "25 -1.246681  0.080478          1.0  0.0\n",
       "26  0.458876 -0.402389          1.0  0.0\n",
       "27 -0.150251 -0.885256          1.0  1.0\n",
       "28  2.164432  1.770513          0.0  0.0\n",
       "29 -1.612157  0.321911          1.0  0.0"
      ]
     },
     "execution_count": 103,
     "metadata": {},
     "output_type": "execute_result"
    }
   ],
   "source": [
    "h_w_x_df = pd.DataFrame(np.array(np.transpose([testing_set_sgd[:,0], testing_set_sgd[:,1], h_w_x, y_test])),\n",
    "                        columns=[\"x1\", \"x2\", \"predicted_y\", \"y\"])\n",
    "h_w_x_df"
   ]
  },
  {
   "cell_type": "markdown",
   "id": "a3363a76-975b-42f9-be09-cd0522f00f78",
   "metadata": {},
   "source": [
    "### accuracy, f1-score and AUC (Testing set) with feature scaling"
   ]
  },
  {
   "cell_type": "code",
   "execution_count": 104,
   "id": "de61f1ca",
   "metadata": {},
   "outputs": [
    {
     "name": "stdout",
     "output_type": "stream",
     "text": [
      "accuracy: 0.6, f1_score: 0.6470588235294118, auc: 0.8732057416267942\n"
     ]
    }
   ],
   "source": [
    "#your accuracy should be above 0.75, f1-score above 0.65 and auc above 0.80\n",
    "from sklearn.metrics import accuracy_score, f1_score, roc_auc_score\n",
    "\n",
    "accuracy = accuracy_score(y_test, h_w_x, normalize=True)\n",
    "f1_score = f1_score(y_test, h_w_x)\n",
    "auc = roc_auc_score(y_test, sgd.decision_function(testing_set_sgd))\n",
    "\n",
    "print(f\"accuracy: {accuracy}, f1_score: {f1_score}, auc: {auc}\")\n"
   ]
  },
  {
   "cell_type": "markdown",
   "id": "0216411e-f538-42b2-a431-e6d3d9f77cce",
   "metadata": {},
   "source": [
    "### plot decision boundary on testing set with feature scaling"
   ]
  },
  {
   "cell_type": "code",
   "execution_count": 105,
   "id": "de9de8cb",
   "metadata": {},
   "outputs": [
    {
     "data": {
      "text/plain": [
       "[<matplotlib.lines.Line2D at 0x22c2663b8b0>]"
      ]
     },
     "execution_count": 105,
     "metadata": {},
     "output_type": "execute_result"
    },
    {
     "data": {
      "image/png": "[encoded data removed]",
      "text/plain": [
       "<Figure size 432x288 with 1 Axes>"
      ]
     },
     "metadata": {
      "needs_background": "light"
     },
     "output_type": "display_data"
    }
   ],
   "source": [
    "#testing data\n",
    "fig = plt.figure()\n",
    "\n",
    "# ENSURE THAT WHEN YOU ARE DOING YOUR PLOT, YOU PLOT THE GROUNDTRUTH VALUES\n",
    "positive_samples = h_w_x_df[h_w_x_df[\"y\"]==1]\n",
    "negative_samples = h_w_x_df[h_w_x_df[\"y\"]==0]\n",
    "\n",
    "# Plot your positive examples\n",
    "plt.scatter(positive_samples[\"x1\"],positive_samples[\"x2\"], marker='+', c ='blue')\n",
    "\n",
    "# Plot your negative examples\n",
    "plt.scatter(negative_samples[\"x1\"],negative_samples[\"x2\"], c= 'green', marker='o')\n",
    "\n",
    "w = sgd.coef_[0]\n",
    "a = -w[0] / w[1]\n",
    "xx = np.linspace(-6, 10)\n",
    "yy = a * xx - (sgd.intercept_[0]) / w[1]\n",
    "\n",
    "plt.plot(xx, yy, 'k-')"
   ]
  },
  {
   "cell_type": "markdown",
   "id": "99d1a901-5826-4598-bca7-249dd7bdbf47",
   "metadata": {},
   "source": [
    "### plot confusion matrix on testing set with feature scaling"
   ]
  },
  {
   "cell_type": "code",
   "execution_count": 106,
   "id": "031584d0",
   "metadata": {},
   "outputs": [
    {
     "data": {
      "text/plain": [
       "<sklearn.metrics._plot.confusion_matrix.ConfusionMatrixDisplay at 0x22c26484370>"
      ]
     },
     "execution_count": 106,
     "metadata": {},
     "output_type": "execute_result"
    },
    {
     "data": {
      "image/png": "[encoded data removed]",
      "text/plain": [
       "<Figure size 432x288 with 2 Axes>"
      ]
     },
     "metadata": {
      "needs_background": "light"
     },
     "output_type": "display_data"
    }
   ],
   "source": [
    "# from sklearn.metrics import confusion_matrix, ConfusionMatrixDisplay\n",
    "\n",
    "cm = confusion_matrix(y_test, h_w_x, labels=sgd.classes_)\n",
    "disp = ConfusionMatrixDisplay(confusion_matrix=cm,\n",
    "                              display_labels=sgd.classes_)\n",
    "disp.plot()"
   ]
  },
  {
   "cell_type": "markdown",
   "id": "84deea66-00a7-4552-b14c-33dd27847280",
   "metadata": {},
   "source": [
    "## Fit and predict using lbfgs optimizer (with feature scaling)"
   ]
  },
  {
   "cell_type": "code",
   "execution_count": 108,
   "id": "bb7326c9",
   "metadata": {},
   "outputs": [],
   "source": [
    "from sklearn.linear_model import LogisticRegression\n",
    "\n",
    "clf = LogisticRegression(random_state=0, solver='lbfgs', penalty='none').fit(training_set_x_fs, y_train)"
   ]
  },
  {
   "cell_type": "markdown",
   "id": "393e766b-f0bb-41b9-b6f5-07cf346f4f7a",
   "metadata": {},
   "source": [
    "### accuracy, f1-score and AUC (Training set) with feature scaling"
   ]
  },
  {
   "cell_type": "code",
   "execution_count": 112,
   "id": "de1d54cd",
   "metadata": {},
   "outputs": [
    {
     "data": {
      "text/plain": [
       "array([1, 1, 0, 1, 0, 0, 0, 1, 1, 1, 1, 1, 1, 1, 1, 0, 1, 1, 1, 0, 1, 1,\n",
       "       0, 1, 1, 0, 0, 1, 1, 0, 1, 1, 0, 1, 1, 1, 0, 1, 1, 1, 1, 1, 1, 0,\n",
       "       0, 1, 1, 0, 1, 1, 1, 1, 0, 1, 1, 1, 1, 1, 1, 1, 0, 1, 1, 1, 1, 1,\n",
       "       1, 1, 0, 1, 1, 1, 0, 0, 1, 1, 1, 1, 0, 1, 0, 1, 1, 1, 1, 1, 1, 0,\n",
       "       0, 1, 0, 1, 0, 1, 1, 1, 1, 0, 1, 0, 1, 0, 1, 1, 1, 0, 1, 0, 1, 1,\n",
       "       1, 1, 1, 0, 1, 1, 0, 1, 0, 1])"
      ]
     },
     "execution_count": 112,
     "metadata": {},
     "output_type": "execute_result"
    }
   ],
   "source": [
    "#Training Dataset\n",
    "training_set_clf = training_set_x_fs\n",
    "h_w_x = sgd.predict(training_set_clf)\n",
    "h_w_x\n"
   ]
  },
  {
   "cell_type": "code",
   "execution_count": 113,
   "id": "104267fc",
   "metadata": {},
   "outputs": [
    {
     "data": {
      "text/html": [
       "<div>\n",
       "<style scoped>\n",
       "    .dataframe tbody tr th:only-of-type {\n",
       "        vertical-align: middle;\n",
       "    }\n",
       "\n",
       "    .dataframe tbody tr th {\n",
       "        vertical-align: top;\n",
       "    }\n",
       "\n",
       "    .dataframe thead th {\n",
       "        text-align: right;\n",
       "    }\n",
       "</style>\n",
       "<table border=\"1\" class=\"dataframe\">\n",
       "  <thead>\n",
       "    <tr style=\"text-align: right;\">\n",
       "      <th></th>\n",
       "      <th>x1</th>\n",
       "      <th>x2</th>\n",
       "      <th>predicted_y</th>\n",
       "      <th>y</th>\n",
       "    </tr>\n",
       "  </thead>\n",
       "  <tbody>\n",
       "    <tr>\n",
       "      <th>0</th>\n",
       "      <td>-0.150251</td>\n",
       "      <td>-0.643823</td>\n",
       "      <td>0.0</td>\n",
       "      <td>0.0</td>\n",
       "    </tr>\n",
       "    <tr>\n",
       "      <th>1</th>\n",
       "      <td>0.093400</td>\n",
       "      <td>-2.092424</td>\n",
       "      <td>1.0</td>\n",
       "      <td>1.0</td>\n",
       "    </tr>\n",
       "    <tr>\n",
       "      <th>2</th>\n",
       "      <td>-0.515728</td>\n",
       "      <td>2.736247</td>\n",
       "      <td>0.0</td>\n",
       "      <td>0.0</td>\n",
       "    </tr>\n",
       "    <tr>\n",
       "      <th>3</th>\n",
       "      <td>1.677131</td>\n",
       "      <td>-0.402389</td>\n",
       "      <td>0.0</td>\n",
       "      <td>0.0</td>\n",
       "    </tr>\n",
       "    <tr>\n",
       "      <th>4</th>\n",
       "      <td>-1.124855</td>\n",
       "      <td>0.804778</td>\n",
       "      <td>0.0</td>\n",
       "      <td>0.0</td>\n",
       "    </tr>\n",
       "    <tr>\n",
       "      <th>...</th>\n",
       "      <td>...</td>\n",
       "      <td>...</td>\n",
       "      <td>...</td>\n",
       "      <td>...</td>\n",
       "    </tr>\n",
       "    <tr>\n",
       "      <th>115</th>\n",
       "      <td>-1.246681</td>\n",
       "      <td>-1.609557</td>\n",
       "      <td>1.0</td>\n",
       "      <td>1.0</td>\n",
       "    </tr>\n",
       "    <tr>\n",
       "      <th>116</th>\n",
       "      <td>2.408083</td>\n",
       "      <td>1.770513</td>\n",
       "      <td>0.0</td>\n",
       "      <td>0.0</td>\n",
       "    </tr>\n",
       "    <tr>\n",
       "      <th>117</th>\n",
       "      <td>0.946178</td>\n",
       "      <td>0.080478</td>\n",
       "      <td>0.0</td>\n",
       "      <td>1.0</td>\n",
       "    </tr>\n",
       "    <tr>\n",
       "      <th>118</th>\n",
       "      <td>-0.881204</td>\n",
       "      <td>2.494813</td>\n",
       "      <td>0.0</td>\n",
       "      <td>0.0</td>\n",
       "    </tr>\n",
       "    <tr>\n",
       "      <th>119</th>\n",
       "      <td>0.093400</td>\n",
       "      <td>-0.160956</td>\n",
       "      <td>0.0</td>\n",
       "      <td>0.0</td>\n",
       "    </tr>\n",
       "  </tbody>\n",
       "</table>\n",
       "<p>120 rows × 4 columns</p>\n",
       "</div>"
      ],
      "text/plain": [
       "           x1        x2  predicted_y    y\n",
       "0   -0.150251 -0.643823          0.0  0.0\n",
       "1    0.093400 -2.092424          1.0  1.0\n",
       "2   -0.515728  2.736247          0.0  0.0\n",
       "3    1.677131 -0.402389          0.0  0.0\n",
       "4   -1.124855  0.804778          0.0  0.0\n",
       "..        ...       ...          ...  ...\n",
       "115 -1.246681 -1.609557          1.0  1.0\n",
       "116  2.408083  1.770513          0.0  0.0\n",
       "117  0.946178  0.080478          0.0  1.0\n",
       "118 -0.881204  2.494813          0.0  0.0\n",
       "119  0.093400 -0.160956          0.0  0.0\n",
       "\n",
       "[120 rows x 4 columns]"
      ]
     },
     "execution_count": 113,
     "metadata": {},
     "output_type": "execute_result"
    }
   ],
   "source": [
    "h_w_x = clf.predict(training_set_clf)\n",
    "h_w_x_df = pd.DataFrame(np.array(np.transpose([training_set_clf[:,0], training_set_clf[:,1], h_w_x, y_train])),columns=[\"x1\", \"x2\", \"predicted_y\", \"y\"])\n",
    "h_w_x_df\n"
   ]
  },
  {
   "cell_type": "code",
   "execution_count": 114,
   "id": "02db4b4c",
   "metadata": {},
   "outputs": [
    {
     "name": "stdout",
     "output_type": "stream",
     "text": [
      "accuracy: 0.6916666666666667, f1_score: 0.4126984126984126, auc: 0.776511554289332\n"
     ]
    }
   ],
   "source": [
    "#  your accuracy should be above 0.65, f1-score above 0.40 and auc above 0.70\n",
    "from sklearn.metrics import accuracy_score, f1_score, roc_auc_score\n",
    "\n",
    "accuracy = accuracy_score(y_train, h_w_x, normalize=True)\n",
    "f1_score = f1_score(y_train, h_w_x)\n",
    "auc = roc_auc_score(y_train, clf.decision_function(training_set_clf))\n",
    "\n",
    "print(f\"accuracy: {accuracy}, f1_score: {f1_score}, auc: {auc}\")\n"
   ]
  },
  {
   "cell_type": "markdown",
   "id": "9b95e9b5-8335-4369-83ac-c8450aa7bd54",
   "metadata": {},
   "source": [
    "### accuracy, f1-score and AUC (Testing set) with feature scaling"
   ]
  },
  {
   "cell_type": "code",
   "execution_count": 115,
   "id": "6929f642",
   "metadata": {},
   "outputs": [],
   "source": [
    "from sklearn.linear_model import LogisticRegression\n",
    "\n",
    "clf = LogisticRegression(random_state=0, solver='lbfgs', penalty='none').fit(testing_set_x_fs, y_test)"
   ]
  },
  {
   "cell_type": "code",
   "execution_count": 116,
   "id": "5f4d9077",
   "metadata": {},
   "outputs": [
    {
     "data": {
      "text/plain": [
       "array([0, 1, 0, 1, 1, 1, 0, 1, 1, 1, 1, 1, 1, 1, 1, 1, 1, 1, 0, 1, 1, 1,\n",
       "       1, 0, 0, 1, 1, 1, 0, 1])"
      ]
     },
     "execution_count": 116,
     "metadata": {},
     "output_type": "execute_result"
    }
   ],
   "source": [
    "#Training Dataset\n",
    "testing_set_clf = testing_set_x_fs\n",
    "h_w_x = sgd.predict(testing_set_clf)\n",
    "h_w_x"
   ]
  },
  {
   "cell_type": "code",
   "execution_count": 117,
   "id": "baf2da6c",
   "metadata": {},
   "outputs": [
    {
     "data": {
      "text/html": [
       "<div>\n",
       "<style scoped>\n",
       "    .dataframe tbody tr th:only-of-type {\n",
       "        vertical-align: middle;\n",
       "    }\n",
       "\n",
       "    .dataframe tbody tr th {\n",
       "        vertical-align: top;\n",
       "    }\n",
       "\n",
       "    .dataframe thead th {\n",
       "        text-align: right;\n",
       "    }\n",
       "</style>\n",
       "<table border=\"1\" class=\"dataframe\">\n",
       "  <thead>\n",
       "    <tr style=\"text-align: right;\">\n",
       "      <th></th>\n",
       "      <th>x1</th>\n",
       "      <th>x2</th>\n",
       "      <th>predicted_y</th>\n",
       "      <th>y</th>\n",
       "    </tr>\n",
       "  </thead>\n",
       "  <tbody>\n",
       "    <tr>\n",
       "      <th>0</th>\n",
       "      <td>-0.150251</td>\n",
       "      <td>2.253380</td>\n",
       "      <td>0.0</td>\n",
       "      <td>0.0</td>\n",
       "    </tr>\n",
       "    <tr>\n",
       "      <th>1</th>\n",
       "      <td>2.164432</td>\n",
       "      <td>-0.643823</td>\n",
       "      <td>0.0</td>\n",
       "      <td>0.0</td>\n",
       "    </tr>\n",
       "    <tr>\n",
       "      <th>2</th>\n",
       "      <td>-1.003030</td>\n",
       "      <td>1.770513</td>\n",
       "      <td>0.0</td>\n",
       "      <td>0.0</td>\n",
       "    </tr>\n",
       "    <tr>\n",
       "      <th>3</th>\n",
       "      <td>-1.490332</td>\n",
       "      <td>0.321911</td>\n",
       "      <td>0.0</td>\n",
       "      <td>0.0</td>\n",
       "    </tr>\n",
       "    <tr>\n",
       "      <th>4</th>\n",
       "      <td>1.798956</td>\n",
       "      <td>-0.643823</td>\n",
       "      <td>0.0</td>\n",
       "      <td>0.0</td>\n",
       "    </tr>\n",
       "    <tr>\n",
       "      <th>5</th>\n",
       "      <td>-1.124855</td>\n",
       "      <td>0.563345</td>\n",
       "      <td>0.0</td>\n",
       "      <td>0.0</td>\n",
       "    </tr>\n",
       "    <tr>\n",
       "      <th>6</th>\n",
       "      <td>0.458876</td>\n",
       "      <td>0.804778</td>\n",
       "      <td>0.0</td>\n",
       "      <td>0.0</td>\n",
       "    </tr>\n",
       "    <tr>\n",
       "      <th>7</th>\n",
       "      <td>-0.272077</td>\n",
       "      <td>-0.643823</td>\n",
       "      <td>1.0</td>\n",
       "      <td>1.0</td>\n",
       "    </tr>\n",
       "    <tr>\n",
       "      <th>8</th>\n",
       "      <td>-0.150251</td>\n",
       "      <td>-0.885256</td>\n",
       "      <td>1.0</td>\n",
       "      <td>1.0</td>\n",
       "    </tr>\n",
       "    <tr>\n",
       "      <th>9</th>\n",
       "      <td>-0.272077</td>\n",
       "      <td>-1.126690</td>\n",
       "      <td>1.0</td>\n",
       "      <td>1.0</td>\n",
       "    </tr>\n",
       "    <tr>\n",
       "      <th>10</th>\n",
       "      <td>0.580701</td>\n",
       "      <td>0.321911</td>\n",
       "      <td>0.0</td>\n",
       "      <td>0.0</td>\n",
       "    </tr>\n",
       "    <tr>\n",
       "      <th>11</th>\n",
       "      <td>0.946178</td>\n",
       "      <td>-0.160956</td>\n",
       "      <td>0.0</td>\n",
       "      <td>0.0</td>\n",
       "    </tr>\n",
       "    <tr>\n",
       "      <th>12</th>\n",
       "      <td>0.458876</td>\n",
       "      <td>-1.368123</td>\n",
       "      <td>1.0</td>\n",
       "      <td>1.0</td>\n",
       "    </tr>\n",
       "    <tr>\n",
       "      <th>13</th>\n",
       "      <td>0.946178</td>\n",
       "      <td>-0.160956</td>\n",
       "      <td>0.0</td>\n",
       "      <td>1.0</td>\n",
       "    </tr>\n",
       "    <tr>\n",
       "      <th>14</th>\n",
       "      <td>-1.124855</td>\n",
       "      <td>-0.160956</td>\n",
       "      <td>0.0</td>\n",
       "      <td>0.0</td>\n",
       "    </tr>\n",
       "    <tr>\n",
       "      <th>15</th>\n",
       "      <td>-0.515728</td>\n",
       "      <td>-1.609557</td>\n",
       "      <td>1.0</td>\n",
       "      <td>1.0</td>\n",
       "    </tr>\n",
       "    <tr>\n",
       "      <th>16</th>\n",
       "      <td>0.946178</td>\n",
       "      <td>0.080478</td>\n",
       "      <td>0.0</td>\n",
       "      <td>0.0</td>\n",
       "    </tr>\n",
       "    <tr>\n",
       "      <th>17</th>\n",
       "      <td>-0.150251</td>\n",
       "      <td>-0.885256</td>\n",
       "      <td>1.0</td>\n",
       "      <td>0.0</td>\n",
       "    </tr>\n",
       "    <tr>\n",
       "      <th>18</th>\n",
       "      <td>-1.003030</td>\n",
       "      <td>0.804778</td>\n",
       "      <td>0.0</td>\n",
       "      <td>0.0</td>\n",
       "    </tr>\n",
       "    <tr>\n",
       "      <th>19</th>\n",
       "      <td>0.824352</td>\n",
       "      <td>-0.402389</td>\n",
       "      <td>0.0</td>\n",
       "      <td>1.0</td>\n",
       "    </tr>\n",
       "    <tr>\n",
       "      <th>20</th>\n",
       "      <td>-0.393902</td>\n",
       "      <td>-0.160956</td>\n",
       "      <td>0.0</td>\n",
       "      <td>1.0</td>\n",
       "    </tr>\n",
       "    <tr>\n",
       "      <th>21</th>\n",
       "      <td>-0.028426</td>\n",
       "      <td>0.321911</td>\n",
       "      <td>0.0</td>\n",
       "      <td>1.0</td>\n",
       "    </tr>\n",
       "    <tr>\n",
       "      <th>22</th>\n",
       "      <td>0.458876</td>\n",
       "      <td>-1.850990</td>\n",
       "      <td>1.0</td>\n",
       "      <td>1.0</td>\n",
       "    </tr>\n",
       "    <tr>\n",
       "      <th>23</th>\n",
       "      <td>-0.515728</td>\n",
       "      <td>1.046212</td>\n",
       "      <td>0.0</td>\n",
       "      <td>0.0</td>\n",
       "    </tr>\n",
       "    <tr>\n",
       "      <th>24</th>\n",
       "      <td>-1.003030</td>\n",
       "      <td>1.529079</td>\n",
       "      <td>0.0</td>\n",
       "      <td>0.0</td>\n",
       "    </tr>\n",
       "    <tr>\n",
       "      <th>25</th>\n",
       "      <td>-1.246681</td>\n",
       "      <td>0.080478</td>\n",
       "      <td>0.0</td>\n",
       "      <td>0.0</td>\n",
       "    </tr>\n",
       "    <tr>\n",
       "      <th>26</th>\n",
       "      <td>0.458876</td>\n",
       "      <td>-0.402389</td>\n",
       "      <td>0.0</td>\n",
       "      <td>0.0</td>\n",
       "    </tr>\n",
       "    <tr>\n",
       "      <th>27</th>\n",
       "      <td>-0.150251</td>\n",
       "      <td>-0.885256</td>\n",
       "      <td>1.0</td>\n",
       "      <td>1.0</td>\n",
       "    </tr>\n",
       "    <tr>\n",
       "      <th>28</th>\n",
       "      <td>2.164432</td>\n",
       "      <td>1.770513</td>\n",
       "      <td>0.0</td>\n",
       "      <td>0.0</td>\n",
       "    </tr>\n",
       "    <tr>\n",
       "      <th>29</th>\n",
       "      <td>-1.612157</td>\n",
       "      <td>0.321911</td>\n",
       "      <td>0.0</td>\n",
       "      <td>0.0</td>\n",
       "    </tr>\n",
       "  </tbody>\n",
       "</table>\n",
       "</div>"
      ],
      "text/plain": [
       "          x1        x2  predicted_y    y\n",
       "0  -0.150251  2.253380          0.0  0.0\n",
       "1   2.164432 -0.643823          0.0  0.0\n",
       "2  -1.003030  1.770513          0.0  0.0\n",
       "3  -1.490332  0.321911          0.0  0.0\n",
       "4   1.798956 -0.643823          0.0  0.0\n",
       "5  -1.124855  0.563345          0.0  0.0\n",
       "6   0.458876  0.804778          0.0  0.0\n",
       "7  -0.272077 -0.643823          1.0  1.0\n",
       "8  -0.150251 -0.885256          1.0  1.0\n",
       "9  -0.272077 -1.126690          1.0  1.0\n",
       "10  0.580701  0.321911          0.0  0.0\n",
       "11  0.946178 -0.160956          0.0  0.0\n",
       "12  0.458876 -1.368123          1.0  1.0\n",
       "13  0.946178 -0.160956          0.0  1.0\n",
       "14 -1.124855 -0.160956          0.0  0.0\n",
       "15 -0.515728 -1.609557          1.0  1.0\n",
       "16  0.946178  0.080478          0.0  0.0\n",
       "17 -0.150251 -0.885256          1.0  0.0\n",
       "18 -1.003030  0.804778          0.0  0.0\n",
       "19  0.824352 -0.402389          0.0  1.0\n",
       "20 -0.393902 -0.160956          0.0  1.0\n",
       "21 -0.028426  0.321911          0.0  1.0\n",
       "22  0.458876 -1.850990          1.0  1.0\n",
       "23 -0.515728  1.046212          0.0  0.0\n",
       "24 -1.003030  1.529079          0.0  0.0\n",
       "25 -1.246681  0.080478          0.0  0.0\n",
       "26  0.458876 -0.402389          0.0  0.0\n",
       "27 -0.150251 -0.885256          1.0  1.0\n",
       "28  2.164432  1.770513          0.0  0.0\n",
       "29 -1.612157  0.321911          0.0  0.0"
      ]
     },
     "execution_count": 117,
     "metadata": {},
     "output_type": "execute_result"
    }
   ],
   "source": [
    "h_w_x = clf.predict(testing_set_clf)\n",
    "h_w_x_df = pd.DataFrame(np.array(np.transpose([testing_set_clf[:,0], testing_set_clf[:,1], h_w_x, y_test])),columns=[\"x1\", \"x2\", \"predicted_y\", \"y\"])\n",
    "h_w_x_df\n"
   ]
  },
  {
   "cell_type": "code",
   "execution_count": 118,
   "id": "b69b1fb2",
   "metadata": {},
   "outputs": [
    {
     "name": "stdout",
     "output_type": "stream",
     "text": [
      "accuracy: 0.8333333333333334, f1_score: 0.7368421052631579, auc: 0.8636363636363636\n"
     ]
    }
   ],
   "source": [
    "#  your accuracy should be above 0.70, f1-score above 0.50 and auc above 0.80\n",
    "from sklearn.metrics import accuracy_score, f1_score, roc_auc_score\n",
    "\n",
    "accuracy = accuracy_score(y_test, h_w_x, normalize=True)\n",
    "f1_score = f1_score(y_test, h_w_x)\n",
    "auc = roc_auc_score(y_test, clf.decision_function(testing_set_clf))\n",
    "\n",
    "print(f\"accuracy: {accuracy}, f1_score: {f1_score}, auc: {auc}\")\n"
   ]
  },
  {
   "cell_type": "markdown",
   "id": "b355dbab-23e4-4bf2-9035-58b744884a16",
   "metadata": {},
   "source": [
    "### plot decision boundary on testing set with feature scaling"
   ]
  },
  {
   "cell_type": "code",
   "execution_count": 119,
   "id": "360f30f5",
   "metadata": {},
   "outputs": [
    {
     "data": {
      "text/plain": [
       "[<matplotlib.lines.Line2D at 0x22c2673beb0>]"
      ]
     },
     "execution_count": 119,
     "metadata": {},
     "output_type": "execute_result"
    },
    {
     "data": {
      "image/png": "[encoded data removed]",
      "text/plain": [
       "<Figure size 432x288 with 1 Axes>"
      ]
     },
     "metadata": {
      "needs_background": "light"
     },
     "output_type": "display_data"
    }
   ],
   "source": [
    "#testing data\n",
    "fig = plt.figure()\n",
    "\n",
    "# ENSURE THAT WHEN YOU ARE DOING YOUR PLOT, YOU PLOT THE GROUNDTRUTH VALUES\n",
    "positive_samples = h_w_x_df[h_w_x_df[\"y\"]==1]\n",
    "negative_samples = h_w_x_df[h_w_x_df[\"y\"]==0]\n",
    "\n",
    "# Plot your positive examples\n",
    "plt.scatter(positive_samples[\"x1\"],positive_samples[\"x2\"], marker='+', c ='blue')\n",
    "\n",
    "# Plot your negative examples\n",
    "plt.scatter(negative_samples[\"x1\"],negative_samples[\"x2\"], c= 'green', marker='o')\n",
    "\n",
    "w = sgd.coef_[0]\n",
    "a = -w[0] / w[1]\n",
    "xx = np.linspace(-6, 10)\n",
    "yy = a * xx - (sgd.intercept_[0]) / w[1]\n",
    "\n",
    "plt.plot(xx, yy, 'k-')"
   ]
  },
  {
   "cell_type": "markdown",
   "id": "41c27e9d-4cc7-45fc-9093-b09c4031af2d",
   "metadata": {},
   "source": [
    "### plot confusion matrix on testing set with feature scaling"
   ]
  },
  {
   "cell_type": "code",
   "execution_count": 120,
   "id": "e1de7e5d",
   "metadata": {},
   "outputs": [
    {
     "data": {
      "text/plain": [
       "<sklearn.metrics._plot.confusion_matrix.ConfusionMatrixDisplay at 0x22c26764760>"
      ]
     },
     "execution_count": 120,
     "metadata": {},
     "output_type": "execute_result"
    },
    {
     "data": {
      "image/png": "[encoded data removed]",
      "text/plain": [
       "<Figure size 432x288 with 2 Axes>"
      ]
     },
     "metadata": {
      "needs_background": "light"
     },
     "output_type": "display_data"
    }
   ],
   "source": [
    "# from sklearn.metrics import confusion_matrix, ConfusionMatrixDisplay\n",
    "\n",
    "cm = confusion_matrix(y_test, h_w_x, labels=sgd.classes_)\n",
    "disp = ConfusionMatrixDisplay(confusion_matrix=cm,\n",
    "                              display_labels=sgd.classes_)\n",
    "disp.plot()"
   ]
  },
  {
   "cell_type": "markdown",
   "id": "642dc443-c0ed-4d9d-b96f-565440cf983f",
   "metadata": {
    "tags": []
   },
   "source": [
    "# Multinomial Logistic Regression\n",
    "\n",
    "(Grab appropriate features and data split)\n",
    "## No Feature Scaling"
   ]
  },
  {
   "cell_type": "code",
   "execution_count": 178,
   "id": "e3bc761f",
   "metadata": {},
   "outputs": [],
   "source": [
    "import copy\n",
    "iris_df_copy = copy.deepcopy(iris_df)\n",
    "\n",
    "# Shuffle data\n",
    "iris_df_copy = iris_df.sample(frac=1, random_state=0).reset_index(drop=True)\n",
    "\n",
    "# Grab appropriate columns\n",
    "sepal_petal_length_width = np.array(iris_df_copy[[\"sepal length (cm)\", \"sepal width (cm)\",\"petal length (cm)\",\"petal width (cm)\"]])\n",
    "\n",
    "# Change class 2 to class 0 for Binary Classification\n",
    "iris_df_copy[iris_df_copy[\"target\"] == 2] = 0\n",
    "target = iris_df_copy[\"target\"]"
   ]
  },
  {
   "cell_type": "code",
   "execution_count": 179,
   "id": "630ae9e6",
   "metadata": {},
   "outputs": [
    {
     "data": {
      "text/html": [
       "<div>\n",
       "<style scoped>\n",
       "    .dataframe tbody tr th:only-of-type {\n",
       "        vertical-align: middle;\n",
       "    }\n",
       "\n",
       "    .dataframe tbody tr th {\n",
       "        vertical-align: top;\n",
       "    }\n",
       "\n",
       "    .dataframe thead th {\n",
       "        text-align: right;\n",
       "    }\n",
       "</style>\n",
       "<table border=\"1\" class=\"dataframe\">\n",
       "  <thead>\n",
       "    <tr style=\"text-align: right;\">\n",
       "      <th></th>\n",
       "      <th>sepal length (cm)</th>\n",
       "      <th>sepal width (cm)</th>\n",
       "      <th>petal length (cm)</th>\n",
       "      <th>petal width (cm)</th>\n",
       "      <th>y_target</th>\n",
       "    </tr>\n",
       "  </thead>\n",
       "  <tbody>\n",
       "    <tr>\n",
       "      <th>0</th>\n",
       "      <td>5.8</td>\n",
       "      <td>2.8</td>\n",
       "      <td>5.1</td>\n",
       "      <td>2.4</td>\n",
       "      <td>0.0</td>\n",
       "    </tr>\n",
       "    <tr>\n",
       "      <th>1</th>\n",
       "      <td>6.0</td>\n",
       "      <td>2.2</td>\n",
       "      <td>4.0</td>\n",
       "      <td>1.0</td>\n",
       "      <td>1.0</td>\n",
       "    </tr>\n",
       "    <tr>\n",
       "      <th>2</th>\n",
       "      <td>5.5</td>\n",
       "      <td>4.2</td>\n",
       "      <td>1.4</td>\n",
       "      <td>0.2</td>\n",
       "      <td>0.0</td>\n",
       "    </tr>\n",
       "    <tr>\n",
       "      <th>3</th>\n",
       "      <td>7.3</td>\n",
       "      <td>2.9</td>\n",
       "      <td>6.3</td>\n",
       "      <td>1.8</td>\n",
       "      <td>0.0</td>\n",
       "    </tr>\n",
       "    <tr>\n",
       "      <th>4</th>\n",
       "      <td>5.0</td>\n",
       "      <td>3.4</td>\n",
       "      <td>1.5</td>\n",
       "      <td>0.2</td>\n",
       "      <td>0.0</td>\n",
       "    </tr>\n",
       "    <tr>\n",
       "      <th>...</th>\n",
       "      <td>...</td>\n",
       "      <td>...</td>\n",
       "      <td>...</td>\n",
       "      <td>...</td>\n",
       "      <td>...</td>\n",
       "    </tr>\n",
       "    <tr>\n",
       "      <th>145</th>\n",
       "      <td>4.9</td>\n",
       "      <td>3.1</td>\n",
       "      <td>1.5</td>\n",
       "      <td>0.1</td>\n",
       "      <td>0.0</td>\n",
       "    </tr>\n",
       "    <tr>\n",
       "      <th>146</th>\n",
       "      <td>6.3</td>\n",
       "      <td>2.9</td>\n",
       "      <td>5.6</td>\n",
       "      <td>1.8</td>\n",
       "      <td>0.0</td>\n",
       "    </tr>\n",
       "    <tr>\n",
       "      <th>147</th>\n",
       "      <td>5.8</td>\n",
       "      <td>2.7</td>\n",
       "      <td>4.1</td>\n",
       "      <td>1.0</td>\n",
       "      <td>1.0</td>\n",
       "    </tr>\n",
       "    <tr>\n",
       "      <th>148</th>\n",
       "      <td>7.7</td>\n",
       "      <td>3.8</td>\n",
       "      <td>6.7</td>\n",
       "      <td>2.2</td>\n",
       "      <td>0.0</td>\n",
       "    </tr>\n",
       "    <tr>\n",
       "      <th>149</th>\n",
       "      <td>4.6</td>\n",
       "      <td>3.2</td>\n",
       "      <td>1.4</td>\n",
       "      <td>0.2</td>\n",
       "      <td>0.0</td>\n",
       "    </tr>\n",
       "  </tbody>\n",
       "</table>\n",
       "<p>150 rows × 5 columns</p>\n",
       "</div>"
      ],
      "text/plain": [
       "     sepal length (cm)  sepal width (cm)  petal length (cm)  petal width (cm)  \\\n",
       "0                  5.8               2.8                5.1               2.4   \n",
       "1                  6.0               2.2                4.0               1.0   \n",
       "2                  5.5               4.2                1.4               0.2   \n",
       "3                  7.3               2.9                6.3               1.8   \n",
       "4                  5.0               3.4                1.5               0.2   \n",
       "..                 ...               ...                ...               ...   \n",
       "145                4.9               3.1                1.5               0.1   \n",
       "146                6.3               2.9                5.6               1.8   \n",
       "147                5.8               2.7                4.1               1.0   \n",
       "148                7.7               3.8                6.7               2.2   \n",
       "149                4.6               3.2                1.4               0.2   \n",
       "\n",
       "     y_target  \n",
       "0         0.0  \n",
       "1         1.0  \n",
       "2         0.0  \n",
       "3         0.0  \n",
       "4         0.0  \n",
       "..        ...  \n",
       "145       0.0  \n",
       "146       0.0  \n",
       "147       1.0  \n",
       "148       0.0  \n",
       "149       0.0  \n",
       "\n",
       "[150 rows x 5 columns]"
      ]
     },
     "execution_count": 179,
     "metadata": {},
     "output_type": "execute_result"
    }
   ],
   "source": [
    "target = np.array(iris_df_copy[\"target\"])\n",
    "X=sepal_petal_length_width\n",
    "Y=target\n",
    "X_y_df = pd.DataFrame(np.array(np.transpose([X[:,0], X[:,1],X[:,2], X[:,3], Y])), columns=[\"sepal length (cm)\", \"sepal width (cm)\",\"petal length (cm)\",\"petal width (cm)\", \"y_target\"])\n",
    "                                             \n",
    "X_y_df"
   ]
  },
  {
   "cell_type": "code",
   "execution_count": 180,
   "id": "9d9d020c",
   "metadata": {},
   "outputs": [],
   "source": [
    "#Spliting the dataset\n",
    "x_train, x_test, y_train, y_test = train_test_split(X, Y, test_size=.2, random_state=0,shuffle=True)"
   ]
  },
  {
   "cell_type": "markdown",
   "id": "ec613427-d8bb-4658-8e32-38f1c60f68a2",
   "metadata": {
    "tags": []
   },
   "source": [
    "## Fit and predict Gradient Descent (without feature scaling)"
   ]
  },
  {
   "cell_type": "code",
   "execution_count": 181,
   "id": "8bf6a196",
   "metadata": {},
   "outputs": [],
   "source": [
    "from sklearn.linear_model import SGDClassifier\n",
    "\n",
    "sgd = SGDClassifier(max_iter=160000, tol=1e-3, loss='log', random_state=0, penalty='none').fit(x_train, y_train)"
   ]
  },
  {
   "cell_type": "code",
   "execution_count": 182,
   "id": "025cbf58",
   "metadata": {},
   "outputs": [
    {
     "data": {
      "text/plain": [
       "array([0, 0, 0, 0, 1, 0, 0, 0, 0, 0, 0, 0, 0, 0, 1, 0, 0, 0, 0, 0, 0, 1,\n",
       "       0, 0, 0, 0, 0, 0, 1, 1, 0, 0, 0, 0, 0, 0, 1, 0, 1, 1, 0, 0, 0, 0,\n",
       "       0, 1, 0, 1, 0, 0, 0, 0, 1, 1, 0, 1, 0, 0, 0, 0, 1, 0, 0, 1, 0, 1,\n",
       "       0, 0, 1, 1, 0, 0, 1, 0, 0, 0, 0, 1, 1, 0, 0, 0, 0, 0, 0, 0, 0, 0,\n",
       "       0, 0, 0, 0, 0, 0, 0, 1, 0, 0, 0, 1, 0, 0, 0, 0, 0, 0, 0, 1, 1, 0,\n",
       "       0, 0, 0, 0, 0, 0, 0, 0, 0, 0])"
      ]
     },
     "execution_count": 182,
     "metadata": {},
     "output_type": "execute_result"
    }
   ],
   "source": [
    "#Training Dataset\n",
    "training_set_sgd = x_train\n",
    "h_w_x = sgd.predict(training_set_sgd)\n",
    "h_w_x\n"
   ]
  },
  {
   "cell_type": "code",
   "execution_count": 185,
   "id": "34a2390f",
   "metadata": {},
   "outputs": [],
   "source": [
    "#h_w_x_df = pd.DataFrame(np.array(np.transpose([training_set_sgd[:,0], training_set_sgd[:,1], training_set_sgd[:,2], training_set_sgd[:,3], h_w_x, y_train])), \n",
    "                        #columns=[\"x1\", \"x2\", \"x3\",\"x4\", \"predicted_y\", \"y\"])\n",
    "#h_w_x_df\n"
   ]
  },
  {
   "cell_type": "markdown",
   "id": "ac242a19-6bad-484a-8245-66755ad33179",
   "metadata": {},
   "source": [
    "### accuracy(Training set) No feature scaling"
   ]
  },
  {
   "cell_type": "code",
   "execution_count": 186,
   "id": "834b784f",
   "metadata": {},
   "outputs": [
    {
     "name": "stdout",
     "output_type": "stream",
     "text": [
      "accuracy: 0.7083333333333334, f1_score: 0.4776119402985074, auc: 0.815018315018315\n"
     ]
    }
   ],
   "source": [
    "#your accuracy should be above 0.70\n",
    "from sklearn.metrics import accuracy_score, f1_score, roc_auc_score\n",
    "\n",
    "accuracy = accuracy_score(y_train, h_w_x, normalize=True)\n",
    "f1_score = f1_score(y_train, h_w_x)\n",
    "auc = roc_auc_score(y_train, sgd.decision_function(training_set_sgd))\n",
    "\n",
    "print(f\"accuracy: {accuracy}, f1_score: {f1_score}, auc: {auc}\")"
   ]
  },
  {
   "cell_type": "markdown",
   "id": "f52dbe69-b3c4-45cc-8d2c-c0da6c1d6371",
   "metadata": {
    "tags": []
   },
   "source": [
    "### accuracy(Testing set) No feature scaling"
   ]
  },
  {
   "cell_type": "code",
   "execution_count": 187,
   "id": "0876c9fd",
   "metadata": {},
   "outputs": [],
   "source": [
    "from sklearn.linear_model import SGDClassifier\n",
    "\n",
    "sgd = SGDClassifier(max_iter=150000, tol=1e-3, loss='log', random_state=0, penalty='none').fit(x_test, y_test)"
   ]
  },
  {
   "cell_type": "code",
   "execution_count": 188,
   "id": "a34ad47f",
   "metadata": {},
   "outputs": [
    {
     "data": {
      "text/plain": [
       "array([0, 0, 0, 0, 0, 0, 0, 0, 0, 0, 0, 0, 0, 0, 0, 0, 0, 0, 0, 0, 0, 0,\n",
       "       0, 0, 0, 0, 0, 0, 0, 0])"
      ]
     },
     "execution_count": 188,
     "metadata": {},
     "output_type": "execute_result"
    }
   ],
   "source": [
    "#Training Dataset\n",
    "testing_set_sgd = x_test\n",
    "h_w_x = sgd.predict(testing_set_sgd)\n",
    "h_w_x"
   ]
  },
  {
   "cell_type": "code",
   "execution_count": 190,
   "id": "9461c687",
   "metadata": {},
   "outputs": [],
   "source": [
    "#h_w_x_df = pd.DataFrame(np.array(np.transpose([testing_set_sgd[:,0], testing_set_sgd[:,1], testing_set_sgd[:,2], testing_set_sgd[:,3], h_w_x, y_test])), \n",
    "                        #columns=[\"x1\", \"x2\", \"x3\",\"x4\", \"predicted_y\", \"y\"])\n",
    "#h_w_x_df\n"
   ]
  },
  {
   "cell_type": "code",
   "execution_count": 191,
   "id": "43469e1c",
   "metadata": {},
   "outputs": [
    {
     "name": "stdout",
     "output_type": "stream",
     "text": [
      "accuracy: 0.7333333333333333, f1_score: 0.0, auc: 0.5852272727272727\n"
     ]
    }
   ],
   "source": [
    "#- your accuracy should be above 0.75\n",
    "from sklearn.metrics import accuracy_score, f1_score, roc_auc_score\n",
    "\n",
    "accuracy = accuracy_score(y_test, h_w_x, normalize=True)\n",
    "f1_score = f1_score(y_test, h_w_x)\n",
    "auc = roc_auc_score(y_test, sgd.decision_function(testing_set_sgd))\n",
    "\n",
    "print(f\"accuracy: {accuracy}, f1_score: {f1_score}, auc: {auc}\")"
   ]
  },
  {
   "cell_type": "markdown",
   "id": "c93e5976-e877-4dbf-b319-a1956499d9ce",
   "metadata": {
    "tags": []
   },
   "source": [
    "## Fit and predict using lbfgs optimizer (without feature scaling)"
   ]
  },
  {
   "cell_type": "code",
   "execution_count": 202,
   "id": "2da90d6f",
   "metadata": {},
   "outputs": [],
   "source": [
    "#Spliting the dataset\n",
    "x_train, x_test, y_train, y_test = train_test_split(X, Y, test_size=.2, random_state=0,shuffle=True)"
   ]
  },
  {
   "cell_type": "code",
   "execution_count": 203,
   "id": "856dbe4f",
   "metadata": {},
   "outputs": [],
   "source": [
    "from sklearn.linear_model import LogisticRegression\n",
    "\n",
    "clf = LogisticRegression(max_iter=160000, random_state=0, solver='lbfgs', penalty='none').fit(x_train, y_train)\n"
   ]
  },
  {
   "cell_type": "markdown",
   "id": "bd765490-c2d6-4a6a-86df-593449f5b206",
   "metadata": {},
   "source": [
    "### accuracy(Training set) No feature scaling"
   ]
  },
  {
   "cell_type": "code",
   "execution_count": 204,
   "id": "8999ed43",
   "metadata": {},
   "outputs": [
    {
     "data": {
      "text/plain": [
       "array([0, 0, 0, 0, 0, 0, 0, 0, 0, 0, 0, 0, 0, 0, 0, 0, 0, 0, 0, 0, 0, 0,\n",
       "       0, 0, 0, 0, 0, 0, 0, 0, 0, 0, 0, 0, 0, 0, 0, 0, 0, 0, 0, 0, 0, 0,\n",
       "       0, 0, 0, 0, 0, 0, 0, 0, 0, 0, 0, 0, 0, 0, 0, 0, 0, 0, 0, 0, 0, 0,\n",
       "       0, 0, 0, 0, 0, 0, 0, 0, 0, 0, 0, 0, 0, 0, 0, 0, 0, 0, 0, 0, 0, 0,\n",
       "       0, 0, 0, 0, 0, 0, 0, 0, 0, 0, 0, 0, 0, 0, 0, 0, 0, 0, 0, 0, 0, 0,\n",
       "       0, 0, 0, 0, 0, 0, 0, 0, 0, 0])"
      ]
     },
     "execution_count": 204,
     "metadata": {},
     "output_type": "execute_result"
    }
   ],
   "source": [
    "#Training Dataset\n",
    "training_set_clf = x_train\n",
    "h_w_x = sgd.predict(training_set_clf)\n",
    "h_w_x\n"
   ]
  },
  {
   "cell_type": "code",
   "execution_count": 205,
   "id": "5d287321",
   "metadata": {},
   "outputs": [],
   "source": [
    "#h_w_x = clf.predict(training_set_clf)\n",
    "#h_w_x_df = pd.DataFrame(np.array(np.transpose([x_train[:,0], x_train[:,1],x_train[:,2], x_train[:,3], h_w_x, y_train])),columns=[\"x1\", \"x2\", \"x3\", \"x4\", \"predicted_y\", \"y\"])\n",
    "#h_w_x_df\n"
   ]
  },
  {
   "cell_type": "code",
   "execution_count": 206,
   "id": "2ace8f4e",
   "metadata": {},
   "outputs": [
    {
     "name": "stdout",
     "output_type": "stream",
     "text": [
      "accuracy: 0.65, f1_score: 0.0, auc: 0.8253968253968254\n"
     ]
    }
   ],
   "source": [
    "# your accuracy should be above 0.95\n",
    "from sklearn.metrics import accuracy_score, f1_score, roc_auc_score\n",
    "\n",
    "accuracy = accuracy_score(y_train, h_w_x, normalize=True)\n",
    "f1_score = f1_score(y_train, h_w_x)\n",
    "auc = roc_auc_score(y_train, clf.decision_function(training_set_clf))\n",
    "\n",
    "print(f\"accuracy: {accuracy}, f1_score: {f1_score}, auc: {auc}\")\n",
    "\n"
   ]
  },
  {
   "cell_type": "markdown",
   "id": "0ac4f210-a70c-4f48-bf43-42c0f3b810ba",
   "metadata": {
    "tags": []
   },
   "source": [
    "### accuracy(Testing set) No feature scaling"
   ]
  },
  {
   "cell_type": "code",
   "execution_count": 207,
   "id": "b64479ae",
   "metadata": {},
   "outputs": [],
   "source": [
    "from sklearn.linear_model import LogisticRegression\n",
    "\n",
    "clf = LogisticRegression(max_iter=160000,random_state=0, solver='lbfgs', penalty='none').fit(x_test, y_test)"
   ]
  },
  {
   "cell_type": "code",
   "execution_count": 208,
   "id": "c013aa94",
   "metadata": {},
   "outputs": [
    {
     "data": {
      "text/plain": [
       "array([0, 0, 0, 0, 0, 0, 0, 0, 0, 0, 0, 0, 0, 0, 0, 0, 0, 0, 0, 0, 0, 0,\n",
       "       0, 0, 0, 0, 0, 0, 0, 0])"
      ]
     },
     "execution_count": 208,
     "metadata": {},
     "output_type": "execute_result"
    }
   ],
   "source": [
    "#Training Dataset\n",
    "testing_set_clf = x_test\n",
    "h_w_x = sgd.predict(testing_set_clf)\n",
    "h_w_x\n"
   ]
  },
  {
   "cell_type": "code",
   "execution_count": 209,
   "id": "96924889",
   "metadata": {},
   "outputs": [
    {
     "data": {
      "text/html": [
       "<div>\n",
       "<style scoped>\n",
       "    .dataframe tbody tr th:only-of-type {\n",
       "        vertical-align: middle;\n",
       "    }\n",
       "\n",
       "    .dataframe tbody tr th {\n",
       "        vertical-align: top;\n",
       "    }\n",
       "\n",
       "    .dataframe thead th {\n",
       "        text-align: right;\n",
       "    }\n",
       "</style>\n",
       "<table border=\"1\" class=\"dataframe\">\n",
       "  <thead>\n",
       "    <tr style=\"text-align: right;\">\n",
       "      <th></th>\n",
       "      <th>x1</th>\n",
       "      <th>x2</th>\n",
       "      <th>x3</th>\n",
       "      <th>x4</th>\n",
       "      <th>predicted_y</th>\n",
       "      <th>y</th>\n",
       "    </tr>\n",
       "  </thead>\n",
       "  <tbody>\n",
       "    <tr>\n",
       "      <th>0</th>\n",
       "      <td>7.7</td>\n",
       "      <td>2.6</td>\n",
       "      <td>6.9</td>\n",
       "      <td>2.3</td>\n",
       "      <td>1.0</td>\n",
       "      <td>0.0</td>\n",
       "    </tr>\n",
       "    <tr>\n",
       "      <th>1</th>\n",
       "      <td>5.8</td>\n",
       "      <td>2.7</td>\n",
       "      <td>5.1</td>\n",
       "      <td>1.9</td>\n",
       "      <td>0.0</td>\n",
       "      <td>0.0</td>\n",
       "    </tr>\n",
       "    <tr>\n",
       "      <th>2</th>\n",
       "      <td>6.1</td>\n",
       "      <td>3.0</td>\n",
       "      <td>4.9</td>\n",
       "      <td>1.8</td>\n",
       "      <td>0.0</td>\n",
       "      <td>0.0</td>\n",
       "    </tr>\n",
       "    <tr>\n",
       "      <th>3</th>\n",
       "      <td>5.2</td>\n",
       "      <td>3.4</td>\n",
       "      <td>1.4</td>\n",
       "      <td>0.2</td>\n",
       "      <td>0.0</td>\n",
       "      <td>0.0</td>\n",
       "    </tr>\n",
       "    <tr>\n",
       "      <th>4</th>\n",
       "      <td>6.7</td>\n",
       "      <td>3.1</td>\n",
       "      <td>4.7</td>\n",
       "      <td>1.5</td>\n",
       "      <td>0.0</td>\n",
       "      <td>1.0</td>\n",
       "    </tr>\n",
       "    <tr>\n",
       "      <th>5</th>\n",
       "      <td>4.4</td>\n",
       "      <td>3.0</td>\n",
       "      <td>1.3</td>\n",
       "      <td>0.2</td>\n",
       "      <td>0.0</td>\n",
       "      <td>0.0</td>\n",
       "    </tr>\n",
       "    <tr>\n",
       "      <th>6</th>\n",
       "      <td>6.8</td>\n",
       "      <td>3.0</td>\n",
       "      <td>5.5</td>\n",
       "      <td>2.1</td>\n",
       "      <td>0.0</td>\n",
       "      <td>0.0</td>\n",
       "    </tr>\n",
       "    <tr>\n",
       "      <th>7</th>\n",
       "      <td>6.4</td>\n",
       "      <td>2.8</td>\n",
       "      <td>5.6</td>\n",
       "      <td>2.1</td>\n",
       "      <td>0.0</td>\n",
       "      <td>0.0</td>\n",
       "    </tr>\n",
       "    <tr>\n",
       "      <th>8</th>\n",
       "      <td>5.9</td>\n",
       "      <td>3.0</td>\n",
       "      <td>5.1</td>\n",
       "      <td>1.8</td>\n",
       "      <td>0.0</td>\n",
       "      <td>0.0</td>\n",
       "    </tr>\n",
       "    <tr>\n",
       "      <th>9</th>\n",
       "      <td>5.7</td>\n",
       "      <td>3.0</td>\n",
       "      <td>4.2</td>\n",
       "      <td>1.2</td>\n",
       "      <td>1.0</td>\n",
       "      <td>1.0</td>\n",
       "    </tr>\n",
       "    <tr>\n",
       "      <th>10</th>\n",
       "      <td>5.0</td>\n",
       "      <td>3.0</td>\n",
       "      <td>1.6</td>\n",
       "      <td>0.2</td>\n",
       "      <td>0.0</td>\n",
       "      <td>0.0</td>\n",
       "    </tr>\n",
       "    <tr>\n",
       "      <th>11</th>\n",
       "      <td>7.7</td>\n",
       "      <td>3.0</td>\n",
       "      <td>6.1</td>\n",
       "      <td>2.3</td>\n",
       "      <td>0.0</td>\n",
       "      <td>0.0</td>\n",
       "    </tr>\n",
       "    <tr>\n",
       "      <th>12</th>\n",
       "      <td>5.7</td>\n",
       "      <td>4.4</td>\n",
       "      <td>1.5</td>\n",
       "      <td>0.4</td>\n",
       "      <td>0.0</td>\n",
       "      <td>0.0</td>\n",
       "    </tr>\n",
       "    <tr>\n",
       "      <th>13</th>\n",
       "      <td>6.3</td>\n",
       "      <td>2.7</td>\n",
       "      <td>4.9</td>\n",
       "      <td>1.8</td>\n",
       "      <td>0.0</td>\n",
       "      <td>0.0</td>\n",
       "    </tr>\n",
       "    <tr>\n",
       "      <th>14</th>\n",
       "      <td>5.6</td>\n",
       "      <td>2.7</td>\n",
       "      <td>4.2</td>\n",
       "      <td>1.3</td>\n",
       "      <td>1.0</td>\n",
       "      <td>1.0</td>\n",
       "    </tr>\n",
       "    <tr>\n",
       "      <th>15</th>\n",
       "      <td>6.0</td>\n",
       "      <td>2.7</td>\n",
       "      <td>5.1</td>\n",
       "      <td>1.6</td>\n",
       "      <td>1.0</td>\n",
       "      <td>1.0</td>\n",
       "    </tr>\n",
       "    <tr>\n",
       "      <th>16</th>\n",
       "      <td>4.6</td>\n",
       "      <td>3.4</td>\n",
       "      <td>1.4</td>\n",
       "      <td>0.3</td>\n",
       "      <td>0.0</td>\n",
       "      <td>0.0</td>\n",
       "    </tr>\n",
       "    <tr>\n",
       "      <th>17</th>\n",
       "      <td>6.7</td>\n",
       "      <td>3.3</td>\n",
       "      <td>5.7</td>\n",
       "      <td>2.1</td>\n",
       "      <td>0.0</td>\n",
       "      <td>0.0</td>\n",
       "    </tr>\n",
       "    <tr>\n",
       "      <th>18</th>\n",
       "      <td>5.0</td>\n",
       "      <td>2.0</td>\n",
       "      <td>3.5</td>\n",
       "      <td>1.0</td>\n",
       "      <td>1.0</td>\n",
       "      <td>1.0</td>\n",
       "    </tr>\n",
       "    <tr>\n",
       "      <th>19</th>\n",
       "      <td>6.0</td>\n",
       "      <td>2.9</td>\n",
       "      <td>4.5</td>\n",
       "      <td>1.5</td>\n",
       "      <td>0.0</td>\n",
       "      <td>1.0</td>\n",
       "    </tr>\n",
       "    <tr>\n",
       "      <th>20</th>\n",
       "      <td>7.7</td>\n",
       "      <td>2.8</td>\n",
       "      <td>6.7</td>\n",
       "      <td>2.0</td>\n",
       "      <td>1.0</td>\n",
       "      <td>0.0</td>\n",
       "    </tr>\n",
       "    <tr>\n",
       "      <th>21</th>\n",
       "      <td>6.1</td>\n",
       "      <td>3.0</td>\n",
       "      <td>4.6</td>\n",
       "      <td>1.4</td>\n",
       "      <td>0.0</td>\n",
       "      <td>1.0</td>\n",
       "    </tr>\n",
       "    <tr>\n",
       "      <th>22</th>\n",
       "      <td>6.2</td>\n",
       "      <td>2.8</td>\n",
       "      <td>4.8</td>\n",
       "      <td>1.8</td>\n",
       "      <td>0.0</td>\n",
       "      <td>0.0</td>\n",
       "    </tr>\n",
       "    <tr>\n",
       "      <th>23</th>\n",
       "      <td>6.8</td>\n",
       "      <td>2.8</td>\n",
       "      <td>4.8</td>\n",
       "      <td>1.4</td>\n",
       "      <td>0.0</td>\n",
       "      <td>1.0</td>\n",
       "    </tr>\n",
       "    <tr>\n",
       "      <th>24</th>\n",
       "      <td>6.3</td>\n",
       "      <td>3.4</td>\n",
       "      <td>5.6</td>\n",
       "      <td>2.4</td>\n",
       "      <td>0.0</td>\n",
       "      <td>0.0</td>\n",
       "    </tr>\n",
       "    <tr>\n",
       "      <th>25</th>\n",
       "      <td>4.8</td>\n",
       "      <td>3.4</td>\n",
       "      <td>1.9</td>\n",
       "      <td>0.2</td>\n",
       "      <td>0.0</td>\n",
       "      <td>0.0</td>\n",
       "    </tr>\n",
       "    <tr>\n",
       "      <th>26</th>\n",
       "      <td>5.4</td>\n",
       "      <td>3.7</td>\n",
       "      <td>1.5</td>\n",
       "      <td>0.2</td>\n",
       "      <td>0.0</td>\n",
       "      <td>0.0</td>\n",
       "    </tr>\n",
       "    <tr>\n",
       "      <th>27</th>\n",
       "      <td>5.0</td>\n",
       "      <td>3.6</td>\n",
       "      <td>1.4</td>\n",
       "      <td>0.2</td>\n",
       "      <td>0.0</td>\n",
       "      <td>0.0</td>\n",
       "    </tr>\n",
       "    <tr>\n",
       "      <th>28</th>\n",
       "      <td>4.9</td>\n",
       "      <td>3.0</td>\n",
       "      <td>1.4</td>\n",
       "      <td>0.2</td>\n",
       "      <td>0.0</td>\n",
       "      <td>0.0</td>\n",
       "    </tr>\n",
       "    <tr>\n",
       "      <th>29</th>\n",
       "      <td>5.1</td>\n",
       "      <td>3.8</td>\n",
       "      <td>1.9</td>\n",
       "      <td>0.4</td>\n",
       "      <td>0.0</td>\n",
       "      <td>0.0</td>\n",
       "    </tr>\n",
       "  </tbody>\n",
       "</table>\n",
       "</div>"
      ],
      "text/plain": [
       "     x1   x2   x3   x4  predicted_y    y\n",
       "0   7.7  2.6  6.9  2.3          1.0  0.0\n",
       "1   5.8  2.7  5.1  1.9          0.0  0.0\n",
       "2   6.1  3.0  4.9  1.8          0.0  0.0\n",
       "3   5.2  3.4  1.4  0.2          0.0  0.0\n",
       "4   6.7  3.1  4.7  1.5          0.0  1.0\n",
       "5   4.4  3.0  1.3  0.2          0.0  0.0\n",
       "6   6.8  3.0  5.5  2.1          0.0  0.0\n",
       "7   6.4  2.8  5.6  2.1          0.0  0.0\n",
       "8   5.9  3.0  5.1  1.8          0.0  0.0\n",
       "9   5.7  3.0  4.2  1.2          1.0  1.0\n",
       "10  5.0  3.0  1.6  0.2          0.0  0.0\n",
       "11  7.7  3.0  6.1  2.3          0.0  0.0\n",
       "12  5.7  4.4  1.5  0.4          0.0  0.0\n",
       "13  6.3  2.7  4.9  1.8          0.0  0.0\n",
       "14  5.6  2.7  4.2  1.3          1.0  1.0\n",
       "15  6.0  2.7  5.1  1.6          1.0  1.0\n",
       "16  4.6  3.4  1.4  0.3          0.0  0.0\n",
       "17  6.7  3.3  5.7  2.1          0.0  0.0\n",
       "18  5.0  2.0  3.5  1.0          1.0  1.0\n",
       "19  6.0  2.9  4.5  1.5          0.0  1.0\n",
       "20  7.7  2.8  6.7  2.0          1.0  0.0\n",
       "21  6.1  3.0  4.6  1.4          0.0  1.0\n",
       "22  6.2  2.8  4.8  1.8          0.0  0.0\n",
       "23  6.8  2.8  4.8  1.4          0.0  1.0\n",
       "24  6.3  3.4  5.6  2.4          0.0  0.0\n",
       "25  4.8  3.4  1.9  0.2          0.0  0.0\n",
       "26  5.4  3.7  1.5  0.2          0.0  0.0\n",
       "27  5.0  3.6  1.4  0.2          0.0  0.0\n",
       "28  4.9  3.0  1.4  0.2          0.0  0.0\n",
       "29  5.1  3.8  1.9  0.4          0.0  0.0"
      ]
     },
     "execution_count": 209,
     "metadata": {},
     "output_type": "execute_result"
    }
   ],
   "source": [
    "#h_w_x = clf.predict(testing_set_clf)\n",
    "#h_w_x_df = pd.DataFrame(np.array(np.transpose([testing_set_clf[:,0], testing_set_clf[:,1],testing_set_clf[:,2], testing_set_clf[:,3], h_w_x, y_test])),columns=[\"x1\", \"x2\", \"x3\", \"x4\", \"predicted_y\", \"y\"])\n",
    "#h_w_x_df\n"
   ]
  },
  {
   "cell_type": "code",
   "execution_count": 210,
   "id": "db07c409",
   "metadata": {},
   "outputs": [
    {
     "name": "stdout",
     "output_type": "stream",
     "text": [
      "accuracy: 0.8, f1_score: 0.5714285714285715, auc: 0.8806818181818181\n"
     ]
    }
   ],
   "source": [
    "# your accuracy should be above 0.90\n",
    "from sklearn.metrics import accuracy_score, f1_score, roc_auc_score\n",
    "\n",
    "accuracy = accuracy_score(y_test, h_w_x, normalize=True)\n",
    "f1_score = f1_score(y_test, h_w_x)\n",
    "auc = roc_auc_score(y_test, clf.decision_function(testing_set_clf))\n",
    "\n",
    "print(f\"accuracy: {accuracy}, f1_score: {f1_score}, auc: {auc}\")\n"
   ]
  },
  {
   "cell_type": "markdown",
   "id": "e5aaf67b-5868-4cb7-a3ff-537086929044",
   "metadata": {},
   "source": [
    "## Feature scaling-Multinomial Logistic Regression\n",
    "\n",
    "(feature scale your data here)"
   ]
  },
  {
   "cell_type": "code",
   "execution_count": 211,
   "id": "b5015d1e",
   "metadata": {},
   "outputs": [],
   "source": [
    "import copy\n",
    "iris_df_copy = copy.deepcopy(iris_df)\n",
    "\n",
    "# Shuffle data\n",
    "iris_df_copy = iris_df.sample(frac=1, random_state=0).reset_index(drop=True)\n",
    "\n",
    "# Grab appropriate columns\n",
    "sepal_petal_length_width = np.array(iris_df_copy[[\"sepal length (cm)\", \"sepal width (cm)\",\"petal length (cm)\",\"petal width (cm)\"]])\n",
    "\n",
    "# Change class 2 to class 0 for Binary Classification\n",
    "iris_df_copy[iris_df_copy[\"target\"] == 2] = 0\n",
    "target = iris_df_copy[\"target\"]"
   ]
  },
  {
   "cell_type": "code",
   "execution_count": 212,
   "id": "e91eac13",
   "metadata": {},
   "outputs": [
    {
     "data": {
      "text/html": [
       "<div>\n",
       "<style scoped>\n",
       "    .dataframe tbody tr th:only-of-type {\n",
       "        vertical-align: middle;\n",
       "    }\n",
       "\n",
       "    .dataframe tbody tr th {\n",
       "        vertical-align: top;\n",
       "    }\n",
       "\n",
       "    .dataframe thead th {\n",
       "        text-align: right;\n",
       "    }\n",
       "</style>\n",
       "<table border=\"1\" class=\"dataframe\">\n",
       "  <thead>\n",
       "    <tr style=\"text-align: right;\">\n",
       "      <th></th>\n",
       "      <th>sepal length (cm)</th>\n",
       "      <th>sepal width (cm)</th>\n",
       "      <th>petal length (cm)</th>\n",
       "      <th>petal width (cm)</th>\n",
       "      <th>y_target</th>\n",
       "    </tr>\n",
       "  </thead>\n",
       "  <tbody>\n",
       "    <tr>\n",
       "      <th>0</th>\n",
       "      <td>5.8</td>\n",
       "      <td>2.8</td>\n",
       "      <td>5.1</td>\n",
       "      <td>2.4</td>\n",
       "      <td>0.0</td>\n",
       "    </tr>\n",
       "    <tr>\n",
       "      <th>1</th>\n",
       "      <td>6.0</td>\n",
       "      <td>2.2</td>\n",
       "      <td>4.0</td>\n",
       "      <td>1.0</td>\n",
       "      <td>1.0</td>\n",
       "    </tr>\n",
       "    <tr>\n",
       "      <th>2</th>\n",
       "      <td>5.5</td>\n",
       "      <td>4.2</td>\n",
       "      <td>1.4</td>\n",
       "      <td>0.2</td>\n",
       "      <td>0.0</td>\n",
       "    </tr>\n",
       "    <tr>\n",
       "      <th>3</th>\n",
       "      <td>7.3</td>\n",
       "      <td>2.9</td>\n",
       "      <td>6.3</td>\n",
       "      <td>1.8</td>\n",
       "      <td>0.0</td>\n",
       "    </tr>\n",
       "    <tr>\n",
       "      <th>4</th>\n",
       "      <td>5.0</td>\n",
       "      <td>3.4</td>\n",
       "      <td>1.5</td>\n",
       "      <td>0.2</td>\n",
       "      <td>0.0</td>\n",
       "    </tr>\n",
       "    <tr>\n",
       "      <th>...</th>\n",
       "      <td>...</td>\n",
       "      <td>...</td>\n",
       "      <td>...</td>\n",
       "      <td>...</td>\n",
       "      <td>...</td>\n",
       "    </tr>\n",
       "    <tr>\n",
       "      <th>145</th>\n",
       "      <td>4.9</td>\n",
       "      <td>3.1</td>\n",
       "      <td>1.5</td>\n",
       "      <td>0.1</td>\n",
       "      <td>0.0</td>\n",
       "    </tr>\n",
       "    <tr>\n",
       "      <th>146</th>\n",
       "      <td>6.3</td>\n",
       "      <td>2.9</td>\n",
       "      <td>5.6</td>\n",
       "      <td>1.8</td>\n",
       "      <td>0.0</td>\n",
       "    </tr>\n",
       "    <tr>\n",
       "      <th>147</th>\n",
       "      <td>5.8</td>\n",
       "      <td>2.7</td>\n",
       "      <td>4.1</td>\n",
       "      <td>1.0</td>\n",
       "      <td>1.0</td>\n",
       "    </tr>\n",
       "    <tr>\n",
       "      <th>148</th>\n",
       "      <td>7.7</td>\n",
       "      <td>3.8</td>\n",
       "      <td>6.7</td>\n",
       "      <td>2.2</td>\n",
       "      <td>0.0</td>\n",
       "    </tr>\n",
       "    <tr>\n",
       "      <th>149</th>\n",
       "      <td>4.6</td>\n",
       "      <td>3.2</td>\n",
       "      <td>1.4</td>\n",
       "      <td>0.2</td>\n",
       "      <td>0.0</td>\n",
       "    </tr>\n",
       "  </tbody>\n",
       "</table>\n",
       "<p>150 rows × 5 columns</p>\n",
       "</div>"
      ],
      "text/plain": [
       "     sepal length (cm)  sepal width (cm)  petal length (cm)  petal width (cm)  \\\n",
       "0                  5.8               2.8                5.1               2.4   \n",
       "1                  6.0               2.2                4.0               1.0   \n",
       "2                  5.5               4.2                1.4               0.2   \n",
       "3                  7.3               2.9                6.3               1.8   \n",
       "4                  5.0               3.4                1.5               0.2   \n",
       "..                 ...               ...                ...               ...   \n",
       "145                4.9               3.1                1.5               0.1   \n",
       "146                6.3               2.9                5.6               1.8   \n",
       "147                5.8               2.7                4.1               1.0   \n",
       "148                7.7               3.8                6.7               2.2   \n",
       "149                4.6               3.2                1.4               0.2   \n",
       "\n",
       "     y_target  \n",
       "0         0.0  \n",
       "1         1.0  \n",
       "2         0.0  \n",
       "3         0.0  \n",
       "4         0.0  \n",
       "..        ...  \n",
       "145       0.0  \n",
       "146       0.0  \n",
       "147       1.0  \n",
       "148       0.0  \n",
       "149       0.0  \n",
       "\n",
       "[150 rows x 5 columns]"
      ]
     },
     "execution_count": 212,
     "metadata": {},
     "output_type": "execute_result"
    }
   ],
   "source": [
    "target = np.array(iris_df_copy[\"target\"])\n",
    "X=sepal_petal_length_width\n",
    "Y=target\n",
    "X_y_df = pd.DataFrame(np.array(np.transpose([X[:,0], X[:,1],X[:,2], X[:,3], Y])), columns=[\"sepal length (cm)\", \"sepal width (cm)\",\"petal length (cm)\",\"petal width (cm)\", \"y_target\"])\n",
    "                                             \n",
    "X_y_df"
   ]
  },
  {
   "cell_type": "code",
   "execution_count": 213,
   "id": "71b29eac",
   "metadata": {},
   "outputs": [],
   "source": [
    "#Spliting the dataset\n",
    "x_train, x_test, y_train, y_test = train_test_split(X, Y, test_size=.2, random_state=0,shuffle=True)"
   ]
  },
  {
   "cell_type": "code",
   "execution_count": 219,
   "id": "f23b3f09",
   "metadata": {},
   "outputs": [],
   "source": [
    "from sklearn.preprocessing import StandardScaler\n",
    "\n",
    "scaler = StandardScaler()\n",
    "\n",
    "scaler.fit(x_train)\n",
    "scaler.fit(x_test)\n",
    "training_set_x_fs = scaler.transform(x_train)\n",
    "testing_set_x_fs = scaler.transform(x_test)"
   ]
  },
  {
   "cell_type": "markdown",
   "id": "37ac0a1e-53a4-4144-9e88-64394da054dd",
   "metadata": {
    "tags": []
   },
   "source": [
    "## Fit and predict Gradient Descent (with feature scaling)"
   ]
  },
  {
   "cell_type": "code",
   "execution_count": 220,
   "id": "34f354c3",
   "metadata": {},
   "outputs": [],
   "source": [
    "from sklearn.linear_model import SGDClassifier\n",
    "\n",
    "sgd = SGDClassifier(max_iter=50000, tol=1e-3, loss='log', random_state=0, penalty='none').fit(training_set_x_fs,y_train)"
   ]
  },
  {
   "cell_type": "code",
   "execution_count": 221,
   "id": "e3a1e129",
   "metadata": {},
   "outputs": [
    {
     "data": {
      "text/plain": [
       "array([1, 0, 1, 1, 1, 0, 1, 0, 1, 0, 0, 0, 0, 0, 1, 0, 0, 0, 0, 1, 1, 1,\n",
       "       1, 0, 0, 0, 0, 0, 1, 1, 0, 0, 0, 1, 0, 0, 1, 0, 1, 1, 0, 0, 0, 0,\n",
       "       0, 1, 0, 0, 0, 0, 0, 0, 1, 1, 0, 0, 1, 0, 0, 0, 1, 0, 0, 1, 0, 1,\n",
       "       0, 0, 1, 1, 0, 0, 1, 0, 0, 0, 0, 1, 1, 1, 1, 1, 0, 0, 0, 1, 0, 1,\n",
       "       0, 0, 1, 0, 0, 0, 0, 1, 0, 0, 1, 1, 1, 1, 0, 1, 0, 1, 0, 1, 1, 0,\n",
       "       0, 1, 0, 0, 0, 1, 0, 0, 0, 0])"
      ]
     },
     "execution_count": 221,
     "metadata": {},
     "output_type": "execute_result"
    }
   ],
   "source": [
    "#Training Dataset\n",
    "training_set_sgd = training_set_x_fs\n",
    "h_w_x = sgd.predict(training_set_sgd)\n",
    "h_w_x"
   ]
  },
  {
   "cell_type": "code",
   "execution_count": 222,
   "id": "d31b416f",
   "metadata": {},
   "outputs": [
    {
     "data": {
      "text/html": [
       "<div>\n",
       "<style scoped>\n",
       "    .dataframe tbody tr th:only-of-type {\n",
       "        vertical-align: middle;\n",
       "    }\n",
       "\n",
       "    .dataframe tbody tr th {\n",
       "        vertical-align: top;\n",
       "    }\n",
       "\n",
       "    .dataframe thead th {\n",
       "        text-align: right;\n",
       "    }\n",
       "</style>\n",
       "<table border=\"1\" class=\"dataframe\">\n",
       "  <thead>\n",
       "    <tr style=\"text-align: right;\">\n",
       "      <th></th>\n",
       "      <th>x1</th>\n",
       "      <th>x2</th>\n",
       "      <th>x2</th>\n",
       "      <th>x3</th>\n",
       "      <th>predicted_y</th>\n",
       "      <th>y</th>\n",
       "    </tr>\n",
       "  </thead>\n",
       "  <tbody>\n",
       "    <tr>\n",
       "      <th>0</th>\n",
       "      <td>-0.135561</td>\n",
       "      <td>-0.837769</td>\n",
       "      <td>0.644019</td>\n",
       "      <td>0.819167</td>\n",
       "      <td>1.0</td>\n",
       "      <td>0.0</td>\n",
       "    </tr>\n",
       "    <tr>\n",
       "      <th>1</th>\n",
       "      <td>1.107080</td>\n",
       "      <td>0.304643</td>\n",
       "      <td>0.973347</td>\n",
       "      <td>1.331147</td>\n",
       "      <td>0.0</td>\n",
       "      <td>0.0</td>\n",
       "    </tr>\n",
       "    <tr>\n",
       "      <th>2</th>\n",
       "      <td>0.316308</td>\n",
       "      <td>-0.380804</td>\n",
       "      <td>0.204915</td>\n",
       "      <td>0.051198</td>\n",
       "      <td>1.0</td>\n",
       "      <td>1.0</td>\n",
       "    </tr>\n",
       "    <tr>\n",
       "      <th>3</th>\n",
       "      <td>-0.248528</td>\n",
       "      <td>-0.609286</td>\n",
       "      <td>0.095139</td>\n",
       "      <td>0.051198</td>\n",
       "      <td>1.0</td>\n",
       "      <td>1.0</td>\n",
       "    </tr>\n",
       "    <tr>\n",
       "      <th>4</th>\n",
       "      <td>0.429276</td>\n",
       "      <td>-1.294733</td>\n",
       "      <td>0.534243</td>\n",
       "      <td>0.307188</td>\n",
       "      <td>1.0</td>\n",
       "      <td>1.0</td>\n",
       "    </tr>\n",
       "    <tr>\n",
       "      <th>...</th>\n",
       "      <td>...</td>\n",
       "      <td>...</td>\n",
       "      <td>...</td>\n",
       "      <td>...</td>\n",
       "      <td>...</td>\n",
       "      <td>...</td>\n",
       "    </tr>\n",
       "    <tr>\n",
       "      <th>115</th>\n",
       "      <td>0.203341</td>\n",
       "      <td>-0.609286</td>\n",
       "      <td>0.040251</td>\n",
       "      <td>0.051198</td>\n",
       "      <td>1.0</td>\n",
       "      <td>1.0</td>\n",
       "    </tr>\n",
       "    <tr>\n",
       "      <th>116</th>\n",
       "      <td>0.994112</td>\n",
       "      <td>0.304643</td>\n",
       "      <td>1.083123</td>\n",
       "      <td>1.331147</td>\n",
       "      <td>0.0</td>\n",
       "      <td>0.0</td>\n",
       "    </tr>\n",
       "    <tr>\n",
       "      <th>117</th>\n",
       "      <td>1.445982</td>\n",
       "      <td>0.304643</td>\n",
       "      <td>1.138011</td>\n",
       "      <td>0.691173</td>\n",
       "      <td>0.0</td>\n",
       "      <td>0.0</td>\n",
       "    </tr>\n",
       "    <tr>\n",
       "      <th>118</th>\n",
       "      <td>0.881145</td>\n",
       "      <td>0.076161</td>\n",
       "      <td>0.259803</td>\n",
       "      <td>0.179193</td>\n",
       "      <td>0.0</td>\n",
       "      <td>1.0</td>\n",
       "    </tr>\n",
       "    <tr>\n",
       "      <th>119</th>\n",
       "      <td>0.881145</td>\n",
       "      <td>0.533125</td>\n",
       "      <td>0.973347</td>\n",
       "      <td>1.587137</td>\n",
       "      <td>0.0</td>\n",
       "      <td>0.0</td>\n",
       "    </tr>\n",
       "  </tbody>\n",
       "</table>\n",
       "<p>120 rows × 6 columns</p>\n",
       "</div>"
      ],
      "text/plain": [
       "           x1        x2        x2        x3  predicted_y    y\n",
       "0   -0.135561 -0.837769  0.644019  0.819167          1.0  0.0\n",
       "1    1.107080  0.304643  0.973347  1.331147          0.0  0.0\n",
       "2    0.316308 -0.380804  0.204915  0.051198          1.0  1.0\n",
       "3   -0.248528 -0.609286  0.095139  0.051198          1.0  1.0\n",
       "4    0.429276 -1.294733  0.534243  0.307188          1.0  1.0\n",
       "..        ...       ...       ...       ...          ...  ...\n",
       "115  0.203341 -0.609286  0.040251  0.051198          1.0  1.0\n",
       "116  0.994112  0.304643  1.083123  1.331147          0.0  0.0\n",
       "117  1.445982  0.304643  1.138011  0.691173          0.0  0.0\n",
       "118  0.881145  0.076161  0.259803  0.179193          0.0  1.0\n",
       "119  0.881145  0.533125  0.973347  1.587137          0.0  0.0\n",
       "\n",
       "[120 rows x 6 columns]"
      ]
     },
     "execution_count": 222,
     "metadata": {},
     "output_type": "execute_result"
    }
   ],
   "source": [
    "h_w_x_df = pd.DataFrame(np.array(np.transpose([training_set_sgd[:,0], training_set_sgd[:,1],training_set_sgd[:,2], training_set_sgd[:,3], h_w_x, y_train])),\n",
    "                        columns=[\"x1\", \"x2\",\"x2\", \"x3\", \"predicted_y\", \"y\"])\n",
    "h_w_x_df\n"
   ]
  },
  {
   "cell_type": "markdown",
   "id": "8a0891d9-51ad-492a-9c4d-dfd11f6f8402",
   "metadata": {},
   "source": [
    "### accuracy (Training set) with feature scaling"
   ]
  },
  {
   "cell_type": "code",
   "execution_count": 224,
   "id": "49c33998",
   "metadata": {},
   "outputs": [
    {
     "name": "stdout",
     "output_type": "stream",
     "text": [
      "accuracy: 0.7166666666666667, f1_score: 0.6136363636363638, auc: 0.793956043956044\n"
     ]
    }
   ],
   "source": [
    "\n",
    "from sklearn.metrics import accuracy_score, f1_score, roc_auc_score\n",
    "\n",
    "accuracy = accuracy_score(y_train, h_w_x, normalize=True)\n",
    "f1_score = f1_score(y_train, h_w_x)\n",
    "auc = roc_auc_score(y_train, sgd.decision_function(training_set_sgd))\n",
    "\n",
    "print(f\"accuracy: {accuracy}, f1_score: {f1_score}, auc: {auc}\")\n"
   ]
  },
  {
   "cell_type": "markdown",
   "id": "6eba9af2-ec8b-454e-8494-7b40fdbb1cb8",
   "metadata": {},
   "source": [
    "### accuracy (Testing set) with feature scaling"
   ]
  },
  {
   "cell_type": "code",
   "execution_count": 225,
   "id": "89bbc477",
   "metadata": {},
   "outputs": [],
   "source": [
    "from sklearn.linear_model import SGDClassifier\n",
    "\n",
    "sgd = SGDClassifier(max_iter=150000, tol=1e-3, loss='log', random_state=0, penalty='none').fit(testing_set_x_fs,y_test)"
   ]
  },
  {
   "cell_type": "code",
   "execution_count": 226,
   "id": "6f4b93a0",
   "metadata": {},
   "outputs": [
    {
     "data": {
      "text/plain": [
       "array([1, 1, 0, 0, 0, 0, 0, 1, 1, 1, 0, 1, 0, 1, 1, 1, 0, 0, 1, 1, 1, 1,\n",
       "       1, 1, 0, 0, 0, 0, 0, 0])"
      ]
     },
     "execution_count": 226,
     "metadata": {},
     "output_type": "execute_result"
    }
   ],
   "source": [
    "#Testing Dataset\n",
    "testing_set_sgd = testing_set_x_fs\n",
    "h_w_x = sgd.predict(testing_set_sgd)\n",
    "h_w_x"
   ]
  },
  {
   "cell_type": "code",
   "execution_count": 228,
   "id": "db272546",
   "metadata": {},
   "outputs": [
    {
     "data": {
      "text/html": [
       "<div>\n",
       "<style scoped>\n",
       "    .dataframe tbody tr th:only-of-type {\n",
       "        vertical-align: middle;\n",
       "    }\n",
       "\n",
       "    .dataframe tbody tr th {\n",
       "        vertical-align: top;\n",
       "    }\n",
       "\n",
       "    .dataframe thead th {\n",
       "        text-align: right;\n",
       "    }\n",
       "</style>\n",
       "<table border=\"1\" class=\"dataframe\">\n",
       "  <thead>\n",
       "    <tr style=\"text-align: right;\">\n",
       "      <th></th>\n",
       "      <th>x1</th>\n",
       "      <th>x2</th>\n",
       "      <th>x2</th>\n",
       "      <th>x3</th>\n",
       "      <th>predicted_y</th>\n",
       "      <th>y</th>\n",
       "    </tr>\n",
       "  </thead>\n",
       "  <tbody>\n",
       "    <tr>\n",
       "      <th>0</th>\n",
       "      <td>2.010818</td>\n",
       "      <td>-1.066251</td>\n",
       "      <td>1.632003</td>\n",
       "      <td>1.331147</td>\n",
       "      <td>1.0</td>\n",
       "      <td>0.0</td>\n",
       "    </tr>\n",
       "    <tr>\n",
       "      <th>1</th>\n",
       "      <td>-0.135561</td>\n",
       "      <td>-0.837769</td>\n",
       "      <td>0.644019</td>\n",
       "      <td>0.819167</td>\n",
       "      <td>1.0</td>\n",
       "      <td>0.0</td>\n",
       "    </tr>\n",
       "    <tr>\n",
       "      <th>2</th>\n",
       "      <td>0.203341</td>\n",
       "      <td>-0.152322</td>\n",
       "      <td>0.534243</td>\n",
       "      <td>0.691173</td>\n",
       "      <td>0.0</td>\n",
       "      <td>0.0</td>\n",
       "    </tr>\n",
       "    <tr>\n",
       "      <th>3</th>\n",
       "      <td>-0.813365</td>\n",
       "      <td>0.761608</td>\n",
       "      <td>-1.386837</td>\n",
       "      <td>-1.356746</td>\n",
       "      <td>0.0</td>\n",
       "      <td>0.0</td>\n",
       "    </tr>\n",
       "    <tr>\n",
       "      <th>4</th>\n",
       "      <td>0.881145</td>\n",
       "      <td>0.076161</td>\n",
       "      <td>0.424467</td>\n",
       "      <td>0.307188</td>\n",
       "      <td>0.0</td>\n",
       "      <td>1.0</td>\n",
       "    </tr>\n",
       "    <tr>\n",
       "      <th>5</th>\n",
       "      <td>-1.717103</td>\n",
       "      <td>-0.152322</td>\n",
       "      <td>-1.441725</td>\n",
       "      <td>-1.356746</td>\n",
       "      <td>0.0</td>\n",
       "      <td>0.0</td>\n",
       "    </tr>\n",
       "    <tr>\n",
       "      <th>6</th>\n",
       "      <td>0.994112</td>\n",
       "      <td>-0.152322</td>\n",
       "      <td>0.863571</td>\n",
       "      <td>1.075157</td>\n",
       "      <td>0.0</td>\n",
       "      <td>0.0</td>\n",
       "    </tr>\n",
       "    <tr>\n",
       "      <th>7</th>\n",
       "      <td>0.542243</td>\n",
       "      <td>-0.609286</td>\n",
       "      <td>0.918459</td>\n",
       "      <td>1.075157</td>\n",
       "      <td>1.0</td>\n",
       "      <td>0.0</td>\n",
       "    </tr>\n",
       "    <tr>\n",
       "      <th>8</th>\n",
       "      <td>-0.022593</td>\n",
       "      <td>-0.152322</td>\n",
       "      <td>0.644019</td>\n",
       "      <td>0.691173</td>\n",
       "      <td>1.0</td>\n",
       "      <td>0.0</td>\n",
       "    </tr>\n",
       "    <tr>\n",
       "      <th>9</th>\n",
       "      <td>-0.248528</td>\n",
       "      <td>-0.152322</td>\n",
       "      <td>0.150027</td>\n",
       "      <td>-0.076797</td>\n",
       "      <td>1.0</td>\n",
       "      <td>1.0</td>\n",
       "    </tr>\n",
       "    <tr>\n",
       "      <th>10</th>\n",
       "      <td>-1.039299</td>\n",
       "      <td>-0.152322</td>\n",
       "      <td>-1.277061</td>\n",
       "      <td>-1.356746</td>\n",
       "      <td>0.0</td>\n",
       "      <td>0.0</td>\n",
       "    </tr>\n",
       "    <tr>\n",
       "      <th>11</th>\n",
       "      <td>2.010818</td>\n",
       "      <td>-0.152322</td>\n",
       "      <td>1.192899</td>\n",
       "      <td>1.331147</td>\n",
       "      <td>1.0</td>\n",
       "      <td>0.0</td>\n",
       "    </tr>\n",
       "    <tr>\n",
       "      <th>12</th>\n",
       "      <td>-0.248528</td>\n",
       "      <td>3.046431</td>\n",
       "      <td>-1.331949</td>\n",
       "      <td>-1.100756</td>\n",
       "      <td>0.0</td>\n",
       "      <td>0.0</td>\n",
       "    </tr>\n",
       "    <tr>\n",
       "      <th>13</th>\n",
       "      <td>0.429276</td>\n",
       "      <td>-0.837769</td>\n",
       "      <td>0.534243</td>\n",
       "      <td>0.691173</td>\n",
       "      <td>1.0</td>\n",
       "      <td>0.0</td>\n",
       "    </tr>\n",
       "    <tr>\n",
       "      <th>14</th>\n",
       "      <td>-0.361495</td>\n",
       "      <td>-0.837769</td>\n",
       "      <td>0.150027</td>\n",
       "      <td>0.051198</td>\n",
       "      <td>1.0</td>\n",
       "      <td>1.0</td>\n",
       "    </tr>\n",
       "    <tr>\n",
       "      <th>15</th>\n",
       "      <td>0.090374</td>\n",
       "      <td>-0.837769</td>\n",
       "      <td>0.644019</td>\n",
       "      <td>0.435183</td>\n",
       "      <td>1.0</td>\n",
       "      <td>1.0</td>\n",
       "    </tr>\n",
       "    <tr>\n",
       "      <th>16</th>\n",
       "      <td>-1.491168</td>\n",
       "      <td>0.761608</td>\n",
       "      <td>-1.386837</td>\n",
       "      <td>-1.228751</td>\n",
       "      <td>0.0</td>\n",
       "      <td>0.0</td>\n",
       "    </tr>\n",
       "    <tr>\n",
       "      <th>17</th>\n",
       "      <td>0.881145</td>\n",
       "      <td>0.533125</td>\n",
       "      <td>0.973347</td>\n",
       "      <td>1.075157</td>\n",
       "      <td>0.0</td>\n",
       "      <td>0.0</td>\n",
       "    </tr>\n",
       "    <tr>\n",
       "      <th>18</th>\n",
       "      <td>-1.039299</td>\n",
       "      <td>-2.437145</td>\n",
       "      <td>-0.234189</td>\n",
       "      <td>-0.332787</td>\n",
       "      <td>1.0</td>\n",
       "      <td>1.0</td>\n",
       "    </tr>\n",
       "    <tr>\n",
       "      <th>19</th>\n",
       "      <td>0.090374</td>\n",
       "      <td>-0.380804</td>\n",
       "      <td>0.314691</td>\n",
       "      <td>0.307188</td>\n",
       "      <td>1.0</td>\n",
       "      <td>1.0</td>\n",
       "    </tr>\n",
       "    <tr>\n",
       "      <th>20</th>\n",
       "      <td>2.010818</td>\n",
       "      <td>-0.609286</td>\n",
       "      <td>1.522227</td>\n",
       "      <td>0.947162</td>\n",
       "      <td>1.0</td>\n",
       "      <td>0.0</td>\n",
       "    </tr>\n",
       "    <tr>\n",
       "      <th>21</th>\n",
       "      <td>0.203341</td>\n",
       "      <td>-0.152322</td>\n",
       "      <td>0.369579</td>\n",
       "      <td>0.179193</td>\n",
       "      <td>1.0</td>\n",
       "      <td>1.0</td>\n",
       "    </tr>\n",
       "    <tr>\n",
       "      <th>22</th>\n",
       "      <td>0.316308</td>\n",
       "      <td>-0.609286</td>\n",
       "      <td>0.479355</td>\n",
       "      <td>0.691173</td>\n",
       "      <td>1.0</td>\n",
       "      <td>0.0</td>\n",
       "    </tr>\n",
       "    <tr>\n",
       "      <th>23</th>\n",
       "      <td>0.994112</td>\n",
       "      <td>-0.609286</td>\n",
       "      <td>0.479355</td>\n",
       "      <td>0.179193</td>\n",
       "      <td>1.0</td>\n",
       "      <td>1.0</td>\n",
       "    </tr>\n",
       "    <tr>\n",
       "      <th>24</th>\n",
       "      <td>0.429276</td>\n",
       "      <td>0.761608</td>\n",
       "      <td>0.918459</td>\n",
       "      <td>1.459142</td>\n",
       "      <td>0.0</td>\n",
       "      <td>0.0</td>\n",
       "    </tr>\n",
       "    <tr>\n",
       "      <th>25</th>\n",
       "      <td>-1.265234</td>\n",
       "      <td>0.761608</td>\n",
       "      <td>-1.112397</td>\n",
       "      <td>-1.356746</td>\n",
       "      <td>0.0</td>\n",
       "      <td>0.0</td>\n",
       "    </tr>\n",
       "    <tr>\n",
       "      <th>26</th>\n",
       "      <td>-0.587430</td>\n",
       "      <td>1.447055</td>\n",
       "      <td>-1.331949</td>\n",
       "      <td>-1.356746</td>\n",
       "      <td>0.0</td>\n",
       "      <td>0.0</td>\n",
       "    </tr>\n",
       "    <tr>\n",
       "      <th>27</th>\n",
       "      <td>-1.039299</td>\n",
       "      <td>1.218572</td>\n",
       "      <td>-1.386837</td>\n",
       "      <td>-1.356746</td>\n",
       "      <td>0.0</td>\n",
       "      <td>0.0</td>\n",
       "    </tr>\n",
       "    <tr>\n",
       "      <th>28</th>\n",
       "      <td>-1.152267</td>\n",
       "      <td>-0.152322</td>\n",
       "      <td>-1.386837</td>\n",
       "      <td>-1.356746</td>\n",
       "      <td>0.0</td>\n",
       "      <td>0.0</td>\n",
       "    </tr>\n",
       "    <tr>\n",
       "      <th>29</th>\n",
       "      <td>-0.926332</td>\n",
       "      <td>1.675537</td>\n",
       "      <td>-1.112397</td>\n",
       "      <td>-1.100756</td>\n",
       "      <td>0.0</td>\n",
       "      <td>0.0</td>\n",
       "    </tr>\n",
       "  </tbody>\n",
       "</table>\n",
       "</div>"
      ],
      "text/plain": [
       "          x1        x2        x2        x3  predicted_y    y\n",
       "0   2.010818 -1.066251  1.632003  1.331147          1.0  0.0\n",
       "1  -0.135561 -0.837769  0.644019  0.819167          1.0  0.0\n",
       "2   0.203341 -0.152322  0.534243  0.691173          0.0  0.0\n",
       "3  -0.813365  0.761608 -1.386837 -1.356746          0.0  0.0\n",
       "4   0.881145  0.076161  0.424467  0.307188          0.0  1.0\n",
       "5  -1.717103 -0.152322 -1.441725 -1.356746          0.0  0.0\n",
       "6   0.994112 -0.152322  0.863571  1.075157          0.0  0.0\n",
       "7   0.542243 -0.609286  0.918459  1.075157          1.0  0.0\n",
       "8  -0.022593 -0.152322  0.644019  0.691173          1.0  0.0\n",
       "9  -0.248528 -0.152322  0.150027 -0.076797          1.0  1.0\n",
       "10 -1.039299 -0.152322 -1.277061 -1.356746          0.0  0.0\n",
       "11  2.010818 -0.152322  1.192899  1.331147          1.0  0.0\n",
       "12 -0.248528  3.046431 -1.331949 -1.100756          0.0  0.0\n",
       "13  0.429276 -0.837769  0.534243  0.691173          1.0  0.0\n",
       "14 -0.361495 -0.837769  0.150027  0.051198          1.0  1.0\n",
       "15  0.090374 -0.837769  0.644019  0.435183          1.0  1.0\n",
       "16 -1.491168  0.761608 -1.386837 -1.228751          0.0  0.0\n",
       "17  0.881145  0.533125  0.973347  1.075157          0.0  0.0\n",
       "18 -1.039299 -2.437145 -0.234189 -0.332787          1.0  1.0\n",
       "19  0.090374 -0.380804  0.314691  0.307188          1.0  1.0\n",
       "20  2.010818 -0.609286  1.522227  0.947162          1.0  0.0\n",
       "21  0.203341 -0.152322  0.369579  0.179193          1.0  1.0\n",
       "22  0.316308 -0.609286  0.479355  0.691173          1.0  0.0\n",
       "23  0.994112 -0.609286  0.479355  0.179193          1.0  1.0\n",
       "24  0.429276  0.761608  0.918459  1.459142          0.0  0.0\n",
       "25 -1.265234  0.761608 -1.112397 -1.356746          0.0  0.0\n",
       "26 -0.587430  1.447055 -1.331949 -1.356746          0.0  0.0\n",
       "27 -1.039299  1.218572 -1.386837 -1.356746          0.0  0.0\n",
       "28 -1.152267 -0.152322 -1.386837 -1.356746          0.0  0.0\n",
       "29 -0.926332  1.675537 -1.112397 -1.100756          0.0  0.0"
      ]
     },
     "execution_count": 228,
     "metadata": {},
     "output_type": "execute_result"
    }
   ],
   "source": [
    "h_w_x_df = pd.DataFrame(np.array(np.transpose([testing_set_sgd[:,0], testing_set_sgd[:,1],testing_set_sgd[:,2], testing_set_sgd[:,3], h_w_x, y_test])),\n",
    "                        columns=[\"x1\", \"x2\",\"x2\", \"x3\", \"predicted_y\", \"y\"])\n",
    "h_w_x_df\n"
   ]
  },
  {
   "cell_type": "code",
   "execution_count": 230,
   "id": "0b87b5ab",
   "metadata": {},
   "outputs": [
    {
     "name": "stdout",
     "output_type": "stream",
     "text": [
      "accuracy: 0.7, f1_score: 0.608695652173913, auc: 0.8181818181818181\n"
     ]
    }
   ],
   "source": [
    "\n",
    "from sklearn.metrics import accuracy_score, f1_score, roc_auc_score\n",
    "\n",
    "accuracy = accuracy_score(y_test, h_w_x, normalize=True)\n",
    "f1_score = f1_score(y_test, h_w_x)\n",
    "auc = roc_auc_score(y_test, sgd.decision_function(testing_set_sgd))\n",
    "\n",
    "print(f\"accuracy: {accuracy}, f1_score: {f1_score}, auc: {auc}\")"
   ]
  },
  {
   "cell_type": "markdown",
   "id": "58157e0b-fabc-4389-bb13-f85b7ff482de",
   "metadata": {
    "tags": []
   },
   "source": [
    "## Fit and predict lbfgs optimizer (with feature scaling)"
   ]
  },
  {
   "cell_type": "code",
   "execution_count": 235,
   "id": "84d5d9bf",
   "metadata": {},
   "outputs": [],
   "source": [
    "from sklearn.linear_model import LogisticRegression\n",
    "\n",
    "clf = LogisticRegression(random_state=0, solver='lbfgs', penalty='none').fit(training_set_x_fs, y_train)\n"
   ]
  },
  {
   "cell_type": "code",
   "execution_count": 237,
   "id": "46a7c837",
   "metadata": {},
   "outputs": [],
   "source": [
    "#Training Dataset\n",
    "training_set_clf = training_set_x_fs\n",
    "#h_w_x = sgd.predict(training_set_clf)\n",
    "#h_w_x"
   ]
  },
  {
   "cell_type": "code",
   "execution_count": 238,
   "id": "3b069062",
   "metadata": {},
   "outputs": [
    {
     "data": {
      "text/html": [
       "<div>\n",
       "<style scoped>\n",
       "    .dataframe tbody tr th:only-of-type {\n",
       "        vertical-align: middle;\n",
       "    }\n",
       "\n",
       "    .dataframe tbody tr th {\n",
       "        vertical-align: top;\n",
       "    }\n",
       "\n",
       "    .dataframe thead th {\n",
       "        text-align: right;\n",
       "    }\n",
       "</style>\n",
       "<table border=\"1\" class=\"dataframe\">\n",
       "  <thead>\n",
       "    <tr style=\"text-align: right;\">\n",
       "      <th></th>\n",
       "      <th>x1</th>\n",
       "      <th>x2</th>\n",
       "      <th>x3</th>\n",
       "      <th>x4</th>\n",
       "      <th>predicted_y</th>\n",
       "      <th>y</th>\n",
       "    </tr>\n",
       "  </thead>\n",
       "  <tbody>\n",
       "    <tr>\n",
       "      <th>0</th>\n",
       "      <td>-0.135561</td>\n",
       "      <td>-0.837769</td>\n",
       "      <td>0.644019</td>\n",
       "      <td>0.819167</td>\n",
       "      <td>0.0</td>\n",
       "      <td>0.0</td>\n",
       "    </tr>\n",
       "    <tr>\n",
       "      <th>1</th>\n",
       "      <td>1.107080</td>\n",
       "      <td>0.304643</td>\n",
       "      <td>0.973347</td>\n",
       "      <td>1.331147</td>\n",
       "      <td>0.0</td>\n",
       "      <td>0.0</td>\n",
       "    </tr>\n",
       "    <tr>\n",
       "      <th>2</th>\n",
       "      <td>0.316308</td>\n",
       "      <td>-0.380804</td>\n",
       "      <td>0.204915</td>\n",
       "      <td>0.051198</td>\n",
       "      <td>0.0</td>\n",
       "      <td>1.0</td>\n",
       "    </tr>\n",
       "    <tr>\n",
       "      <th>3</th>\n",
       "      <td>-0.248528</td>\n",
       "      <td>-0.609286</td>\n",
       "      <td>0.095139</td>\n",
       "      <td>0.051198</td>\n",
       "      <td>0.0</td>\n",
       "      <td>1.0</td>\n",
       "    </tr>\n",
       "    <tr>\n",
       "      <th>4</th>\n",
       "      <td>0.429276</td>\n",
       "      <td>-1.294733</td>\n",
       "      <td>0.534243</td>\n",
       "      <td>0.307188</td>\n",
       "      <td>1.0</td>\n",
       "      <td>1.0</td>\n",
       "    </tr>\n",
       "    <tr>\n",
       "      <th>...</th>\n",
       "      <td>...</td>\n",
       "      <td>...</td>\n",
       "      <td>...</td>\n",
       "      <td>...</td>\n",
       "      <td>...</td>\n",
       "      <td>...</td>\n",
       "    </tr>\n",
       "    <tr>\n",
       "      <th>115</th>\n",
       "      <td>0.203341</td>\n",
       "      <td>-0.609286</td>\n",
       "      <td>0.040251</td>\n",
       "      <td>0.051198</td>\n",
       "      <td>0.0</td>\n",
       "      <td>1.0</td>\n",
       "    </tr>\n",
       "    <tr>\n",
       "      <th>116</th>\n",
       "      <td>0.994112</td>\n",
       "      <td>0.304643</td>\n",
       "      <td>1.083123</td>\n",
       "      <td>1.331147</td>\n",
       "      <td>0.0</td>\n",
       "      <td>0.0</td>\n",
       "    </tr>\n",
       "    <tr>\n",
       "      <th>117</th>\n",
       "      <td>1.445982</td>\n",
       "      <td>0.304643</td>\n",
       "      <td>1.138011</td>\n",
       "      <td>0.691173</td>\n",
       "      <td>0.0</td>\n",
       "      <td>0.0</td>\n",
       "    </tr>\n",
       "    <tr>\n",
       "      <th>118</th>\n",
       "      <td>0.881145</td>\n",
       "      <td>0.076161</td>\n",
       "      <td>0.259803</td>\n",
       "      <td>0.179193</td>\n",
       "      <td>0.0</td>\n",
       "      <td>1.0</td>\n",
       "    </tr>\n",
       "    <tr>\n",
       "      <th>119</th>\n",
       "      <td>0.881145</td>\n",
       "      <td>0.533125</td>\n",
       "      <td>0.973347</td>\n",
       "      <td>1.587137</td>\n",
       "      <td>0.0</td>\n",
       "      <td>0.0</td>\n",
       "    </tr>\n",
       "  </tbody>\n",
       "</table>\n",
       "<p>120 rows × 6 columns</p>\n",
       "</div>"
      ],
      "text/plain": [
       "           x1        x2        x3        x4  predicted_y    y\n",
       "0   -0.135561 -0.837769  0.644019  0.819167          0.0  0.0\n",
       "1    1.107080  0.304643  0.973347  1.331147          0.0  0.0\n",
       "2    0.316308 -0.380804  0.204915  0.051198          0.0  1.0\n",
       "3   -0.248528 -0.609286  0.095139  0.051198          0.0  1.0\n",
       "4    0.429276 -1.294733  0.534243  0.307188          1.0  1.0\n",
       "..        ...       ...       ...       ...          ...  ...\n",
       "115  0.203341 -0.609286  0.040251  0.051198          0.0  1.0\n",
       "116  0.994112  0.304643  1.083123  1.331147          0.0  0.0\n",
       "117  1.445982  0.304643  1.138011  0.691173          0.0  0.0\n",
       "118  0.881145  0.076161  0.259803  0.179193          0.0  1.0\n",
       "119  0.881145  0.533125  0.973347  1.587137          0.0  0.0\n",
       "\n",
       "[120 rows x 6 columns]"
      ]
     },
     "execution_count": 238,
     "metadata": {},
     "output_type": "execute_result"
    }
   ],
   "source": [
    "h_w_x = clf.predict(training_set_x_fs)\n",
    "h_w_x_df = pd.DataFrame(np.array(np.transpose([training_set_clf[:,0], training_set_clf[:,1],training_set_clf[:,2], training_set_clf[:,3], h_w_x, y_train])),columns=[\"x1\", \"x2\", \"x3\", \"x4\", \"predicted_y\", \"y\"])\n",
    "h_w_x_df\n"
   ]
  },
  {
   "cell_type": "markdown",
   "id": "29d4d64c-eeef-470f-8900-5c9fd92a19d4",
   "metadata": {},
   "source": [
    "### accuracy(Training set) with feature scaling"
   ]
  },
  {
   "cell_type": "code",
   "execution_count": 239,
   "id": "04e3ada5",
   "metadata": {},
   "outputs": [
    {
     "name": "stdout",
     "output_type": "stream",
     "text": [
      "accuracy: 0.7166666666666667, f1_score: 0.5641025641025642, auc: 0.8253968253968254\n"
     ]
    }
   ],
   "source": [
    "\n",
    "\n",
    "from sklearn.metrics import accuracy_score, f1_score, roc_auc_score\n",
    "\n",
    "accuracy = accuracy_score(y_train, h_w_x, normalize=True)\n",
    "f1_score = f1_score(y_train, h_w_x)\n",
    "auc = roc_auc_score(y_train, clf.decision_function(training_set_clf))\n",
    "\n",
    "print(f\"accuracy: {accuracy}, f1_score: {f1_score}, auc: {auc}\")\n"
   ]
  },
  {
   "cell_type": "markdown",
   "id": "d0b1aead-bfe2-4165-a114-c0ba652675bb",
   "metadata": {
    "tags": []
   },
   "source": [
    "### accuracy(Testing set) with feature scaling"
   ]
  },
  {
   "cell_type": "code",
   "execution_count": 240,
   "id": "76e50cce",
   "metadata": {},
   "outputs": [],
   "source": [
    "from sklearn.linear_model import LogisticRegression\n",
    "\n",
    "clf = LogisticRegression(random_state=0, solver='lbfgs', penalty='none').fit(testing_set_x_fs, y_test)"
   ]
  },
  {
   "cell_type": "code",
   "execution_count": 242,
   "id": "f2b31b0d",
   "metadata": {},
   "outputs": [],
   "source": [
    "testing_set_clf = testing_set_x_fs"
   ]
  },
  {
   "cell_type": "code",
   "execution_count": 244,
   "id": "f77839c4",
   "metadata": {},
   "outputs": [
    {
     "data": {
      "text/html": [
       "<div>\n",
       "<style scoped>\n",
       "    .dataframe tbody tr th:only-of-type {\n",
       "        vertical-align: middle;\n",
       "    }\n",
       "\n",
       "    .dataframe tbody tr th {\n",
       "        vertical-align: top;\n",
       "    }\n",
       "\n",
       "    .dataframe thead th {\n",
       "        text-align: right;\n",
       "    }\n",
       "</style>\n",
       "<table border=\"1\" class=\"dataframe\">\n",
       "  <thead>\n",
       "    <tr style=\"text-align: right;\">\n",
       "      <th></th>\n",
       "      <th>x1</th>\n",
       "      <th>x2</th>\n",
       "      <th>x3</th>\n",
       "      <th>x4</th>\n",
       "      <th>predicted_y</th>\n",
       "      <th>y</th>\n",
       "    </tr>\n",
       "  </thead>\n",
       "  <tbody>\n",
       "    <tr>\n",
       "      <th>0</th>\n",
       "      <td>2.010818</td>\n",
       "      <td>-1.066251</td>\n",
       "      <td>1.632003</td>\n",
       "      <td>1.331147</td>\n",
       "      <td>1.0</td>\n",
       "      <td>0.0</td>\n",
       "    </tr>\n",
       "    <tr>\n",
       "      <th>1</th>\n",
       "      <td>-0.135561</td>\n",
       "      <td>-0.837769</td>\n",
       "      <td>0.644019</td>\n",
       "      <td>0.819167</td>\n",
       "      <td>0.0</td>\n",
       "      <td>0.0</td>\n",
       "    </tr>\n",
       "    <tr>\n",
       "      <th>2</th>\n",
       "      <td>0.203341</td>\n",
       "      <td>-0.152322</td>\n",
       "      <td>0.534243</td>\n",
       "      <td>0.691173</td>\n",
       "      <td>0.0</td>\n",
       "      <td>0.0</td>\n",
       "    </tr>\n",
       "    <tr>\n",
       "      <th>3</th>\n",
       "      <td>-0.813365</td>\n",
       "      <td>0.761608</td>\n",
       "      <td>-1.386837</td>\n",
       "      <td>-1.356746</td>\n",
       "      <td>0.0</td>\n",
       "      <td>0.0</td>\n",
       "    </tr>\n",
       "    <tr>\n",
       "      <th>4</th>\n",
       "      <td>0.881145</td>\n",
       "      <td>0.076161</td>\n",
       "      <td>0.424467</td>\n",
       "      <td>0.307188</td>\n",
       "      <td>0.0</td>\n",
       "      <td>1.0</td>\n",
       "    </tr>\n",
       "    <tr>\n",
       "      <th>5</th>\n",
       "      <td>-1.717103</td>\n",
       "      <td>-0.152322</td>\n",
       "      <td>-1.441725</td>\n",
       "      <td>-1.356746</td>\n",
       "      <td>0.0</td>\n",
       "      <td>0.0</td>\n",
       "    </tr>\n",
       "    <tr>\n",
       "      <th>6</th>\n",
       "      <td>0.994112</td>\n",
       "      <td>-0.152322</td>\n",
       "      <td>0.863571</td>\n",
       "      <td>1.075157</td>\n",
       "      <td>0.0</td>\n",
       "      <td>0.0</td>\n",
       "    </tr>\n",
       "    <tr>\n",
       "      <th>7</th>\n",
       "      <td>0.542243</td>\n",
       "      <td>-0.609286</td>\n",
       "      <td>0.918459</td>\n",
       "      <td>1.075157</td>\n",
       "      <td>0.0</td>\n",
       "      <td>0.0</td>\n",
       "    </tr>\n",
       "    <tr>\n",
       "      <th>8</th>\n",
       "      <td>-0.022593</td>\n",
       "      <td>-0.152322</td>\n",
       "      <td>0.644019</td>\n",
       "      <td>0.691173</td>\n",
       "      <td>0.0</td>\n",
       "      <td>0.0</td>\n",
       "    </tr>\n",
       "    <tr>\n",
       "      <th>9</th>\n",
       "      <td>-0.248528</td>\n",
       "      <td>-0.152322</td>\n",
       "      <td>0.150027</td>\n",
       "      <td>-0.076797</td>\n",
       "      <td>1.0</td>\n",
       "      <td>1.0</td>\n",
       "    </tr>\n",
       "    <tr>\n",
       "      <th>10</th>\n",
       "      <td>-1.039299</td>\n",
       "      <td>-0.152322</td>\n",
       "      <td>-1.277061</td>\n",
       "      <td>-1.356746</td>\n",
       "      <td>0.0</td>\n",
       "      <td>0.0</td>\n",
       "    </tr>\n",
       "    <tr>\n",
       "      <th>11</th>\n",
       "      <td>2.010818</td>\n",
       "      <td>-0.152322</td>\n",
       "      <td>1.192899</td>\n",
       "      <td>1.331147</td>\n",
       "      <td>0.0</td>\n",
       "      <td>0.0</td>\n",
       "    </tr>\n",
       "    <tr>\n",
       "      <th>12</th>\n",
       "      <td>-0.248528</td>\n",
       "      <td>3.046431</td>\n",
       "      <td>-1.331949</td>\n",
       "      <td>-1.100756</td>\n",
       "      <td>0.0</td>\n",
       "      <td>0.0</td>\n",
       "    </tr>\n",
       "    <tr>\n",
       "      <th>13</th>\n",
       "      <td>0.429276</td>\n",
       "      <td>-0.837769</td>\n",
       "      <td>0.534243</td>\n",
       "      <td>0.691173</td>\n",
       "      <td>0.0</td>\n",
       "      <td>0.0</td>\n",
       "    </tr>\n",
       "    <tr>\n",
       "      <th>14</th>\n",
       "      <td>-0.361495</td>\n",
       "      <td>-0.837769</td>\n",
       "      <td>0.150027</td>\n",
       "      <td>0.051198</td>\n",
       "      <td>1.0</td>\n",
       "      <td>1.0</td>\n",
       "    </tr>\n",
       "    <tr>\n",
       "      <th>15</th>\n",
       "      <td>0.090374</td>\n",
       "      <td>-0.837769</td>\n",
       "      <td>0.644019</td>\n",
       "      <td>0.435183</td>\n",
       "      <td>1.0</td>\n",
       "      <td>1.0</td>\n",
       "    </tr>\n",
       "    <tr>\n",
       "      <th>16</th>\n",
       "      <td>-1.491168</td>\n",
       "      <td>0.761608</td>\n",
       "      <td>-1.386837</td>\n",
       "      <td>-1.228751</td>\n",
       "      <td>0.0</td>\n",
       "      <td>0.0</td>\n",
       "    </tr>\n",
       "    <tr>\n",
       "      <th>17</th>\n",
       "      <td>0.881145</td>\n",
       "      <td>0.533125</td>\n",
       "      <td>0.973347</td>\n",
       "      <td>1.075157</td>\n",
       "      <td>0.0</td>\n",
       "      <td>0.0</td>\n",
       "    </tr>\n",
       "    <tr>\n",
       "      <th>18</th>\n",
       "      <td>-1.039299</td>\n",
       "      <td>-2.437145</td>\n",
       "      <td>-0.234189</td>\n",
       "      <td>-0.332787</td>\n",
       "      <td>1.0</td>\n",
       "      <td>1.0</td>\n",
       "    </tr>\n",
       "    <tr>\n",
       "      <th>19</th>\n",
       "      <td>0.090374</td>\n",
       "      <td>-0.380804</td>\n",
       "      <td>0.314691</td>\n",
       "      <td>0.307188</td>\n",
       "      <td>0.0</td>\n",
       "      <td>1.0</td>\n",
       "    </tr>\n",
       "    <tr>\n",
       "      <th>20</th>\n",
       "      <td>2.010818</td>\n",
       "      <td>-0.609286</td>\n",
       "      <td>1.522227</td>\n",
       "      <td>0.947162</td>\n",
       "      <td>1.0</td>\n",
       "      <td>0.0</td>\n",
       "    </tr>\n",
       "    <tr>\n",
       "      <th>21</th>\n",
       "      <td>0.203341</td>\n",
       "      <td>-0.152322</td>\n",
       "      <td>0.369579</td>\n",
       "      <td>0.179193</td>\n",
       "      <td>0.0</td>\n",
       "      <td>1.0</td>\n",
       "    </tr>\n",
       "    <tr>\n",
       "      <th>22</th>\n",
       "      <td>0.316308</td>\n",
       "      <td>-0.609286</td>\n",
       "      <td>0.479355</td>\n",
       "      <td>0.691173</td>\n",
       "      <td>0.0</td>\n",
       "      <td>0.0</td>\n",
       "    </tr>\n",
       "    <tr>\n",
       "      <th>23</th>\n",
       "      <td>0.994112</td>\n",
       "      <td>-0.609286</td>\n",
       "      <td>0.479355</td>\n",
       "      <td>0.179193</td>\n",
       "      <td>0.0</td>\n",
       "      <td>1.0</td>\n",
       "    </tr>\n",
       "    <tr>\n",
       "      <th>24</th>\n",
       "      <td>0.429276</td>\n",
       "      <td>0.761608</td>\n",
       "      <td>0.918459</td>\n",
       "      <td>1.459142</td>\n",
       "      <td>0.0</td>\n",
       "      <td>0.0</td>\n",
       "    </tr>\n",
       "    <tr>\n",
       "      <th>25</th>\n",
       "      <td>-1.265234</td>\n",
       "      <td>0.761608</td>\n",
       "      <td>-1.112397</td>\n",
       "      <td>-1.356746</td>\n",
       "      <td>0.0</td>\n",
       "      <td>0.0</td>\n",
       "    </tr>\n",
       "    <tr>\n",
       "      <th>26</th>\n",
       "      <td>-0.587430</td>\n",
       "      <td>1.447055</td>\n",
       "      <td>-1.331949</td>\n",
       "      <td>-1.356746</td>\n",
       "      <td>0.0</td>\n",
       "      <td>0.0</td>\n",
       "    </tr>\n",
       "    <tr>\n",
       "      <th>27</th>\n",
       "      <td>-1.039299</td>\n",
       "      <td>1.218572</td>\n",
       "      <td>-1.386837</td>\n",
       "      <td>-1.356746</td>\n",
       "      <td>0.0</td>\n",
       "      <td>0.0</td>\n",
       "    </tr>\n",
       "    <tr>\n",
       "      <th>28</th>\n",
       "      <td>-1.152267</td>\n",
       "      <td>-0.152322</td>\n",
       "      <td>-1.386837</td>\n",
       "      <td>-1.356746</td>\n",
       "      <td>0.0</td>\n",
       "      <td>0.0</td>\n",
       "    </tr>\n",
       "    <tr>\n",
       "      <th>29</th>\n",
       "      <td>-0.926332</td>\n",
       "      <td>1.675537</td>\n",
       "      <td>-1.112397</td>\n",
       "      <td>-1.100756</td>\n",
       "      <td>0.0</td>\n",
       "      <td>0.0</td>\n",
       "    </tr>\n",
       "  </tbody>\n",
       "</table>\n",
       "</div>"
      ],
      "text/plain": [
       "          x1        x2        x3        x4  predicted_y    y\n",
       "0   2.010818 -1.066251  1.632003  1.331147          1.0  0.0\n",
       "1  -0.135561 -0.837769  0.644019  0.819167          0.0  0.0\n",
       "2   0.203341 -0.152322  0.534243  0.691173          0.0  0.0\n",
       "3  -0.813365  0.761608 -1.386837 -1.356746          0.0  0.0\n",
       "4   0.881145  0.076161  0.424467  0.307188          0.0  1.0\n",
       "5  -1.717103 -0.152322 -1.441725 -1.356746          0.0  0.0\n",
       "6   0.994112 -0.152322  0.863571  1.075157          0.0  0.0\n",
       "7   0.542243 -0.609286  0.918459  1.075157          0.0  0.0\n",
       "8  -0.022593 -0.152322  0.644019  0.691173          0.0  0.0\n",
       "9  -0.248528 -0.152322  0.150027 -0.076797          1.0  1.0\n",
       "10 -1.039299 -0.152322 -1.277061 -1.356746          0.0  0.0\n",
       "11  2.010818 -0.152322  1.192899  1.331147          0.0  0.0\n",
       "12 -0.248528  3.046431 -1.331949 -1.100756          0.0  0.0\n",
       "13  0.429276 -0.837769  0.534243  0.691173          0.0  0.0\n",
       "14 -0.361495 -0.837769  0.150027  0.051198          1.0  1.0\n",
       "15  0.090374 -0.837769  0.644019  0.435183          1.0  1.0\n",
       "16 -1.491168  0.761608 -1.386837 -1.228751          0.0  0.0\n",
       "17  0.881145  0.533125  0.973347  1.075157          0.0  0.0\n",
       "18 -1.039299 -2.437145 -0.234189 -0.332787          1.0  1.0\n",
       "19  0.090374 -0.380804  0.314691  0.307188          0.0  1.0\n",
       "20  2.010818 -0.609286  1.522227  0.947162          1.0  0.0\n",
       "21  0.203341 -0.152322  0.369579  0.179193          0.0  1.0\n",
       "22  0.316308 -0.609286  0.479355  0.691173          0.0  0.0\n",
       "23  0.994112 -0.609286  0.479355  0.179193          0.0  1.0\n",
       "24  0.429276  0.761608  0.918459  1.459142          0.0  0.0\n",
       "25 -1.265234  0.761608 -1.112397 -1.356746          0.0  0.0\n",
       "26 -0.587430  1.447055 -1.331949 -1.356746          0.0  0.0\n",
       "27 -1.039299  1.218572 -1.386837 -1.356746          0.0  0.0\n",
       "28 -1.152267 -0.152322 -1.386837 -1.356746          0.0  0.0\n",
       "29 -0.926332  1.675537 -1.112397 -1.100756          0.0  0.0"
      ]
     },
     "execution_count": 244,
     "metadata": {},
     "output_type": "execute_result"
    }
   ],
   "source": [
    "h_w_x = clf.predict(testing_set_x_fs)\n",
    "h_w_x_df = pd.DataFrame(np.array(np.transpose([testing_set_clf[:,0], testing_set_clf[:,1],testing_set_clf[:,2], testing_set_clf[:,3], h_w_x, y_test])),columns=[\"x1\", \"x2\", \"x3\", \"x4\", \"predicted_y\", \"y\"])\n",
    "h_w_x_df\n"
   ]
  },
  {
   "cell_type": "code",
   "execution_count": 245,
   "id": "f463c263",
   "metadata": {},
   "outputs": [
    {
     "name": "stdout",
     "output_type": "stream",
     "text": [
      "accuracy: 0.8, f1_score: 0.5714285714285715, auc: 0.8806818181818181\n"
     ]
    }
   ],
   "source": [
    "# your accuracy should be above 0.90\n",
    "from sklearn.metrics import accuracy_score, f1_score, roc_auc_score\n",
    "\n",
    "accuracy = accuracy_score(y_test, h_w_x, normalize=True)\n",
    "f1_score = f1_score(y_test, h_w_x)\n",
    "auc = roc_auc_score(y_test, clf.decision_function(testing_set_clf))\n",
    "testing_set_clf\n",
    "print(f\"accuracy: {accuracy}, f1_score: {f1_score}, auc: {auc}\")\n"
   ]
  }
 ],
 "metadata": {
  "kernelspec": {
   "display_name": "Python 3 (ipykernel)",
   "language": "python",
   "name": "python3"
  },
  "language_info": {
   "codemirror_mode": {
    "name": "ipython",
    "version": 3
   },
   "file_extension": ".py",
   "mimetype": "text/x-python",
   "name": "python",
   "nbconvert_exporter": "python",
   "pygments_lexer": "ipython3",
   "version": "3.9.7"
  }
 },
 "nbformat": 4,
 "nbformat_minor": 5
}
