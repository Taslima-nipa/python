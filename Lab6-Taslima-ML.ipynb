{
 "cells": [
  {
   "cell_type": "code",
   "execution_count": 1,
   "id": "0bceeca3",
   "metadata": {},
   "outputs": [],
   "source": [
    "#Install packages\n",
    "import math\n",
    "import copy\n",
    "import numpy as np\n",
    "import matplotlib as plt\n",
    "import pandas as pd\n",
    "import seaborn as sns\n",
    "import matplotlib.pyplot as plt\n",
    "from IPython.display import display\n",
    "from sklearn.model_selection import train_test_split\n",
    "from sklearn import metrics\n",
    "from sklearn.preprocessing import StandardScaler\n",
    "from sklearn.metrics import accuracy_score\n",
    "from sklearn.linear_model import SGDClassifier\n",
    "from sklearn.datasets import load_iris\n",
    "from sklearn.datasets import make_classification\n",
    "from sklearn.metrics import confusion_matrix\n",
    "from sklearn.metrics import classification_report\n",
    "from sklearn.preprocessing import scale"
   ]
  },
  {
   "cell_type": "markdown",
   "id": "b992ca44-75ef-4c4b-b80b-5a2d1037ac96",
   "metadata": {},
   "source": [
    "# Classification with SVM's"
   ]
  },
  {
   "cell_type": "markdown",
   "id": "ecfe04b6-6d59-46be-ac21-127d50fb9655",
   "metadata": {},
   "source": [
    "## Download the Iris dataset from sklearn"
   ]
  },
  {
   "cell_type": "code",
   "execution_count": 2,
   "id": "dd1138ee",
   "metadata": {},
   "outputs": [
    {
     "data": {
      "text/html": [
       "<div>\n",
       "<style scoped>\n",
       "    .dataframe tbody tr th:only-of-type {\n",
       "        vertical-align: middle;\n",
       "    }\n",
       "\n",
       "    .dataframe tbody tr th {\n",
       "        vertical-align: top;\n",
       "    }\n",
       "\n",
       "    .dataframe thead th {\n",
       "        text-align: right;\n",
       "    }\n",
       "</style>\n",
       "<table border=\"1\" class=\"dataframe\">\n",
       "  <thead>\n",
       "    <tr style=\"text-align: right;\">\n",
       "      <th></th>\n",
       "      <th>sepal length (cm)</th>\n",
       "      <th>sepal width (cm)</th>\n",
       "      <th>petal length (cm)</th>\n",
       "      <th>petal width (cm)</th>\n",
       "      <th>target</th>\n",
       "    </tr>\n",
       "  </thead>\n",
       "  <tbody>\n",
       "    <tr>\n",
       "      <th>0</th>\n",
       "      <td>5.1</td>\n",
       "      <td>3.5</td>\n",
       "      <td>1.4</td>\n",
       "      <td>0.2</td>\n",
       "      <td>0</td>\n",
       "    </tr>\n",
       "    <tr>\n",
       "      <th>1</th>\n",
       "      <td>4.9</td>\n",
       "      <td>3.0</td>\n",
       "      <td>1.4</td>\n",
       "      <td>0.2</td>\n",
       "      <td>0</td>\n",
       "    </tr>\n",
       "    <tr>\n",
       "      <th>2</th>\n",
       "      <td>4.7</td>\n",
       "      <td>3.2</td>\n",
       "      <td>1.3</td>\n",
       "      <td>0.2</td>\n",
       "      <td>0</td>\n",
       "    </tr>\n",
       "    <tr>\n",
       "      <th>3</th>\n",
       "      <td>4.6</td>\n",
       "      <td>3.1</td>\n",
       "      <td>1.5</td>\n",
       "      <td>0.2</td>\n",
       "      <td>0</td>\n",
       "    </tr>\n",
       "    <tr>\n",
       "      <th>4</th>\n",
       "      <td>5.0</td>\n",
       "      <td>3.6</td>\n",
       "      <td>1.4</td>\n",
       "      <td>0.2</td>\n",
       "      <td>0</td>\n",
       "    </tr>\n",
       "    <tr>\n",
       "      <th>...</th>\n",
       "      <td>...</td>\n",
       "      <td>...</td>\n",
       "      <td>...</td>\n",
       "      <td>...</td>\n",
       "      <td>...</td>\n",
       "    </tr>\n",
       "    <tr>\n",
       "      <th>145</th>\n",
       "      <td>6.7</td>\n",
       "      <td>3.0</td>\n",
       "      <td>5.2</td>\n",
       "      <td>2.3</td>\n",
       "      <td>2</td>\n",
       "    </tr>\n",
       "    <tr>\n",
       "      <th>146</th>\n",
       "      <td>6.3</td>\n",
       "      <td>2.5</td>\n",
       "      <td>5.0</td>\n",
       "      <td>1.9</td>\n",
       "      <td>2</td>\n",
       "    </tr>\n",
       "    <tr>\n",
       "      <th>147</th>\n",
       "      <td>6.5</td>\n",
       "      <td>3.0</td>\n",
       "      <td>5.2</td>\n",
       "      <td>2.0</td>\n",
       "      <td>2</td>\n",
       "    </tr>\n",
       "    <tr>\n",
       "      <th>148</th>\n",
       "      <td>6.2</td>\n",
       "      <td>3.4</td>\n",
       "      <td>5.4</td>\n",
       "      <td>2.3</td>\n",
       "      <td>2</td>\n",
       "    </tr>\n",
       "    <tr>\n",
       "      <th>149</th>\n",
       "      <td>5.9</td>\n",
       "      <td>3.0</td>\n",
       "      <td>5.1</td>\n",
       "      <td>1.8</td>\n",
       "      <td>2</td>\n",
       "    </tr>\n",
       "  </tbody>\n",
       "</table>\n",
       "<p>150 rows × 5 columns</p>\n",
       "</div>"
      ],
      "text/plain": [
       "     sepal length (cm)  sepal width (cm)  petal length (cm)  petal width (cm)  \\\n",
       "0                  5.1               3.5                1.4               0.2   \n",
       "1                  4.9               3.0                1.4               0.2   \n",
       "2                  4.7               3.2                1.3               0.2   \n",
       "3                  4.6               3.1                1.5               0.2   \n",
       "4                  5.0               3.6                1.4               0.2   \n",
       "..                 ...               ...                ...               ...   \n",
       "145                6.7               3.0                5.2               2.3   \n",
       "146                6.3               2.5                5.0               1.9   \n",
       "147                6.5               3.0                5.2               2.0   \n",
       "148                6.2               3.4                5.4               2.3   \n",
       "149                5.9               3.0                5.1               1.8   \n",
       "\n",
       "     target  \n",
       "0         0  \n",
       "1         0  \n",
       "2         0  \n",
       "3         0  \n",
       "4         0  \n",
       "..      ...  \n",
       "145       2  \n",
       "146       2  \n",
       "147       2  \n",
       "148       2  \n",
       "149       2  \n",
       "\n",
       "[150 rows x 5 columns]"
      ]
     },
     "execution_count": 2,
     "metadata": {},
     "output_type": "execute_result"
    }
   ],
   "source": [
    "from sklearn.datasets import load_iris\n",
    "\n",
    "iris_df = load_iris(as_frame=True).frame\n",
    "iris = load_iris()\n",
    "X = iris.data\n",
    "y = iris.target\n",
    "iris_df"
   ]
  },
  {
   "cell_type": "markdown",
   "id": "a210a8c8-8736-41bb-a90e-d98e2d128d88",
   "metadata": {},
   "source": [
    "# Prepare data for 2d experiments and plots"
   ]
  },
  {
   "cell_type": "code",
   "execution_count": 3,
   "id": "c9e0a2a8",
   "metadata": {},
   "outputs": [],
   "source": [
    "feature = np.array(iris_df[[\"sepal length (cm)\", \"sepal width (cm)\", \"petal length (cm)\", \"petal width (cm)\"]])\n",
    "X = feature\n",
    "y = iris_df[\"target\"]"
   ]
  },
  {
   "cell_type": "markdown",
   "id": "2fb2dbd1-92a3-4c72-bb60-2b12a697dc69",
   "metadata": {},
   "source": [
    "## Split your data into a training and test set using train_test_split from sklearn and set stratify=y"
   ]
  },
  {
   "cell_type": "code",
   "execution_count": 4,
   "id": "ca3f43c8",
   "metadata": {},
   "outputs": [],
   "source": [
    "from sklearn.model_selection import train_test_split\n",
    "\n",
    "x_train_2d, x_test_2d, y_train_2d, y_test_2d = train_test_split(X, y, test_size=0.25, random_state=0, stratify=y)"
   ]
  },
  {
   "cell_type": "markdown",
   "id": "37f6e5a1-76d3-4b35-8319-790b15ee8428",
   "metadata": {},
   "source": [
    "## You will be grabbing 2 features from the dataset (You can use any of the feature selection methods you learnt in class)\n",
    "Hint: I used chi-square feature selection because it is easy, fast and gave the same results as recursive feature elimination in previous labs"
   ]
  },
  {
   "cell_type": "code",
   "execution_count": 5,
   "id": "5deeda49",
   "metadata": {},
   "outputs": [],
   "source": [
    "#Useing chisquare feature_selection to select the best 2 features to use\n",
    "from sklearn.feature_selection import SelectKBest\n",
    "from sklearn.feature_selection import chi2\n",
    "\n",
    "k_in=2\n",
    "selector = SelectKBest(chi2, k=k_in).fit(x_train_2d, y_train_2d)\n",
    "training_taslima = selector.transform(x_train_2d)\n",
    "testing_taslima = selector.transform(x_test_2d)"
   ]
  },
  {
   "cell_type": "markdown",
   "id": "d1dc95cc-26f7-4bc1-abfd-4ec97408676d",
   "metadata": {},
   "source": [
    "### Show which features were selected"
   ]
  },
  {
   "cell_type": "code",
   "execution_count": 6,
   "id": "04c4b733",
   "metadata": {},
   "outputs": [
    {
     "name": "stdout",
     "output_type": "stream",
     "text": [
      "Index(['petal width (cm)', 'petal length (cm)'], dtype='object')\n"
     ]
    }
   ],
   "source": [
    "import numpy as np\n",
    "\n",
    "selector.scores_\n",
    "top_n = np.argsort(selector.scores_)[-k_in:]\n",
    "print(iris_df.iloc[:, top_n].columns)"
   ]
  },
  {
   "cell_type": "markdown",
   "id": "99f85925-cf56-4ac7-8815-16e9e0f0210a",
   "metadata": {},
   "source": [
    "## Use StandardScaler to feature scale your data (If you are using chi-squared, you will want to do this after you have selected your features)"
   ]
  },
  {
   "cell_type": "code",
   "execution_count": 7,
   "id": "bebcc8f4",
   "metadata": {},
   "outputs": [],
   "source": [
    "#Later I will use these data for 2D activities\n",
    "from sklearn.preprocessing import StandardScaler\n",
    "\n",
    "scaler = StandardScaler()\n",
    "scaler.fit(training_taslima, y_train_2d)\n",
    "training_set_x_new_2d = scaler.transform(training_taslima)\n",
    "testing_set_x_new_2d = scaler.transform(testing_taslima)"
   ]
  },
  {
   "cell_type": "markdown",
   "id": "b9badb07-6f95-474a-a119-eb945ba4335e",
   "metadata": {},
   "source": [
    "# Prepare data for 3d experiments and plots"
   ]
  },
  {
   "cell_type": "code",
   "execution_count": 8,
   "id": "2ad50071",
   "metadata": {},
   "outputs": [],
   "source": [
    "newfeature =  iris_df[iris_df.columns[iris_df.columns.isin(['sepal length (cm)','sepal width (cm)','petal length (cm)'])]]\n",
    "three_features = newfeature"
   ]
  },
  {
   "cell_type": "markdown",
   "id": "e511f5ee-25f1-4f96-9a3c-0377313c986c",
   "metadata": {},
   "source": [
    "## Grab the first 3 features in your datsset and change to binary classification problem \n",
    "- You will have to make the problem a binary classifiation problem\n",
    "  - This will be done by grabbing Only labels with 0 or 1. We will be completely ignoring class 2"
   ]
  },
  {
   "cell_type": "code",
   "execution_count": 9,
   "id": "cef96154",
   "metadata": {},
   "outputs": [],
   "source": [
    "import copy\n",
    "y_new_3d = copy.deepcopy(y)\n",
    "X_new_3d = newfeature[np.logical_or(y==0,y==1)]\n",
    "y_new_3d = y_new_3d[np.logical_or(y==0,y==1)]\n",
    "X_new_3d=np.array(X_new_3d)"
   ]
  },
  {
   "cell_type": "code",
   "execution_count": 10,
   "id": "a15be4b2",
   "metadata": {},
   "outputs": [
    {
     "data": {
      "text/plain": [
       "numpy.ndarray"
      ]
     },
     "execution_count": 10,
     "metadata": {},
     "output_type": "execute_result"
    }
   ],
   "source": [
    "type(X_new_3d)"
   ]
  },
  {
   "cell_type": "code",
   "execution_count": 11,
   "id": "b25ba77f",
   "metadata": {},
   "outputs": [
    {
     "data": {
      "text/plain": [
       "(100, 3)"
      ]
     },
     "execution_count": 11,
     "metadata": {},
     "output_type": "execute_result"
    }
   ],
   "source": [
    "X_new_3d.shape"
   ]
  },
  {
   "cell_type": "markdown",
   "id": "086bb73c-4c8a-448c-90e3-91fa71a59835",
   "metadata": {},
   "source": [
    "## Split the data into a training and testing dataset using train_test_split from sklearn and set stratify=y (In this case remember y is your binary version of y which has only 2 labels 0 and 1)"
   ]
  },
  {
   "cell_type": "code",
   "execution_count": 12,
   "id": "9af0d275",
   "metadata": {},
   "outputs": [],
   "source": [
    "X_train_3d, X_test_3d, y_train_3d, y_test_3d = train_test_split(X_new_3d, y_new_3d, test_size=0.25, random_state=0, stratify=y_new_3d)"
   ]
  },
  {
   "cell_type": "markdown",
   "id": "e0500136-13f2-4904-8cdc-61d436d4a36e",
   "metadata": {},
   "source": [
    "## Train, predict and plot svm on 2d prepared data with the following configuration:\n",
    "\n",
    "- kernel=\"linear\", C=1.0"
   ]
  },
  {
   "cell_type": "code",
   "execution_count": 13,
   "id": "5df08ea2",
   "metadata": {},
   "outputs": [],
   "source": [
    "from sklearn.svm import SVC\n",
    "model = SVC(kernel='linear', C=1.0)\n",
    "clf = model.fit(training_set_x_new_2d, y_train_2d)"
   ]
  },
  {
   "cell_type": "markdown",
   "id": "03ba29eb-6cc1-47ff-8969-84a271454c26",
   "metadata": {},
   "source": [
    "### Calculate the accuracy and hinge loss on the training set"
   ]
  },
  {
   "cell_type": "code",
   "execution_count": 14,
   "id": "1680d736",
   "metadata": {},
   "outputs": [
    {
     "name": "stdout",
     "output_type": "stream",
     "text": [
      "hinge_loss: 0.10699609961904019, accuracy: 0.9553571428571429\n"
     ]
    }
   ],
   "source": [
    "from sklearn.metrics import hinge_loss\n",
    "h_w_x = clf.predict(training_set_x_new_2d)\n",
    "hinge_loss = hinge_loss(y_train_2d, clf.decision_function(training_set_x_new_2d))\n",
    "accuracy = accuracy_score(y_train_2d, h_w_x, normalize=True)\n",
    "print(f\"hinge_loss: {hinge_loss}, accuracy: {accuracy}\")"
   ]
  },
  {
   "cell_type": "markdown",
   "id": "d943144f-c16c-47d5-bcab-4bddf6d69e13",
   "metadata": {},
   "source": [
    "### Calculate the accuracy and hinge loss on the testing set"
   ]
  },
  {
   "cell_type": "code",
   "execution_count": 15,
   "id": "4f768646",
   "metadata": {},
   "outputs": [
    {
     "name": "stdout",
     "output_type": "stream",
     "text": [
      "hinge_loss: 0.071755462790017, accuracy: 0.9736842105263158\n"
     ]
    }
   ],
   "source": [
    "from sklearn.metrics import hinge_loss\n",
    "h_w_x = clf.predict(testing_set_x_new_2d)\n",
    "hinge_loss = hinge_loss(y_test_2d, clf.decision_function(testing_set_x_new_2d))\n",
    "accuracy = accuracy_score(y_test_2d, h_w_x, normalize=True)\n",
    "print(f\"hinge_loss: {hinge_loss}, accuracy: {accuracy}\")"
   ]
  },
  {
   "cell_type": "markdown",
   "id": "8764aa9d-6ac9-488b-ac33-5614a5d9ddb1",
   "metadata": {},
   "source": [
    "### Plot the decision boundary with each point colored with its groundtruth class in 2D\n",
    "- encircle your support vectors"
   ]
  },
  {
   "cell_type": "code",
   "execution_count": 16,
   "id": "a44c3986",
   "metadata": {
    "scrolled": true
   },
   "outputs": [
    {
     "data": {
      "image/png": "[encoded data removed]",
      "text/plain": [
       "<Figure size 432x288 with 1 Axes>"
      ]
     },
     "metadata": {},
     "output_type": "display_data"
    }
   ],
   "source": [
    "import numpy as np\n",
    "import matplotlib.pyplot as plt\n",
    "\n",
    "def make_meshgrid(x, y, h=.02):\n",
    "    x_min, x_max = x.min() - 1, x.max() + 1\n",
    "    y_min, y_max = y.min() - 1, y.max() + 1\n",
    "    xx, yy = np.meshgrid(np.arange(x_min, x_max, h), np.arange(y_min, y_max, h))\n",
    "    return xx, yy\n",
    "\n",
    "def plot_contours(ax, clf, xx, yy, **params):\n",
    "    Z = clf.predict(np.c_[xx.ravel(), yy.ravel()])\n",
    "    Z = Z.reshape(xx.shape)\n",
    "    out = ax.contourf(xx, yy, Z, **params)\n",
    "    return out\n",
    "\n",
    "fig, ax = plt.subplots()\n",
    "# title for the plots\n",
    "title = ('Decision surface of linear SVC ')\n",
    "# Set-up grid for plotting.\n",
    "X0, X1 = training_set_x_new_2d[:, 0], training_set_x_new_2d[:, 1]\n",
    "xx, yy = make_meshgrid(X0, X1)\n",
    "\n",
    "\n",
    "plot_contours(ax, clf, xx, yy, cmap=plt.cm.coolwarm, alpha=0.8)\n",
    "ax.scatter(X0, X1, c=y_train_2d, cmap=plt.cm.coolwarm, s=20, edgecolors='k')\n",
    "\n",
    "# Encircle support vectors\n",
    "plt.scatter(model.support_vectors_[:, 0],\n",
    "            model.support_vectors_[:, 1], \n",
    "            s=50, \n",
    "            facecolors='none', \n",
    "            edgecolors='yellow', \n",
    "            alpha=.5)\n",
    "ax.set_ylabel(f'{iris_df.iloc[:, 1].name}')\n",
    "ax.set_xlabel(f'{iris_df.iloc[:, 0].name}')\n",
    "ax.set_xticks(())\n",
    "ax.set_yticks(())\n",
    "ax.set_title(title)\n",
    "\n",
    "plt.show()"
   ]
  },
  {
   "cell_type": "markdown",
   "id": "9275a5b7-4e2d-4f37-b6a9-a58cb0e9f4d9",
   "metadata": {},
   "source": [
    "## Train, predict and plot svm on 3d prepared data with the following configuration:\n",
    "\n",
    "- kernel=\"linear\", C=1.0"
   ]
  },
  {
   "cell_type": "code",
   "execution_count": 17,
   "id": "c46ba18d",
   "metadata": {},
   "outputs": [],
   "source": [
    "from sklearn.svm import SVC\n",
    "model = SVC(kernel='linear', C=1.0)\n",
    "clf = model.fit(X_train_3d, y_train_3d)"
   ]
  },
  {
   "cell_type": "markdown",
   "id": "3873a63d-a571-41ad-b7ce-e4bde3470221",
   "metadata": {},
   "source": [
    "### Plot 3D graph using binary training data with hyperplane separating the 2 points\n",
    "    - Hint: You should have the plane perfectly seperating 2 classes"
   ]
  },
  {
   "cell_type": "code",
   "execution_count": 18,
   "id": "eaa9570f",
   "metadata": {},
   "outputs": [
    {
     "data": {
      "image/png": "[encoded data removed]",
      "text/plain": [
       "<Figure size 432x288 with 1 Axes>"
      ]
     },
     "metadata": {
      "needs_background": "light"
     },
     "output_type": "display_data"
    }
   ],
   "source": [
    "from mpl_toolkits.mplot3d import Axes3D\n",
    "\n",
    "# The equation of the separating plane is given by all x so that np.dot(svc.coef_[0], x) + b = 0.\n",
    "# Solve for w3 (z)\n",
    "z = lambda x,y: (-clf.intercept_[0]-clf.coef_[0][0]*x -clf.coef_[0][1]*y) / clf.coef_[0][2]\n",
    "\n",
    "tmp = np.linspace(-5,5,30)\n",
    "x,y = np.meshgrid(tmp,tmp)\n",
    "\n",
    "fig = plt.figure()\n",
    "ax  = fig.add_subplot(111, projection='3d')\n",
    "ax.plot3D(X_train_3d[y_train_3d==0,0], X_train_3d[y_train_3d==0,1], X_train_3d[y_train_3d==0,2],'ob')\n",
    "ax.plot3D(X_train_3d[y_train_3d==1,0], X_train_3d[y_train_3d==1,1], X_train_3d[y_train_3d==1,2],'sr')\n",
    "ax.plot_surface(x, y, z(x,y))\n",
    "ax.view_init(30, 60)\n",
    "plt.show()"
   ]
  },
  {
   "cell_type": "markdown",
   "id": "824462d2-79db-4bf2-ad6e-266a377d51ef",
   "metadata": {},
   "source": [
    "### Get the accuracy and hinge loss of the testing set"
   ]
  },
  {
   "cell_type": "code",
   "execution_count": 19,
   "id": "d6c1b3fe",
   "metadata": {},
   "outputs": [
    {
     "name": "stdout",
     "output_type": "stream",
     "text": [
      "hinge_loss: 0.006642279749546143, accuracy: 1.0\n"
     ]
    }
   ],
   "source": [
    "from sklearn.metrics import hinge_loss\n",
    "h_w_x = clf.predict(X_test_3d)\n",
    "hinge_loss = hinge_loss(y_test_3d, clf.decision_function(X_test_3d))\n",
    "accuracy = accuracy_score(y_test_3d, h_w_x, normalize=True)\n",
    "print(f\"hinge_loss: {hinge_loss}, accuracy: {accuracy}\")"
   ]
  },
  {
   "cell_type": "markdown",
   "id": "b6f250b8-109c-4526-9878-26e28cc86743",
   "metadata": {},
   "source": [
    "## Train, predict and plot svm on 2d prepared data with the following configuration:\n",
    "\n",
    "- kernel=\"linear\", C=100000"
   ]
  },
  {
   "cell_type": "code",
   "execution_count": 20,
   "id": "f2d0fc83",
   "metadata": {},
   "outputs": [],
   "source": [
    "from sklearn.svm import SVC\n",
    "model = SVC(kernel='linear', C=100000)\n",
    "clf = model.fit(training_set_x_new_2d, y_train_2d)"
   ]
  },
  {
   "cell_type": "markdown",
   "id": "9edc6448-afc9-4324-920e-f8408754f7c6",
   "metadata": {},
   "source": [
    "### Calculate the accuracy and hinge loss on the training set"
   ]
  },
  {
   "cell_type": "code",
   "execution_count": 21,
   "id": "a871f8cd",
   "metadata": {},
   "outputs": [
    {
     "name": "stdout",
     "output_type": "stream",
     "text": [
      "hinge_loss: 0.09202491845064567, accuracy: 0.9642857142857143\n"
     ]
    }
   ],
   "source": [
    "from sklearn.metrics import hinge_loss\n",
    "h_w_x = clf.predict(training_set_x_new_2d)\n",
    "hinge_loss = hinge_loss(y_train_2d, clf.decision_function(training_set_x_new_2d))\n",
    "accuracy = accuracy_score(y_train_2d, h_w_x, normalize=True)\n",
    "print(f\"hinge_loss: {hinge_loss}, accuracy: {accuracy}\")"
   ]
  },
  {
   "cell_type": "markdown",
   "id": "fee4e187-93e3-46a4-a454-5c0f6fc2f2e1",
   "metadata": {},
   "source": [
    "### Calculate the accuracy and hinge loss on the testing set"
   ]
  },
  {
   "cell_type": "code",
   "execution_count": 22,
   "id": "278ed7fd",
   "metadata": {},
   "outputs": [
    {
     "name": "stdout",
     "output_type": "stream",
     "text": [
      "hinge_loss: 0.13481851457120597, accuracy: 0.9473684210526315\n"
     ]
    }
   ],
   "source": [
    "from sklearn.metrics import hinge_loss\n",
    "h_w_x = clf.predict(testing_set_x_new_2d)\n",
    "hinge_loss = hinge_loss(y_test_2d, clf.decision_function(testing_set_x_new_2d))\n",
    "accuracy = accuracy_score(y_test_2d, h_w_x, normalize=True)\n",
    "print(f\"hinge_loss: {hinge_loss}, accuracy: {accuracy}\")"
   ]
  },
  {
   "cell_type": "markdown",
   "id": "5e0908cd-462e-44c5-a5e0-32d234d93bba",
   "metadata": {},
   "source": [
    "### Plot the decision boundary with each point colored with its groundtruth class in 2D\n",
    "- encircle your support vectors"
   ]
  },
  {
   "cell_type": "code",
   "execution_count": 23,
   "id": "90e46522",
   "metadata": {},
   "outputs": [
    {
     "data": {
      "image/png": "[encoded data removed]",
      "text/plain": [
       "<Figure size 432x288 with 1 Axes>"
      ]
     },
     "metadata": {},
     "output_type": "display_data"
    }
   ],
   "source": [
    "import numpy as np\n",
    "import matplotlib.pyplot as plt\n",
    "\n",
    "def make_meshgrid(x, y, h=.02):\n",
    "    x_min, x_max = x.min() - 1, x.max() + 1\n",
    "    y_min, y_max = y.min() - 1, y.max() + 1\n",
    "    xx, yy = np.meshgrid(np.arange(x_min, x_max, h), np.arange(y_min, y_max, h))\n",
    "    return xx, yy\n",
    "\n",
    "def plot_contours(ax, clf, xx, yy, **params):\n",
    "    Z = clf.predict(np.c_[xx.ravel(), yy.ravel()])\n",
    "    Z = Z.reshape(xx.shape)\n",
    "    out = ax.contourf(xx, yy, Z, **params)\n",
    "    return out\n",
    "\n",
    "fig, ax = plt.subplots()\n",
    "# title for the plots\n",
    "title = ('Decision surface of linear SVC ')\n",
    "# Set-up grid for plotting.\n",
    "X0, X1 = training_set_x_new_2d[:, 0], training_set_x_new_2d[:, 1]\n",
    "xx, yy = make_meshgrid(X0, X1)\n",
    "\n",
    "\n",
    "plot_contours(ax, clf, xx, yy, cmap=plt.cm.coolwarm, alpha=0.8)\n",
    "ax.scatter(X0, X1, c=y_train_2d, cmap=plt.cm.coolwarm, s=20, edgecolors='k')\n",
    "\n",
    "# Encircle support vectors\n",
    "plt.scatter(model.support_vectors_[:, 0],\n",
    "            model.support_vectors_[:, 1], \n",
    "            s=50, \n",
    "            facecolors='none', \n",
    "            edgecolors='yellow', \n",
    "            alpha=.5)\n",
    "ax.set_ylabel(f'{iris_df.iloc[:, 1].name}')\n",
    "ax.set_xlabel(f'{iris_df.iloc[:, 0].name}')\n",
    "ax.set_xticks(())\n",
    "ax.set_yticks(())\n",
    "ax.set_title(title)\n",
    "\n",
    "plt.show()"
   ]
  },
  {
   "cell_type": "markdown",
   "id": "4c99a9f0-5d9e-4024-aea7-ea464cef9fad",
   "metadata": {},
   "source": [
    "## Train, predict and plot svm on 3d prepared data with the following configuration:\n",
    "\n",
    "- kernel=\"linear\", C=100000"
   ]
  },
  {
   "cell_type": "code",
   "execution_count": 24,
   "id": "5d6ee009",
   "metadata": {},
   "outputs": [],
   "source": [
    "from sklearn.svm import SVC\n",
    "model = SVC(kernel='linear', C=100000)\n",
    "clf = model.fit(X_train_3d, y_train_3d)"
   ]
  },
  {
   "cell_type": "markdown",
   "id": "88dd73b7-f2ba-4d4b-a5c1-0541d7d0474f",
   "metadata": {},
   "source": [
    "### Plot 3D graph using binary training data with hyperplane separating the 2 points\n",
    "    - Hint: You should have the plane perfectly seperating 2 classes"
   ]
  },
  {
   "cell_type": "code",
   "execution_count": 25,
   "id": "89f8ee87",
   "metadata": {},
   "outputs": [
    {
     "data": {
      "image/png": "[encoded data removed]",
      "text/plain": [
       "<Figure size 432x288 with 1 Axes>"
      ]
     },
     "metadata": {
      "needs_background": "light"
     },
     "output_type": "display_data"
    }
   ],
   "source": [
    "from mpl_toolkits.mplot3d import Axes3D\n",
    "\n",
    "# The equation of the separating plane is given by all x so that np.dot(svc.coef_[0], x) + b = 0.\n",
    "# Solve for w3 (z)\n",
    "z = lambda x,y: (-clf.intercept_[0]-clf.coef_[0][0]*x -clf.coef_[0][1]*y) / clf.coef_[0][2]\n",
    "\n",
    "tmp = np.linspace(-5,5,30)\n",
    "x,y = np.meshgrid(tmp,tmp)\n",
    "\n",
    "fig = plt.figure()\n",
    "ax  = fig.add_subplot(111, projection='3d')\n",
    "ax.plot3D(X_train_3d[y_train_3d==0,0], X_train_3d[y_train_3d==0,1], X_train_3d[y_train_3d==0,2],'ob')\n",
    "ax.plot3D(X_train_3d[y_train_3d==1,0], X_train_3d[y_train_3d==1,1], X_train_3d[y_train_3d==1,2],'sr')\n",
    "ax.plot_surface(x, y, z(x,y))\n",
    "ax.view_init(30, 60)\n",
    "plt.show()"
   ]
  },
  {
   "cell_type": "markdown",
   "id": "8ca7a854-8e87-4c82-9f58-502f1cc74146",
   "metadata": {},
   "source": [
    "### Get the accuracy and hinge loss of the testing set"
   ]
  },
  {
   "cell_type": "code",
   "execution_count": 26,
   "id": "78f670c5",
   "metadata": {},
   "outputs": [
    {
     "name": "stdout",
     "output_type": "stream",
     "text": [
      "hinge_loss: 0.006642279749546143, accuracy: 1.0\n"
     ]
    }
   ],
   "source": [
    "from sklearn.metrics import hinge_loss\n",
    "h_w_x = clf.predict(X_test_3d)\n",
    "hinge_loss = hinge_loss(y_test_3d, clf.decision_function(X_test_3d))\n",
    "accuracy = accuracy_score(y_test_3d, h_w_x, normalize=True)\n",
    "print(f\"hinge_loss: {hinge_loss}, accuracy: {accuracy}\")"
   ]
  },
  {
   "cell_type": "markdown",
   "id": "18f369a9-fa7d-4c5c-8eb0-1571f8ce305c",
   "metadata": {},
   "source": [
    "## Train, predict and plot svm on 2d prepared data with the following configuration:\n",
    "\n",
    "- kernel=\"linear\", C=0.0001"
   ]
  },
  {
   "cell_type": "code",
   "execution_count": 27,
   "id": "34169ebd",
   "metadata": {},
   "outputs": [],
   "source": [
    "from sklearn.svm import SVC\n",
    "model = SVC(kernel='linear', C=0.0001)\n",
    "clf = model.fit(training_set_x_new_2d, y_train_2d)"
   ]
  },
  {
   "cell_type": "markdown",
   "id": "dfdc2cee-a590-441c-b1f8-1907da23c157",
   "metadata": {},
   "source": [
    "### Calculate the accuracy and hinge loss on the training set"
   ]
  },
  {
   "cell_type": "code",
   "execution_count": 28,
   "id": "b3ab6b59",
   "metadata": {},
   "outputs": [
    {
     "name": "stdout",
     "output_type": "stream",
     "text": [
      "hinge_loss: 1.575118860079068, accuracy: 0.3392857142857143\n"
     ]
    }
   ],
   "source": [
    "from sklearn.metrics import hinge_loss\n",
    "h_w_x = clf.predict(training_set_x_new_2d)\n",
    "hinge_loss = hinge_loss(y_train_2d, clf.decision_function(training_set_x_new_2d))\n",
    "accuracy = accuracy_score(y_train_2d, h_w_x, normalize=True)\n",
    "print(f\"hinge_loss: {hinge_loss}, accuracy: {accuracy}\")"
   ]
  },
  {
   "cell_type": "markdown",
   "id": "0a1d8b45-72a3-480a-9efe-39446fe302cf",
   "metadata": {},
   "source": [
    "### Calculate the accuracy and hinge loss on the testing set"
   ]
  },
  {
   "cell_type": "code",
   "execution_count": 29,
   "id": "7de46980",
   "metadata": {},
   "outputs": [
    {
     "name": "stdout",
     "output_type": "stream",
     "text": [
      "hinge_loss: 1.6311527580574239, accuracy: 0.3157894736842105\n"
     ]
    }
   ],
   "source": [
    "from sklearn.metrics import hinge_loss\n",
    "h_w_x = clf.predict(testing_set_x_new_2d)\n",
    "hinge_loss = hinge_loss(y_test_2d, clf.decision_function(testing_set_x_new_2d))\n",
    "accuracy = accuracy_score(y_test_2d, h_w_x, normalize=True)\n",
    "print(f\"hinge_loss: {hinge_loss}, accuracy: {accuracy}\")"
   ]
  },
  {
   "cell_type": "markdown",
   "id": "1dc5a493-0077-429b-b5e8-21019e2a4caf",
   "metadata": {},
   "source": [
    "### Plot the decision boundary with each point colored with its groundtruth class in 2D\n",
    "- encircle your support vectors"
   ]
  },
  {
   "cell_type": "code",
   "execution_count": 30,
   "id": "54833d57",
   "metadata": {},
   "outputs": [
    {
     "data": {
      "image/png": "[encoded data removed]",
      "text/plain": [
       "<Figure size 432x288 with 1 Axes>"
      ]
     },
     "metadata": {},
     "output_type": "display_data"
    }
   ],
   "source": [
    "import numpy as np\n",
    "import matplotlib.pyplot as plt\n",
    "\n",
    "def make_meshgrid(x, y, h=.02):\n",
    "    x_min, x_max = x.min() - 1, x.max() + 1\n",
    "    y_min, y_max = y.min() - 1, y.max() + 1\n",
    "    xx, yy = np.meshgrid(np.arange(x_min, x_max, h), np.arange(y_min, y_max, h))\n",
    "    return xx, yy\n",
    "\n",
    "def plot_contours(ax, clf, xx, yy, **params):\n",
    "    Z = clf.predict(np.c_[xx.ravel(), yy.ravel()])\n",
    "    Z = Z.reshape(xx.shape)\n",
    "    out = ax.contourf(xx, yy, Z, **params)\n",
    "    return out\n",
    "\n",
    "fig, ax = plt.subplots()\n",
    "# title for the plots\n",
    "title = ('Decision surface of linear SVC ')\n",
    "# Set-up grid for plotting.\n",
    "X0, X1 = training_set_x_new_2d[:, 0], training_set_x_new_2d[:, 1]\n",
    "xx, yy = make_meshgrid(X0, X1)\n",
    "\n",
    "\n",
    "plot_contours(ax, clf, xx, yy, cmap=plt.cm.coolwarm, alpha=0.8)\n",
    "ax.scatter(X0, X1, c=y_train_2d, cmap=plt.cm.coolwarm, s=20, edgecolors='k')\n",
    "\n",
    "# Encircle support vectors\n",
    "plt.scatter(model.support_vectors_[:, 0],\n",
    "            model.support_vectors_[:, 1], \n",
    "            s=50, \n",
    "            facecolors='none', \n",
    "            edgecolors='yellow', \n",
    "            alpha=.5)\n",
    "ax.set_ylabel(f'{iris_df.iloc[:, 1].name}')\n",
    "ax.set_xlabel(f'{iris_df.iloc[:, 0].name}')\n",
    "ax.set_xticks(())\n",
    "ax.set_yticks(())\n",
    "ax.set_title(title)\n",
    "\n",
    "plt.show()"
   ]
  },
  {
   "cell_type": "markdown",
   "id": "e6f443bd-4d05-43c7-8464-7ebb89c1d906",
   "metadata": {},
   "source": [
    "## Train, predict and plot svm on 3d prepared data with the following configuration:\n",
    "\n",
    "- kernel=\"linear\", C=0.0001"
   ]
  },
  {
   "cell_type": "code",
   "execution_count": 31,
   "id": "6add99eb",
   "metadata": {},
   "outputs": [],
   "source": [
    "from sklearn.svm import SVC\n",
    "model = SVC(kernel='linear', C=0.0001)\n",
    "clf = model.fit(X_train_3d, y_train_3d)"
   ]
  },
  {
   "cell_type": "markdown",
   "id": "c919b0c9-a539-40a8-8184-6e751b4d2ac3",
   "metadata": {},
   "source": [
    "### Plot 3D graph using binary training data with hyperplane separating the 2 points\n",
    "    - Hint: You will hot have a plane perfectly seperating the data because it is underfit"
   ]
  },
  {
   "cell_type": "code",
   "execution_count": 32,
   "id": "eb496e35",
   "metadata": {},
   "outputs": [
    {
     "data": {
      "image/png": "[encoded data removed]",
      "text/plain": [
       "<Figure size 432x288 with 1 Axes>"
      ]
     },
     "metadata": {
      "needs_background": "light"
     },
     "output_type": "display_data"
    }
   ],
   "source": [
    "from mpl_toolkits.mplot3d import Axes3D\n",
    "\n",
    "# The equation of the separating plane is given by all x so that np.dot(svc.coef_[0], x) + b = 0.\n",
    "# Solve for w3 (z)\n",
    "z = lambda x,y: (-clf.intercept_[0]-clf.coef_[0][0]*x -clf.coef_[0][1]*y) / clf.coef_[0][2]\n",
    "\n",
    "tmp = np.linspace(-5,5,30)\n",
    "x,y = np.meshgrid(tmp,tmp)\n",
    "\n",
    "fig = plt.figure()\n",
    "ax  = fig.add_subplot(111, projection='3d')\n",
    "ax.plot3D(X_train_3d[y_train_3d==0,0], X_train_3d[y_train_3d==0,1], X_train_3d[y_train_3d==0,2],'ob')\n",
    "ax.plot3D(X_train_3d[y_train_3d==1,0], X_train_3d[y_train_3d==1,1], X_train_3d[y_train_3d==1,2],'sr')\n",
    "ax.plot_surface(x, y, z(x,y))\n",
    "ax.view_init(30, 60)\n",
    "plt.show()"
   ]
  },
  {
   "cell_type": "markdown",
   "id": "fac232cf-77d9-473b-a883-82ea88e32fff",
   "metadata": {},
   "source": [
    "### Get the accuracy and hinge loss of the testing set"
   ]
  },
  {
   "cell_type": "code",
   "execution_count": 33,
   "id": "a6b856a2",
   "metadata": {},
   "outputs": [
    {
     "name": "stdout",
     "output_type": "stream",
     "text": [
      "hinge_loss: 1.0220450600009157, accuracy: 0.48\n"
     ]
    }
   ],
   "source": [
    "from sklearn.metrics import hinge_loss\n",
    "h_w_x = clf.predict(X_test_3d)\n",
    "hinge_loss = hinge_loss(y_test_3d, clf.decision_function(X_test_3d))\n",
    "accuracy = accuracy_score(y_test_3d, h_w_x, normalize=True)\n",
    "print(f\"hinge_loss: {hinge_loss}, accuracy: {accuracy}\")"
   ]
  },
  {
   "cell_type": "markdown",
   "id": "95f6fe2d-0740-417f-85b6-7f5856400041",
   "metadata": {},
   "source": [
    "## Train, predict and plot svm on 2d prepared data with the following configuration:\n",
    "\n",
    "- kernel=\"poly\", C=1.0, degree=2, coef0=0.0, gamma=\"scale\""
   ]
  },
  {
   "cell_type": "code",
   "execution_count": 34,
   "id": "dbeea76e",
   "metadata": {},
   "outputs": [],
   "source": [
    "from sklearn.svm import SVC\n",
    "model = SVC(kernel='poly', C=1.0, degree=2, coef0=0.0, gamma=\"scale\")\n",
    "clf = model.fit(training_set_x_new_2d, y_train_2d)"
   ]
  },
  {
   "cell_type": "markdown",
   "id": "c0b4a033-1ded-4bff-aa09-6e3a42d3ff25",
   "metadata": {},
   "source": [
    "### Calculate the accuracy and hinge loss on the training set"
   ]
  },
  {
   "cell_type": "code",
   "execution_count": 35,
   "id": "7a3f42de",
   "metadata": {},
   "outputs": [
    {
     "name": "stdout",
     "output_type": "stream",
     "text": [
      "hinge_loss: 0.381934321235046, accuracy: 0.8125\n"
     ]
    }
   ],
   "source": [
    "from sklearn.metrics import hinge_loss\n",
    "h_w_x = clf.predict(training_set_x_new_2d)\n",
    "hinge_loss = hinge_loss(y_train_2d, clf.decision_function(training_set_x_new_2d))\n",
    "accuracy = accuracy_score(y_train_2d, h_w_x, normalize=True)\n",
    "print(f\"hinge_loss: {hinge_loss}, accuracy: {accuracy}\")"
   ]
  },
  {
   "cell_type": "markdown",
   "id": "4c22aa5a-6bbd-412e-83e9-10d5be769f08",
   "metadata": {},
   "source": [
    "### Calculate the accuracy and hinge loss on the testing set"
   ]
  },
  {
   "cell_type": "code",
   "execution_count": 36,
   "id": "dff0f229",
   "metadata": {},
   "outputs": [
    {
     "name": "stdout",
     "output_type": "stream",
     "text": [
      "hinge_loss: 0.32211937623796044, accuracy: 0.8421052631578947\n"
     ]
    }
   ],
   "source": [
    "from sklearn.metrics import hinge_loss\n",
    "h_w_x = clf.predict(testing_set_x_new_2d)\n",
    "hinge_loss = hinge_loss(y_test_2d, clf.decision_function(testing_set_x_new_2d))\n",
    "accuracy = accuracy_score(y_test_2d, h_w_x, normalize=True)\n",
    "print(f\"hinge_loss: {hinge_loss}, accuracy: {accuracy}\")"
   ]
  },
  {
   "cell_type": "markdown",
   "id": "580ce154-ae0f-4ccf-a16a-d1a900185908",
   "metadata": {},
   "source": [
    "### Plot the decision boundary with each point colored with its groundtruth class in 2D\n",
    "- encircle your support vectors"
   ]
  },
  {
   "cell_type": "code",
   "execution_count": 37,
   "id": "7b4ec365",
   "metadata": {},
   "outputs": [
    {
     "data": {
      "image/png": "[encoded data removed]",
      "text/plain": [
       "<Figure size 432x288 with 1 Axes>"
      ]
     },
     "metadata": {},
     "output_type": "display_data"
    }
   ],
   "source": [
    "import numpy as np\n",
    "import matplotlib.pyplot as plt\n",
    "\n",
    "def make_meshgrid(x, y, h=.02):\n",
    "    x_min, x_max = x.min() - 1, x.max() + 1\n",
    "    y_min, y_max = y.min() - 1, y.max() + 1\n",
    "    xx, yy = np.meshgrid(np.arange(x_min, x_max, h), np.arange(y_min, y_max, h))\n",
    "    return xx, yy\n",
    "\n",
    "def plot_contours(ax, clf, xx, yy, **params):\n",
    "    Z = clf.predict(np.c_[xx.ravel(), yy.ravel()])\n",
    "    Z = Z.reshape(xx.shape)\n",
    "    out = ax.contourf(xx, yy, Z, **params)\n",
    "    return out\n",
    "\n",
    "fig, ax = plt.subplots()\n",
    "# title for the plots\n",
    "title = ('Decision surface of linear SVC ')\n",
    "# Set-up grid for plotting.\n",
    "X0, X1 = training_set_x_new_2d[:, 0], training_set_x_new_2d[:, 1]\n",
    "xx, yy = make_meshgrid(X0, X1)\n",
    "\n",
    "\n",
    "plot_contours(ax, clf, xx, yy, cmap=plt.cm.coolwarm, alpha=0.8)\n",
    "ax.scatter(X0, X1, c=y_train_2d, cmap=plt.cm.coolwarm, s=20, edgecolors='k')\n",
    "\n",
    "# Encircle support vectors\n",
    "plt.scatter(model.support_vectors_[:, 0],\n",
    "            model.support_vectors_[:, 1], \n",
    "            s=50, \n",
    "            facecolors='none', \n",
    "            edgecolors='yellow', \n",
    "            alpha=.5)\n",
    "ax.set_ylabel(f'{iris_df.iloc[:, 1].name}')\n",
    "ax.set_xlabel(f'{iris_df.iloc[:, 0].name}')\n",
    "ax.set_xticks(())\n",
    "ax.set_yticks(())\n",
    "ax.set_title(title)\n",
    "\n",
    "plt.show()"
   ]
  },
  {
   "cell_type": "markdown",
   "id": "6b65ce20-530f-4d3c-8e98-a58d5197ead6",
   "metadata": {},
   "source": [
    "## Train, predict and plot svm on 2d prepared data with the following configuration:\n",
    "\n",
    "- kernel=\"poly\", C=1.0, degree=3, coef0=0.0, gamma=\"scale\""
   ]
  },
  {
   "cell_type": "code",
   "execution_count": 38,
   "id": "3737389f",
   "metadata": {},
   "outputs": [],
   "source": [
    "from sklearn.svm import SVC\n",
    "model = SVC(kernel='poly', C=1.0, degree=3, coef0=0.0, gamma=\"scale\")\n",
    "clf = model.fit(training_set_x_new_2d, y_train_2d)"
   ]
  },
  {
   "cell_type": "markdown",
   "id": "4db26c5f-1374-4580-935b-eca5197ef285",
   "metadata": {},
   "source": [
    "### Calculate the accuracy and hinge loss on the training set"
   ]
  },
  {
   "cell_type": "code",
   "execution_count": 39,
   "id": "535a7bbc",
   "metadata": {},
   "outputs": [
    {
     "name": "stdout",
     "output_type": "stream",
     "text": [
      "hinge_loss: 0.1318148663394509, accuracy: 0.9375\n"
     ]
    }
   ],
   "source": [
    "from sklearn.metrics import hinge_loss\n",
    "h_w_x = clf.predict(training_set_x_new_2d)\n",
    "hinge_loss = hinge_loss(y_train_2d, clf.decision_function(training_set_x_new_2d))\n",
    "accuracy = accuracy_score(y_train_2d, h_w_x, normalize=True)\n",
    "print(f\"hinge_loss: {hinge_loss}, accuracy: {accuracy}\")"
   ]
  },
  {
   "cell_type": "markdown",
   "id": "551c198b-61d7-4e8f-b205-57f84dfa33b8",
   "metadata": {},
   "source": [
    "### Calculate the accuracy and hinge loss on the testing set"
   ]
  },
  {
   "cell_type": "code",
   "execution_count": 40,
   "id": "890188d3",
   "metadata": {},
   "outputs": [
    {
     "name": "stdout",
     "output_type": "stream",
     "text": [
      "hinge_loss: 0.05675145079318143, accuracy: 0.9736842105263158\n"
     ]
    }
   ],
   "source": [
    "from sklearn.metrics import hinge_loss\n",
    "h_w_x = clf.predict(testing_set_x_new_2d)\n",
    "hinge_loss = hinge_loss(y_test_2d, clf.decision_function(testing_set_x_new_2d))\n",
    "accuracy = accuracy_score(y_test_2d, h_w_x, normalize=True)\n",
    "print(f\"hinge_loss: {hinge_loss}, accuracy: {accuracy}\")"
   ]
  },
  {
   "cell_type": "markdown",
   "id": "a2cd4fd6-f071-49e1-b43c-16e0e18b3aa8",
   "metadata": {},
   "source": [
    "### Plot the decision boundary with each point colored with its groundtruth class in 2D\n",
    "- encircle your support vectors"
   ]
  },
  {
   "cell_type": "code",
   "execution_count": 41,
   "id": "268436b7",
   "metadata": {},
   "outputs": [
    {
     "data": {
      "image/png": "[encoded data removed]",
      "text/plain": [
       "<Figure size 432x288 with 1 Axes>"
      ]
     },
     "metadata": {},
     "output_type": "display_data"
    }
   ],
   "source": [
    "import numpy as np\n",
    "import matplotlib.pyplot as plt\n",
    "\n",
    "def make_meshgrid(x, y, h=.02):\n",
    "    x_min, x_max = x.min() - 1, x.max() + 1\n",
    "    y_min, y_max = y.min() - 1, y.max() + 1\n",
    "    xx, yy = np.meshgrid(np.arange(x_min, x_max, h), np.arange(y_min, y_max, h))\n",
    "    return xx, yy\n",
    "\n",
    "def plot_contours(ax, clf, xx, yy, **params):\n",
    "    Z = clf.predict(np.c_[xx.ravel(), yy.ravel()])\n",
    "    Z = Z.reshape(xx.shape)\n",
    "    out = ax.contourf(xx, yy, Z, **params)\n",
    "    return out\n",
    "\n",
    "fig, ax = plt.subplots()\n",
    "# title for the plots\n",
    "title = ('Decision surface of linear SVC ')\n",
    "# Set-up grid for plotting.\n",
    "X0, X1 = training_set_x_new_2d[:, 0], training_set_x_new_2d[:, 1]\n",
    "xx, yy = make_meshgrid(X0, X1)\n",
    "\n",
    "\n",
    "plot_contours(ax, clf, xx, yy, cmap=plt.cm.coolwarm, alpha=0.8)\n",
    "ax.scatter(X0, X1, c=y_train_2d, cmap=plt.cm.coolwarm, s=20, edgecolors='k')\n",
    "\n",
    "# Encircle support vectors\n",
    "plt.scatter(model.support_vectors_[:, 0],\n",
    "            model.support_vectors_[:, 1], \n",
    "            s=50, \n",
    "            facecolors='none', \n",
    "            edgecolors='yellow', \n",
    "            alpha=.5)\n",
    "ax.set_ylabel(f'{iris_df.iloc[:, 1].name}')\n",
    "ax.set_xlabel(f'{iris_df.iloc[:, 0].name}')\n",
    "ax.set_xticks(())\n",
    "ax.set_yticks(())\n",
    "ax.set_title(title)\n",
    "\n",
    "plt.show()"
   ]
  },
  {
   "cell_type": "markdown",
   "id": "e525d3e6-4b92-492f-9d75-51d5e8f06619",
   "metadata": {},
   "source": [
    "## Train, predict and plot svm on 2d prepared data with the following configuration:\n",
    "\n",
    "- kernel=\"rbf\", C=1.0, gamma=\"scale\""
   ]
  },
  {
   "cell_type": "code",
   "execution_count": 42,
   "id": "92002863",
   "metadata": {},
   "outputs": [],
   "source": [
    "from sklearn.svm import SVC\n",
    "model = SVC(kernel='rbf', C=1.0, gamma=\"scale\")\n",
    "clf = model.fit(training_set_x_new_2d, y_train_2d)"
   ]
  },
  {
   "cell_type": "markdown",
   "id": "8623b095-37df-4143-914e-68c93b64ac5d",
   "metadata": {},
   "source": [
    "### Calculate the accuracy and hinge loss on the training set"
   ]
  },
  {
   "cell_type": "code",
   "execution_count": 43,
   "id": "b36b6628",
   "metadata": {},
   "outputs": [
    {
     "name": "stdout",
     "output_type": "stream",
     "text": [
      "hinge_loss: 0.09221400120244325, accuracy: 0.9553571428571429\n"
     ]
    }
   ],
   "source": [
    "from sklearn.metrics import hinge_loss\n",
    "h_w_x = clf.predict(training_set_x_new_2d)\n",
    "hinge_loss = hinge_loss(y_train_2d, clf.decision_function(training_set_x_new_2d))\n",
    "accuracy = accuracy_score(y_train_2d, h_w_x, normalize=True)\n",
    "print(f\"hinge_loss: {hinge_loss}, accuracy: {accuracy}\")"
   ]
  },
  {
   "cell_type": "markdown",
   "id": "3b434f4b-96fd-49bb-90cc-aef3d46a2e64",
   "metadata": {},
   "source": [
    "### Calculate the accuracy and hinge loss on the testing set"
   ]
  },
  {
   "cell_type": "code",
   "execution_count": 44,
   "id": "4859cde3",
   "metadata": {},
   "outputs": [
    {
     "name": "stdout",
     "output_type": "stream",
     "text": [
      "hinge_loss: 0.05382871503348169, accuracy: 0.9736842105263158\n"
     ]
    }
   ],
   "source": [
    "from sklearn.metrics import hinge_loss\n",
    "h_w_x = clf.predict(testing_set_x_new_2d)\n",
    "hinge_loss = hinge_loss(y_test_2d, clf.decision_function(testing_set_x_new_2d))\n",
    "accuracy = accuracy_score(y_test_2d, h_w_x, normalize=True)\n",
    "print(f\"hinge_loss: {hinge_loss}, accuracy: {accuracy}\")"
   ]
  },
  {
   "cell_type": "markdown",
   "id": "f9362cf6-f01b-45cb-a5b0-5d33161400e3",
   "metadata": {},
   "source": [
    "### Plot the decision boundary with each point colored with its groundtruth class in 2D\n",
    "- encircle your support vectors"
   ]
  },
  {
   "cell_type": "code",
   "execution_count": 45,
   "id": "853c0942",
   "metadata": {},
   "outputs": [
    {
     "data": {
      "image/png": "[encoded data removed]",
      "text/plain": [
       "<Figure size 432x288 with 1 Axes>"
      ]
     },
     "metadata": {},
     "output_type": "display_data"
    }
   ],
   "source": [
    "import numpy as np\n",
    "import matplotlib.pyplot as plt\n",
    "\n",
    "def make_meshgrid(x, y, h=.02):\n",
    "    x_min, x_max = x.min() - 1, x.max() + 1\n",
    "    y_min, y_max = y.min() - 1, y.max() + 1\n",
    "    xx, yy = np.meshgrid(np.arange(x_min, x_max, h), np.arange(y_min, y_max, h))\n",
    "    return xx, yy\n",
    "\n",
    "def plot_contours(ax, clf, xx, yy, **params):\n",
    "    Z = clf.predict(np.c_[xx.ravel(), yy.ravel()])\n",
    "    Z = Z.reshape(xx.shape)\n",
    "    out = ax.contourf(xx, yy, Z, **params)\n",
    "    return out\n",
    "\n",
    "fig, ax = plt.subplots()\n",
    "# title for the plots\n",
    "title = ('Decision surface of linear SVC ')\n",
    "# Set-up grid for plotting.\n",
    "X0, X1 = training_set_x_new_2d[:, 0], training_set_x_new_2d[:, 1]\n",
    "xx, yy = make_meshgrid(X0, X1)\n",
    "\n",
    "\n",
    "plot_contours(ax, clf, xx, yy, cmap=plt.cm.coolwarm, alpha=0.8)\n",
    "ax.scatter(X0, X1, c=y_train_2d, cmap=plt.cm.coolwarm, s=20, edgecolors='k')\n",
    "\n",
    "# Encircle support vectors\n",
    "plt.scatter(model.support_vectors_[:, 0],\n",
    "            model.support_vectors_[:, 1], \n",
    "            s=50, \n",
    "            facecolors='none', \n",
    "            edgecolors='yellow', \n",
    "            alpha=.5)\n",
    "ax.set_ylabel(f'{iris_df.iloc[:, 1].name}')\n",
    "ax.set_xlabel(f'{iris_df.iloc[:, 0].name}')\n",
    "ax.set_xticks(())\n",
    "ax.set_yticks(())\n",
    "ax.set_title(title)\n",
    "\n",
    "plt.show()"
   ]
  }
 ],
 "metadata": {
  "kernelspec": {
   "display_name": "Python 3 (ipykernel)",
   "language": "python",
   "name": "python3"
  },
  "language_info": {
   "codemirror_mode": {
    "name": "ipython",
    "version": 3
   },
   "file_extension": ".py",
   "mimetype": "text/x-python",
   "name": "python",
   "nbconvert_exporter": "python",
   "pygments_lexer": "ipython3",
   "version": "3.9.7"
  }
 },
 "nbformat": 4,
 "nbformat_minor": 5
}
