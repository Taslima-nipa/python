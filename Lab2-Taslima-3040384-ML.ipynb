{
 "cells": [
  {
   "cell_type": "markdown",
   "id": "6b269473",
   "metadata": {},
   "source": [
    "# Taslima Akter, 3040384"
   ]
  },
  {
   "cell_type": "code",
   "execution_count": 1,
   "id": "cfce927a",
   "metadata": {},
   "outputs": [],
   "source": [
    "#Install packages\n",
    "import math\n",
    "import copy\n",
    "import numpy as np\n",
    "import matplotlib as plt\n",
    "import pandas as pd\n",
    "import seaborn as sns\n",
    "import matplotlib.pyplot as plt\n",
    "from IPython.display import display\n",
    "from sklearn.linear_model import LogisticRegression\n",
    "from sklearn.linear_model import LinearRegression\n",
    "from sklearn.model_selection import train_test_split\n",
    "from sklearn import metrics\n",
    "from sklearn.preprocessing import StandardScaler\n",
    "from sklearn.metrics import log_loss, accuracy_score, mean_squared_error, r2_score\n",
    "from pprint import pprint\n",
    "from sklearn.preprocessing import MinMaxScaler\n",
    "from sklearn.metrics import mean_squared_error, r2_score\n",
    "from sklearn.linear_model import SGDClassifier\n",
    "from sklearn.datasets import load_iris\n",
    "from sklearn.datasets import make_classification\n",
    "from sklearn.metrics import confusion_matrix\n",
    "from sklearn.metrics import classification_report\n",
    "from sklearn.preprocessing import scale\n",
    "from sklearn.feature_selection import SelectKBest, chi2, r_regression, SequentialFeatureSelector, RFE\n",
    "from sklearn.linear_model import RidgeCV, LogisticRegression, LogisticRegressionCV, Ridge, Lasso, LinearRegression, LassoCV"
   ]
  },
  {
   "cell_type": "markdown",
   "id": "7dacb346-bfcd-42cf-a1f9-40701837167f",
   "metadata": {},
   "source": [
    "# Loading Regression Data\n",
    "Load appropriate dataset here"
   ]
  },
  {
   "cell_type": "code",
   "execution_count": 2,
   "id": "db7cde05",
   "metadata": {},
   "outputs": [
    {
     "data": {
      "text/html": [
       "<div>\n",
       "<style scoped>\n",
       "    .dataframe tbody tr th:only-of-type {\n",
       "        vertical-align: middle;\n",
       "    }\n",
       "\n",
       "    .dataframe tbody tr th {\n",
       "        vertical-align: top;\n",
       "    }\n",
       "\n",
       "    .dataframe thead th {\n",
       "        text-align: right;\n",
       "    }\n",
       "</style>\n",
       "<table border=\"1\" class=\"dataframe\">\n",
       "  <thead>\n",
       "    <tr style=\"text-align: right;\">\n",
       "      <th></th>\n",
       "      <th>age</th>\n",
       "      <th>sex</th>\n",
       "      <th>bmi</th>\n",
       "      <th>bp</th>\n",
       "      <th>s1</th>\n",
       "      <th>s2</th>\n",
       "      <th>s3</th>\n",
       "      <th>s4</th>\n",
       "      <th>s5</th>\n",
       "      <th>s6</th>\n",
       "      <th>target</th>\n",
       "    </tr>\n",
       "  </thead>\n",
       "  <tbody>\n",
       "    <tr>\n",
       "      <th>0</th>\n",
       "      <td>0.038076</td>\n",
       "      <td>0.050680</td>\n",
       "      <td>0.061696</td>\n",
       "      <td>0.021872</td>\n",
       "      <td>-0.044223</td>\n",
       "      <td>-0.034821</td>\n",
       "      <td>-0.043401</td>\n",
       "      <td>-0.002592</td>\n",
       "      <td>0.019907</td>\n",
       "      <td>-0.017646</td>\n",
       "      <td>151.0</td>\n",
       "    </tr>\n",
       "    <tr>\n",
       "      <th>1</th>\n",
       "      <td>-0.001882</td>\n",
       "      <td>-0.044642</td>\n",
       "      <td>-0.051474</td>\n",
       "      <td>-0.026328</td>\n",
       "      <td>-0.008449</td>\n",
       "      <td>-0.019163</td>\n",
       "      <td>0.074412</td>\n",
       "      <td>-0.039493</td>\n",
       "      <td>-0.068332</td>\n",
       "      <td>-0.092204</td>\n",
       "      <td>75.0</td>\n",
       "    </tr>\n",
       "    <tr>\n",
       "      <th>2</th>\n",
       "      <td>0.085299</td>\n",
       "      <td>0.050680</td>\n",
       "      <td>0.044451</td>\n",
       "      <td>-0.005670</td>\n",
       "      <td>-0.045599</td>\n",
       "      <td>-0.034194</td>\n",
       "      <td>-0.032356</td>\n",
       "      <td>-0.002592</td>\n",
       "      <td>0.002861</td>\n",
       "      <td>-0.025930</td>\n",
       "      <td>141.0</td>\n",
       "    </tr>\n",
       "    <tr>\n",
       "      <th>3</th>\n",
       "      <td>-0.089063</td>\n",
       "      <td>-0.044642</td>\n",
       "      <td>-0.011595</td>\n",
       "      <td>-0.036656</td>\n",
       "      <td>0.012191</td>\n",
       "      <td>0.024991</td>\n",
       "      <td>-0.036038</td>\n",
       "      <td>0.034309</td>\n",
       "      <td>0.022688</td>\n",
       "      <td>-0.009362</td>\n",
       "      <td>206.0</td>\n",
       "    </tr>\n",
       "    <tr>\n",
       "      <th>4</th>\n",
       "      <td>0.005383</td>\n",
       "      <td>-0.044642</td>\n",
       "      <td>-0.036385</td>\n",
       "      <td>0.021872</td>\n",
       "      <td>0.003935</td>\n",
       "      <td>0.015596</td>\n",
       "      <td>0.008142</td>\n",
       "      <td>-0.002592</td>\n",
       "      <td>-0.031988</td>\n",
       "      <td>-0.046641</td>\n",
       "      <td>135.0</td>\n",
       "    </tr>\n",
       "    <tr>\n",
       "      <th>...</th>\n",
       "      <td>...</td>\n",
       "      <td>...</td>\n",
       "      <td>...</td>\n",
       "      <td>...</td>\n",
       "      <td>...</td>\n",
       "      <td>...</td>\n",
       "      <td>...</td>\n",
       "      <td>...</td>\n",
       "      <td>...</td>\n",
       "      <td>...</td>\n",
       "      <td>...</td>\n",
       "    </tr>\n",
       "    <tr>\n",
       "      <th>437</th>\n",
       "      <td>0.041708</td>\n",
       "      <td>0.050680</td>\n",
       "      <td>0.019662</td>\n",
       "      <td>0.059744</td>\n",
       "      <td>-0.005697</td>\n",
       "      <td>-0.002566</td>\n",
       "      <td>-0.028674</td>\n",
       "      <td>-0.002592</td>\n",
       "      <td>0.031193</td>\n",
       "      <td>0.007207</td>\n",
       "      <td>178.0</td>\n",
       "    </tr>\n",
       "    <tr>\n",
       "      <th>438</th>\n",
       "      <td>-0.005515</td>\n",
       "      <td>0.050680</td>\n",
       "      <td>-0.015906</td>\n",
       "      <td>-0.067642</td>\n",
       "      <td>0.049341</td>\n",
       "      <td>0.079165</td>\n",
       "      <td>-0.028674</td>\n",
       "      <td>0.034309</td>\n",
       "      <td>-0.018114</td>\n",
       "      <td>0.044485</td>\n",
       "      <td>104.0</td>\n",
       "    </tr>\n",
       "    <tr>\n",
       "      <th>439</th>\n",
       "      <td>0.041708</td>\n",
       "      <td>0.050680</td>\n",
       "      <td>-0.015906</td>\n",
       "      <td>0.017293</td>\n",
       "      <td>-0.037344</td>\n",
       "      <td>-0.013840</td>\n",
       "      <td>-0.024993</td>\n",
       "      <td>-0.011080</td>\n",
       "      <td>-0.046883</td>\n",
       "      <td>0.015491</td>\n",
       "      <td>132.0</td>\n",
       "    </tr>\n",
       "    <tr>\n",
       "      <th>440</th>\n",
       "      <td>-0.045472</td>\n",
       "      <td>-0.044642</td>\n",
       "      <td>0.039062</td>\n",
       "      <td>0.001215</td>\n",
       "      <td>0.016318</td>\n",
       "      <td>0.015283</td>\n",
       "      <td>-0.028674</td>\n",
       "      <td>0.026560</td>\n",
       "      <td>0.044529</td>\n",
       "      <td>-0.025930</td>\n",
       "      <td>220.0</td>\n",
       "    </tr>\n",
       "    <tr>\n",
       "      <th>441</th>\n",
       "      <td>-0.045472</td>\n",
       "      <td>-0.044642</td>\n",
       "      <td>-0.073030</td>\n",
       "      <td>-0.081413</td>\n",
       "      <td>0.083740</td>\n",
       "      <td>0.027809</td>\n",
       "      <td>0.173816</td>\n",
       "      <td>-0.039493</td>\n",
       "      <td>-0.004222</td>\n",
       "      <td>0.003064</td>\n",
       "      <td>57.0</td>\n",
       "    </tr>\n",
       "  </tbody>\n",
       "</table>\n",
       "<p>442 rows × 11 columns</p>\n",
       "</div>"
      ],
      "text/plain": [
       "          age       sex       bmi        bp        s1        s2        s3  \\\n",
       "0    0.038076  0.050680  0.061696  0.021872 -0.044223 -0.034821 -0.043401   \n",
       "1   -0.001882 -0.044642 -0.051474 -0.026328 -0.008449 -0.019163  0.074412   \n",
       "2    0.085299  0.050680  0.044451 -0.005670 -0.045599 -0.034194 -0.032356   \n",
       "3   -0.089063 -0.044642 -0.011595 -0.036656  0.012191  0.024991 -0.036038   \n",
       "4    0.005383 -0.044642 -0.036385  0.021872  0.003935  0.015596  0.008142   \n",
       "..        ...       ...       ...       ...       ...       ...       ...   \n",
       "437  0.041708  0.050680  0.019662  0.059744 -0.005697 -0.002566 -0.028674   \n",
       "438 -0.005515  0.050680 -0.015906 -0.067642  0.049341  0.079165 -0.028674   \n",
       "439  0.041708  0.050680 -0.015906  0.017293 -0.037344 -0.013840 -0.024993   \n",
       "440 -0.045472 -0.044642  0.039062  0.001215  0.016318  0.015283 -0.028674   \n",
       "441 -0.045472 -0.044642 -0.073030 -0.081413  0.083740  0.027809  0.173816   \n",
       "\n",
       "           s4        s5        s6  target  \n",
       "0   -0.002592  0.019907 -0.017646   151.0  \n",
       "1   -0.039493 -0.068332 -0.092204    75.0  \n",
       "2   -0.002592  0.002861 -0.025930   141.0  \n",
       "3    0.034309  0.022688 -0.009362   206.0  \n",
       "4   -0.002592 -0.031988 -0.046641   135.0  \n",
       "..        ...       ...       ...     ...  \n",
       "437 -0.002592  0.031193  0.007207   178.0  \n",
       "438  0.034309 -0.018114  0.044485   104.0  \n",
       "439 -0.011080 -0.046883  0.015491   132.0  \n",
       "440  0.026560  0.044529 -0.025930   220.0  \n",
       "441 -0.039493 -0.004222  0.003064    57.0  \n",
       "\n",
       "[442 rows x 11 columns]"
      ]
     },
     "execution_count": 2,
     "metadata": {},
     "output_type": "execute_result"
    }
   ],
   "source": [
    "from sklearn.datasets import load_diabetes\n",
    "diabetes_df =  load_diabetes(as_frame=True).frame\n",
    "diabetes_df"
   ]
  },
  {
   "cell_type": "code",
   "execution_count": 3,
   "id": "d3e5bb67",
   "metadata": {},
   "outputs": [
    {
     "data": {
      "text/html": [
       "<div>\n",
       "<style scoped>\n",
       "    .dataframe tbody tr th:only-of-type {\n",
       "        vertical-align: middle;\n",
       "    }\n",
       "\n",
       "    .dataframe tbody tr th {\n",
       "        vertical-align: top;\n",
       "    }\n",
       "\n",
       "    .dataframe thead th {\n",
       "        text-align: right;\n",
       "    }\n",
       "</style>\n",
       "<table border=\"1\" class=\"dataframe\">\n",
       "  <thead>\n",
       "    <tr style=\"text-align: right;\">\n",
       "      <th></th>\n",
       "      <th>x_age</th>\n",
       "      <th>x_sex</th>\n",
       "      <th>x_bmi</th>\n",
       "      <th>x_bp</th>\n",
       "      <th>x_s1</th>\n",
       "      <th>x_s2</th>\n",
       "      <th>x_s3</th>\n",
       "      <th>x_s4</th>\n",
       "      <th>x_s5</th>\n",
       "      <th>x_s6</th>\n",
       "      <th>y_target</th>\n",
       "    </tr>\n",
       "  </thead>\n",
       "  <tbody>\n",
       "    <tr>\n",
       "      <th>0</th>\n",
       "      <td>0.038076</td>\n",
       "      <td>0.050680</td>\n",
       "      <td>0.061696</td>\n",
       "      <td>0.021872</td>\n",
       "      <td>-0.044223</td>\n",
       "      <td>-0.034821</td>\n",
       "      <td>-0.043401</td>\n",
       "      <td>-0.002592</td>\n",
       "      <td>0.019907</td>\n",
       "      <td>-0.017646</td>\n",
       "      <td>151.0</td>\n",
       "    </tr>\n",
       "    <tr>\n",
       "      <th>1</th>\n",
       "      <td>-0.001882</td>\n",
       "      <td>-0.044642</td>\n",
       "      <td>-0.051474</td>\n",
       "      <td>-0.026328</td>\n",
       "      <td>-0.008449</td>\n",
       "      <td>-0.019163</td>\n",
       "      <td>0.074412</td>\n",
       "      <td>-0.039493</td>\n",
       "      <td>-0.068332</td>\n",
       "      <td>-0.092204</td>\n",
       "      <td>75.0</td>\n",
       "    </tr>\n",
       "    <tr>\n",
       "      <th>2</th>\n",
       "      <td>0.085299</td>\n",
       "      <td>0.050680</td>\n",
       "      <td>0.044451</td>\n",
       "      <td>-0.005670</td>\n",
       "      <td>-0.045599</td>\n",
       "      <td>-0.034194</td>\n",
       "      <td>-0.032356</td>\n",
       "      <td>-0.002592</td>\n",
       "      <td>0.002861</td>\n",
       "      <td>-0.025930</td>\n",
       "      <td>141.0</td>\n",
       "    </tr>\n",
       "    <tr>\n",
       "      <th>3</th>\n",
       "      <td>-0.089063</td>\n",
       "      <td>-0.044642</td>\n",
       "      <td>-0.011595</td>\n",
       "      <td>-0.036656</td>\n",
       "      <td>0.012191</td>\n",
       "      <td>0.024991</td>\n",
       "      <td>-0.036038</td>\n",
       "      <td>0.034309</td>\n",
       "      <td>0.022688</td>\n",
       "      <td>-0.009362</td>\n",
       "      <td>206.0</td>\n",
       "    </tr>\n",
       "    <tr>\n",
       "      <th>4</th>\n",
       "      <td>0.005383</td>\n",
       "      <td>-0.044642</td>\n",
       "      <td>-0.036385</td>\n",
       "      <td>0.021872</td>\n",
       "      <td>0.003935</td>\n",
       "      <td>0.015596</td>\n",
       "      <td>0.008142</td>\n",
       "      <td>-0.002592</td>\n",
       "      <td>-0.031988</td>\n",
       "      <td>-0.046641</td>\n",
       "      <td>135.0</td>\n",
       "    </tr>\n",
       "    <tr>\n",
       "      <th>...</th>\n",
       "      <td>...</td>\n",
       "      <td>...</td>\n",
       "      <td>...</td>\n",
       "      <td>...</td>\n",
       "      <td>...</td>\n",
       "      <td>...</td>\n",
       "      <td>...</td>\n",
       "      <td>...</td>\n",
       "      <td>...</td>\n",
       "      <td>...</td>\n",
       "      <td>...</td>\n",
       "    </tr>\n",
       "    <tr>\n",
       "      <th>437</th>\n",
       "      <td>0.041708</td>\n",
       "      <td>0.050680</td>\n",
       "      <td>0.019662</td>\n",
       "      <td>0.059744</td>\n",
       "      <td>-0.005697</td>\n",
       "      <td>-0.002566</td>\n",
       "      <td>-0.028674</td>\n",
       "      <td>-0.002592</td>\n",
       "      <td>0.031193</td>\n",
       "      <td>0.007207</td>\n",
       "      <td>178.0</td>\n",
       "    </tr>\n",
       "    <tr>\n",
       "      <th>438</th>\n",
       "      <td>-0.005515</td>\n",
       "      <td>0.050680</td>\n",
       "      <td>-0.015906</td>\n",
       "      <td>-0.067642</td>\n",
       "      <td>0.049341</td>\n",
       "      <td>0.079165</td>\n",
       "      <td>-0.028674</td>\n",
       "      <td>0.034309</td>\n",
       "      <td>-0.018114</td>\n",
       "      <td>0.044485</td>\n",
       "      <td>104.0</td>\n",
       "    </tr>\n",
       "    <tr>\n",
       "      <th>439</th>\n",
       "      <td>0.041708</td>\n",
       "      <td>0.050680</td>\n",
       "      <td>-0.015906</td>\n",
       "      <td>0.017293</td>\n",
       "      <td>-0.037344</td>\n",
       "      <td>-0.013840</td>\n",
       "      <td>-0.024993</td>\n",
       "      <td>-0.011080</td>\n",
       "      <td>-0.046883</td>\n",
       "      <td>0.015491</td>\n",
       "      <td>132.0</td>\n",
       "    </tr>\n",
       "    <tr>\n",
       "      <th>440</th>\n",
       "      <td>-0.045472</td>\n",
       "      <td>-0.044642</td>\n",
       "      <td>0.039062</td>\n",
       "      <td>0.001215</td>\n",
       "      <td>0.016318</td>\n",
       "      <td>0.015283</td>\n",
       "      <td>-0.028674</td>\n",
       "      <td>0.026560</td>\n",
       "      <td>0.044529</td>\n",
       "      <td>-0.025930</td>\n",
       "      <td>220.0</td>\n",
       "    </tr>\n",
       "    <tr>\n",
       "      <th>441</th>\n",
       "      <td>-0.045472</td>\n",
       "      <td>-0.044642</td>\n",
       "      <td>-0.073030</td>\n",
       "      <td>-0.081413</td>\n",
       "      <td>0.083740</td>\n",
       "      <td>0.027809</td>\n",
       "      <td>0.173816</td>\n",
       "      <td>-0.039493</td>\n",
       "      <td>-0.004222</td>\n",
       "      <td>0.003064</td>\n",
       "      <td>57.0</td>\n",
       "    </tr>\n",
       "  </tbody>\n",
       "</table>\n",
       "<p>442 rows × 11 columns</p>\n",
       "</div>"
      ],
      "text/plain": [
       "        x_age     x_sex     x_bmi      x_bp      x_s1      x_s2      x_s3  \\\n",
       "0    0.038076  0.050680  0.061696  0.021872 -0.044223 -0.034821 -0.043401   \n",
       "1   -0.001882 -0.044642 -0.051474 -0.026328 -0.008449 -0.019163  0.074412   \n",
       "2    0.085299  0.050680  0.044451 -0.005670 -0.045599 -0.034194 -0.032356   \n",
       "3   -0.089063 -0.044642 -0.011595 -0.036656  0.012191  0.024991 -0.036038   \n",
       "4    0.005383 -0.044642 -0.036385  0.021872  0.003935  0.015596  0.008142   \n",
       "..        ...       ...       ...       ...       ...       ...       ...   \n",
       "437  0.041708  0.050680  0.019662  0.059744 -0.005697 -0.002566 -0.028674   \n",
       "438 -0.005515  0.050680 -0.015906 -0.067642  0.049341  0.079165 -0.028674   \n",
       "439  0.041708  0.050680 -0.015906  0.017293 -0.037344 -0.013840 -0.024993   \n",
       "440 -0.045472 -0.044642  0.039062  0.001215  0.016318  0.015283 -0.028674   \n",
       "441 -0.045472 -0.044642 -0.073030 -0.081413  0.083740  0.027809  0.173816   \n",
       "\n",
       "         x_s4      x_s5      x_s6  y_target  \n",
       "0   -0.002592  0.019907 -0.017646     151.0  \n",
       "1   -0.039493 -0.068332 -0.092204      75.0  \n",
       "2   -0.002592  0.002861 -0.025930     141.0  \n",
       "3    0.034309  0.022688 -0.009362     206.0  \n",
       "4   -0.002592 -0.031988 -0.046641     135.0  \n",
       "..        ...       ...       ...       ...  \n",
       "437 -0.002592  0.031193  0.007207     178.0  \n",
       "438  0.034309 -0.018114  0.044485     104.0  \n",
       "439 -0.011080 -0.046883  0.015491     132.0  \n",
       "440  0.026560  0.044529 -0.025930     220.0  \n",
       "441 -0.039493 -0.004222  0.003064      57.0  \n",
       "\n",
       "[442 rows x 11 columns]"
      ]
     },
     "execution_count": 3,
     "metadata": {},
     "output_type": "execute_result"
    }
   ],
   "source": [
    "feature = np.array(diabetes_df[['age', 'sex', 'bmi', 'bp', 's1', 's2', 's3', 's4', 's5', 's6']])\n",
    "target = np.array(diabetes_df[\"target\"])\n",
    "X=feature\n",
    "y=target\n",
    "X_y_df = pd.DataFrame(np.array(np.transpose([X[:,0],X[:,1],X[:,2],X[:,3],X[:,4],X[:,5],X[:,6],X[:,7],X[:,8],X[:,9], y])),\n",
    "columns=[\"x_age\", \"x_sex\", \"x_bmi\", \"x_bp\", \"x_s1\", \"x_s2\", \"x_s3\", \"x_s4\", \"x_s5\", \"x_s6\",\"y_target\"])\n",
    "X_y_df"
   ]
  },
  {
   "cell_type": "markdown",
   "id": "864ccb7c-dc4b-4748-8e66-ff2f9de1428b",
   "metadata": {},
   "source": [
    "# Multivariate Linear Regression\n",
    "(Split your dataset here)"
   ]
  },
  {
   "cell_type": "code",
   "execution_count": 4,
   "id": "aacb77e0",
   "metadata": {},
   "outputs": [],
   "source": [
    "#Spliting the dataset\n",
    "x_train, x_test, y_train, y_test = train_test_split(X,y, test_size=.2, random_state=0,shuffle=False)"
   ]
  },
  {
   "cell_type": "markdown",
   "id": "24f1cd1c-f781-4654-9a88-ccffdabf4c10",
   "metadata": {},
   "source": [
    "## Feature selection\n",
    "### Pearsons correlation\n",
    "#### Correlation matrix\n",
    "(Create coleration matrix here)"
   ]
  },
  {
   "cell_type": "code",
   "execution_count": 5,
   "id": "58ac7fbf",
   "metadata": {},
   "outputs": [
    {
     "data": {
      "image/png": "[encoded data removed]",
      "text/plain": [
       "<Figure size 864x720 with 2 Axes>"
      ]
     },
     "metadata": {
      "needs_background": "light"
     },
     "output_type": "display_data"
    }
   ],
   "source": [
    "#plot correlation matrix for all features\n",
    "import seaborn as sns\n",
    "import matplotlib.pyplot as plt \n",
    "\n",
    "plt.figure(figsize=(12,10))\n",
    "cor = X_y_df.corr()\n",
    "sns.heatmap(cor, annot=True, cmap=plt.cm.Reds)\n",
    "plt.show()"
   ]
  },
  {
   "cell_type": "markdown",
   "id": "8ee25e5c-259a-4b8e-94d1-2921ab709b37",
   "metadata": {},
   "source": [
    "#### Use pearsons correlation to get the best 5 features. Get mse and rsquared on the testing set"
   ]
  },
  {
   "cell_type": "code",
   "execution_count": 6,
   "id": "7b288b6e",
   "metadata": {},
   "outputs": [],
   "source": [
    "#Use pearsons correlation to get the best 5 features from our dataset\n",
    "#Use LinearRegression to train on the training set\n",
    "from sklearn.feature_selection import SelectKBest\n",
    "from sklearn.feature_selection import r_regression\n",
    "\n",
    "k_in = 5\n",
    "\n",
    "training_set_x = x_train\n",
    "training_set_y = y_train\n",
    "\n",
    "testing_set_x = x_test\n",
    "testing_set_y = y_test\n",
    "\n",
    "selector = SelectKBest(r_regression, k=k_in).fit(training_set_x, training_set_y)\n",
    "training_set_new = selector.transform(training_set_x)\n",
    "testing_set_new = selector.transform(testing_set_x)"
   ]
  },
  {
   "cell_type": "code",
   "execution_count": 7,
   "id": "89a7ff93",
   "metadata": {},
   "outputs": [
    {
     "name": "stdout",
     "output_type": "stream",
     "text": [
      "mse: 3146, r2: 0.5100859243647621\n"
     ]
    }
   ],
   "source": [
    "#Use LinearRegression to train on the training set \n",
    "from sklearn.linear_model import LinearRegression\n",
    "reg = LinearRegression().fit(training_set_new, training_set_y)\n",
    "h_w_x = reg.predict(testing_set_new)\n",
    "#get mse and rsquared on the testing set\n",
    "mse = mean_squared_error(testing_set_y, h_w_x)\n",
    "r2 = r2_score(testing_set_y, h_w_x)\n",
    "print(f\"mse: {math.floor(mse)}, r2: {r2}\")"
   ]
  },
  {
   "cell_type": "markdown",
   "id": "c7b2bda7-054a-4918-95e8-9c9059d90e85",
   "metadata": {},
   "source": [
    "##### Show which 5 features were selected"
   ]
  },
  {
   "cell_type": "code",
   "execution_count": 8,
   "id": "5af80580",
   "metadata": {},
   "outputs": [
    {
     "name": "stdout",
     "output_type": "stream",
     "text": [
      "Index(['x_s6', 'x_bp', 'x_s4', 'x_s5', 'x_bmi'], dtype='object')\n"
     ]
    }
   ],
   "source": [
    "import numpy as np\n",
    "selector.scores_\n",
    "top_n = np.argsort(selector.scores_)[-k_in:]\n",
    "print(X_y_df.iloc[:, top_n].columns)"
   ]
  },
  {
   "cell_type": "markdown",
   "id": "d00f1a60-d615-4e8d-a0bd-84dd5afa6f78",
   "metadata": {},
   "source": [
    "### Forward selection\n",
    "\n",
    "#### Use forward selection to get best features with a tol of 0.01 for mean squared error (Calculate mse and rsquared)"
   ]
  },
  {
   "cell_type": "code",
   "execution_count": 9,
   "id": "795525a8",
   "metadata": {},
   "outputs": [],
   "source": [
    "from sklearn.feature_selection import SequentialFeatureSelector\n",
    "from sklearn.linear_model import LinearRegression\n",
    "reg = LinearRegression()\n",
    "sfs = SequentialFeatureSelector(reg, n_features_to_select=\"auto\", scoring='neg_mean_squared_error', tol=0.01, direction='forward')\n",
    "sfs.fit(training_set_x, training_set_y)\n",
    "training_set_x_new1 = sfs.transform(training_set_x)\n",
    "testing_set_x_new1 = sfs.transform(testing_set_x)"
   ]
  },
  {
   "cell_type": "code",
   "execution_count": 10,
   "id": "1ac042e2",
   "metadata": {},
   "outputs": [
    {
     "name": "stdout",
     "output_type": "stream",
     "text": [
      "mse: 2957, r2: 0.5393933637112905\n"
     ]
    }
   ],
   "source": [
    "#Use LinearRegression to train on the training set \n",
    "h_w_x = reg.fit(training_set_x_new1, training_set_y).predict(testing_set_x_new1)\n",
    "#get mse and rsquared on the testing set\n",
    "mse = mean_squared_error(testing_set_y, h_w_x)\n",
    "r2 = r2_score(testing_set_y, h_w_x)\n",
    "print(f\"mse: {math.floor(mse)}, r2: {r2}\")"
   ]
  },
  {
   "cell_type": "markdown",
   "id": "2fd13582-8236-4b17-9a4f-346cd76f877f",
   "metadata": {},
   "source": [
    "##### Show which features were selected"
   ]
  },
  {
   "cell_type": "code",
   "execution_count": 11,
   "id": "1567cda2",
   "metadata": {},
   "outputs": [
    {
     "name": "stdout",
     "output_type": "stream",
     "text": [
      "Index(['x_sex', 'x_bmi', 'x_bp', 'x_s1', 'x_s4', 'x_s5'], dtype='object')\n"
     ]
    }
   ],
   "source": [
    "fs_indices = sfs.get_support(True)\n",
    "print(X_y_df.iloc[:, fs_indices].columns)"
   ]
  },
  {
   "cell_type": "markdown",
   "id": "5947d160-c64e-466a-b668-9997e611924b",
   "metadata": {},
   "source": [
    "### Backward selection\n",
    "#### Use backward selection to get best features with a tol of 0.01 for mean squared error (Calculate mse and rsquared)"
   ]
  },
  {
   "cell_type": "code",
   "execution_count": 12,
   "id": "90daa116",
   "metadata": {},
   "outputs": [],
   "source": [
    "reg = LinearRegression()\n",
    "sfs = SequentialFeatureSelector(reg, n_features_to_select=\"auto\", scoring='neg_mean_squared_error', tol=0.01, direction='backward')\n",
    "sfs.fit(training_set_x, training_set_y)\n",
    "training_set_x_new2 = sfs.transform(training_set_x)\n",
    "testing_set_x_new2 = sfs.transform(testing_set_x)"
   ]
  },
  {
   "cell_type": "code",
   "execution_count": 13,
   "id": "3df23beb",
   "metadata": {},
   "outputs": [
    {
     "name": "stdout",
     "output_type": "stream",
     "text": [
      "mse: 2957, r2: 0.5393933637112905\n"
     ]
    }
   ],
   "source": [
    "#Use LinearRegression to train on the training set \n",
    "h_w_x = reg.fit(training_set_x_new2, training_set_y).predict(testing_set_x_new2)\n",
    "#get mse and rsquared on the testing set\n",
    "mse = mean_squared_error(testing_set_y, h_w_x)\n",
    "r2 = r2_score(testing_set_y, h_w_x)\n",
    "print(f\"mse: {math.floor(mse)}, r2: {r2}\")"
   ]
  },
  {
   "cell_type": "markdown",
   "id": "e07f472a-81da-40d3-a2f4-d40912aefcc9",
   "metadata": {},
   "source": [
    "#### Show which features were selected"
   ]
  },
  {
   "cell_type": "code",
   "execution_count": 14,
   "id": "3d712bae",
   "metadata": {},
   "outputs": [
    {
     "name": "stdout",
     "output_type": "stream",
     "text": [
      "Index(['x_sex', 'x_bmi', 'x_bp', 'x_s1', 'x_s4', 'x_s5'], dtype='object')\n"
     ]
    }
   ],
   "source": [
    "fs_indices = sfs.get_support(True)\n",
    "print(X_y_df.iloc[:, fs_indices].columns)"
   ]
  },
  {
   "cell_type": "markdown",
   "id": "e4083c25-8d47-40bc-8390-00fc6e01e694",
   "metadata": {},
   "source": [
    "### Recursive Feature Elimination\n",
    "#### Use recursive feature elimination to get the best 5 features (Calculate mse and rsquared)"
   ]
  },
  {
   "cell_type": "code",
   "execution_count": 15,
   "id": "1e953c59",
   "metadata": {},
   "outputs": [],
   "source": [
    "from sklearn.feature_selection import RFE\n",
    "\n",
    "estimator = LinearRegression()\n",
    "selector = RFE(estimator, n_features_to_select=5, step=1)\n",
    "selector.fit(training_set_x, training_set_y)\n",
    "\n",
    "training_set_x_new3 = selector.transform(training_set_x)\n",
    "testing_set_x_new3= selector.transform(testing_set_x)"
   ]
  },
  {
   "cell_type": "code",
   "execution_count": 16,
   "id": "b94d16d6",
   "metadata": {},
   "outputs": [
    {
     "name": "stdout",
     "output_type": "stream",
     "text": [
      "mse: 2993, r2: 0.5338084065896036\n"
     ]
    }
   ],
   "source": [
    "#Use LinearRegression to train on the training set \n",
    "h_w_x = reg.fit(training_set_x_new3, training_set_y).predict(testing_set_x_new3)\n",
    "#get mse and rsquared on the testing set\n",
    "mse = mean_squared_error(testing_set_y, h_w_x)\n",
    "r2 = r2_score(testing_set_y, h_w_x)\n",
    "print(f\"mse: {math.floor(mse)}, r2: {r2}\")"
   ]
  },
  {
   "cell_type": "markdown",
   "id": "c48cb98b-baf7-48b9-ba2d-c65280b42796",
   "metadata": {},
   "source": [
    "##### Show which features were selected"
   ]
  },
  {
   "cell_type": "code",
   "execution_count": 17,
   "id": "1b716e3c",
   "metadata": {},
   "outputs": [
    {
     "name": "stdout",
     "output_type": "stream",
     "text": [
      "Index(['x_bmi', 'x_bp', 'x_s1', 'x_s2', 'x_s5'], dtype='object')\n"
     ]
    }
   ],
   "source": [
    "fs_indices = selector.get_support(True)\n",
    "print(X_y_df.iloc[:, fs_indices].columns)"
   ]
  },
  {
   "cell_type": "markdown",
   "id": "f10da98b-8769-488b-a61d-82aa3fecdd58",
   "metadata": {},
   "source": [
    "##### Show ranking of each feature in a dataframe"
   ]
  },
  {
   "cell_type": "code",
   "execution_count": 18,
   "id": "bcd42145",
   "metadata": {},
   "outputs": [
    {
     "data": {
      "text/html": [
       "<div>\n",
       "<style scoped>\n",
       "    .dataframe tbody tr th:only-of-type {\n",
       "        vertical-align: middle;\n",
       "    }\n",
       "\n",
       "    .dataframe tbody tr th {\n",
       "        vertical-align: top;\n",
       "    }\n",
       "\n",
       "    .dataframe thead th {\n",
       "        text-align: right;\n",
       "    }\n",
       "</style>\n",
       "<table border=\"1\" class=\"dataframe\">\n",
       "  <thead>\n",
       "    <tr style=\"text-align: right;\">\n",
       "      <th></th>\n",
       "      <th>features</th>\n",
       "      <th>rank</th>\n",
       "    </tr>\n",
       "  </thead>\n",
       "  <tbody>\n",
       "    <tr>\n",
       "      <th>2</th>\n",
       "      <td>x_bmi</td>\n",
       "      <td>1</td>\n",
       "    </tr>\n",
       "    <tr>\n",
       "      <th>3</th>\n",
       "      <td>x_bp</td>\n",
       "      <td>1</td>\n",
       "    </tr>\n",
       "    <tr>\n",
       "      <th>4</th>\n",
       "      <td>x_s1</td>\n",
       "      <td>1</td>\n",
       "    </tr>\n",
       "    <tr>\n",
       "      <th>5</th>\n",
       "      <td>x_s2</td>\n",
       "      <td>1</td>\n",
       "    </tr>\n",
       "    <tr>\n",
       "      <th>8</th>\n",
       "      <td>x_s5</td>\n",
       "      <td>1</td>\n",
       "    </tr>\n",
       "    <tr>\n",
       "      <th>1</th>\n",
       "      <td>x_sex</td>\n",
       "      <td>2</td>\n",
       "    </tr>\n",
       "    <tr>\n",
       "      <th>7</th>\n",
       "      <td>x_s4</td>\n",
       "      <td>3</td>\n",
       "    </tr>\n",
       "    <tr>\n",
       "      <th>9</th>\n",
       "      <td>x_s6</td>\n",
       "      <td>4</td>\n",
       "    </tr>\n",
       "    <tr>\n",
       "      <th>6</th>\n",
       "      <td>x_s3</td>\n",
       "      <td>5</td>\n",
       "    </tr>\n",
       "    <tr>\n",
       "      <th>0</th>\n",
       "      <td>x_age</td>\n",
       "      <td>6</td>\n",
       "    </tr>\n",
       "  </tbody>\n",
       "</table>\n",
       "</div>"
      ],
      "text/plain": [
       "  features  rank\n",
       "2    x_bmi     1\n",
       "3     x_bp     1\n",
       "4     x_s1     1\n",
       "5     x_s2     1\n",
       "8     x_s5     1\n",
       "1    x_sex     2\n",
       "7     x_s4     3\n",
       "9     x_s6     4\n",
       "6     x_s3     5\n",
       "0    x_age     6"
      ]
     },
     "execution_count": 18,
     "metadata": {},
     "output_type": "execute_result"
    }
   ],
   "source": [
    "import pandas as pd\n",
    "\n",
    "ranking_indices = selector.ranking_\n",
    "pd.DataFrame(list(zip(X_y_df.columns,ranking_indices)), columns=[\"features\",\"rank\"]).sort_values(by='rank',ascending=True)"
   ]
  },
  {
   "cell_type": "markdown",
   "id": "e2be6cfc-36b1-4b4b-92f4-0a1032dfc703",
   "metadata": {},
   "source": [
    "## Cross validation\n",
    "### Use shufflesplit cross validation,\n",
    " - Use LinearRegression \n",
    " - n_splits=4.\n",
    " - test size of 25%\n",
    "  (Calculate mse and rsquared for your testing sets). Write this in a for loop and print out your results for each test set"
   ]
  },
  {
   "cell_type": "code",
   "execution_count": 19,
   "id": "5f1456a3",
   "metadata": {
    "scrolled": false
   },
   "outputs": [
    {
     "name": "stdout",
     "output_type": "stream",
     "text": [
      "TRAIN: [ 20 353 281  14 300 240 175 405 153  75  64  55 135 329  81 316 369 328\n",
      " 414 421 361 415 232 224 252 254 418 106 278  63 336 378 387 430  89  93\n",
      " 245 272 241  92  18 145 150 322 393 297 231  66 380 412 140 101 345 247\n",
      " 363  17 146 315 220  30 114 235 103 219 274 176 191 116 168 367 120 218\n",
      " 112 303 136 308 221 126 196 332 424 133  33 419 162  34  44  97  85  61\n",
      " 167 199 173 229 236 433 376 250 108 407  46 357 372 263  73 137 422 246\n",
      " 253  29 181 374 301  51 365 391 217 432  27   2 259 156 255 417 346 138\n",
      " 212 104 310 306 311 215 348 189 214  35 230 204 234 293 239 210  67  24\n",
      " 295 216 223 129 111 166 349  40 317  79 431 350  13 364 436 228 161  83\n",
      " 439 416 110 149 152  16 299 109 312 139 237 260 318 355 248 342  19 269\n",
      " 226 340   3 309 125 280 286  77 184 354 420 275 294 384 182 395  80 307\n",
      " 258  11 331  86 266  36 423  58  41 270  50 209 352 351 368 123 222  62\n",
      " 379 130 187  23  43   0 201 377  98 304 429 178 256  94 409  95 390 169\n",
      "  69 305  48 341 207 279 227 148 143 334 180 356 131 425 440 262 324 203\n",
      "  84 121 383 406  91  82 267 119 358 291  57 321 257 394  42 105 408 273\n",
      " 392  38  53 385 128 290  28 183 370 163 151 244 202  31  32 127 185 413\n",
      " 288 398 402 147 285 410 177  99 338 335 197 243 115 404 265  72 333  25\n",
      " 165 337 426 174 428  39 193 314 396  88  70  87 292 242 277 211   9 359\n",
      " 195 251 323 192 117  47 172] \n",
      " TEST: [362 249 271 435 400 403  12 399 198 205  78 144 298 171 268  21 194   1\n",
      "  10 208  76  37 388 411 289 100 261 401 319 206 375 283 373 344 287 360\n",
      " 179 238 434 302 158 118 339 397 330 296 164  54 157  71 284   6 343 326\n",
      " 159  15 320  60 282 142  56 124 107 132 382 102 160 141 186 441  90  59\n",
      " 347 233 427  65 438 155 122 276 188  96 170 113 381 213 134  49  52  74\n",
      "  26  45 389 154   4 386 225 327 264   8 190   5 371 200 313   7 325 366\n",
      "  22  68 437]\n",
      "mse: 3180, r2: 0.3594088038177712\n",
      "TRAIN: [ 79  43 200 227  53 304   5 176 232 362 204 215 189 350 392 129 126  85\n",
      " 320  75 298 158 265 341 209   1 386 271 172 239 338 140 193 300 344 222\n",
      " 175 191 331 147 318 441 267 389  54  45 333 162 196 382  39 253 280  18\n",
      " 273 156 276  88  50  99 406  33 122 160 167 277 345 346  10 105  68 249\n",
      " 291 117 230 436 404 405   2   9 294 212 180 231 154  28  42  20 278  65\n",
      "  84 275 305  29 255 351  71  49 387 210 430 216 116  37 398  48 258 393\n",
      " 388 251 356 379  76  64 110  52 394 330 279 124  87 296  34 376 286 244\n",
      " 118  12 157 288 252 127 240 390 235 181 407 241 264  97 146 319 259 183\n",
      " 177  58 363 440 152 263  17 431 293 424 437 242 372 170 187  47 439 199\n",
      " 410  78 384 198 349 119 153 328  21 281 254 250 243 237  35  81 159 182\n",
      " 428 109 307 402  92 375 421 148  70 211 391 165 238 188 426 290 414 120\n",
      " 184 155 429 112 138 412  66 435 418 268 161 329 367 174 371 221 100 409\n",
      " 219 229 114 322 337 321 220  82 309 166 169  15 245 370   6 411 400 434\n",
      " 104 303  61 208 302  51  90 207  22 419 218  73 383 381 205   4 190 361\n",
      " 164 185 194 395  93 132 233 173 178 313 315 353 115  32 206 282 339  96\n",
      " 343 123 425  74  89  38 179 360   0  46 171 149   7 107 347 133 256 223\n",
      "  83 327 408 102 323 108 213 195 413 340 246  72  94 125 135 197 201 365\n",
      " 248 224  26 324 284 417 168 377 226   3 134 325 355 292 186  24 295 128\n",
      " 369 385 314 228 396 131 427] \n",
      " TEST: [ 91 310 438 306  25 130  31  60 432 150 143 299  41 415  86 289 336 364\n",
      " 151 260 422 136 423 142 287 352   8 297 285 274 103 106  69 269 113 397\n",
      "  77 312  55 348  11 101 420  95 316 334 163 236  27  23 202 111 326 358\n",
      " 139  14 137 332  44 308  57 272 261  98 373 416  56  16  67 366 203 301\n",
      " 399 357 311 283 380 266 359  36 217  19 374 121 317 403 247 225 234  80\n",
      "  59 214  63 141 335  30 354  40 192 368 145 433 342  13 262 257 378 144\n",
      " 270 401  62]\n",
      "mse: 2972, r2: 0.5335613748772718\n",
      "TRAIN: [298  39 202 269 399 121 386 309 287 250 174 141  67 416 120 201 275 432\n",
      "  14 142 114  30 188 322 219 124  12  50   9 246 128  35 224  80  36 273\n",
      " 184 433 212 422  61  92 109   0  40  75 336 140   7 387 291 359 126 214\n",
      " 429 156 425  56   8 327  86 335 421  27 178  37 118 404 371  32 233 361\n",
      "  90 333 381 198 350 360 274 211 143 379 411 276 228 408 192 303 337 135\n",
      " 312 400 255 158 329 323 441 375 364 319 292  68 138 221 402 155 310 241\n",
      "  99 290 127 366 160 325  34 149 260 168 162  74 409 390 420 280 166  20\n",
      "  17 369 194 343  41 208  57 256 177  49 193 392 377 210 413  95 431 373\n",
      " 203 407  44  91 245 235 332  71 296 378 304  28 326 307 195 222 424  70\n",
      " 105  10 173 396 283  79 229  64 150 242  83 300 330 172 288  33 347 257\n",
      " 144 237 295 281 315 316 299 305 213 106 131  15  73 419 284 181 129 187\n",
      " 191 103 123  60 434 354 357  78 285 437   3 236  82 206 102 185 388 324\n",
      " 252 436 311 205 113 362 249 179 263 180 334 271 133 258 122 259 218  16\n",
      "  51 427 344  89 262 301 351 397  25 406 438  97 372 226 111 196 389 183\n",
      " 244 418 145 170  21  98 175 154  81 267  77 339 439  24 132 265 370 340\n",
      " 207  88 163  38 405 164  59 117 100 294 261 266 264   2 426 338 356  96\n",
      " 182 423 199  48 282 119 391  11 395 365 278 239 403 374 110  43 368 401\n",
      " 297 101 435 134 345 217 410 367 293  87 384 200 279  65 157 167 355 272\n",
      " 216 382 165 238  94 225  29] \n",
      " TEST: [  6  31 171 321  54  52  72 240 331 268 314 348 277 223 342 136 148  55\n",
      " 440 169 358 353 243 197 363 414 186 385   5  93 417 306 317 286 227 270\n",
      " 146 159 247 107  46  22   4 116 393 215 176  84 161 346 220  63 125 320\n",
      " 231  45  62 328  23 104 398 308 130 190  69 209  42 383 251 108  18 302\n",
      " 139 313  53 349 152  47 380 430 352 318 248 253 189 412 428 232 137  26\n",
      " 204 254  85 112 147  76  19  66 394   1  13 415 115 234 289 376  58 151\n",
      " 153 341 230]\n",
      "mse: 3141, r2: 0.44082298859439684\n",
      "TRAIN: [371 226 103 281 418  11 293 258 265 161 179 124 246 306  41 127 175  39\n",
      " 267 309 283 295 186 347 245 239 383 321   5  58 400 290 423 269  91 376\n",
      " 299 305 152 191  74 189 216 136 131 221 296 333 144 230  19 126  36  54\n",
      "  67 396 139 338 115   9 416 187 251 113  79 218 182  82 431 151 163 249\n",
      "  70 300  32  66  85 262  92 237 287 122 357 421 193  38 167 362  17 425\n",
      "  42  52 335 429 238 274 104 255 277  59 156 322 159 397  37 356 140 271\n",
      " 282  46 190 331 375 365 236 364  95 128 291 125 253 373 183 212 328 110\n",
      " 355 343 223 387 342 348 206 318  15 214 257 141 353 276 155 138 310 326\n",
      "  40 174   4 204 165 219  88 382 208  94 433 278 272  31  49 340 205 406\n",
      " 394 121 146  78  83 378 386 188 286  89 109 132 248  26 177   7 380 150\n",
      " 298  93 242 195 323 313 392 325 388 436  97 171 349 270 227 176 228  73\n",
      "  72 241 160 312 345 154 192 260  51 441  87 288 308 119 143  56 120 391\n",
      " 346 407 266 339  86 409 133 202  28 198  29  81 181 317 142 413 316 196\n",
      " 358 315 247 170 360 332 261 137 102 399  22  62  45 273 384  61 250 307\n",
      " 319 184 402 304 437 285 327 147 232  27 130 106 289 197 367 111  21 210\n",
      " 424 428 351 422 430 243 203 410   2 280 341 435 363 408 372  64 211   8\n",
      " 434 234 112 336 412 301 354 275  43  96 178 108 438 100 153 199 129   1\n",
      "  71 420  69  99  48 374 417 370 252 213  68  65 244 284 369 225 231 377\n",
      " 389 350 432  77 411 215 337] \n",
      " TEST: [209 344  44 123 419 352   6 404 403   0 166  80  20 117 134   3 311 395\n",
      " 135 105 401 172 366 439  33 162 297 194 385  16 158 268  57 164 217 279\n",
      " 114  34 303  84 200 368 393 101 405 256 427  30 224  60  47 292 294 233\n",
      "  98  53 157 414 314  35 381 398 173 240 334 320 359 259 229  90  12  50\n",
      " 329  25 330  76 390 185  14 222 149 116 263 264 440 118  63  18 379 168\n",
      " 207 254 324  75 426 201  23 415 107 361  13 145 235 148  24 180  10  55\n",
      " 220 169 302]\n",
      "mse: 2599, r2: 0.5851401640675551\n"
     ]
    }
   ],
   "source": [
    "from pprint import pprint\n",
    "from sklearn.model_selection import ShuffleSplit\n",
    "rs = ShuffleSplit(n_splits=4, test_size=.25, random_state=0)\n",
    "\n",
    "for train_index, test_index in rs.split(X):\n",
    "    print(\"TRAIN:\", train_index,'\\n', \"TEST:\", test_index)\n",
    "    X_train, X_test = X[train_index], X[test_index]\n",
    "    y_train, y_test = y[train_index], y[test_index]\n",
    "    reg = LinearRegression().fit(X_train, y_train)\n",
    "    h_w_x = reg.predict(X_test)\n",
    "    mse = mean_squared_error(y_test, h_w_x)\n",
    "    r2 = r2_score(y_test, h_w_x)\n",
    "    print(f\"mse: {math.floor(mse)}, r2: {r2}\")\n",
    "    "
   ]
  },
  {
   "cell_type": "markdown",
   "id": "bda66bd5-f01c-4abd-92f1-e18bc716a450",
   "metadata": {},
   "source": [
    "# Regularized Linear Regression\n",
    "## Use RidgeCV class to find best aplha.(Calculate the mse and rsquared). Store and print best alpha found"
   ]
  },
  {
   "cell_type": "code",
   "execution_count": 20,
   "id": "1dc694f4",
   "metadata": {},
   "outputs": [
    {
     "name": "stdout",
     "output_type": "stream",
     "text": [
      "alpha: 0.1\n"
     ]
    }
   ],
   "source": [
    "#RidgeCV performs cross validaion using regularized linear regression to find the best alpha for our dataset\n",
    "from sklearn.linear_model import RidgeCV\n",
    "reg_cv = RidgeCV(alphas=[1e-3, 1e-2, 1e-1, 1]).fit(training_set_x, training_set_y)\n",
    "alpha = reg_cv.alpha_\n",
    "print(f\"alpha: {alpha}\")"
   ]
  },
  {
   "cell_type": "code",
   "execution_count": 21,
   "id": "fbed638e",
   "metadata": {},
   "outputs": [
    {
     "name": "stdout",
     "output_type": "stream",
     "text": [
      "mse: 3021.6221988663083, r2: 0.5294720600450111\n"
     ]
    }
   ],
   "source": [
    "h_w_x = reg_cv.predict(testing_set_x)\n",
    "mse = mean_squared_error(testing_set_y, h_w_x)\n",
    "r2 = r2_score(testing_set_y, h_w_x)\n",
    "print(f\"mse: {mse}, r2: {r2}\")"
   ]
  },
  {
   "cell_type": "markdown",
   "id": "cda71356-e53e-4c4c-a0e6-558aae3b875f",
   "metadata": {},
   "source": [
    "# Cross validation\n",
    "### Use shufflesplit cross validation with:\n",
    "    Ridge with the best alpha found,\n",
    "    n_splits=4.\n",
    "    test set size 0f 25%\n",
    "    (Calculate mse and rsquared for your testing sets). Write this in a for loop and print out your results for each test set"
   ]
  },
  {
   "cell_type": "code",
   "execution_count": 22,
   "id": "d4eac79f",
   "metadata": {
    "scrolled": false
   },
   "outputs": [
    {
     "name": "stdout",
     "output_type": "stream",
     "text": [
      "TRAIN: [ 20 353 281  14 300 240 175 405 153  75  64  55 135 329  81 316 369 328\n",
      " 414 421 361 415 232 224 252 254 418 106 278  63 336 378 387 430  89  93\n",
      " 245 272 241  92  18 145 150 322 393 297 231  66 380 412 140 101 345 247\n",
      " 363  17 146 315 220  30 114 235 103 219 274 176 191 116 168 367 120 218\n",
      " 112 303 136 308 221 126 196 332 424 133  33 419 162  34  44  97  85  61\n",
      " 167 199 173 229 236 433 376 250 108 407  46 357 372 263  73 137 422 246\n",
      " 253  29 181 374 301  51 365 391 217 432  27   2 259 156 255 417 346 138\n",
      " 212 104 310 306 311 215 348 189 214  35 230 204 234 293 239 210  67  24\n",
      " 295 216 223 129 111 166 349  40 317  79 431 350  13 364 436 228 161  83\n",
      " 439 416 110 149 152  16 299 109 312 139 237 260 318 355 248 342  19 269\n",
      " 226 340   3 309 125 280 286  77 184 354 420 275 294 384 182 395  80 307\n",
      " 258  11 331  86 266  36 423  58  41 270  50 209 352 351 368 123 222  62\n",
      " 379 130 187  23  43   0 201 377  98 304 429 178 256  94 409  95 390 169\n",
      "  69 305  48 341 207 279 227 148 143 334 180 356 131 425 440 262 324 203\n",
      "  84 121 383 406  91  82 267 119 358 291  57 321 257 394  42 105 408 273\n",
      " 392  38  53 385 128 290  28 183 370 163 151 244 202  31  32 127 185 413\n",
      " 288 398 402 147 285 410 177  99 338 335 197 243 115 404 265  72 333  25\n",
      " 165 337 426 174 428  39 193 314 396  88  70  87 292 242 277 211   9 359\n",
      " 195 251 323 192 117  47 172] \n",
      " TEST: [362 249 271 435 400 403  12 399 198 205  78 144 298 171 268  21 194   1\n",
      "  10 208  76  37 388 411 289 100 261 401 319 206 375 283 373 344 287 360\n",
      " 179 238 434 302 158 118 339 397 330 296 164  54 157  71 284   6 343 326\n",
      " 159  15 320  60 282 142  56 124 107 132 382 102 160 141 186 441  90  59\n",
      " 347 233 427  65 438 155 122 276 188  96 170 113 381 213 134  49  52  74\n",
      "  26  45 389 154   4 386 225 327 264   8 190   5 371 200 313   7 325 366\n",
      "  22  68 437]\n",
      "alpha:0.1, mse: 3132.4206030816895, r2: 0.3690250543749981\n",
      "TRAIN: [ 79  43 200 227  53 304   5 176 232 362 204 215 189 350 392 129 126  85\n",
      " 320  75 298 158 265 341 209   1 386 271 172 239 338 140 193 300 344 222\n",
      " 175 191 331 147 318 441 267 389  54  45 333 162 196 382  39 253 280  18\n",
      " 273 156 276  88  50  99 406  33 122 160 167 277 345 346  10 105  68 249\n",
      " 291 117 230 436 404 405   2   9 294 212 180 231 154  28  42  20 278  65\n",
      "  84 275 305  29 255 351  71  49 387 210 430 216 116  37 398  48 258 393\n",
      " 388 251 356 379  76  64 110  52 394 330 279 124  87 296  34 376 286 244\n",
      " 118  12 157 288 252 127 240 390 235 181 407 241 264  97 146 319 259 183\n",
      " 177  58 363 440 152 263  17 431 293 424 437 242 372 170 187  47 439 199\n",
      " 410  78 384 198 349 119 153 328  21 281 254 250 243 237  35  81 159 182\n",
      " 428 109 307 402  92 375 421 148  70 211 391 165 238 188 426 290 414 120\n",
      " 184 155 429 112 138 412  66 435 418 268 161 329 367 174 371 221 100 409\n",
      " 219 229 114 322 337 321 220  82 309 166 169  15 245 370   6 411 400 434\n",
      " 104 303  61 208 302  51  90 207  22 419 218  73 383 381 205   4 190 361\n",
      " 164 185 194 395  93 132 233 173 178 313 315 353 115  32 206 282 339  96\n",
      " 343 123 425  74  89  38 179 360   0  46 171 149   7 107 347 133 256 223\n",
      "  83 327 408 102 323 108 213 195 413 340 246  72  94 125 135 197 201 365\n",
      " 248 224  26 324 284 417 168 377 226   3 134 325 355 292 186  24 295 128\n",
      " 369 385 314 228 396 131 427] \n",
      " TEST: [ 91 310 438 306  25 130  31  60 432 150 143 299  41 415  86 289 336 364\n",
      " 151 260 422 136 423 142 287 352   8 297 285 274 103 106  69 269 113 397\n",
      "  77 312  55 348  11 101 420  95 316 334 163 236  27  23 202 111 326 358\n",
      " 139  14 137 332  44 308  57 272 261  98 373 416  56  16  67 366 203 301\n",
      " 399 357 311 283 380 266 359  36 217  19 374 121 317 403 247 225 234  80\n",
      "  59 214  63 141 335  30 354  40 192 368 145 433 342  13 262 257 378 144\n",
      " 270 401  62]\n",
      "alpha:0.1, mse: 2955.1781107873217, r2: 0.5363459179057739\n",
      "TRAIN: [298  39 202 269 399 121 386 309 287 250 174 141  67 416 120 201 275 432\n",
      "  14 142 114  30 188 322 219 124  12  50   9 246 128  35 224  80  36 273\n",
      " 184 433 212 422  61  92 109   0  40  75 336 140   7 387 291 359 126 214\n",
      " 429 156 425  56   8 327  86 335 421  27 178  37 118 404 371  32 233 361\n",
      "  90 333 381 198 350 360 274 211 143 379 411 276 228 408 192 303 337 135\n",
      " 312 400 255 158 329 323 441 375 364 319 292  68 138 221 402 155 310 241\n",
      "  99 290 127 366 160 325  34 149 260 168 162  74 409 390 420 280 166  20\n",
      "  17 369 194 343  41 208  57 256 177  49 193 392 377 210 413  95 431 373\n",
      " 203 407  44  91 245 235 332  71 296 378 304  28 326 307 195 222 424  70\n",
      " 105  10 173 396 283  79 229  64 150 242  83 300 330 172 288  33 347 257\n",
      " 144 237 295 281 315 316 299 305 213 106 131  15  73 419 284 181 129 187\n",
      " 191 103 123  60 434 354 357  78 285 437   3 236  82 206 102 185 388 324\n",
      " 252 436 311 205 113 362 249 179 263 180 334 271 133 258 122 259 218  16\n",
      "  51 427 344  89 262 301 351 397  25 406 438  97 372 226 111 196 389 183\n",
      " 244 418 145 170  21  98 175 154  81 267  77 339 439  24 132 265 370 340\n",
      " 207  88 163  38 405 164  59 117 100 294 261 266 264   2 426 338 356  96\n",
      " 182 423 199  48 282 119 391  11 395 365 278 239 403 374 110  43 368 401\n",
      " 297 101 435 134 345 217 410 367 293  87 384 200 279  65 157 167 355 272\n",
      " 216 382 165 238  94 225  29] \n",
      " TEST: [  6  31 171 321  54  52  72 240 331 268 314 348 277 223 342 136 148  55\n",
      " 440 169 358 353 243 197 363 414 186 385   5  93 417 306 317 286 227 270\n",
      " 146 159 247 107  46  22   4 116 393 215 176  84 161 346 220  63 125 320\n",
      " 231  45  62 328  23 104 398 308 130 190  69 209  42 383 251 108  18 302\n",
      " 139 313  53 349 152  47 380 430 352 318 248 253 189 412 428 232 137  26\n",
      " 204 254  85 112 147  76  19  66 394   1  13 415 115 234 289 376  58 151\n",
      " 153 341 230]\n",
      "alpha:0.1, mse: 3076.561872621673, r2: 0.45229638072511524\n",
      "TRAIN: [371 226 103 281 418  11 293 258 265 161 179 124 246 306  41 127 175  39\n",
      " 267 309 283 295 186 347 245 239 383 321   5  58 400 290 423 269  91 376\n",
      " 299 305 152 191  74 189 216 136 131 221 296 333 144 230  19 126  36  54\n",
      "  67 396 139 338 115   9 416 187 251 113  79 218 182  82 431 151 163 249\n",
      "  70 300  32  66  85 262  92 237 287 122 357 421 193  38 167 362  17 425\n",
      "  42  52 335 429 238 274 104 255 277  59 156 322 159 397  37 356 140 271\n",
      " 282  46 190 331 375 365 236 364  95 128 291 125 253 373 183 212 328 110\n",
      " 355 343 223 387 342 348 206 318  15 214 257 141 353 276 155 138 310 326\n",
      "  40 174   4 204 165 219  88 382 208  94 433 278 272  31  49 340 205 406\n",
      " 394 121 146  78  83 378 386 188 286  89 109 132 248  26 177   7 380 150\n",
      " 298  93 242 195 323 313 392 325 388 436  97 171 349 270 227 176 228  73\n",
      "  72 241 160 312 345 154 192 260  51 441  87 288 308 119 143  56 120 391\n",
      " 346 407 266 339  86 409 133 202  28 198  29  81 181 317 142 413 316 196\n",
      " 358 315 247 170 360 332 261 137 102 399  22  62  45 273 384  61 250 307\n",
      " 319 184 402 304 437 285 327 147 232  27 130 106 289 197 367 111  21 210\n",
      " 424 428 351 422 430 243 203 410   2 280 341 435 363 408 372  64 211   8\n",
      " 434 234 112 336 412 301 354 275  43  96 178 108 438 100 153 199 129   1\n",
      "  71 420  69  99  48 374 417 370 252 213  68  65 244 284 369 225 231 377\n",
      " 389 350 432  77 411 215 337] \n",
      " TEST: [209 344  44 123 419 352   6 404 403   0 166  80  20 117 134   3 311 395\n",
      " 135 105 401 172 366 439  33 162 297 194 385  16 158 268  57 164 217 279\n",
      " 114  34 303  84 200 368 393 101 405 256 427  30 224  60  47 292 294 233\n",
      "  98  53 157 414 314  35 381 398 173 240 334 320 359 259 229  90  12  50\n",
      " 329  25 330  76 390 185  14 222 149 116 263 264 440 118  63  18 379 168\n",
      " 207 254 324  75 426 201  23 415 107 361  13 145 235 148  24 180  10  55\n",
      " 220 169 302]\n",
      "alpha:0.1, mse: 2693.2597131951743, r2: 0.5701015212264238\n"
     ]
    }
   ],
   "source": [
    "rs = ShuffleSplit(n_splits=4, test_size=.25, random_state=0)\n",
    "\n",
    "for train_index, test_index in rs.split(X):\n",
    "    print(\"TRAIN:\", train_index,'\\n', \"TEST:\", test_index)\n",
    "    X_train, X_test = X[train_index], X[test_index]\n",
    "    y_train, y_test = y[train_index], y[test_index]\n",
    "    \n",
    "    reg = Ridge(alpha=alpha).fit(X_train, y_train)    \n",
    "    h_w_x = reg.predict(X_test)\n",
    "    mse = mean_squared_error(y_test, h_w_x)\n",
    "    r2 = r2_score(y_test, h_w_x)\n",
    "    print(f\"alpha:{alpha}, mse: {mse}, r2: {r2}\")"
   ]
  },
  {
   "cell_type": "markdown",
   "id": "0224a41f-96ef-4ca8-9f02-21c981928172",
   "metadata": {},
   "source": [
    "### Use shufflesplit cross validation with:\n",
    "    RidgeCV with the alphas [0.001, 0.01, 0.1, 1],\n",
    "    n_splits=4.\n",
    "    test set size 0f 25%\n",
    "    (Calculate mse and rsquared for your testing sets). Write this in a for loop and print out your results for each test set\n",
    "    Print the alpha picked after every calculation"
   ]
  },
  {
   "cell_type": "code",
   "execution_count": 23,
   "id": "9f0451fc",
   "metadata": {
    "scrolled": false
   },
   "outputs": [
    {
     "name": "stdout",
     "output_type": "stream",
     "text": [
      "TRAIN: [ 20 353 281  14 300 240 175 405 153  75  64  55 135 329  81 316 369 328\n",
      " 414 421 361 415 232 224 252 254 418 106 278  63 336 378 387 430  89  93\n",
      " 245 272 241  92  18 145 150 322 393 297 231  66 380 412 140 101 345 247\n",
      " 363  17 146 315 220  30 114 235 103 219 274 176 191 116 168 367 120 218\n",
      " 112 303 136 308 221 126 196 332 424 133  33 419 162  34  44  97  85  61\n",
      " 167 199 173 229 236 433 376 250 108 407  46 357 372 263  73 137 422 246\n",
      " 253  29 181 374 301  51 365 391 217 432  27   2 259 156 255 417 346 138\n",
      " 212 104 310 306 311 215 348 189 214  35 230 204 234 293 239 210  67  24\n",
      " 295 216 223 129 111 166 349  40 317  79 431 350  13 364 436 228 161  83\n",
      " 439 416 110 149 152  16 299 109 312 139 237 260 318 355 248 342  19 269\n",
      " 226 340   3 309 125 280 286  77 184 354 420 275 294 384 182 395  80 307\n",
      " 258  11 331  86 266  36 423  58  41 270  50 209 352 351 368 123 222  62\n",
      " 379 130 187  23  43   0 201 377  98 304 429 178 256  94 409  95 390 169\n",
      "  69 305  48 341 207 279 227 148 143 334 180 356 131 425 440 262 324 203\n",
      "  84 121 383 406  91  82 267 119 358 291  57 321 257 394  42 105 408 273\n",
      " 392  38  53 385 128 290  28 183 370 163 151 244 202  31  32 127 185 413\n",
      " 288 398 402 147 285 410 177  99 338 335 197 243 115 404 265  72 333  25\n",
      " 165 337 426 174 428  39 193 314 396  88  70  87 292 242 277 211   9 359\n",
      " 195 251 323 192 117  47 172] \n",
      " TEST: [362 249 271 435 400 403  12 399 198 205  78 144 298 171 268  21 194   1\n",
      "  10 208  76  37 388 411 289 100 261 401 319 206 375 283 373 344 287 360\n",
      " 179 238 434 302 158 118 339 397 330 296 164  54 157  71 284   6 343 326\n",
      " 159  15 320  60 282 142  56 124 107 132 382 102 160 141 186 441  90  59\n",
      " 347 233 427  65 438 155 122 276 188  96 170 113 381 213 134  49  52  74\n",
      "  26  45 389 154   4 386 225 327 264   8 190   5 371 200 313   7 325 366\n",
      "  22  68 437]\n",
      "alpha: 0.1, mse: 3132.420603081696, r2: 0.3690250543749969\n",
      "TRAIN: [ 79  43 200 227  53 304   5 176 232 362 204 215 189 350 392 129 126  85\n",
      " 320  75 298 158 265 341 209   1 386 271 172 239 338 140 193 300 344 222\n",
      " 175 191 331 147 318 441 267 389  54  45 333 162 196 382  39 253 280  18\n",
      " 273 156 276  88  50  99 406  33 122 160 167 277 345 346  10 105  68 249\n",
      " 291 117 230 436 404 405   2   9 294 212 180 231 154  28  42  20 278  65\n",
      "  84 275 305  29 255 351  71  49 387 210 430 216 116  37 398  48 258 393\n",
      " 388 251 356 379  76  64 110  52 394 330 279 124  87 296  34 376 286 244\n",
      " 118  12 157 288 252 127 240 390 235 181 407 241 264  97 146 319 259 183\n",
      " 177  58 363 440 152 263  17 431 293 424 437 242 372 170 187  47 439 199\n",
      " 410  78 384 198 349 119 153 328  21 281 254 250 243 237  35  81 159 182\n",
      " 428 109 307 402  92 375 421 148  70 211 391 165 238 188 426 290 414 120\n",
      " 184 155 429 112 138 412  66 435 418 268 161 329 367 174 371 221 100 409\n",
      " 219 229 114 322 337 321 220  82 309 166 169  15 245 370   6 411 400 434\n",
      " 104 303  61 208 302  51  90 207  22 419 218  73 383 381 205   4 190 361\n",
      " 164 185 194 395  93 132 233 173 178 313 315 353 115  32 206 282 339  96\n",
      " 343 123 425  74  89  38 179 360   0  46 171 149   7 107 347 133 256 223\n",
      "  83 327 408 102 323 108 213 195 413 340 246  72  94 125 135 197 201 365\n",
      " 248 224  26 324 284 417 168 377 226   3 134 325 355 292 186  24 295 128\n",
      " 369 385 314 228 396 131 427] \n",
      " TEST: [ 91 310 438 306  25 130  31  60 432 150 143 299  41 415  86 289 336 364\n",
      " 151 260 422 136 423 142 287 352   8 297 285 274 103 106  69 269 113 397\n",
      "  77 312  55 348  11 101 420  95 316 334 163 236  27  23 202 111 326 358\n",
      " 139  14 137 332  44 308  57 272 261  98 373 416  56  16  67 366 203 301\n",
      " 399 357 311 283 380 266 359  36 217  19 374 121 317 403 247 225 234  80\n",
      "  59 214  63 141 335  30 354  40 192 368 145 433 342  13 262 257 378 144\n",
      " 270 401  62]\n",
      "alpha: 0.01, mse: 2960.43574571517, r2: 0.5355210187609272\n",
      "TRAIN: [298  39 202 269 399 121 386 309 287 250 174 141  67 416 120 201 275 432\n",
      "  14 142 114  30 188 322 219 124  12  50   9 246 128  35 224  80  36 273\n",
      " 184 433 212 422  61  92 109   0  40  75 336 140   7 387 291 359 126 214\n",
      " 429 156 425  56   8 327  86 335 421  27 178  37 118 404 371  32 233 361\n",
      "  90 333 381 198 350 360 274 211 143 379 411 276 228 408 192 303 337 135\n",
      " 312 400 255 158 329 323 441 375 364 319 292  68 138 221 402 155 310 241\n",
      "  99 290 127 366 160 325  34 149 260 168 162  74 409 390 420 280 166  20\n",
      "  17 369 194 343  41 208  57 256 177  49 193 392 377 210 413  95 431 373\n",
      " 203 407  44  91 245 235 332  71 296 378 304  28 326 307 195 222 424  70\n",
      " 105  10 173 396 283  79 229  64 150 242  83 300 330 172 288  33 347 257\n",
      " 144 237 295 281 315 316 299 305 213 106 131  15  73 419 284 181 129 187\n",
      " 191 103 123  60 434 354 357  78 285 437   3 236  82 206 102 185 388 324\n",
      " 252 436 311 205 113 362 249 179 263 180 334 271 133 258 122 259 218  16\n",
      "  51 427 344  89 262 301 351 397  25 406 438  97 372 226 111 196 389 183\n",
      " 244 418 145 170  21  98 175 154  81 267  77 339 439  24 132 265 370 340\n",
      " 207  88 163  38 405 164  59 117 100 294 261 266 264   2 426 338 356  96\n",
      " 182 423 199  48 282 119 391  11 395 365 278 239 403 374 110  43 368 401\n",
      " 297 101 435 134 345 217 410 367 293  87 384 200 279  65 157 167 355 272\n",
      " 216 382 165 238  94 225  29] \n",
      " TEST: [  6  31 171 321  54  52  72 240 331 268 314 348 277 223 342 136 148  55\n",
      " 440 169 358 353 243 197 363 414 186 385   5  93 417 306 317 286 227 270\n",
      " 146 159 247 107  46  22   4 116 393 215 176  84 161 346 220  63 125 320\n",
      " 231  45  62 328  23 104 398 308 130 190  69 209  42 383 251 108  18 302\n",
      " 139 313  53 349 152  47 380 430 352 318 248 253 189 412 428 232 137  26\n",
      " 204 254  85 112 147  76  19  66 394   1  13 415 115 234 289 376  58 151\n",
      " 153 341 230]\n",
      "alpha: 0.1, mse: 3076.561872621673, r2: 0.45229638072511524\n",
      "TRAIN: [371 226 103 281 418  11 293 258 265 161 179 124 246 306  41 127 175  39\n",
      " 267 309 283 295 186 347 245 239 383 321   5  58 400 290 423 269  91 376\n",
      " 299 305 152 191  74 189 216 136 131 221 296 333 144 230  19 126  36  54\n",
      "  67 396 139 338 115   9 416 187 251 113  79 218 182  82 431 151 163 249\n",
      "  70 300  32  66  85 262  92 237 287 122 357 421 193  38 167 362  17 425\n",
      "  42  52 335 429 238 274 104 255 277  59 156 322 159 397  37 356 140 271\n",
      " 282  46 190 331 375 365 236 364  95 128 291 125 253 373 183 212 328 110\n",
      " 355 343 223 387 342 348 206 318  15 214 257 141 353 276 155 138 310 326\n",
      "  40 174   4 204 165 219  88 382 208  94 433 278 272  31  49 340 205 406\n",
      " 394 121 146  78  83 378 386 188 286  89 109 132 248  26 177   7 380 150\n",
      " 298  93 242 195 323 313 392 325 388 436  97 171 349 270 227 176 228  73\n",
      "  72 241 160 312 345 154 192 260  51 441  87 288 308 119 143  56 120 391\n",
      " 346 407 266 339  86 409 133 202  28 198  29  81 181 317 142 413 316 196\n",
      " 358 315 247 170 360 332 261 137 102 399  22  62  45 273 384  61 250 307\n",
      " 319 184 402 304 437 285 327 147 232  27 130 106 289 197 367 111  21 210\n",
      " 424 428 351 422 430 243 203 410   2 280 341 435 363 408 372  64 211   8\n",
      " 434 234 112 336 412 301 354 275  43  96 178 108 438 100 153 199 129   1\n",
      "  71 420  69  99  48 374 417 370 252 213  68  65 244 284 369 225 231 377\n",
      " 389 350 432  77 411 215 337] \n",
      " TEST: [209 344  44 123 419 352   6 404 403   0 166  80  20 117 134   3 311 395\n",
      " 135 105 401 172 366 439  33 162 297 194 385  16 158 268  57 164 217 279\n",
      " 114  34 303  84 200 368 393 101 405 256 427  30 224  60  47 292 294 233\n",
      "  98  53 157 414 314  35 381 398 173 240 334 320 359 259 229  90  12  50\n",
      " 329  25 330  76 390 185  14 222 149 116 263 264 440 118  63  18 379 168\n",
      " 207 254 324  75 426 201  23 415 107 361  13 145 235 148  24 180  10  55\n",
      " 220 169 302]\n",
      "alpha: 0.1, mse: 2693.2597131951843, r2: 0.5701015212264222\n"
     ]
    }
   ],
   "source": [
    "rs = ShuffleSplit(n_splits=4, test_size=.25, random_state=0)\n",
    "\n",
    "for train_index, test_index in rs.split(X):\n",
    "    print(\"TRAIN:\", train_index,'\\n', \"TEST:\", test_index)\n",
    "    X_train, X_test = X[train_index], X[test_index]\n",
    "    y_train, y_test = y[train_index], y[test_index]\n",
    "    reg_cv = RidgeCV(alphas=[0.001, 0.01, 0.1, 1]).fit(X_train, y_train)\n",
    "    alpha = reg_cv.alpha_\n",
    "    h_w_x = reg_cv.predict(X_test)\n",
    "    mse = mean_squared_error(y_test, h_w_x)\n",
    "    r2 = r2_score(y_test, h_w_x)\n",
    "    print(f\"alpha: {alpha}, mse: {mse}, r2: {r2}\")"
   ]
  },
  {
   "cell_type": "markdown",
   "id": "a553b744-8863-441a-96bb-bb7c452c4c5c",
   "metadata": {},
   "source": [
    "## Learning Curves\n",
    "### Plot your training mse and testing mse over increasing examples"
   ]
  },
  {
   "cell_type": "code",
   "execution_count": 24,
   "id": "d74af654",
   "metadata": {},
   "outputs": [
    {
     "data": {
      "image/png": "[encoded data removed]",
      "text/plain": [
       "<Figure size 432x288 with 1 Axes>"
      ]
     },
     "metadata": {
      "needs_background": "light"
     },
     "output_type": "display_data"
    }
   ],
   "source": [
    "holder_m_mse_train = {}\n",
    "holder_m_mse_test = {}\n",
    "from sklearn.linear_model import RidgeCV\n",
    "from sklearn.metrics import mean_squared_error\n",
    "for i in range(1, len(training_set_x)+1):\n",
    "    if i == 1:\n",
    "        reg_cv = Ridge(alpha=alpha).fit(training_set_x[:i,:].reshape(1, -1), training_set_y[:i])\n",
    "        train_mse = mean_squared_error(training_set_y[:i].reshape(1, -1), reg_cv.predict(training_set_x[:i,:].reshape(1, -1)))\n",
    "        test_mse = mean_squared_error(testing_set_y, reg_cv.predict(testing_set_x))\n",
    "\n",
    "    else:\n",
    "        reg_cv = Ridge(alpha=alpha).fit(training_set_x[:i,:], training_set_y[:i])\n",
    "        train_mse = mean_squared_error(training_set_y[:i], reg_cv.predict(training_set_x[:i,:]))\n",
    "        test_mse = mean_squared_error(testing_set_y, reg_cv.predict(testing_set_x))\n",
    "        \n",
    "    holder_m_mse_train[i] = train_mse\n",
    "    holder_m_mse_test[i] = test_mse\n",
    "\n",
    "lists_train = sorted(holder_m_mse_train.items()) # sorted by key, return a list of tuples\n",
    "lists_test = sorted(holder_m_mse_test.items())\n",
    "\n",
    "x_train, y_train = zip(*lists_train) # unpack a list of pairs into two tuples\n",
    "x_test, y_test = zip(*lists_test)\n",
    "\n",
    "plt.plot(x_train, y_train, color=\"blue\")\n",
    "plt.plot(x_test, y_test, color=\"red\")\n",
    "plt.show()"
   ]
  },
  {
   "cell_type": "markdown",
   "id": "9d124b4b-7ec5-4dae-bcfb-744440d5b718",
   "metadata": {},
   "source": [
    "# Lasso\n",
    "## Use LassoCV class to find best aplha.(Calculate the mse and rsquared). Store and Print best alpha found"
   ]
  },
  {
   "cell_type": "code",
   "execution_count": 25,
   "id": "02942999",
   "metadata": {},
   "outputs": [
    {
     "data": {
      "text/plain": [
       "array([184.85004695, 206.2168507 , 131.24027684, 101.55555757,\n",
       "       199.8018753 ,  60.67634098, 169.26573048, 185.75504745,\n",
       "       119.42174277, 223.99690735, 157.47597208, 156.48169141,\n",
       "       158.09674622, 253.73252904, 254.09365741, 199.77526913,\n",
       "       177.93400665,  66.93087885, 211.66343981, 114.97897495,\n",
       "       135.62494374, 123.24211203, 175.64508857, 214.44259865,\n",
       "       166.86606061, 163.78354135, 124.06859139, 166.18539127,\n",
       "        80.50979759, 249.70327575, 117.97682684, 127.72297565,\n",
       "       134.63879878, 109.32145027, 102.71988864, 161.18448725,\n",
       "        89.26366945, 258.09605623,  61.44188668, 106.88171852,\n",
       "       103.11788613, 264.04761928, 164.03466323,  72.46698582,\n",
       "       174.41383462, 176.96950435, 189.79435544, 172.76231694,\n",
       "        89.75411519, 144.30776916, 244.71937047, 189.70603481,\n",
       "       262.67467291,  58.79790533, 175.89401958, 193.51110647,\n",
       "       171.77041346, 166.37440375, 151.28839245, 220.72725384,\n",
       "       124.91149354, 174.71607915, 166.91245003, 214.49188517,\n",
       "       153.94562098, 110.28873608,  82.94130184, 136.56466676,\n",
       "       189.849178  , 205.70969656, 149.41491651, 168.18452702,\n",
       "       107.07132123, 162.46739953, 129.0956356 , 252.18417645,\n",
       "       108.24518193, 117.66092642, 120.44793629, 216.44568461,\n",
       "        67.86108833, 134.37814297, 121.55352005,  59.18131601,\n",
       "       190.1173778 , 115.54936696, 124.35690999, 205.64970774,\n",
       "        59.91777425])"
      ]
     },
     "execution_count": 25,
     "metadata": {},
     "output_type": "execute_result"
    }
   ],
   "source": [
    "from sklearn.linear_model import LassoCV\n",
    "lasso_cv = LassoCV(alphas=[1e-3, 1e-2, 1e-1, 1]).fit(training_set_x, training_set_y)\n",
    "lasso_cv.predict(testing_set_x)"
   ]
  },
  {
   "cell_type": "code",
   "execution_count": 26,
   "id": "037a6070",
   "metadata": {},
   "outputs": [
    {
     "name": "stdout",
     "output_type": "stream",
     "text": [
      "Best alpha:  0.1\n"
     ]
    }
   ],
   "source": [
    "alpha = lasso_cv.alpha_\n",
    "print(\"Best alpha: \", alpha)"
   ]
  },
  {
   "cell_type": "code",
   "execution_count": 27,
   "id": "c34c09e6",
   "metadata": {},
   "outputs": [
    {
     "name": "stdout",
     "output_type": "stream",
     "text": [
      "mse: 3020.901237350059, r2: 0.529584328394494\n"
     ]
    }
   ],
   "source": [
    "#Calculate the mse and rsquared on the testing sets\n",
    "lasso= Lasso(alpha=alpha).fit(training_set_x, training_set_y)\n",
    "h_w_x =lasso.predict(testing_set_x)\n",
    " \n",
    "mse = mean_squared_error(testing_set_y, h_w_x)\n",
    "r2 = r2_score(testing_set_y, h_w_x)\n",
    "print(f\"mse: {mse}, r2: {r2}\")"
   ]
  },
  {
   "cell_type": "markdown",
   "id": "21154f28-b715-403e-bbdc-f6b2098265aa",
   "metadata": {},
   "source": [
    "### Figure out which features were selected by Lasso"
   ]
  },
  {
   "cell_type": "code",
   "execution_count": 28,
   "id": "8b795e84",
   "metadata": {},
   "outputs": [
    {
     "name": "stdout",
     "output_type": "stream",
     "text": [
      "Index(['x_sex', 'x_bmi', 'x_bp', 'x_s2', 'x_s3', 'x_s5', 'x_s6'], dtype='object')\n"
     ]
    },
    {
     "data": {
      "text/plain": [
       "array([1, 2, 3, 5, 6, 8, 9], dtype=int64)"
      ]
     },
     "execution_count": 28,
     "metadata": {},
     "output_type": "execute_result"
    }
   ],
   "source": [
    "lasso_indices = np.nonzero(lasso_cv.coef_)\n",
    "print(X_y_df.iloc[:, lasso_indices[0]].columns)\n",
    "lasso_indices[0]"
   ]
  },
  {
   "cell_type": "markdown",
   "id": "445d0e53-09fa-4fc8-8dcc-750d1ae85d86",
   "metadata": {},
   "source": [
    "### Use shufflesplit cross validation with:\n",
    "    regular Lasso with the best alpaha you got,\n",
    "    n_splits=4.\n",
    "    test set size 0f 25%\n",
    "    (Calculate mse and rsquared for your testing sets). Write this in a for loop and print out your results for each test set"
   ]
  },
  {
   "cell_type": "code",
   "execution_count": 29,
   "id": "4cc40a28",
   "metadata": {
    "scrolled": false
   },
   "outputs": [
    {
     "name": "stdout",
     "output_type": "stream",
     "text": [
      "TRAIN: [ 20 353 281  14 300 240 175 405 153  75  64  55 135 329  81 316 369 328\n",
      " 414 421 361 415 232 224 252 254 418 106 278  63 336 378 387 430  89  93\n",
      " 245 272 241  92  18 145 150 322 393 297 231  66 380 412 140 101 345 247\n",
      " 363  17 146 315 220  30 114 235 103 219 274 176 191 116 168 367 120 218\n",
      " 112 303 136 308 221 126 196 332 424 133  33 419 162  34  44  97  85  61\n",
      " 167 199 173 229 236 433 376 250 108 407  46 357 372 263  73 137 422 246\n",
      " 253  29 181 374 301  51 365 391 217 432  27   2 259 156 255 417 346 138\n",
      " 212 104 310 306 311 215 348 189 214  35 230 204 234 293 239 210  67  24\n",
      " 295 216 223 129 111 166 349  40 317  79 431 350  13 364 436 228 161  83\n",
      " 439 416 110 149 152  16 299 109 312 139 237 260 318 355 248 342  19 269\n",
      " 226 340   3 309 125 280 286  77 184 354 420 275 294 384 182 395  80 307\n",
      " 258  11 331  86 266  36 423  58  41 270  50 209 352 351 368 123 222  62\n",
      " 379 130 187  23  43   0 201 377  98 304 429 178 256  94 409  95 390 169\n",
      "  69 305  48 341 207 279 227 148 143 334 180 356 131 425 440 262 324 203\n",
      "  84 121 383 406  91  82 267 119 358 291  57 321 257 394  42 105 408 273\n",
      " 392  38  53 385 128 290  28 183 370 163 151 244 202  31  32 127 185 413\n",
      " 288 398 402 147 285 410 177  99 338 335 197 243 115 404 265  72 333  25\n",
      " 165 337 426 174 428  39 193 314 396  88  70  87 292 242 277 211   9 359\n",
      " 195 251 323 192 117  47 172] \n",
      " TEST: [362 249 271 435 400 403  12 399 198 205  78 144 298 171 268  21 194   1\n",
      "  10 208  76  37 388 411 289 100 261 401 319 206 375 283 373 344 287 360\n",
      " 179 238 434 302 158 118 339 397 330 296 164  54 157  71 284   6 343 326\n",
      " 159  15 320  60 282 142  56 124 107 132 382 102 160 141 186 441  90  59\n",
      " 347 233 427  65 438 155 122 276 188  96 170 113 381 213 134  49  52  74\n",
      "  26  45 389 154   4 386 225 327 264   8 190   5 371 200 313   7 325 366\n",
      "  22  68 437]\n",
      "alpha: 0.1, mse: 3202.0167649897953, r2: 0.3550060447846277\n",
      "TRAIN: [ 79  43 200 227  53 304   5 176 232 362 204 215 189 350 392 129 126  85\n",
      " 320  75 298 158 265 341 209   1 386 271 172 239 338 140 193 300 344 222\n",
      " 175 191 331 147 318 441 267 389  54  45 333 162 196 382  39 253 280  18\n",
      " 273 156 276  88  50  99 406  33 122 160 167 277 345 346  10 105  68 249\n",
      " 291 117 230 436 404 405   2   9 294 212 180 231 154  28  42  20 278  65\n",
      "  84 275 305  29 255 351  71  49 387 210 430 216 116  37 398  48 258 393\n",
      " 388 251 356 379  76  64 110  52 394 330 279 124  87 296  34 376 286 244\n",
      " 118  12 157 288 252 127 240 390 235 181 407 241 264  97 146 319 259 183\n",
      " 177  58 363 440 152 263  17 431 293 424 437 242 372 170 187  47 439 199\n",
      " 410  78 384 198 349 119 153 328  21 281 254 250 243 237  35  81 159 182\n",
      " 428 109 307 402  92 375 421 148  70 211 391 165 238 188 426 290 414 120\n",
      " 184 155 429 112 138 412  66 435 418 268 161 329 367 174 371 221 100 409\n",
      " 219 229 114 322 337 321 220  82 309 166 169  15 245 370   6 411 400 434\n",
      " 104 303  61 208 302  51  90 207  22 419 218  73 383 381 205   4 190 361\n",
      " 164 185 194 395  93 132 233 173 178 313 315 353 115  32 206 282 339  96\n",
      " 343 123 425  74  89  38 179 360   0  46 171 149   7 107 347 133 256 223\n",
      "  83 327 408 102 323 108 213 195 413 340 246  72  94 125 135 197 201 365\n",
      " 248 224  26 324 284 417 168 377 226   3 134 325 355 292 186  24 295 128\n",
      " 369 385 314 228 396 131 427] \n",
      " TEST: [ 91 310 438 306  25 130  31  60 432 150 143 299  41 415  86 289 336 364\n",
      " 151 260 422 136 423 142 287 352   8 297 285 274 103 106  69 269 113 397\n",
      "  77 312  55 348  11 101 420  95 316 334 163 236  27  23 202 111 326 358\n",
      " 139  14 137 332  44 308  57 272 261  98 373 416  56  16  67 366 203 301\n",
      " 399 357 311 283 380 266 359  36 217  19 374 121 317 403 247 225 234  80\n",
      "  59 214  63 141 335  30 354  40 192 368 145 433 342  13 262 257 378 144\n",
      " 270 401  62]\n",
      "alpha: 0.1, mse: 3018.149075374345, r2: 0.5264660583204558\n",
      "TRAIN: [298  39 202 269 399 121 386 309 287 250 174 141  67 416 120 201 275 432\n",
      "  14 142 114  30 188 322 219 124  12  50   9 246 128  35 224  80  36 273\n",
      " 184 433 212 422  61  92 109   0  40  75 336 140   7 387 291 359 126 214\n",
      " 429 156 425  56   8 327  86 335 421  27 178  37 118 404 371  32 233 361\n",
      "  90 333 381 198 350 360 274 211 143 379 411 276 228 408 192 303 337 135\n",
      " 312 400 255 158 329 323 441 375 364 319 292  68 138 221 402 155 310 241\n",
      "  99 290 127 366 160 325  34 149 260 168 162  74 409 390 420 280 166  20\n",
      "  17 369 194 343  41 208  57 256 177  49 193 392 377 210 413  95 431 373\n",
      " 203 407  44  91 245 235 332  71 296 378 304  28 326 307 195 222 424  70\n",
      " 105  10 173 396 283  79 229  64 150 242  83 300 330 172 288  33 347 257\n",
      " 144 237 295 281 315 316 299 305 213 106 131  15  73 419 284 181 129 187\n",
      " 191 103 123  60 434 354 357  78 285 437   3 236  82 206 102 185 388 324\n",
      " 252 436 311 205 113 362 249 179 263 180 334 271 133 258 122 259 218  16\n",
      "  51 427 344  89 262 301 351 397  25 406 438  97 372 226 111 196 389 183\n",
      " 244 418 145 170  21  98 175 154  81 267  77 339 439  24 132 265 370 340\n",
      " 207  88 163  38 405 164  59 117 100 294 261 266 264   2 426 338 356  96\n",
      " 182 423 199  48 282 119 391  11 395 365 278 239 403 374 110  43 368 401\n",
      " 297 101 435 134 345 217 410 367 293  87 384 200 279  65 157 167 355 272\n",
      " 216 382 165 238  94 225  29] \n",
      " TEST: [  6  31 171 321  54  52  72 240 331 268 314 348 277 223 342 136 148  55\n",
      " 440 169 358 353 243 197 363 414 186 385   5  93 417 306 317 286 227 270\n",
      " 146 159 247 107  46  22   4 116 393 215 176  84 161 346 220  63 125 320\n",
      " 231  45  62 328  23 104 398 308 130 190  69 209  42 383 251 108  18 302\n",
      " 139 313  53 349 152  47 380 430 352 318 248 253 189 412 428 232 137  26\n",
      " 204 254  85 112 147  76  19  66 394   1  13 415 115 234 289 376  58 151\n",
      " 153 341 230]\n",
      "alpha: 0.1, mse: 3112.720543623065, r2: 0.44585924869410676\n",
      "TRAIN: [371 226 103 281 418  11 293 258 265 161 179 124 246 306  41 127 175  39\n",
      " 267 309 283 295 186 347 245 239 383 321   5  58 400 290 423 269  91 376\n",
      " 299 305 152 191  74 189 216 136 131 221 296 333 144 230  19 126  36  54\n",
      "  67 396 139 338 115   9 416 187 251 113  79 218 182  82 431 151 163 249\n",
      "  70 300  32  66  85 262  92 237 287 122 357 421 193  38 167 362  17 425\n",
      "  42  52 335 429 238 274 104 255 277  59 156 322 159 397  37 356 140 271\n",
      " 282  46 190 331 375 365 236 364  95 128 291 125 253 373 183 212 328 110\n",
      " 355 343 223 387 342 348 206 318  15 214 257 141 353 276 155 138 310 326\n",
      "  40 174   4 204 165 219  88 382 208  94 433 278 272  31  49 340 205 406\n",
      " 394 121 146  78  83 378 386 188 286  89 109 132 248  26 177   7 380 150\n",
      " 298  93 242 195 323 313 392 325 388 436  97 171 349 270 227 176 228  73\n",
      "  72 241 160 312 345 154 192 260  51 441  87 288 308 119 143  56 120 391\n",
      " 346 407 266 339  86 409 133 202  28 198  29  81 181 317 142 413 316 196\n",
      " 358 315 247 170 360 332 261 137 102 399  22  62  45 273 384  61 250 307\n",
      " 319 184 402 304 437 285 327 147 232  27 130 106 289 197 367 111  21 210\n",
      " 424 428 351 422 430 243 203 410   2 280 341 435 363 408 372  64 211   8\n",
      " 434 234 112 336 412 301 354 275  43  96 178 108 438 100 153 199 129   1\n",
      "  71 420  69  99  48 374 417 370 252 213  68  65 244 284 369 225 231 377\n",
      " 389 350 432  77 411 215 337] \n",
      " TEST: [209 344  44 123 419 352   6 404 403   0 166  80  20 117 134   3 311 395\n",
      " 135 105 401 172 366 439  33 162 297 194 385  16 158 268  57 164 217 279\n",
      " 114  34 303  84 200 368 393 101 405 256 427  30 224  60  47 292 294 233\n",
      "  98  53 157 414 314  35 381 398 173 240 334 320 359 259 229  90  12  50\n",
      " 329  25 330  76 390 185  14 222 149 116 263 264 440 118  63  18 379 168\n",
      " 207 254 324  75 426 201  23 415 107 361  13 145 235 148  24 180  10  55\n",
      " 220 169 302]\n",
      "alpha: 0.1, mse: 2643.869688784785, r2: 0.5779851635861228\n"
     ]
    }
   ],
   "source": [
    "from sklearn.linear_model import Lasso\n",
    "\n",
    "rs = ShuffleSplit(n_splits=4, test_size=.25, random_state=0)\n",
    "\n",
    "for train_index, test_index in rs.split(X):\n",
    "    print(\"TRAIN:\", train_index,'\\n', \"TEST:\", test_index)\n",
    "    X_train, X_test = X[train_index], X[test_index]\n",
    "    y_train, y_test = y[train_index], y[test_index]\n",
    "    lasso= Lasso(alpha=alpha).fit(X_train, y_train)\n",
    "    h_w_x = lasso.predict(X_test)\n",
    "    mse = mean_squared_error(y_test, h_w_x)\n",
    "    r2 = r2_score(y_test, h_w_x)\n",
    "    print(f\"alpha: {alpha}, mse: {mse}, r2: {r2}\")"
   ]
  },
  {
   "cell_type": "markdown",
   "id": "786ff8a5-f9ea-4fc5-a2cb-f12c1beccb34",
   "metadata": {},
   "source": [
    "### Use shufflesplit cross validation with:\n",
    "    LassoCV with the alphas [0.001, 0.01, 0.1, 1],\n",
    "    n_splits=4.\n",
    "    test set size 0f 25%\n",
    "    (Calculate mse and rsquared for your testing sets). Write this in a for loop and print out your results for each test set\n",
    "    Print the alpha picked after every calculation"
   ]
  },
  {
   "cell_type": "code",
   "execution_count": 30,
   "id": "275f5d23",
   "metadata": {
    "scrolled": false
   },
   "outputs": [
    {
     "name": "stdout",
     "output_type": "stream",
     "text": [
      "TRAIN: [ 20 353 281  14 300 240 175 405 153  75  64  55 135 329  81 316 369 328\n",
      " 414 421 361 415 232 224 252 254 418 106 278  63 336 378 387 430  89  93\n",
      " 245 272 241  92  18 145 150 322 393 297 231  66 380 412 140 101 345 247\n",
      " 363  17 146 315 220  30 114 235 103 219 274 176 191 116 168 367 120 218\n",
      " 112 303 136 308 221 126 196 332 424 133  33 419 162  34  44  97  85  61\n",
      " 167 199 173 229 236 433 376 250 108 407  46 357 372 263  73 137 422 246\n",
      " 253  29 181 374 301  51 365 391 217 432  27   2 259 156 255 417 346 138\n",
      " 212 104 310 306 311 215 348 189 214  35 230 204 234 293 239 210  67  24\n",
      " 295 216 223 129 111 166 349  40 317  79 431 350  13 364 436 228 161  83\n",
      " 439 416 110 149 152  16 299 109 312 139 237 260 318 355 248 342  19 269\n",
      " 226 340   3 309 125 280 286  77 184 354 420 275 294 384 182 395  80 307\n",
      " 258  11 331  86 266  36 423  58  41 270  50 209 352 351 368 123 222  62\n",
      " 379 130 187  23  43   0 201 377  98 304 429 178 256  94 409  95 390 169\n",
      "  69 305  48 341 207 279 227 148 143 334 180 356 131 425 440 262 324 203\n",
      "  84 121 383 406  91  82 267 119 358 291  57 321 257 394  42 105 408 273\n",
      " 392  38  53 385 128 290  28 183 370 163 151 244 202  31  32 127 185 413\n",
      " 288 398 402 147 285 410 177  99 338 335 197 243 115 404 265  72 333  25\n",
      " 165 337 426 174 428  39 193 314 396  88  70  87 292 242 277 211   9 359\n",
      " 195 251 323 192 117  47 172] \n",
      " TEST: [362 249 271 435 400 403  12 399 198 205  78 144 298 171 268  21 194   1\n",
      "  10 208  76  37 388 411 289 100 261 401 319 206 375 283 373 344 287 360\n",
      " 179 238 434 302 158 118 339 397 330 296 164  54 157  71 284   6 343 326\n",
      " 159  15 320  60 282 142  56 124 107 132 382 102 160 141 186 441  90  59\n",
      " 347 233 427  65 438 155 122 276 188  96 170 113 381 213 134  49  52  74\n",
      "  26  45 389 154   4 386 225 327 264   8 190   5 371 200 313   7 325 366\n",
      "  22  68 437]\n",
      "alpha: 0.1, mse: 3202.0167649897953, r2: 0.3550060447846277\n",
      "TRAIN: [ 79  43 200 227  53 304   5 176 232 362 204 215 189 350 392 129 126  85\n",
      " 320  75 298 158 265 341 209   1 386 271 172 239 338 140 193 300 344 222\n",
      " 175 191 331 147 318 441 267 389  54  45 333 162 196 382  39 253 280  18\n",
      " 273 156 276  88  50  99 406  33 122 160 167 277 345 346  10 105  68 249\n",
      " 291 117 230 436 404 405   2   9 294 212 180 231 154  28  42  20 278  65\n",
      "  84 275 305  29 255 351  71  49 387 210 430 216 116  37 398  48 258 393\n",
      " 388 251 356 379  76  64 110  52 394 330 279 124  87 296  34 376 286 244\n",
      " 118  12 157 288 252 127 240 390 235 181 407 241 264  97 146 319 259 183\n",
      " 177  58 363 440 152 263  17 431 293 424 437 242 372 170 187  47 439 199\n",
      " 410  78 384 198 349 119 153 328  21 281 254 250 243 237  35  81 159 182\n",
      " 428 109 307 402  92 375 421 148  70 211 391 165 238 188 426 290 414 120\n",
      " 184 155 429 112 138 412  66 435 418 268 161 329 367 174 371 221 100 409\n",
      " 219 229 114 322 337 321 220  82 309 166 169  15 245 370   6 411 400 434\n",
      " 104 303  61 208 302  51  90 207  22 419 218  73 383 381 205   4 190 361\n",
      " 164 185 194 395  93 132 233 173 178 313 315 353 115  32 206 282 339  96\n",
      " 343 123 425  74  89  38 179 360   0  46 171 149   7 107 347 133 256 223\n",
      "  83 327 408 102 323 108 213 195 413 340 246  72  94 125 135 197 201 365\n",
      " 248 224  26 324 284 417 168 377 226   3 134 325 355 292 186  24 295 128\n",
      " 369 385 314 228 396 131 427] \n",
      " TEST: [ 91 310 438 306  25 130  31  60 432 150 143 299  41 415  86 289 336 364\n",
      " 151 260 422 136 423 142 287 352   8 297 285 274 103 106  69 269 113 397\n",
      "  77 312  55 348  11 101 420  95 316 334 163 236  27  23 202 111 326 358\n",
      " 139  14 137 332  44 308  57 272 261  98 373 416  56  16  67 366 203 301\n",
      " 399 357 311 283 380 266 359  36 217  19 374 121 317 403 247 225 234  80\n",
      "  59 214  63 141 335  30 354  40 192 368 145 433 342  13 262 257 378 144\n",
      " 270 401  62]\n",
      "alpha: 0.01, mse: 2970.7591239306457, r2: 0.5339013274018394\n",
      "TRAIN: [298  39 202 269 399 121 386 309 287 250 174 141  67 416 120 201 275 432\n",
      "  14 142 114  30 188 322 219 124  12  50   9 246 128  35 224  80  36 273\n",
      " 184 433 212 422  61  92 109   0  40  75 336 140   7 387 291 359 126 214\n",
      " 429 156 425  56   8 327  86 335 421  27 178  37 118 404 371  32 233 361\n",
      "  90 333 381 198 350 360 274 211 143 379 411 276 228 408 192 303 337 135\n",
      " 312 400 255 158 329 323 441 375 364 319 292  68 138 221 402 155 310 241\n",
      "  99 290 127 366 160 325  34 149 260 168 162  74 409 390 420 280 166  20\n",
      "  17 369 194 343  41 208  57 256 177  49 193 392 377 210 413  95 431 373\n",
      " 203 407  44  91 245 235 332  71 296 378 304  28 326 307 195 222 424  70\n",
      " 105  10 173 396 283  79 229  64 150 242  83 300 330 172 288  33 347 257\n",
      " 144 237 295 281 315 316 299 305 213 106 131  15  73 419 284 181 129 187\n",
      " 191 103 123  60 434 354 357  78 285 437   3 236  82 206 102 185 388 324\n",
      " 252 436 311 205 113 362 249 179 263 180 334 271 133 258 122 259 218  16\n",
      "  51 427 344  89 262 301 351 397  25 406 438  97 372 226 111 196 389 183\n",
      " 244 418 145 170  21  98 175 154  81 267  77 339 439  24 132 265 370 340\n",
      " 207  88 163  38 405 164  59 117 100 294 261 266 264   2 426 338 356  96\n",
      " 182 423 199  48 282 119 391  11 395 365 278 239 403 374 110  43 368 401\n",
      " 297 101 435 134 345 217 410 367 293  87 384 200 279  65 157 167 355 272\n",
      " 216 382 165 238  94 225  29] \n",
      " TEST: [  6  31 171 321  54  52  72 240 331 268 314 348 277 223 342 136 148  55\n",
      " 440 169 358 353 243 197 363 414 186 385   5  93 417 306 317 286 227 270\n",
      " 146 159 247 107  46  22   4 116 393 215 176  84 161 346 220  63 125 320\n",
      " 231  45  62 328  23 104 398 308 130 190  69 209  42 383 251 108  18 302\n",
      " 139 313  53 349 152  47 380 430 352 318 248 253 189 412 428 232 137  26\n",
      " 204 254  85 112 147  76  19  66 394   1  13 415 115 234 289 376  58 151\n",
      " 153 341 230]\n",
      "alpha: 0.1, mse: 3112.720543623065, r2: 0.44585924869410676\n",
      "TRAIN: [371 226 103 281 418  11 293 258 265 161 179 124 246 306  41 127 175  39\n",
      " 267 309 283 295 186 347 245 239 383 321   5  58 400 290 423 269  91 376\n",
      " 299 305 152 191  74 189 216 136 131 221 296 333 144 230  19 126  36  54\n",
      "  67 396 139 338 115   9 416 187 251 113  79 218 182  82 431 151 163 249\n",
      "  70 300  32  66  85 262  92 237 287 122 357 421 193  38 167 362  17 425\n",
      "  42  52 335 429 238 274 104 255 277  59 156 322 159 397  37 356 140 271\n",
      " 282  46 190 331 375 365 236 364  95 128 291 125 253 373 183 212 328 110\n",
      " 355 343 223 387 342 348 206 318  15 214 257 141 353 276 155 138 310 326\n",
      "  40 174   4 204 165 219  88 382 208  94 433 278 272  31  49 340 205 406\n",
      " 394 121 146  78  83 378 386 188 286  89 109 132 248  26 177   7 380 150\n",
      " 298  93 242 195 323 313 392 325 388 436  97 171 349 270 227 176 228  73\n",
      "  72 241 160 312 345 154 192 260  51 441  87 288 308 119 143  56 120 391\n",
      " 346 407 266 339  86 409 133 202  28 198  29  81 181 317 142 413 316 196\n",
      " 358 315 247 170 360 332 261 137 102 399  22  62  45 273 384  61 250 307\n",
      " 319 184 402 304 437 285 327 147 232  27 130 106 289 197 367 111  21 210\n",
      " 424 428 351 422 430 243 203 410   2 280 341 435 363 408 372  64 211   8\n",
      " 434 234 112 336 412 301 354 275  43  96 178 108 438 100 153 199 129   1\n",
      "  71 420  69  99  48 374 417 370 252 213  68  65 244 284 369 225 231 377\n",
      " 389 350 432  77 411 215 337] \n",
      " TEST: [209 344  44 123 419 352   6 404 403   0 166  80  20 117 134   3 311 395\n",
      " 135 105 401 172 366 439  33 162 297 194 385  16 158 268  57 164 217 279\n",
      " 114  34 303  84 200 368 393 101 405 256 427  30 224  60  47 292 294 233\n",
      "  98  53 157 414 314  35 381 398 173 240 334 320 359 259 229  90  12  50\n",
      " 329  25 330  76 390 185  14 222 149 116 263 264 440 118  63  18 379 168\n",
      " 207 254 324  75 426 201  23 415 107 361  13 145 235 148  24 180  10  55\n",
      " 220 169 302]\n",
      "alpha: 0.1, mse: 2643.869688784785, r2: 0.5779851635861228\n"
     ]
    }
   ],
   "source": [
    "from sklearn.linear_model import LassoCV\n",
    "rs = ShuffleSplit(n_splits=4, test_size=.25, random_state=0)\n",
    "\n",
    "for train_index, test_index in rs.split(X):\n",
    "    print(\"TRAIN:\", train_index,'\\n', \"TEST:\", test_index)\n",
    "    X_train, X_test = X[train_index], X[test_index]\n",
    "    y_train, y_test = y[train_index], y[test_index]\n",
    "    lasso_cv= LassoCV(alphas=[0.001, 0.01, 0.1, 1]).fit(X_train, y_train)\n",
    "    alpha = lasso_cv.alpha_\n",
    "    h_w_x = lasso_cv.predict(X_test)\n",
    "    mse = mean_squared_error(y_test, h_w_x)\n",
    "    r2 = r2_score(y_test, h_w_x)\n",
    "    print(f\"alpha: {alpha}, mse: {mse}, r2: {r2}\")"
   ]
  },
  {
   "cell_type": "markdown",
   "id": "809f6f7c-818d-4bf9-8002-6db9400018a4",
   "metadata": {},
   "source": [
    "# Load Classification Data\n",
    "(Load appropriate dataset here)"
   ]
  },
  {
   "cell_type": "code",
   "execution_count": 31,
   "id": "75420a55",
   "metadata": {},
   "outputs": [],
   "source": [
    "from sklearn.datasets import load_iris\n",
    "iris_df =  load_iris(as_frame=True).frame\n",
    "#Copy the dataset\n",
    "iris_df_copy = copy.deepcopy(iris_df)"
   ]
  },
  {
   "cell_type": "code",
   "execution_count": 32,
   "id": "b3749aae",
   "metadata": {},
   "outputs": [],
   "source": [
    "# Shuffle data\n",
    "iris_df_copy = iris_df.sample(frac=1, random_state=0).reset_index(drop=True)"
   ]
  },
  {
   "cell_type": "markdown",
   "id": "c03efe5d-bda0-46a5-bb58-569a9fcc4604",
   "metadata": {},
   "source": [
    "# Multinomial Logistic Regression\n",
    "(split your data into a train and test set here)"
   ]
  },
  {
   "cell_type": "code",
   "execution_count": 37,
   "id": "6f184264",
   "metadata": {},
   "outputs": [],
   "source": [
    "feature1 = np.array(iris_df_copy[[\"sepal length (cm)\", \"sepal width (cm)\", \"petal length (cm)\", \"petal width (cm)\"]])\n",
    "\n",
    "X1 = feature1\n",
    "Y1 = iris_df_copy[\"target\"]"
   ]
  },
  {
   "cell_type": "code",
   "execution_count": 38,
   "id": "341fb2b8",
   "metadata": {},
   "outputs": [],
   "source": [
    "#Spliting the dataset\n",
    "#x_train, x_test, y_train, y_test = train_test_split(X,Y, test_size=.2, random_state=0,shuffle=False)\n",
    "x_train1, x_test1, y_train1, y_test1 = train_test_split(X1,Y1, test_size=.2)"
   ]
  },
  {
   "cell_type": "code",
   "execution_count": 40,
   "id": "11995791",
   "metadata": {},
   "outputs": [],
   "source": [
    "from sklearn.neighbors import KNeighborsClassifier\n",
    "classifier = KNeighborsClassifier(n_neighbors=5)\n",
    "clf=classifier.fit(x_train1, y_train1)\n",
    "#y_pred = classifier.predict(x_test1)"
   ]
  },
  {
   "cell_type": "raw",
   "id": "3a7df94b",
   "metadata": {},
   "source": [
    "#Extra\n",
    "from sklearn.feature_selection import SequentialFeatureSelector\n",
    "from sklearn.linear_model import LogisticRegression\n",
    "clf= LogisticRegression(random_state=0, solver='lbfgs', penalty='none').fit(x_train1, y_train1)"
   ]
  },
  {
   "cell_type": "code",
   "execution_count": 41,
   "id": "2e5d3bf4",
   "metadata": {},
   "outputs": [
    {
     "name": "stdout",
     "output_type": "stream",
     "text": [
      "log_loss: 0.06988490031942778, accuracy: 0.9666666666666667\n"
     ]
    }
   ],
   "source": [
    "#Extra\n",
    "h_w_x = clf.predict(x_test1)\n",
    "log_loss_g = log_loss(y_test1, clf.predict_proba(x_test1))\n",
    "accuracy = accuracy_score(y_test1, h_w_x, normalize=True)\n",
    "print(f\"log_loss: {log_loss_g}, accuracy: {accuracy}\")"
   ]
  },
  {
   "cell_type": "code",
   "execution_count": 42,
   "id": "b0d1400a",
   "metadata": {},
   "outputs": [
    {
     "name": "stdout",
     "output_type": "stream",
     "text": [
      "K-value: 1, log_loss_g: 0.06988490031942778\n",
      "K-value: 2, log_loss_g: 0.06988490031942778\n",
      "K-value: 3, log_loss_g: 0.06988490031942778\n",
      "K-value: 4, log_loss_g: 0.06988490031942778\n",
      "K-value: 5, log_loss_g: 0.06988490031942778\n",
      "K-value: 6, log_loss_g: 0.06988490031942778\n",
      "K-value: 7, log_loss_g: 0.06988490031942778\n",
      "K-value: 8, log_loss_g: 0.06988490031942778\n",
      "K-value: 9, log_loss_g: 0.06988490031942778\n",
      "K-value: 10, log_loss_g: 0.06988490031942778\n",
      "K-value: 11, log_loss_g: 0.06988490031942778\n",
      "K-value: 12, log_loss_g: 0.06988490031942778\n",
      "K-value: 13, log_loss_g: 0.06988490031942778\n",
      "K-value: 14, log_loss_g: 0.06988490031942778\n",
      "K-value: 15, log_loss_g: 0.06988490031942778\n",
      "K-value: 16, log_loss_g: 0.06988490031942778\n",
      "K-value: 17, log_loss_g: 0.06988490031942778\n",
      "K-value: 18, log_loss_g: 0.06988490031942778\n",
      "K-value: 19, log_loss_g: 0.06988490031942778\n",
      "K-value: 20, log_loss_g: 0.06988490031942778\n",
      "K-value: 21, log_loss_g: 0.06988490031942778\n",
      "K-value: 22, log_loss_g: 0.06988490031942778\n",
      "K-value: 23, log_loss_g: 0.06988490031942778\n",
      "K-value: 24, log_loss_g: 0.06988490031942778\n",
      "K-value: 25, log_loss_g: 0.06988490031942778\n",
      "K-value: 26, log_loss_g: 0.06988490031942778\n",
      "K-value: 27, log_loss_g: 0.06988490031942778\n",
      "K-value: 28, log_loss_g: 0.06988490031942778\n",
      "K-value: 29, log_loss_g: 0.06988490031942778\n",
      "K-value: 30, log_loss_g: 0.06988490031942778\n",
      "K-value: 31, log_loss_g: 0.06988490031942778\n",
      "K-value: 32, log_loss_g: 0.06988490031942778\n",
      "K-value: 33, log_loss_g: 0.06988490031942778\n",
      "K-value: 34, log_loss_g: 0.06988490031942778\n",
      "K-value: 35, log_loss_g: 0.06988490031942778\n",
      "K-value: 36, log_loss_g: 0.06988490031942778\n",
      "K-value: 37, log_loss_g: 0.06988490031942778\n",
      "K-value: 38, log_loss_g: 0.06988490031942778\n",
      "K-value: 39, log_loss_g: 0.06988490031942778\n"
     ]
    }
   ],
   "source": [
    "error = []\n",
    "\n",
    "# Calculating MSE error for K values between 1 and 39\n",
    "for i in range(1, 40):\n",
    "    knn = KNeighborsClassifier(n_neighbors=i)\n",
    "    clf=classifier.fit(x_train1, y_train1)\n",
    "    h_w_x = clf.predict(x_test1)\n",
    "    log_loss_g = log_loss(y_test1, clf.predict_proba(x_test1))\n",
    "    #mse = mean_squared_error(y_test, y_pred)\n",
    "    error.append(log_loss_g)\n",
    "    print(f'K-value: {i}, log_loss_g: {log_loss_g}')"
   ]
  },
  {
   "cell_type": "markdown",
   "id": "d986bb19-480f-479a-b892-0d917f32c020",
   "metadata": {},
   "source": [
    "# Feature scaling\n",
    "(feature scale your data here)"
   ]
  },
  {
   "cell_type": "code",
   "execution_count": 35,
   "id": "3a80f494",
   "metadata": {},
   "outputs": [],
   "source": [
    "from sklearn.preprocessing import MinMaxScaler\n",
    "\n",
    "scaler = MinMaxScaler()\n",
    "training_set_x = x_train1\n",
    "training_set_y = y_train1\n",
    "\n",
    "testing_set_x = x_test1\n",
    "testing_set_y = y_test1\n",
    "\n",
    "scaler.fit(training_set_x)\n",
    "training_set_x_fs = scaler.transform(training_set_x)\n",
    "testing_set_x_fs = scaler.transform(testing_set_x)\n",
    "\n",
    "# Scaling full dataset of features(training and testing together)\n",
    "all_scaled = scaler.transform(X1)"
   ]
  },
  {
   "cell_type": "markdown",
   "id": "3ab4b864-dbd2-456c-9ab8-f521cc0a7691",
   "metadata": {},
   "source": [
    "## Feature Selection\n",
    "### Use chisquare feature_selection to select the best 2 features to use (Calculate the log_loss and accuracy)"
   ]
  },
  {
   "cell_type": "code",
   "execution_count": 36,
   "id": "6a707911",
   "metadata": {},
   "outputs": [],
   "source": [
    "from sklearn.feature_selection import SelectKBest\n",
    "from sklearn.feature_selection import chi2\n",
    "\n",
    "k_in=2\n",
    "selector = SelectKBest(chi2, k=k_in).fit(training_set_x_fs, training_set_y)\n",
    "training_set_x_fs_new = selector.transform(training_set_x_fs)\n",
    "testing_set_x_fs_new = selector.transform(testing_set_x_fs)"
   ]
  },
  {
   "cell_type": "code",
   "execution_count": 37,
   "id": "3ab0ed67",
   "metadata": {},
   "outputs": [],
   "source": [
    "from sklearn.feature_selection import SequentialFeatureSelector\n",
    "from sklearn.linear_model import LogisticRegression\n",
    "clf= LogisticRegression(random_state=0, solver='lbfgs', penalty='none').fit(training_set_x_fs_new, training_set_y)"
   ]
  },
  {
   "cell_type": "code",
   "execution_count": 38,
   "id": "fc20d888",
   "metadata": {},
   "outputs": [
    {
     "name": "stdout",
     "output_type": "stream",
     "text": [
      "log_loss: 0.23117282073692727, accuracy: 0.9333333333333333\n"
     ]
    }
   ],
   "source": [
    "h_w_x = clf.predict(testing_set_x_fs_new)\n",
    "log_loss_g = log_loss(testing_set_y, clf.predict_proba(testing_set_x_fs_new))\n",
    "accuracy = accuracy_score(testing_set_y, h_w_x, normalize=True)\n",
    "print(f\"log_loss: {log_loss_g}, accuracy: {accuracy}\")"
   ]
  },
  {
   "cell_type": "markdown",
   "id": "50dbaf87-d3d1-4679-97a3-41781ffb5fd6",
   "metadata": {},
   "source": [
    "#### Show which features were selected"
   ]
  },
  {
   "cell_type": "code",
   "execution_count": 39,
   "id": "5cdaf24d",
   "metadata": {},
   "outputs": [
    {
     "name": "stdout",
     "output_type": "stream",
     "text": [
      "Index(['petal length (cm)', 'petal width (cm)'], dtype='object')\n"
     ]
    }
   ],
   "source": [
    "import numpy as np\n",
    "\n",
    "selector.scores_\n",
    "top_n = np.argsort(selector.scores_)[-k_in:]\n",
    "print(iris_df_copy.iloc[:, top_n].columns)"
   ]
  },
  {
   "cell_type": "markdown",
   "id": "e0c9784f-11fe-4c92-80a6-4a91e39cd9a9",
   "metadata": {},
   "source": [
    "### Use forward selection to get best features with a tol of 0.1 for accuracy (Calculate the log_loss and accuracy)"
   ]
  },
  {
   "cell_type": "code",
   "execution_count": 40,
   "id": "2869f0d0",
   "metadata": {
    "scrolled": true
   },
   "outputs": [
    {
     "data": {
      "text/html": [
       "<style>#sk-container-id-1 {color: black;background-color: white;}#sk-container-id-1 pre{padding: 0;}#sk-container-id-1 div.sk-toggleable {background-color: white;}#sk-container-id-1 label.sk-toggleable__label {cursor: pointer;display: block;width: 100%;margin-bottom: 0;padding: 0.3em;box-sizing: border-box;text-align: center;}#sk-container-id-1 label.sk-toggleable__label-arrow:before {content: \"▸\";float: left;margin-right: 0.25em;color: #696969;}#sk-container-id-1 label.sk-toggleable__label-arrow:hover:before {color: black;}#sk-container-id-1 div.sk-estimator:hover label.sk-toggleable__label-arrow:before {color: black;}#sk-container-id-1 div.sk-toggleable__content {max-height: 0;max-width: 0;overflow: hidden;text-align: left;background-color: #f0f8ff;}#sk-container-id-1 div.sk-toggleable__content pre {margin: 0.2em;color: black;border-radius: 0.25em;background-color: #f0f8ff;}#sk-container-id-1 input.sk-toggleable__control:checked~div.sk-toggleable__content {max-height: 200px;max-width: 100%;overflow: auto;}#sk-container-id-1 input.sk-toggleable__control:checked~label.sk-toggleable__label-arrow:before {content: \"▾\";}#sk-container-id-1 div.sk-estimator input.sk-toggleable__control:checked~label.sk-toggleable__label {background-color: #d4ebff;}#sk-container-id-1 div.sk-label input.sk-toggleable__control:checked~label.sk-toggleable__label {background-color: #d4ebff;}#sk-container-id-1 input.sk-hidden--visually {border: 0;clip: rect(1px 1px 1px 1px);clip: rect(1px, 1px, 1px, 1px);height: 1px;margin: -1px;overflow: hidden;padding: 0;position: absolute;width: 1px;}#sk-container-id-1 div.sk-estimator {font-family: monospace;background-color: #f0f8ff;border: 1px dotted black;border-radius: 0.25em;box-sizing: border-box;margin-bottom: 0.5em;}#sk-container-id-1 div.sk-estimator:hover {background-color: #d4ebff;}#sk-container-id-1 div.sk-parallel-item::after {content: \"\";width: 100%;border-bottom: 1px solid gray;flex-grow: 1;}#sk-container-id-1 div.sk-label:hover label.sk-toggleable__label {background-color: #d4ebff;}#sk-container-id-1 div.sk-serial::before {content: \"\";position: absolute;border-left: 1px solid gray;box-sizing: border-box;top: 0;bottom: 0;left: 50%;z-index: 0;}#sk-container-id-1 div.sk-serial {display: flex;flex-direction: column;align-items: center;background-color: white;padding-right: 0.2em;padding-left: 0.2em;position: relative;}#sk-container-id-1 div.sk-item {position: relative;z-index: 1;}#sk-container-id-1 div.sk-parallel {display: flex;align-items: stretch;justify-content: center;background-color: white;position: relative;}#sk-container-id-1 div.sk-item::before, #sk-container-id-1 div.sk-parallel-item::before {content: \"\";position: absolute;border-left: 1px solid gray;box-sizing: border-box;top: 0;bottom: 0;left: 50%;z-index: -1;}#sk-container-id-1 div.sk-parallel-item {display: flex;flex-direction: column;z-index: 1;position: relative;background-color: white;}#sk-container-id-1 div.sk-parallel-item:first-child::after {align-self: flex-end;width: 50%;}#sk-container-id-1 div.sk-parallel-item:last-child::after {align-self: flex-start;width: 50%;}#sk-container-id-1 div.sk-parallel-item:only-child::after {width: 0;}#sk-container-id-1 div.sk-dashed-wrapped {border: 1px dashed gray;margin: 0 0.4em 0.5em 0.4em;box-sizing: border-box;padding-bottom: 0.4em;background-color: white;}#sk-container-id-1 div.sk-label label {font-family: monospace;font-weight: bold;display: inline-block;line-height: 1.2em;}#sk-container-id-1 div.sk-label-container {text-align: center;}#sk-container-id-1 div.sk-container {/* jupyter's `normalize.less` sets `[hidden] { display: none; }` but bootstrap.min.css set `[hidden] { display: none !important; }` so we also need the `!important` here to be able to override the default hidden behavior on the sphinx rendered scikit-learn.org. See: https://github.com/scikit-learn/scikit-learn/issues/21755 */display: inline-block !important;position: relative;}#sk-container-id-1 div.sk-text-repr-fallback {display: none;}</style><div id=\"sk-container-id-1\" class=\"sk-top-container\"><div class=\"sk-text-repr-fallback\"><pre>LogisticRegression(penalty=&#x27;none&#x27;, random_state=0)</pre><b>In a Jupyter environment, please rerun this cell to show the HTML representation or trust the notebook. <br />On GitHub, the HTML representation is unable to render, please try loading this page with nbviewer.org.</b></div><div class=\"sk-container\" hidden><div class=\"sk-item\"><div class=\"sk-estimator sk-toggleable\"><input class=\"sk-toggleable__control sk-hidden--visually\" id=\"sk-estimator-id-1\" type=\"checkbox\" checked><label for=\"sk-estimator-id-1\" class=\"sk-toggleable__label sk-toggleable__label-arrow\">LogisticRegression</label><div class=\"sk-toggleable__content\"><pre>LogisticRegression(penalty=&#x27;none&#x27;, random_state=0)</pre></div></div></div></div></div>"
      ],
      "text/plain": [
       "LogisticRegression(penalty='none', random_state=0)"
      ]
     },
     "execution_count": 40,
     "metadata": {},
     "output_type": "execute_result"
    }
   ],
   "source": [
    "from sklearn.feature_selection import SequentialFeatureSelector\n",
    "from sklearn.linear_model import LogisticRegression\n",
    "clf = LogisticRegression(random_state=0, solver='lbfgs', penalty='none')\n",
    "sfs = SequentialFeatureSelector(clf, n_features_to_select=\"auto\", scoring='accuracy', tol=0.1, direction='forward')\n",
    "sfs.fit(training_set_x_fs, training_set_y)\n",
    "training_set_x_fs_new = sfs.transform(training_set_x_fs)\n",
    "testing_set_x_fs_new = sfs.transform(testing_set_x_fs)\n",
    "clf.fit(training_set_x_fs_new,training_set_y)"
   ]
  },
  {
   "cell_type": "code",
   "execution_count": 41,
   "id": "aa18c169",
   "metadata": {},
   "outputs": [
    {
     "name": "stdout",
     "output_type": "stream",
     "text": [
      "log_loss: 0.3120968372247698, accuracy: 0.8666666666666667\n"
     ]
    }
   ],
   "source": [
    "h_w_x = clf.predict(testing_set_x_fs_new)\n",
    "log_loss_g = log_loss(testing_set_y, clf.predict_proba(testing_set_x_fs_new))\n",
    "accuracy = accuracy_score(testing_set_y, h_w_x, normalize=True)\n",
    "print(f\"log_loss: {log_loss_g}, accuracy: {accuracy}\")"
   ]
  },
  {
   "cell_type": "markdown",
   "id": "4ee4f2fe-add9-4566-ab2c-455b45963a54",
   "metadata": {},
   "source": [
    "#### Show which features were selected"
   ]
  },
  {
   "cell_type": "code",
   "execution_count": 42,
   "id": "69db704b",
   "metadata": {},
   "outputs": [
    {
     "name": "stdout",
     "output_type": "stream",
     "text": [
      "Index(['petal length (cm)'], dtype='object')\n"
     ]
    }
   ],
   "source": [
    "fs_indices = sfs.get_support(True)\n",
    "print(iris_df_copy.iloc[:, fs_indices].columns)"
   ]
  },
  {
   "cell_type": "markdown",
   "id": "b5b1f7bf-f075-4b37-89af-e4f3f0d630de",
   "metadata": {},
   "source": [
    "### Use backward selection to get best features with a tol of 0.1 for accuracy (Calculate the log_loss and accuracy)"
   ]
  },
  {
   "cell_type": "code",
   "execution_count": 43,
   "id": "08dd2b8a",
   "metadata": {},
   "outputs": [
    {
     "data": {
      "text/html": [
       "<style>#sk-container-id-2 {color: black;background-color: white;}#sk-container-id-2 pre{padding: 0;}#sk-container-id-2 div.sk-toggleable {background-color: white;}#sk-container-id-2 label.sk-toggleable__label {cursor: pointer;display: block;width: 100%;margin-bottom: 0;padding: 0.3em;box-sizing: border-box;text-align: center;}#sk-container-id-2 label.sk-toggleable__label-arrow:before {content: \"▸\";float: left;margin-right: 0.25em;color: #696969;}#sk-container-id-2 label.sk-toggleable__label-arrow:hover:before {color: black;}#sk-container-id-2 div.sk-estimator:hover label.sk-toggleable__label-arrow:before {color: black;}#sk-container-id-2 div.sk-toggleable__content {max-height: 0;max-width: 0;overflow: hidden;text-align: left;background-color: #f0f8ff;}#sk-container-id-2 div.sk-toggleable__content pre {margin: 0.2em;color: black;border-radius: 0.25em;background-color: #f0f8ff;}#sk-container-id-2 input.sk-toggleable__control:checked~div.sk-toggleable__content {max-height: 200px;max-width: 100%;overflow: auto;}#sk-container-id-2 input.sk-toggleable__control:checked~label.sk-toggleable__label-arrow:before {content: \"▾\";}#sk-container-id-2 div.sk-estimator input.sk-toggleable__control:checked~label.sk-toggleable__label {background-color: #d4ebff;}#sk-container-id-2 div.sk-label input.sk-toggleable__control:checked~label.sk-toggleable__label {background-color: #d4ebff;}#sk-container-id-2 input.sk-hidden--visually {border: 0;clip: rect(1px 1px 1px 1px);clip: rect(1px, 1px, 1px, 1px);height: 1px;margin: -1px;overflow: hidden;padding: 0;position: absolute;width: 1px;}#sk-container-id-2 div.sk-estimator {font-family: monospace;background-color: #f0f8ff;border: 1px dotted black;border-radius: 0.25em;box-sizing: border-box;margin-bottom: 0.5em;}#sk-container-id-2 div.sk-estimator:hover {background-color: #d4ebff;}#sk-container-id-2 div.sk-parallel-item::after {content: \"\";width: 100%;border-bottom: 1px solid gray;flex-grow: 1;}#sk-container-id-2 div.sk-label:hover label.sk-toggleable__label {background-color: #d4ebff;}#sk-container-id-2 div.sk-serial::before {content: \"\";position: absolute;border-left: 1px solid gray;box-sizing: border-box;top: 0;bottom: 0;left: 50%;z-index: 0;}#sk-container-id-2 div.sk-serial {display: flex;flex-direction: column;align-items: center;background-color: white;padding-right: 0.2em;padding-left: 0.2em;position: relative;}#sk-container-id-2 div.sk-item {position: relative;z-index: 1;}#sk-container-id-2 div.sk-parallel {display: flex;align-items: stretch;justify-content: center;background-color: white;position: relative;}#sk-container-id-2 div.sk-item::before, #sk-container-id-2 div.sk-parallel-item::before {content: \"\";position: absolute;border-left: 1px solid gray;box-sizing: border-box;top: 0;bottom: 0;left: 50%;z-index: -1;}#sk-container-id-2 div.sk-parallel-item {display: flex;flex-direction: column;z-index: 1;position: relative;background-color: white;}#sk-container-id-2 div.sk-parallel-item:first-child::after {align-self: flex-end;width: 50%;}#sk-container-id-2 div.sk-parallel-item:last-child::after {align-self: flex-start;width: 50%;}#sk-container-id-2 div.sk-parallel-item:only-child::after {width: 0;}#sk-container-id-2 div.sk-dashed-wrapped {border: 1px dashed gray;margin: 0 0.4em 0.5em 0.4em;box-sizing: border-box;padding-bottom: 0.4em;background-color: white;}#sk-container-id-2 div.sk-label label {font-family: monospace;font-weight: bold;display: inline-block;line-height: 1.2em;}#sk-container-id-2 div.sk-label-container {text-align: center;}#sk-container-id-2 div.sk-container {/* jupyter's `normalize.less` sets `[hidden] { display: none; }` but bootstrap.min.css set `[hidden] { display: none !important; }` so we also need the `!important` here to be able to override the default hidden behavior on the sphinx rendered scikit-learn.org. See: https://github.com/scikit-learn/scikit-learn/issues/21755 */display: inline-block !important;position: relative;}#sk-container-id-2 div.sk-text-repr-fallback {display: none;}</style><div id=\"sk-container-id-2\" class=\"sk-top-container\"><div class=\"sk-text-repr-fallback\"><pre>LogisticRegression(penalty=&#x27;none&#x27;, random_state=0)</pre><b>In a Jupyter environment, please rerun this cell to show the HTML representation or trust the notebook. <br />On GitHub, the HTML representation is unable to render, please try loading this page with nbviewer.org.</b></div><div class=\"sk-container\" hidden><div class=\"sk-item\"><div class=\"sk-estimator sk-toggleable\"><input class=\"sk-toggleable__control sk-hidden--visually\" id=\"sk-estimator-id-2\" type=\"checkbox\" checked><label for=\"sk-estimator-id-2\" class=\"sk-toggleable__label sk-toggleable__label-arrow\">LogisticRegression</label><div class=\"sk-toggleable__content\"><pre>LogisticRegression(penalty=&#x27;none&#x27;, random_state=0)</pre></div></div></div></div></div>"
      ],
      "text/plain": [
       "LogisticRegression(penalty='none', random_state=0)"
      ]
     },
     "execution_count": 43,
     "metadata": {},
     "output_type": "execute_result"
    }
   ],
   "source": [
    "clf = LogisticRegression(random_state=0, solver='lbfgs', penalty='none')\n",
    "sfs = SequentialFeatureSelector(clf, n_features_to_select=\"auto\", scoring='accuracy', tol=0.1, direction='backward')\n",
    "sfs.fit(training_set_x_fs, training_set_y)\n",
    "training_set_x_fs_new = sfs.transform(training_set_x_fs)\n",
    "testing_set_x_fs_new = sfs.transform(testing_set_x_fs)\n",
    "clf.fit(training_set_x_fs_new,training_set_y)"
   ]
  },
  {
   "cell_type": "code",
   "execution_count": 44,
   "id": "b4351064",
   "metadata": {},
   "outputs": [
    {
     "name": "stdout",
     "output_type": "stream",
     "text": [
      "log_loss: 0.2112700819904662, accuracy: 0.8666666666666667\n"
     ]
    }
   ],
   "source": [
    "h_w_x = clf.predict(testing_set_x_fs_new)\n",
    "log_loss_g = log_loss(testing_set_y, clf.predict_proba(testing_set_x_fs_new))\n",
    "accuracy = accuracy_score(testing_set_y, h_w_x, normalize=True)\n",
    "print(f\"log_loss: {log_loss_g}, accuracy: {accuracy}\")"
   ]
  },
  {
   "cell_type": "markdown",
   "id": "ee8c9e6c-e37a-4cb0-bedf-7702cfca0356",
   "metadata": {},
   "source": [
    "#### Show which features were selected"
   ]
  },
  {
   "cell_type": "code",
   "execution_count": 45,
   "id": "da78609d",
   "metadata": {},
   "outputs": [
    {
     "name": "stdout",
     "output_type": "stream",
     "text": [
      "Index(['sepal length (cm)', 'sepal width (cm)', 'petal length (cm)'], dtype='object')\n"
     ]
    }
   ],
   "source": [
    "fs_indices = sfs.get_support(True)\n",
    "print(iris_df_copy.iloc[:, fs_indices].columns)"
   ]
  },
  {
   "cell_type": "markdown",
   "id": "09231caa-9e21-41ad-af07-dfca576734f8",
   "metadata": {},
   "source": [
    "### Recursive Feature Elimination\n",
    "#### Use recursive feature elimination to get the best 2 features (Calculate the log_loss and accuracy)"
   ]
  },
  {
   "cell_type": "code",
   "execution_count": 46,
   "id": "d4a2ae01",
   "metadata": {},
   "outputs": [
    {
     "data": {
      "text/html": [
       "<style>#sk-container-id-3 {color: black;background-color: white;}#sk-container-id-3 pre{padding: 0;}#sk-container-id-3 div.sk-toggleable {background-color: white;}#sk-container-id-3 label.sk-toggleable__label {cursor: pointer;display: block;width: 100%;margin-bottom: 0;padding: 0.3em;box-sizing: border-box;text-align: center;}#sk-container-id-3 label.sk-toggleable__label-arrow:before {content: \"▸\";float: left;margin-right: 0.25em;color: #696969;}#sk-container-id-3 label.sk-toggleable__label-arrow:hover:before {color: black;}#sk-container-id-3 div.sk-estimator:hover label.sk-toggleable__label-arrow:before {color: black;}#sk-container-id-3 div.sk-toggleable__content {max-height: 0;max-width: 0;overflow: hidden;text-align: left;background-color: #f0f8ff;}#sk-container-id-3 div.sk-toggleable__content pre {margin: 0.2em;color: black;border-radius: 0.25em;background-color: #f0f8ff;}#sk-container-id-3 input.sk-toggleable__control:checked~div.sk-toggleable__content {max-height: 200px;max-width: 100%;overflow: auto;}#sk-container-id-3 input.sk-toggleable__control:checked~label.sk-toggleable__label-arrow:before {content: \"▾\";}#sk-container-id-3 div.sk-estimator input.sk-toggleable__control:checked~label.sk-toggleable__label {background-color: #d4ebff;}#sk-container-id-3 div.sk-label input.sk-toggleable__control:checked~label.sk-toggleable__label {background-color: #d4ebff;}#sk-container-id-3 input.sk-hidden--visually {border: 0;clip: rect(1px 1px 1px 1px);clip: rect(1px, 1px, 1px, 1px);height: 1px;margin: -1px;overflow: hidden;padding: 0;position: absolute;width: 1px;}#sk-container-id-3 div.sk-estimator {font-family: monospace;background-color: #f0f8ff;border: 1px dotted black;border-radius: 0.25em;box-sizing: border-box;margin-bottom: 0.5em;}#sk-container-id-3 div.sk-estimator:hover {background-color: #d4ebff;}#sk-container-id-3 div.sk-parallel-item::after {content: \"\";width: 100%;border-bottom: 1px solid gray;flex-grow: 1;}#sk-container-id-3 div.sk-label:hover label.sk-toggleable__label {background-color: #d4ebff;}#sk-container-id-3 div.sk-serial::before {content: \"\";position: absolute;border-left: 1px solid gray;box-sizing: border-box;top: 0;bottom: 0;left: 50%;z-index: 0;}#sk-container-id-3 div.sk-serial {display: flex;flex-direction: column;align-items: center;background-color: white;padding-right: 0.2em;padding-left: 0.2em;position: relative;}#sk-container-id-3 div.sk-item {position: relative;z-index: 1;}#sk-container-id-3 div.sk-parallel {display: flex;align-items: stretch;justify-content: center;background-color: white;position: relative;}#sk-container-id-3 div.sk-item::before, #sk-container-id-3 div.sk-parallel-item::before {content: \"\";position: absolute;border-left: 1px solid gray;box-sizing: border-box;top: 0;bottom: 0;left: 50%;z-index: -1;}#sk-container-id-3 div.sk-parallel-item {display: flex;flex-direction: column;z-index: 1;position: relative;background-color: white;}#sk-container-id-3 div.sk-parallel-item:first-child::after {align-self: flex-end;width: 50%;}#sk-container-id-3 div.sk-parallel-item:last-child::after {align-self: flex-start;width: 50%;}#sk-container-id-3 div.sk-parallel-item:only-child::after {width: 0;}#sk-container-id-3 div.sk-dashed-wrapped {border: 1px dashed gray;margin: 0 0.4em 0.5em 0.4em;box-sizing: border-box;padding-bottom: 0.4em;background-color: white;}#sk-container-id-3 div.sk-label label {font-family: monospace;font-weight: bold;display: inline-block;line-height: 1.2em;}#sk-container-id-3 div.sk-label-container {text-align: center;}#sk-container-id-3 div.sk-container {/* jupyter's `normalize.less` sets `[hidden] { display: none; }` but bootstrap.min.css set `[hidden] { display: none !important; }` so we also need the `!important` here to be able to override the default hidden behavior on the sphinx rendered scikit-learn.org. See: https://github.com/scikit-learn/scikit-learn/issues/21755 */display: inline-block !important;position: relative;}#sk-container-id-3 div.sk-text-repr-fallback {display: none;}</style><div id=\"sk-container-id-3\" class=\"sk-top-container\"><div class=\"sk-text-repr-fallback\"><pre>LogisticRegression(penalty=&#x27;none&#x27;, random_state=0)</pre><b>In a Jupyter environment, please rerun this cell to show the HTML representation or trust the notebook. <br />On GitHub, the HTML representation is unable to render, please try loading this page with nbviewer.org.</b></div><div class=\"sk-container\" hidden><div class=\"sk-item\"><div class=\"sk-estimator sk-toggleable\"><input class=\"sk-toggleable__control sk-hidden--visually\" id=\"sk-estimator-id-3\" type=\"checkbox\" checked><label for=\"sk-estimator-id-3\" class=\"sk-toggleable__label sk-toggleable__label-arrow\">LogisticRegression</label><div class=\"sk-toggleable__content\"><pre>LogisticRegression(penalty=&#x27;none&#x27;, random_state=0)</pre></div></div></div></div></div>"
      ],
      "text/plain": [
       "LogisticRegression(penalty='none', random_state=0)"
      ]
     },
     "execution_count": 46,
     "metadata": {},
     "output_type": "execute_result"
    }
   ],
   "source": [
    "from sklearn.feature_selection import RFE\n",
    "k_number_features = 2\n",
    "\n",
    "estimator = LogisticRegression(random_state=0, solver='lbfgs',penalty='none')\n",
    "selector = RFE(estimator, n_features_to_select=2, step=1)\n",
    "selector.fit(training_set_x_fs, training_set_y)\n",
    "\n",
    "training_set_x_fs_new = selector.transform(training_set_x_fs)\n",
    "testing_set_x_fs_new = selector.transform(testing_set_x_fs)\n",
    "estimator.fit(training_set_x_fs_new, training_set_y)"
   ]
  },
  {
   "cell_type": "markdown",
   "id": "b8a22419-01fc-4612-a7b3-54ca982aa6fe",
   "metadata": {},
   "source": [
    "#### Show which features were selected"
   ]
  },
  {
   "cell_type": "code",
   "execution_count": 47,
   "id": "2c0d8ac6",
   "metadata": {},
   "outputs": [
    {
     "name": "stdout",
     "output_type": "stream",
     "text": [
      "log_loss: 0.23117282073692727, accuracy: 0.9333333333333333\n"
     ]
    }
   ],
   "source": [
    "h_w_x = estimator.predict(testing_set_x_fs_new)\n",
    "log_loss_g = log_loss(testing_set_y, estimator.predict_proba(testing_set_x_fs_new))\n",
    "accuracy = accuracy_score(testing_set_y, h_w_x, normalize=True)\n",
    "print(f\"log_loss: {log_loss_g}, accuracy: {accuracy}\")"
   ]
  },
  {
   "cell_type": "markdown",
   "id": "2adeee88",
   "metadata": {},
   "source": [
    "# Show which features were selected"
   ]
  },
  {
   "cell_type": "code",
   "execution_count": 48,
   "id": "d68415f1",
   "metadata": {},
   "outputs": [
    {
     "name": "stdout",
     "output_type": "stream",
     "text": [
      "Index(['petal length (cm)', 'petal width (cm)'], dtype='object')\n"
     ]
    }
   ],
   "source": [
    "fs_indices = selector.get_support(True)\n",
    "print(iris_df_copy.iloc[:, fs_indices].columns)"
   ]
  },
  {
   "cell_type": "markdown",
   "id": "7ea0a646-bf79-4c5b-bb7b-018569dc43ce",
   "metadata": {},
   "source": [
    "##### Show ranking of each feature in a dataframe"
   ]
  },
  {
   "cell_type": "code",
   "execution_count": 49,
   "id": "d920d439",
   "metadata": {},
   "outputs": [
    {
     "data": {
      "text/html": [
       "<div>\n",
       "<style scoped>\n",
       "    .dataframe tbody tr th:only-of-type {\n",
       "        vertical-align: middle;\n",
       "    }\n",
       "\n",
       "    .dataframe tbody tr th {\n",
       "        vertical-align: top;\n",
       "    }\n",
       "\n",
       "    .dataframe thead th {\n",
       "        text-align: right;\n",
       "    }\n",
       "</style>\n",
       "<table border=\"1\" class=\"dataframe\">\n",
       "  <thead>\n",
       "    <tr style=\"text-align: right;\">\n",
       "      <th></th>\n",
       "      <th>features</th>\n",
       "      <th>rank</th>\n",
       "    </tr>\n",
       "  </thead>\n",
       "  <tbody>\n",
       "    <tr>\n",
       "      <th>2</th>\n",
       "      <td>petal length (cm)</td>\n",
       "      <td>1</td>\n",
       "    </tr>\n",
       "    <tr>\n",
       "      <th>3</th>\n",
       "      <td>petal width (cm)</td>\n",
       "      <td>1</td>\n",
       "    </tr>\n",
       "    <tr>\n",
       "      <th>1</th>\n",
       "      <td>sepal width (cm)</td>\n",
       "      <td>2</td>\n",
       "    </tr>\n",
       "    <tr>\n",
       "      <th>0</th>\n",
       "      <td>sepal length (cm)</td>\n",
       "      <td>3</td>\n",
       "    </tr>\n",
       "  </tbody>\n",
       "</table>\n",
       "</div>"
      ],
      "text/plain": [
       "            features  rank\n",
       "2  petal length (cm)     1\n",
       "3   petal width (cm)     1\n",
       "1   sepal width (cm)     2\n",
       "0  sepal length (cm)     3"
      ]
     },
     "execution_count": 49,
     "metadata": {},
     "output_type": "execute_result"
    }
   ],
   "source": [
    "import pandas as pd\n",
    "\n",
    "ranking_indices = selector.ranking_\n",
    "pd.DataFrame(list(zip(iris_df_copy.columns,ranking_indices)), columns=[\"features\",\"rank\"]).sort_values(ascending=True,by='rank')"
   ]
  },
  {
   "cell_type": "markdown",
   "id": "8c643f53-ecbf-40bb-85cb-e7c3ab4bb54f",
   "metadata": {},
   "source": [
    "## Cross validation\n",
    "### Use StratifiedShuffleSplit cross validation:\n",
    "    Use LogisticRegression,\n",
    "    n_splits=4.\n",
    "    test set size of 25%\n",
    "    (Calculate log_loss and accuracy for your testing sets). Write this in a for loop and print out your results for each test set"
   ]
  },
  {
   "cell_type": "code",
   "execution_count": 50,
   "id": "140f67ef",
   "metadata": {},
   "outputs": [
    {
     "name": "stdout",
     "output_type": "stream",
     "text": [
      "TRAIN: [ 21   4  25 133  30 136 115 120  60 125  43  50  96  49  91  35 102  64\n",
      "  63  92  55  74 101  84  67  83  98 132 141  59   3  33  65 113  18  57\n",
      "  85  14  16 119  56 134  32 108  73   8  90  29  69  47   9  24  17  44\n",
      "  99 107 122  42 100  71  52 140  54 106  27 139 111  77  34  58   5 105\n",
      "  31  51 114  66 130  41 142  88  68  70  13 126  93 149 138  19  23 135\n",
      "  76 146  80  78  94   6  20 123 129  53  81  28  61 131 104 144  45  38\n",
      "  97  89 121  46] \n",
      " TEST: [118  36 145  82  79  12 147  26 109  86   0  62  39  10 127  75  15 137\n",
      "  72   7 148 117 112   2  95 110  87 128 124  37 143  11 116  48  22   1\n",
      " 103  40]\n",
      "Accuracy:0.9736842105263158, Log_loss_g:0.9089151682871249\n",
      "TRAIN: [112  52  74  59  54  10 130  85  35  29  98 142  28 144   3 114 134  95\n",
      "  73 149 132  43 116 115 117 131  76 126  23 111 148 146  19  88  80 118\n",
      "  46  71  79 106  32  50  83  36 104 101 143  63   5 100 137  64 102  27\n",
      "  97  39 105  16  96  44  82  75 145  41  92   6 135  53   9  37  21  31\n",
      " 113  51  24 140  48  62  11 128 138  18  47  34 107  22   4  49  17  42\n",
      "  56 136  14 124  90 141 119  69  20 127   8  65   1  89 120  81  91  72\n",
      "  58  12  30  26] \n",
      " TEST: [122  78  40  94 139  61 125   0  86  84  60  99   2  38   7 147  70 129\n",
      " 121  45  33 109 108 123  77  68  67 133  57  87  13  15  66 110  93  25\n",
      " 103  55]\n",
      "Accuracy:0.9736842105263158, Log_loss_g:0.9089151682871254\n",
      "TRAIN: [141  68  79 117 108  40  55  52  41  24  44 113 136 125  30  95 131  21\n",
      "  10  20  18   8 124 109  57  90  71  81  32  46 143  70  16  39  62  15\n",
      " 128   3  69 126   7 127  13 105 118 144  50 112  31  58 134 142  86 121\n",
      " 138  98  94 101  92   6  51  33 120 145 132  37  73  83  47  74  23  48\n",
      " 100  99  42  77  75   2   5  93  49  64  25  38  96  84 106 107  35  63\n",
      " 122  54 110 104  87  82 103  27   0 102 114 139  60  66  26  65  72  97\n",
      "  67 123  53  12] \n",
      " TEST: [ 14 119   4  89 111  91 133  85  43 147  17 148 115 135 149 146  80 130\n",
      "   9  29  56 140  59  45  88  61  19  76  36 116  34  78   1  22  28 137\n",
      " 129  11]\n",
      "Accuracy:0.9210526315789473, Log_loss_g:1.4181786937489191\n",
      "TRAIN: [ 20   9  29  51  75   4  38  54  63  65 120  92 106  81  35 124 117  43\n",
      " 118 142 147  99   5  15  41  45 110 101  74  14  73  87  55  83 135  48\n",
      "  69  85  16  94  12 121  82  42 127  70  47 122   2  71 148  44  28 145\n",
      "   7  18  58  26 141   0   8  66 119   3  36 138  24  90  77 140  93 149\n",
      "  88  37 116  96  13  22  98  57 103 129  89  30  52 107  34 137 109 144\n",
      " 139 126 134   1 100  17 111 130  59  40  60  97  25  31 113   6  95  62\n",
      "  84  79  21  76] \n",
      " TEST: [125 123 115  61 104  23  49  67  11  46 112  78  32 108  86 132 136  68\n",
      "  91  53  19 128  10 133 102 114 131 105  33  39 143  80  64  50 146  27\n",
      "  56  72]\n",
      "Accuracy:0.9473684210526315, Log_loss_g:0.46226561295968216\n"
     ]
    }
   ],
   "source": [
    "import math\n",
    "from sklearn.metrics import accuracy_score\n",
    "from sklearn.model_selection import StratifiedShuffleSplit\n",
    "from sklearn.metrics import log_loss\n",
    "sss = StratifiedShuffleSplit(n_splits=4, test_size=.25, random_state=0)\n",
    "\n",
    "for train_index, test_index in sss.split(all_scaled, Y1):\n",
    "    print(\"TRAIN:\", train_index, '\\n',\"TEST:\", test_index)\n",
    "    x_train1, x_test1 = all_scaled[train_index], all_scaled[test_index]\n",
    "    y_train1, y_test1 = Y1[train_index], Y1[test_index]\n",
    "    clf = LogisticRegression(random_state=0, solver='lbfgs', penalty='none')\n",
    "    clf.fit(x_train1, y_train1)\n",
    "    h_w_x = clf.predict(x_test1)\n",
    "    accuracy = accuracy_score(y_test1, h_w_x, normalize=True)\n",
    "    log_loss_g = log_loss(y_test1, clf.predict_proba(x_test1))\n",
    "    print(f\"Accuracy:{accuracy}, Log_loss_g:{log_loss_g}\")\n",
    "    "
   ]
  },
  {
   "cell_type": "markdown",
   "id": "58642c12-6ece-46b4-a603-87110bce834c",
   "metadata": {},
   "source": [
    "# Regularized Logistic Regression\n",
    "## Use LogisticRegressionCV class to find best aplha for each class.(Calculate the log_loss and accuracy). print best alpha found for each class"
   ]
  },
  {
   "cell_type": "markdown",
   "id": "65511ab8",
   "metadata": {},
   "source": [
    "        - Find what it proposed was the best alpha per class and use that to get accuracy and log_loss on the testing set\n",
    "         - Store and print best alpha found per class"
   ]
  },
  {
   "cell_type": "markdown",
   "id": "bab80643-5e69-4469-a9ae-52504debfdf1",
   "metadata": {},
   "source": [
    "### Use StratifiedShuffleSplit cross validation:\n",
    "    LogisticRegressionCV with the best alpha found,\n",
    "    n_splits=4.\n",
    "    test set size 0f 25%\n",
    "    (Calculate log_loss and accuracy for your testing sets). Write this in a for loop and print out your results for each test set"
   ]
  },
  {
   "cell_type": "code",
   "execution_count": 51,
   "id": "ac707407",
   "metadata": {},
   "outputs": [],
   "source": [
    "#from sklearn.metrics import MinMaxScaler\n",
    "scaler = MinMaxScaler()\n",
    "training_set_x = x_train1\n",
    "training_set_y = y_train1\n",
    "testing_set_x = x_test1\n",
    "testing_set_y = y_test1\n",
    "scaler.fit(training_set_x)\n",
    "        \n",
    "training_set_x_fs = scaler.transform(training_set_x)\n",
    "testing_set_x_fs = scaler.transform(testing_set_x)\n",
    "all_scaled = scaler.transform(X1)\n"
   ]
  },
  {
   "cell_type": "code",
   "execution_count": 52,
   "id": "4008dcc7",
   "metadata": {},
   "outputs": [
    {
     "data": {
      "text/plain": [
       "array([1., 1., 1.])"
      ]
     },
     "execution_count": 52,
     "metadata": {},
     "output_type": "execute_result"
    }
   ],
   "source": [
    "from sklearn.linear_model import LogisticRegressionCV\n",
    "clf_cv = LogisticRegressionCV(Cs=[1e-3, 1e-2, 1e-1, 1], random_state=0, solver='lbfgs', penalty='l2').fit(training_set_x_fs, training_set_y)\n",
    "alpha_per_class = clf_cv.C_\n",
    "alpha_per_class"
   ]
  },
  {
   "cell_type": "code",
   "execution_count": 53,
   "id": "e35846bb",
   "metadata": {},
   "outputs": [],
   "source": [
    "#predict testing value\n",
    "predict_test = clf_cv.predict(testing_set_x_fs)"
   ]
  },
  {
   "cell_type": "code",
   "execution_count": 54,
   "id": "746b82c6",
   "metadata": {},
   "outputs": [
    {
     "name": "stdout",
     "output_type": "stream",
     "text": [
      "Accuracy:0.9210526315789473, Log_loss_g:0.3924494264850218\n"
     ]
    }
   ],
   "source": [
    "accuracy = accuracy_score(testing_set_y, predict_test, normalize=True)\n",
    "log_loss_g = log_loss(testing_set_y, clf_cv.predict_proba(testing_set_x_fs))\n",
    "print(f\"Accuracy:{accuracy}, Log_loss_g:{log_loss_g}\")"
   ]
  },
  {
   "cell_type": "code",
   "execution_count": 55,
   "id": "defc3398",
   "metadata": {},
   "outputs": [
    {
     "name": "stdout",
     "output_type": "stream",
     "text": [
      "TRAIN: [ 21   4  25 133  30 136 115 120  60 125  43  50  96  49  91  35 102  64\n",
      "  63  92  55  74 101  84  67  83  98 132 141  59   3  33  65 113  18  57\n",
      "  85  14  16 119  56 134  32 108  73   8  90  29  69  47   9  24  17  44\n",
      "  99 107 122  42 100  71  52 140  54 106  27 139 111  77  34  58   5 105\n",
      "  31  51 114  66 130  41 142  88  68  70  13 126  93 149 138  19  23 135\n",
      "  76 146  80  78  94   6  20 123 129  53  81  28  61 131 104 144  45  38\n",
      "  97  89 121  46] \n",
      " TEST: [118  36 145  82  79  12 147  26 109  86   0  62  39  10 127  75  15 137\n",
      "  72   7 148 117 112   2  95 110  87 128 124  37 143  11 116  48  22   1\n",
      " 103  40]\n",
      "Accuracy:0.8947368421052632, Log_loss_g:0.3876951167150097\n",
      "TRAIN: [112  52  74  59  54  10 130  85  35  29  98 142  28 144   3 114 134  95\n",
      "  73 149 132  43 116 115 117 131  76 126  23 111 148 146  19  88  80 118\n",
      "  46  71  79 106  32  50  83  36 104 101 143  63   5 100 137  64 102  27\n",
      "  97  39 105  16  96  44  82  75 145  41  92   6 135  53   9  37  21  31\n",
      " 113  51  24 140  48  62  11 128 138  18  47  34 107  22   4  49  17  42\n",
      "  56 136  14 124  90 141 119  69  20 127   8  65   1  89 120  81  91  72\n",
      "  58  12  30  26] \n",
      " TEST: [122  78  40  94 139  61 125   0  86  84  60  99   2  38   7 147  70 129\n",
      " 121  45  33 109 108 123  77  68  67 133  57  87  13  15  66 110  93  25\n",
      " 103  55]\n",
      "Accuracy:0.8947368421052632, Log_loss_g:0.39647354162989173\n",
      "TRAIN: [141  68  79 117 108  40  55  52  41  24  44 113 136 125  30  95 131  21\n",
      "  10  20  18   8 124 109  57  90  71  81  32  46 143  70  16  39  62  15\n",
      " 128   3  69 126   7 127  13 105 118 144  50 112  31  58 134 142  86 121\n",
      " 138  98  94 101  92   6  51  33 120 145 132  37  73  83  47  74  23  48\n",
      " 100  99  42  77  75   2   5  93  49  64  25  38  96  84 106 107  35  63\n",
      " 122  54 110 104  87  82 103  27   0 102 114 139  60  66  26  65  72  97\n",
      "  67 123  53  12] \n",
      " TEST: [ 14 119   4  89 111  91 133  85  43 147  17 148 115 135 149 146  80 130\n",
      "   9  29  56 140  59  45  88  61  19  76  36 116  34  78   1  22  28 137\n",
      " 129  11]\n",
      "Accuracy:0.9473684210526315, Log_loss_g:0.3882858413227308\n",
      "TRAIN: [ 20   9  29  51  75   4  38  54  63  65 120  92 106  81  35 124 117  43\n",
      " 118 142 147  99   5  15  41  45 110 101  74  14  73  87  55  83 135  48\n",
      "  69  85  16  94  12 121  82  42 127  70  47 122   2  71 148  44  28 145\n",
      "   7  18  58  26 141   0   8  66 119   3  36 138  24  90  77 140  93 149\n",
      "  88  37 116  96  13  22  98  57 103 129  89  30  52 107  34 137 109 144\n",
      " 139 126 134   1 100  17 111 130  59  40  60  97  25  31 113   6  95  62\n",
      "  84  79  21  76] \n",
      " TEST: [125 123 115  61 104  23  49  67  11  46 112  78  32 108  86 132 136  68\n",
      "  91  53  19 128  10 133 102 114 131 105  33  39 143  80  64  50 146  27\n",
      "  56  72]\n",
      "Accuracy:0.9210526315789473, Log_loss_g:0.3924498993760639\n"
     ]
    }
   ],
   "source": [
    "import math\n",
    "from sklearn.metrics import accuracy_score\n",
    "from sklearn.model_selection import StratifiedShuffleSplit\n",
    "from sklearn.linear_model import LogisticRegressionCV\n",
    "from sklearn.metrics import log_loss\n",
    "sss = StratifiedShuffleSplit(n_splits=4, test_size=.25, random_state=0)\n",
    "\n",
    "\n",
    "for train_index, test_index in sss.split(all_scaled, Y1):\n",
    "    print(\"TRAIN:\", train_index,'\\n', \"TEST:\", test_index)\n",
    "    x_train1, x_test1 = all_scaled[train_index], all_scaled[test_index]\n",
    "    y_train1, y_test1 = Y1[train_index], Y1[test_index]\n",
    "    scaler = MinMaxScaler()\n",
    "    training_set_x = x_train1\n",
    "    training_set_y = y_train1\n",
    "    testing_set_x = x_test1\n",
    "    testing_set_y = y_test1\n",
    "    \n",
    "    scaler.fit(training_set_x)\n",
    "    \n",
    "    training_set_x_fs = scaler.transform(training_set_x)\n",
    "    testing_set_x_fs = scaler.transform(testing_set_x)\n",
    "    clf_cv = LogisticRegressionCV(Cs=[1e-3, 1e-2, 1e-1, 1], random_state=0, solver='lbfgs', penalty='l2').fit(training_set_x_fs, training_set_y)\n",
    "    alpha_per_class = clf_cv.C_\n",
    "    clf_cv = LogisticRegressionCV(Cs=alpha_per_class, random_state=0, solver='lbfgs', penalty='l2').fit(training_set_x_fs, training_set_y)\n",
    "    alpha_per_class = clf_cv.C_\n",
    "    predict_test = clf_cv.predict(testing_set_x_fs)\n",
    "\n",
    "    accuracy = accuracy_score(testing_set_y, predict_test, normalize=True)\n",
    "    log_loss_g = log_loss(testing_set_y, clf_cv.predict_proba(testing_set_x_fs))\n",
    "    print(f\"Accuracy:{accuracy}, Log_loss_g:{log_loss_g}\")\n",
    "    \n"
   ]
  }
 ],
 "metadata": {
  "kernelspec": {
   "display_name": "Python 3 (ipykernel)",
   "language": "python",
   "name": "python3"
  },
  "language_info": {
   "codemirror_mode": {
    "name": "ipython",
    "version": 3
   },
   "file_extension": ".py",
   "mimetype": "text/x-python",
   "name": "python",
   "nbconvert_exporter": "python",
   "pygments_lexer": "ipython3",
   "version": "3.9.7"
  }
 },
 "nbformat": 4,
 "nbformat_minor": 5
}
